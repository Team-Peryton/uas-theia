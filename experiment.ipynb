{
 "cells": [
  {
   "cell_type": "markdown",
   "metadata": {},
   "source": [
    "# IR experimental code"
   ]
  },
  {
   "cell_type": "code",
   "execution_count": 1,
   "metadata": {},
   "outputs": [],
   "source": [
    "import math\n",
    "import os\n",
    "from typing import List, Tuple\n",
    "\n",
    "import cv2\n",
    "import numpy as np\n",
    "import pandas as pd\n",
    "import matplotlib.pyplot as plt\n",
    "\n",
    "from theia.utils import display, read_positions"
   ]
  },
  {
   "cell_type": "code",
   "execution_count": 2,
   "metadata": {},
   "outputs": [],
   "source": [
    "def approxContour(contour, options):\n",
    "    \"\"\"\n",
    "    fit contour to a simpler shape\n",
    "    accuracy is based on EPSILON_MULTIPLY\n",
    "    \"\"\"\n",
    "    epsilon = options['epsilon'] * cv2.arcLength(contour, True)\n",
    "    approx = cv2.approxPolyDP(contour, epsilon, True)\n",
    "    return approx"
   ]
  },
  {
   "cell_type": "code",
   "execution_count": 3,
   "metadata": {},
   "outputs": [],
   "source": [
    "def calc_distance(p1, p2):\n",
    "    \"\"\" return the distance between two points \"\"\"\n",
    "    return math.sqrt(((p2[0] - p1[0])**2) + ((p2[1] - p1[1])**2))\n",
    "\n",
    "\n",
    "def get_contour_lengths(approx: List[List[List[int]]]) -> List[int]:\n",
    "    \"\"\" \n",
    "    extract lengths from the co-ordinates \n",
    "    \"\"\"\n",
    "    # unnest and arrange into each corner co-ords\n",
    "    # this could be done programmatically but not really worth it\n",
    "    verticies = [\n",
    "            [approx[0][0], approx[1][0]],\n",
    "            [approx[1][0], approx[2][0]],\n",
    "            [approx[2][0], approx[3][0]],\n",
    "            [approx[3][0], approx[0][0]]\n",
    "        ]\n",
    "    lengths = list(map(lambda x: calc_distance(x[0], x[1]), verticies))\n",
    "    return sorted(lengths)\n",
    "\n",
    "\n",
    "def is_square(lengths, options) -> bool:\n",
    "    \"\"\" check if the longest side is close in length to the shortest side \"\"\"\n",
    "    a = ((lengths[3] - lengths[0]) / lengths[3]) < options[\"square_ar\"]\n",
    "    b = ((lengths[3] - lengths[1]) / lengths[3]) < options[\"square_ar\"]\n",
    "    c = ((lengths[3] - lengths[1]) / lengths[3]) < options[\"square_ar\"]\n",
    "    return a & b & c"
   ]
  },
  {
   "cell_type": "code",
   "execution_count": 32,
   "metadata": {},
   "outputs": [],
   "source": [
    "def filterContours(contours, options):\n",
    "    \"\"\" \n",
    "    return only the contours that are squares\n",
    "    \"\"\"\n",
    "    squareIndexes = []\n",
    "\n",
    "    # filter contours\n",
    "    for i, contour in enumerate(contours):  # for each of the found contours\n",
    "        if cv2.contourArea(contour) > options[\"min_area\"]:\n",
    "            approx = approxContour(contour, options)\n",
    "            if len(approx) in options[\"sides\"]:\n",
    "                area = cv2.contourArea(approx)\n",
    "                hull = cv2.convexHull(approx)\n",
    "                hull_area = cv2.contourArea(hull)\n",
    "                solidity = float(area)/hull_area\n",
    "                if solidity > options[\"min_solidity\"]:\n",
    "                    squareIndexes.append(i)\n",
    "                #if is_square(get_contour_lengths(approx), options):\n",
    "    \n",
    "    return squareIndexes"
   ]
  },
  {
   "cell_type": "code",
   "execution_count": 5,
   "metadata": {},
   "outputs": [],
   "source": [
    "def target_centre(contour: list) -> Tuple[int, int]:\n",
    "    \"\"\" \n",
    "    given the square corners, return the centre of the square \n",
    "    \"\"\"\n",
    "    x = sum([item[0] for item in contour])/4\n",
    "    y = sum([item[1] for item in contour])/4\n",
    "    return int(x), int(y)"
   ]
  },
  {
   "cell_type": "code",
   "execution_count": 27,
   "metadata": {},
   "outputs": [],
   "source": [
    "clahe = cv2.createCLAHE(clipLimit=2.0, tileGridSize=(8,8))\n",
    "\n",
    "def find_targets(image: np.ndarray, options) -> List[List[Tuple[int,int]]]:\n",
    "    \"\"\" \n",
    "    return the centre position within the image\n",
    "    \"\"\"\n",
    "    imgGray = cv2.cvtColor(image, cv2.COLOR_BGR2GRAY)\n",
    "    #cl1 = clahe.apply(imgGray)\n",
    "    imgBlurred = cv2.GaussianBlur(imgGray, (options[\"ksize\"], options[\"ksize\"]), options[\"sigma\"])\n",
    "    img_thresh = cv2.adaptiveThreshold(\n",
    "        imgBlurred,\n",
    "        255,\n",
    "        cv2.ADAPTIVE_THRESH_MEAN_C, \n",
    "        cv2.THRESH_BINARY,\n",
    "        options[\"block_size\"],\n",
    "        options[\"c\"]\n",
    "    )\n",
    "\n",
    "    #img_morph = cv2.morphologyEx(img_thresh, cv2.MORPH_OPEN, options[\"kernel\"])\n",
    "    \n",
    "    if options[\"debug\"]: \n",
    "        display(img_thresh)\n",
    "\n",
    "    contours, hierarchy = cv2.findContours(img_thresh, cv2.RETR_EXTERNAL, cv2.CHAIN_APPROX_SIMPLE)[-2:]\n",
    "    squareIndexes = filterContours(contours, options)\n",
    "    \n",
    "    if options[\"debug\"]:\n",
    "        imgCopy = image\n",
    "        # for cont in contours:\n",
    "        #     cv2.drawContours(imgCopy, cont, -1, (0, 255, 0), 3)\n",
    "        # display(imgCopy)\n",
    "        img2 = image\n",
    "        for index in squareIndexes:\n",
    "            cv2.drawContours(img2, contours[index], -1, (0, 255, 0), 3)\n",
    "        display(img2)\n",
    "\n",
    "    # this for loop is mainly to check if there are multiple squares in the same image\n",
    "    # otherwise there would not be a loop\n",
    "    \n",
    "    results = []\n",
    "    for index in squareIndexes:\n",
    "        target_contour = approxContour(contours[index], options)\n",
    "\n",
    "        reshaped = target_contour.reshape(4,2)\n",
    "\n",
    "        centre = target_centre(reshaped)\n",
    "\n",
    "        results.append(\n",
    "            centre\n",
    "        )\n",
    "\n",
    "\n",
    "    if len(results) == 0:\n",
    "        pass\n",
    "\n",
    "    return results"
   ]
  },
  {
   "cell_type": "markdown",
   "metadata": {},
   "source": [
    "# sim_dataset testing"
   ]
  },
  {
   "cell_type": "code",
   "execution_count": 7,
   "metadata": {},
   "outputs": [],
   "source": [
    "def centre_check(predicted, actual, tol=20) -> bool:\n",
    "    \"\"\" True if the centre is as expected else False \"\"\"\n",
    "    x = math.isclose(predicted[0], actual[0], abs_tol=tol)\n",
    "    y = math.isclose(predicted[1], actual[1], abs_tol=tol)\n",
    "    return x & y"
   ]
  },
  {
   "cell_type": "code",
   "execution_count": 8,
   "metadata": {},
   "outputs": [],
   "source": [
    "ref = read_positions(\"./dataset/target_positions\")"
   ]
  },
  {
   "cell_type": "code",
   "execution_count": 25,
   "metadata": {},
   "outputs": [
    {
     "name": "stdout",
     "output_type": "stream",
     "text": [
      "IMG_160729_071816_0092_RGB.JPG\n",
      "[(977, 635)]\n",
      "False\n",
      "True\n"
     ]
    }
   ],
   "source": [
    "image_number = 50\n",
    "files = [f for f in os.listdir('./dataset/sim_dataset/')]\n",
    "image = cv2.imread('./dataset/sim_dataset/' + files[image_number])\n",
    "print(files[image_number])\n",
    "\n",
    "options = {\n",
    "    \"block_size\": 399,\n",
    "    \"c\": -39,\n",
    "    \"ksize\": 39,\n",
    "    \"sigma\": 0,\n",
    "    \"epsilon\": 0.1,\n",
    "    \"square_ar\": 0.2,\n",
    "    \"min_area\": 10000,\n",
    "    \"sides\":[4],\n",
    "    \"debug\":True,\n",
    "    \"kernel\": np.ones((30,30),np.uint8)\n",
    "}\n",
    "\n",
    "predicted = find_targets(image, options)\n",
    "print(predicted)\n",
    "actual = ref[files[image_number]]\n",
    "print(centre_check(predicted[0], actual))\n",
    "print(len(predicted) == 1)"
   ]
  },
  {
   "cell_type": "code",
   "execution_count": 30,
   "metadata": {},
   "outputs": [
    {
     "name": "stdout",
     "output_type": "stream",
     "text": [
      "accuracy: 89.02 %\n",
      "false positives 1.15 %\n",
      "no. images: 173\n"
     ]
    }
   ],
   "source": [
    "results = []\n",
    "false_positives = []\n",
    "\n",
    "for file in files:\n",
    "    image = cv2.imread('./dataset/sim_dataset/' + file)\n",
    "    result = find_targets(image, options, debug=False)\n",
    "    try:\n",
    "        result[0]\n",
    "        for r in result:\n",
    "            actual = ref[file]\n",
    "            if centre_check(r, actual):\n",
    "                results.append(1)\n",
    "            else:\n",
    "                results.append(0)\n",
    "                false_positives.append(1)\n",
    "\n",
    "    except:\n",
    "        #result = find_targets(image, options, debug=True)\n",
    "        results.append(0)\n",
    "\n",
    "print(f\"accuracy: {round(sum(results)/len(files) * 100, 2)} %\")\n",
    "print(f\"false positives {round(sum(false_positives)/len(results) * 100, 2)} %\")\n",
    "print(f\"no. images: {len(files)}\")"
   ]
  },
  {
   "cell_type": "markdown",
   "metadata": {},
   "source": [
    "# Understanding parameter effects"
   ]
  },
  {
   "cell_type": "code",
   "execution_count": null,
   "metadata": {},
   "outputs": [],
   "source": [
    "results = []\n",
    "image = cv2.imread('./dataset/sim_dataset/' + files[image_number])\n",
    "\n",
    "for block_size in range(29, 249, 20):\n",
    "    print(block_size)\n",
    "    for c in range(-100, 20, 20):\n",
    "        for ksize in range(1, 9, 2):\n",
    "            for sigma in [0]: #range(0, 10, 2):\n",
    "                options = {\n",
    "                    \"block_size\": block_size,\n",
    "                    \"c\": c,\n",
    "                    \"ksize\": ksize,\n",
    "                    \"sigma\": sigma\n",
    "                }\n",
    "                result = find_targets(image, options, debug=False)\n",
    "                try:\n",
    "                    result[0]\n",
    "                    if result[0][0] > 1080 and result[0][0] < 1100:\n",
    "                        ans = 1\n",
    "                    else:\n",
    "                        ans = 0\n",
    "                except:\n",
    "                    ans = 0\n",
    "                \n",
    "                results.append((block_size, c, ksize, sigma, ans))"
   ]
  },
  {
   "cell_type": "code",
   "execution_count": null,
   "metadata": {},
   "outputs": [
    {
     "data": {
      "text/html": [
       "<div>\n",
       "<style scoped>\n",
       "    .dataframe tbody tr th:only-of-type {\n",
       "        vertical-align: middle;\n",
       "    }\n",
       "\n",
       "    .dataframe tbody tr th {\n",
       "        vertical-align: top;\n",
       "    }\n",
       "\n",
       "    .dataframe thead th {\n",
       "        text-align: right;\n",
       "    }\n",
       "</style>\n",
       "<table border=\"1\" class=\"dataframe\">\n",
       "  <thead>\n",
       "    <tr style=\"text-align: right;\">\n",
       "      <th></th>\n",
       "      <th>0</th>\n",
       "      <th>1</th>\n",
       "      <th>2</th>\n",
       "      <th>3</th>\n",
       "      <th>4</th>\n",
       "    </tr>\n",
       "  </thead>\n",
       "  <tbody>\n",
       "    <tr>\n",
       "      <th>0</th>\n",
       "      <td>29</td>\n",
       "      <td>-100</td>\n",
       "      <td>1</td>\n",
       "      <td>0</td>\n",
       "      <td>0</td>\n",
       "    </tr>\n",
       "    <tr>\n",
       "      <th>1</th>\n",
       "      <td>29</td>\n",
       "      <td>-100</td>\n",
       "      <td>3</td>\n",
       "      <td>0</td>\n",
       "      <td>0</td>\n",
       "    </tr>\n",
       "    <tr>\n",
       "      <th>2</th>\n",
       "      <td>29</td>\n",
       "      <td>-100</td>\n",
       "      <td>5</td>\n",
       "      <td>0</td>\n",
       "      <td>0</td>\n",
       "    </tr>\n",
       "    <tr>\n",
       "      <th>3</th>\n",
       "      <td>29</td>\n",
       "      <td>-100</td>\n",
       "      <td>7</td>\n",
       "      <td>0</td>\n",
       "      <td>0</td>\n",
       "    </tr>\n",
       "    <tr>\n",
       "      <th>4</th>\n",
       "      <td>29</td>\n",
       "      <td>-80</td>\n",
       "      <td>1</td>\n",
       "      <td>0</td>\n",
       "      <td>0</td>\n",
       "    </tr>\n",
       "    <tr>\n",
       "      <th>...</th>\n",
       "      <td>...</td>\n",
       "      <td>...</td>\n",
       "      <td>...</td>\n",
       "      <td>...</td>\n",
       "      <td>...</td>\n",
       "    </tr>\n",
       "    <tr>\n",
       "      <th>331</th>\n",
       "      <td>289</td>\n",
       "      <td>-20</td>\n",
       "      <td>7</td>\n",
       "      <td>0</td>\n",
       "      <td>0</td>\n",
       "    </tr>\n",
       "    <tr>\n",
       "      <th>332</th>\n",
       "      <td>289</td>\n",
       "      <td>0</td>\n",
       "      <td>1</td>\n",
       "      <td>0</td>\n",
       "      <td>0</td>\n",
       "    </tr>\n",
       "    <tr>\n",
       "      <th>333</th>\n",
       "      <td>289</td>\n",
       "      <td>0</td>\n",
       "      <td>3</td>\n",
       "      <td>0</td>\n",
       "      <td>0</td>\n",
       "    </tr>\n",
       "    <tr>\n",
       "      <th>334</th>\n",
       "      <td>289</td>\n",
       "      <td>0</td>\n",
       "      <td>5</td>\n",
       "      <td>0</td>\n",
       "      <td>0</td>\n",
       "    </tr>\n",
       "    <tr>\n",
       "      <th>335</th>\n",
       "      <td>289</td>\n",
       "      <td>0</td>\n",
       "      <td>7</td>\n",
       "      <td>0</td>\n",
       "      <td>0</td>\n",
       "    </tr>\n",
       "  </tbody>\n",
       "</table>\n",
       "<p>336 rows × 5 columns</p>\n",
       "</div>"
      ],
      "text/plain": [
       "       0    1  2  3  4\n",
       "0     29 -100  1  0  0\n",
       "1     29 -100  3  0  0\n",
       "2     29 -100  5  0  0\n",
       "3     29 -100  7  0  0\n",
       "4     29  -80  1  0  0\n",
       "..   ...  ... .. .. ..\n",
       "331  289  -20  7  0  0\n",
       "332  289    0  1  0  0\n",
       "333  289    0  3  0  0\n",
       "334  289    0  5  0  0\n",
       "335  289    0  7  0  0\n",
       "\n",
       "[336 rows x 5 columns]"
      ]
     },
     "execution_count": 152,
     "metadata": {},
     "output_type": "execute_result"
    }
   ],
   "source": [
    "df = pd.DataFrame(results)"
   ]
  },
  {
   "cell_type": "code",
   "execution_count": null,
   "metadata": {},
   "outputs": [
    {
     "data": {
      "text/plain": [
       "<matplotlib.collections.PathCollection at 0x1b0cf7255e0>"
      ]
     },
     "execution_count": 179,
     "metadata": {},
     "output_type": "execute_result"
    },
    {
     "data": {
      "image/png": "[encoded data removed]",
      "text/plain": [
       "<Figure size 432x288 with 1 Axes>"
      ]
     },
     "metadata": {
      "needs_background": "light"
     },
     "output_type": "display_data"
    }
   ],
   "source": [
    "plt.scatter(df[0], df[1], s=df[4]*100, alpha=0.1)"
   ]
  },
  {
   "cell_type": "code",
   "execution_count": null,
   "metadata": {},
   "outputs": [],
   "source": [
    "df = df[df[4] == 1]"
   ]
  },
  {
   "cell_type": "code",
   "execution_count": null,
   "metadata": {},
   "outputs": [
    {
     "data": {
      "text/plain": [
       "<matplotlib.collections.PathCollection at 0x1b0cfc75700>"
      ]
     },
     "execution_count": 213,
     "metadata": {},
     "output_type": "execute_result"
    },
    {
     "data": {
      "image/png": "[encoded data removed]",
      "text/plain": [
       "<Figure size 432x288 with 1 Axes>"
      ]
     },
     "metadata": {
      "needs_background": "light"
     },
     "output_type": "display_data"
    }
   ],
   "source": [
    "df2 = df[df[1] == -20]\n",
    "plt.scatter(df2[0], df2[2], s=100, alpha=1)"
   ]
  },
  {
   "cell_type": "markdown",
   "metadata": {},
   "source": [
    "# Testing main IR functions"
   ]
  },
  {
   "cell_type": "code",
   "execution_count": 1,
   "metadata": {},
   "outputs": [
    {
     "name": "stdout",
     "output_type": "stream",
     "text": [
      "IMG_160729_071816_0092_RGB.JPG\n"
     ]
    }
   ],
   "source": [
    "from theia import main\n",
    "from theia import spec\n",
    "import cv2\n",
    "import os\n",
    "from importlib import reload\n",
    "reload(main)\n",
    "\n",
    "loc = spec.LocationInfo()\n",
    "image_number = 50\n",
    "files = [f for f in os.listdir('./dataset/sim_dataset/')]\n",
    "image = cv2.imread('./dataset/sim_dataset/' + files[image_number])\n",
    "print(files[image_number])\n",
    "base_dir = os.getcwd()"
   ]
  },
  {
   "cell_type": "code",
   "execution_count": 2,
   "metadata": {},
   "outputs": [
    {
     "name": "stderr",
     "output_type": "stream",
     "text": [
      "2022-01-26 14:54:42,172, [INFO], main , processing image\n",
      "2022-01-26 14:54:42,492, [INFO], main , ImageRecognitionResult(image_name='c:\\\\Users\\\\olive\\\\Documents\\\\GitHub\\\\uas-theia\\\\runtime\\\\26012022_14-54-42.240916.jpg', centre=(2310, 3193), position=(0.0, 0.0))\n"
     ]
    }
   ],
   "source": [
    "ir = main.ImageRecognition(base_dir)\n",
    "ir.image_recognition(image, loc)"
   ]
  },
  {
   "cell_type": "markdown",
   "metadata": {},
   "source": [
    "# Experimenting with perspective"
   ]
  },
  {
   "cell_type": "code",
   "execution_count": 18,
   "metadata": {},
   "outputs": [
    {
     "name": "stdout",
     "output_type": "stream",
     "text": [
      "900-900.jpg\n",
      "[(1318, 2534), (3707, 288)]\n",
      "0.01\n",
      "True\n"
     ]
    }
   ],
   "source": [
    "ref = read_positions(\"./dataset/target_positions_transformed\")\n",
    "\n",
    "result = 0\n",
    "files = [f for f in os.listdir('./dataset/transform_dataset/')]\n",
    "for image_number in [99]: #range(len(files)):\n",
    "    image = cv2.imread('./dataset/transform_dataset/' + files[image_number])\n",
    "    print(files[image_number])\n",
    "\n",
    "    options = {\n",
    "        \"block_size\": 249,\n",
    "        \"c\": -39,\n",
    "        \"ksize\": 49,\n",
    "        \"sigma\": 0,\n",
    "        \"epsilon\": 0.02,\n",
    "        \"square_ar\": 0.4,\n",
    "        \"min_area\": 3000,\n",
    "    }\n",
    "\n",
    "    predicted = find_targets(image, options, debug=True)\n",
    "    if len(predicted) >= 0:\n",
    "        result+=1\n",
    "    print(predicted)\n",
    "\n",
    "print(result/len(files))\n",
    "print(centre_check(predicted[0], (1316, 2532)))"
   ]
  },
  {
   "cell_type": "code",
   "execution_count": 33,
   "metadata": {},
   "outputs": [
    {
     "name": "stdout",
     "output_type": "stream",
     "text": [
      "accuracy: 80.35 %\n",
      "false positives 13.55 %\n",
      "no. images: 1557\n"
     ]
    }
   ],
   "source": [
    "options = {\n",
    "    \"block_size\": 249,\n",
    "    \"c\": -39,\n",
    "    \"ksize\": 49,\n",
    "    \"sigma\": 0,\n",
    "    \"epsilon\": 0.02,\n",
    "    \"square_ar\": 0.4,\n",
    "    \"min_area\": 3000,\n",
    "}\n",
    "ref = read_positions(\"./dataset/target_positions_transformed\", offset=0)\n",
    "files = [f for f in os.listdir('./dataset/transform_dataset/')]\n",
    "results = []\n",
    "false_positives = []\n",
    "\n",
    "for file in files:\n",
    "    image = cv2.imread('./dataset/transform_dataset/' + file)\n",
    "    result = find_targets(image, options, debug=False)\n",
    "    try:\n",
    "        result[0]\n",
    "        for r in result:\n",
    "            actual = ref[file]\n",
    "\n",
    "            if centre_check(r, actual):\n",
    "                results.append(1)\n",
    "            else:\n",
    "                results.append(0)\n",
    "                false_positives.append(1)\n",
    "\n",
    "    except Exception as e:\n",
    "        results.append(0)\n",
    "\n",
    "print(f\"accuracy: {round(sum(results)/len(files) * 100, 2)} %\")\n",
    "print(f\"false positives {round(sum(false_positives)/len(results) * 100, 2)} %\")\n",
    "print(f\"no. images: {len(files)}\")"
   ]
  },
  {
   "cell_type": "markdown",
   "metadata": {},
   "source": [
    "# other"
   ]
  },
  {
   "cell_type": "code",
   "execution_count": 1,
   "metadata": {},
   "outputs": [
    {
     "ename": "NameError",
     "evalue": "name 'cam' is not defined",
     "output_type": "error",
     "traceback": [
      "\u001b[1;31m---------------------------------------------------------------------------\u001b[0m",
      "\u001b[1;31mNameError\u001b[0m                                 Traceback (most recent call last)",
      "\u001b[1;32mc:\\Users\\olive\\Documents\\GitHub\\uas-theia\\experiment.ipynb Cell 26'\u001b[0m in \u001b[0;36m<cell line: 41>\u001b[1;34m()\u001b[0m\n\u001b[0;32m     <a href='vscode-notebook-cell:/c%3A/Users/olive/Documents/GitHub/uas-theia/experiment.ipynb#ch0000025?line=40'>41</a>\u001b[0m \u001b[39mfor\u001b[39;00m file \u001b[39min\u001b[39;00m files:\n\u001b[0;32m     <a href='vscode-notebook-cell:/c%3A/Users/olive/Documents/GitHub/uas-theia/experiment.ipynb#ch0000025?line=41'>42</a>\u001b[0m     image \u001b[39m=\u001b[39m cv2\u001b[39m.\u001b[39mimread(directory \u001b[39m+\u001b[39m \u001b[39m\"\u001b[39m\u001b[39m//\u001b[39m\u001b[39m\"\u001b[39m \u001b[39m+\u001b[39m file)\n\u001b[1;32m---> <a href='vscode-notebook-cell:/c%3A/Users/olive/Documents/GitHub/uas-theia/experiment.ipynb#ch0000025?line=42'>43</a>\u001b[0m     dst \u001b[39m=\u001b[39m cv2\u001b[39m.\u001b[39mundistort(image,cam,distCoeff)\n\u001b[0;32m     <a href='vscode-notebook-cell:/c%3A/Users/olive/Documents/GitHub/uas-theia/experiment.ipynb#ch0000025?line=43'>44</a>\u001b[0m     display(dst)\n\u001b[0;32m     <a href='vscode-notebook-cell:/c%3A/Users/olive/Documents/GitHub/uas-theia/experiment.ipynb#ch0000025?line=44'>45</a>\u001b[0m     predicted \u001b[39m=\u001b[39m find_targets(dst, options)\n",
      "\u001b[1;31mNameError\u001b[0m: name 'cam' is not defined"
     ]
    }
   ],
   "source": [
    "from theia import position_estimation\n",
    "from theia.spec import LocationInfo\n",
    "from theia.image_segmentation import find_targets\n",
    "from theia.utils import display\n",
    "import cv2\n",
    "import os\n",
    "import math\n",
    "import geopy.distance\n",
    "from datetime import datetime\n",
    "\n",
    "\n",
    "target_location = (51.292308, -0.484431)\n",
    "directory = r\"C:\\Users\\olive\\University of Surrey\\UAS2 - General\\2 Avionics\\4 Testing\\Image Rec\\03_04_22\\square\"\n",
    "files = [f for f in os.listdir(directory)]\n",
    "\n",
    "start_height = 32\n",
    "\n",
    "options = {\n",
    "    \"block_size\": 399,\n",
    "    \"c\": -39,\n",
    "    \"ksize\": 39,\n",
    "    \"sigma\": 0,\n",
    "    \"epsilon\": 0.1,\n",
    "    \"square_ar\": 0.2,\n",
    "    \"min_area\": 1000,\n",
    "    \"sides\":[4],\n",
    "    \"debug\":False,\n",
    "    \"min_solidity\":0.6\n",
    "}\n",
    "\n",
    "error_x = []\n",
    "error_y = []\n",
    "image_pitch = []\n",
    "image_roll = []\n",
    "image_height = []\n",
    "image_heading = []\n",
    "image_time = []\n",
    "total_error=[]\n",
    "dist_error = []\n",
    "\n",
    "for file in files:\n",
    "    image = cv2.imread(directory + \"//\" + file)\n",
    "    dst = cv2.undistort(image,cam,distCoeff)\n",
    "    #display(dst)\n",
    "    predicted = find_targets(dst, options)\n",
    "    name = file.split(\",\")\n",
    "    try:\n",
    "        l = LocationInfo(lat=float(name[2]), lon=float(name[1]), alt=float(name[0])-start_height,heading=float(name[3]), pitch=float(name[4]), roll=float(name[5]))\n",
    "        predicted_location = position_estimation.triangulate(predicted[0], l)\n",
    "\n",
    "        img_time = datetime.utcfromtimestamp(float(name[6].split(\".jpg\")[0]))\n",
    "        err = math.sqrt((predicted_location[0]-target_location[0])**2+(predicted_location[1]-target_location[1])**2)\n",
    "        dist_err = geopy.distance.distance(target_location, predicted_location).m\n",
    "        if dist_err > 200:\n",
    "            pass\n",
    "        # elif img_time.minute < 15:\n",
    "        #     pass\n",
    "        else:\n",
    "            image_pitch.append(l.pitch)\n",
    "            image_roll.append(l.roll)\n",
    "            image_height.append(l.alt)\n",
    "            image_heading.append(l.heading)\n",
    "            image_time.append(img_time)\n",
    "            error_x.append(predicted_location[0]-target_location[0])\n",
    "            error_y.append(predicted_location[1]-target_location[1])\n",
    "            dist_error.append(dist_err)\n",
    "            \n",
    "            total_error.append(math.sqrt((predicted_location[0]-target_location[0])**2+(predicted_location[1]-target_location[1])**2))\n",
    "            print(dist_err)\n",
    "\n",
    "    except Exception as e:\n",
    "        print(e)\n"
   ]
  },
  {
   "cell_type": "code",
   "execution_count": 27,
   "metadata": {},
   "outputs": [
    {
     "name": "stdout",
     "output_type": "stream",
     "text": [
      "78.37499971230241\n"
     ]
    }
   ],
   "source": [
    "import numpy as np\n",
    "print(np.average(dist_error))"
   ]
  },
  {
   "cell_type": "code",
   "execution_count": 40,
   "metadata": {},
   "outputs": [
    {
     "name": "stdout",
     "output_type": "stream",
     "text": [
      "0.0003192695843139213\n",
      "-0.0004776396850429788\n"
     ]
    },
    {
     "data": {
      "text/plain": [
       "Text(0, 0.5, 'error (m)')"
      ]
     },
     "execution_count": 40,
     "metadata": {},
     "output_type": "execute_result"
    },
    {
     "data": {
      "image/png": "[encoded data removed]",
      "text/plain": [
       "<Figure size 432x288 with 1 Axes>"
      ]
     },
     "metadata": {
      "needs_background": "light"
     },
     "output_type": "display_data"
    },
    {
     "data": {
      "image/png": "[encoded data removed]",
      "text/plain": [
       "<Figure size 432x288 with 1 Axes>"
      ]
     },
     "metadata": {
      "needs_background": "light"
     },
     "output_type": "display_data"
    },
    {
     "data": {
      "image/png": "[encoded data removed]",
      "text/plain": [
       "<Figure size 432x288 with 1 Axes>"
      ]
     },
     "metadata": {
      "needs_background": "light"
     },
     "output_type": "display_data"
    },
    {
     "data": {
      "image/png": "[encoded data removed]",
      "text/plain": [
       "<Figure size 432x288 with 2 Axes>"
      ]
     },
     "metadata": {
      "needs_background": "light"
     },
     "output_type": "display_data"
    },
    {
     "data": {
      "image/png": "[encoded data removed]",
      "text/plain": [
       "<Figure size 432x288 with 2 Axes>"
      ]
     },
     "metadata": {
      "needs_background": "light"
     },
     "output_type": "display_data"
    },
    {
     "data": {
      "image/png": "[encoded data removed]",
      "text/plain": [
       "<Figure size 432x288 with 2 Axes>"
      ]
     },
     "metadata": {
      "needs_background": "light"
     },
     "output_type": "display_data"
    },
    {
     "data": {
      "image/png": "[encoded data removed]",
      "text/plain": [
       "<Figure size 432x288 with 2 Axes>"
      ]
     },
     "metadata": {
      "needs_background": "light"
     },
     "output_type": "display_data"
    },
    {
     "data": {
      "image/png": "[encoded data removed]",
      "text/plain": [
       "<Figure size 432x288 with 1 Axes>"
      ]
     },
     "metadata": {
      "needs_background": "light"
     },
     "output_type": "display_data"
    }
   ],
   "source": [
    "import matplotlib.pyplot as plt\n",
    "import math\n",
    "import numpy as np\n",
    "\n",
    "print(sum(error_x)/len(error_x))\n",
    "print(sum(error_y)/len(error_y))\n",
    "\n",
    "total_error=[]\n",
    "for i in range(len(error_x)):\n",
    "    total_error.append(math.sqrt(error_x[i]**2+error_y[i]**2))\n",
    "\n",
    "plt.figure(0)\n",
    "plt.scatter(error_x,error_y)\n",
    "plt.xlabel(\"error in x\")\n",
    "plt.ylabel(\"error in y\")\n",
    "\n",
    "plt.figure(1)\n",
    "plt.scatter(image_pitch,dist_error)\n",
    "plt.xlabel(\"pitch\")\n",
    "plt.ylabel(\"error (m)\")\n",
    "\n",
    "plt.figure(2)\n",
    "plt.scatter(image_roll,dist_error)\n",
    "plt.xlabel(\"roll\")\n",
    "plt.ylabel(\"error (m)\")\n",
    "\n",
    "\n",
    "plt.figure(3)\n",
    "plt.scatter(image_roll, image_pitch, c=dist_error, cmap='viridis')\n",
    "plt.colorbar()\n",
    "plt.xlabel(\"roll\")\n",
    "plt.ylabel(\"pitch\")\n",
    "\n",
    "roll_pitch=[]\n",
    "for i in range(len(error_x)):\n",
    "    roll_pitch.append(math.sqrt(image_pitch[i]**2+image_roll[i]**2))\n",
    "\n",
    "plt.figure(4)\n",
    "plt.scatter(image_height,roll_pitch,c=dist_error, cmap='viridis')\n",
    "plt.colorbar()\n",
    "plt.xlabel(\"height\")\n",
    "plt.ylabel(\"roll_pitch\")\n",
    "\n",
    "plt.figure(5)\n",
    "plt.scatter(image_time,dist_error,c=image_height, cmap='viridis')\n",
    "plt.colorbar()\n",
    "plt.xlabel(\"image time\")\n",
    "plt.ylabel(\"error (m)\")\n",
    "\n",
    "plt.figure(6)\n",
    "plt.scatter(image_time,image_height,c=dist_error, cmap='viridis')\n",
    "plt.colorbar()\n",
    "plt.xlabel(\"time\")\n",
    "plt.ylabel(\"height\")\n",
    "\n",
    "plt.figure(7)\n",
    "plt.scatter(image_height, dist_error)\n",
    "plt.xlabel(\"height (m)\")\n",
    "plt.ylabel(\"error (m)\")\n"
   ]
  },
  {
   "cell_type": "code",
   "execution_count": 3,
   "metadata": {},
   "outputs": [
    {
     "name": "stderr",
     "output_type": "stream",
     "text": [
      "C:\\Users\\olive\\AppData\\Local\\Temp\\ipykernel_40092\\2103206861.py:10: MatplotlibDeprecationWarning: Calling gca() with keyword arguments was deprecated in Matplotlib 3.4. Starting two minor releases later, gca() will take no keyword arguments. The gca() function should only be used to get the current axes, or if no axes exist, create new axes with default keyword arguments. To create a new axes with non-default arguments, use plt.axes() or plt.subplot().\n",
      "  ax = fig.gca(projection='3d')\n"
     ]
    },
    {
     "data": {
      "text/plain": [
       "<Figure size 432x288 with 0 Axes>"
      ]
     },
     "metadata": {},
     "output_type": "display_data"
    },
    {
     "data": {
      "image/png": "[encoded data removed]",
      "text/plain": [
       "<Figure size 720x720 with 2 Axes>"
      ]
     },
     "metadata": {
      "needs_background": "light"
     },
     "output_type": "display_data"
    },
    {
     "name": "stdout",
     "output_type": "stream",
     "text": [
      "0    -0.172233\n",
      "1    -0.199654\n",
      "2    -0.153296\n",
      "3     0.189444\n",
      "4    -0.161504\n",
      "5     0.199023\n",
      "6     0.065537\n",
      "7    -0.047367\n",
      "8     0.502945\n",
      "9     0.030024\n",
      "10    0.311248\n",
      "11    0.096410\n",
      "12    0.294466\n",
      "13   -0.066314\n",
      "14    0.063094\n",
      "15    0.272909\n",
      "16   -0.135771\n",
      "17    0.304700\n",
      "18    0.371384\n",
      "19   -0.192256\n",
      "20    0.197962\n",
      "21    0.128402\n",
      "22   -0.155600\n",
      "23   -0.006430\n",
      "24    0.083465\n",
      "25    0.059079\n",
      "26    0.044995\n",
      "27    0.138680\n",
      "28    0.140828\n",
      "29    0.121705\n",
      "30    0.322832\n",
      "31    0.141720\n",
      "32    0.142945\n",
      "33    0.128640\n",
      "34    0.210415\n",
      "35   -0.074292\n",
      "36   -0.236537\n",
      "37   -0.217858\n",
      "38   -0.129143\n",
      "39   -0.035791\n",
      "40    0.007827\n",
      "41    0.117465\n",
      "42    0.068603\n",
      "43    0.056803\n",
      "44    0.047161\n",
      "45    0.052510\n",
      "46    0.054244\n",
      "47    0.037956\n",
      "48    0.000018\n",
      "49   -0.084658\n",
      "Name: x, dtype: float64\n",
      "0     0.129108\n",
      "1     0.107176\n",
      "2    -0.680518\n",
      "3     0.052480\n",
      "4    -0.780167\n",
      "5     0.102589\n",
      "6    -0.887848\n",
      "7    -0.734388\n",
      "8     0.428114\n",
      "9    -0.485822\n",
      "10    0.071909\n",
      "11   -0.333281\n",
      "12   -0.027446\n",
      "13    0.004475\n",
      "14   -0.101021\n",
      "15   -0.331678\n",
      "16   -0.136683\n",
      "17    0.232404\n",
      "18    0.086412\n",
      "19   -0.647213\n",
      "20   -0.564538\n",
      "21   -0.679588\n",
      "22   -0.853378\n",
      "23   -0.823081\n",
      "24   -0.487695\n",
      "25   -0.528020\n",
      "26   -0.608757\n",
      "27   -0.500851\n",
      "28   -0.672129\n",
      "29    0.071507\n",
      "30   -0.398899\n",
      "31    0.070259\n",
      "32   -0.149062\n",
      "33   -0.251266\n",
      "34   -0.090768\n",
      "35   -0.805515\n",
      "36   -0.814601\n",
      "37   -0.918408\n",
      "38   -0.891110\n",
      "39   -0.702686\n",
      "40   -0.292577\n",
      "41   -0.907125\n",
      "42   -0.324510\n",
      "43   -0.716707\n",
      "44   -0.843008\n",
      "45    0.223315\n",
      "46   -0.218064\n",
      "47    0.041340\n",
      "48    0.220818\n",
      "49    0.347502\n",
      "Name: y, dtype: float64\n",
      "0      16.713958\n",
      "1      26.459148\n",
      "2     314.457733\n",
      "3      68.299118\n",
      "4     294.658227\n",
      "5      60.425181\n",
      "6     186.382192\n",
      "7     119.843651\n",
      "8     171.224205\n",
      "9     121.549245\n",
      "10     95.258058\n",
      "11    127.719982\n",
      "12    118.019945\n",
      "13     82.735968\n",
      "14     68.665905\n",
      "15     52.661339\n",
      "16     94.871440\n",
      "17    216.715750\n",
      "18    112.154769\n",
      "19    172.059086\n",
      "20     89.015696\n",
      "21    121.779778\n",
      "22    160.247659\n",
      "23    330.794748\n",
      "24    111.391908\n",
      "25     84.435739\n",
      "26     57.684944\n",
      "27    159.598175\n",
      "28    286.507365\n",
      "29     57.128879\n",
      "30     90.581247\n",
      "31     15.370035\n",
      "32     64.754664\n",
      "33    136.639460\n",
      "34     84.174418\n",
      "35    258.727855\n",
      "36    123.800056\n",
      "37     76.878760\n",
      "38     13.882002\n",
      "39     47.112665\n",
      "40     58.799065\n",
      "41     71.467965\n",
      "42     19.219129\n",
      "43    103.598007\n",
      "44    213.455046\n",
      "45     19.917030\n",
      "46      6.588882\n",
      "47     15.016281\n",
      "48     21.235602\n",
      "49     14.249806\n",
      "Name: z, dtype: float64\n"
     ]
    }
   ],
   "source": [
    "\n",
    "plt.figure(8)\n",
    "import pandas as pd\n",
    "import seaborn as sns\n",
    "df = pd.DataFrame.from_dict(np.array([image_pitch,image_roll,dist_error]).T)\n",
    "df.columns = ['x','y','z']\n",
    "df['z'] = pd.to_numeric(df['z'])\n",
    "pivotted= df.pivot('y','x','z')\n",
    "\n",
    "fig = plt.figure(figsize=(10,10))\n",
    "ax = fig.gca(projection='3d')\n",
    "ax.set_xlabel('image_pitch')\n",
    "ax.set_ylabel('image_roll')\n",
    "ax.set_zlabel('dist_error')\n",
    "#ax.plot_wireframe(cParams, gammas, avg_errors_array)\n",
    "#ax.plot3D(cParams, gammas, avg_errors_array)\n",
    "#ax.scatter3D(cParams, gammas, avg_errors_array, zdir='z',cmap='viridis')\n",
    "\n",
    "surf = ax.plot_trisurf(df.x, df.y, df.z, cmap='viridis', linewidth=0.1)\n",
    "ax.view_init(azim=0, elev=90)\n",
    "fig.colorbar(surf, shrink=0.5, aspect=10)    \n",
    "plt.show()\n",
    "\n",
    "print(df.x)\n",
    "print(df.y)\n",
    "print(df.z)\n",
    "  "
   ]
  },
  {
   "cell_type": "markdown",
   "metadata": {},
   "source": [
    "tried morphology, reduces noise but increases processing time by ~5%. doesn't seem to affect accuracy.\n",
    "https://docs.opencv.org/3.4/d9/d61/tutorial_py_morphological_ops.html\n",
    "\n",
    "tried CLACHE - no noticeable accuracy increase\n",
    "\n",
    "tried making C more negative - reduces noise and chance of identifying target"
   ]
  },
  {
   "cell_type": "code",
   "execution_count": 4,
   "metadata": {},
   "outputs": [
    {
     "name": "stdout",
     "output_type": "stream",
     "text": [
      "0.7666666666666667\n",
      "23\n",
      "30\n"
     ]
    }
   ],
   "source": [
    "directory = r\"C:\\Users\\olive\\University of Surrey\\UAS2 - General\\2 Avionics\\4 Testing\\Image Rec\\10_04_22\\squares\"\n",
    "files = [f for f in os.listdir(directory)]\n",
    "\n",
    "\n",
    "options = {\n",
    "    \"block_size\": 399,\n",
    "    \"c\": -39,\n",
    "    \"ksize\": 39,\n",
    "    \"sigma\": 0,\n",
    "    \"epsilon\": 0.1,\n",
    "    \"square_ar\": 0.2,\n",
    "    \"min_area\": 1000,\n",
    "    \"sides\":[4],\n",
    "    \"min_solidity\": 0.6,\n",
    "    \"debug\":True\n",
    "}\n",
    "\n",
    "results = 0\n",
    "false_positives = []\n",
    "\n",
    "for file in files:\n",
    "    image = cv2.imread(directory + \"//\" + file)\n",
    "    result = find_targets(image, options)\n",
    "    try:\n",
    "        result[0]\n",
    "        results+=1\n",
    "    except KeyboardInterrupt:\n",
    "        raise Exception()\n",
    "    except Exception:\n",
    "        #find_targets(image, options)\n",
    "        pass\n",
    "\n",
    "print(results/len(files))\n",
    "print(results)\n",
    "print(len(files))\n"
   ]
  },
  {
   "cell_type": "code",
   "execution_count": null,
   "metadata": {},
   "outputs": [],
   "source": [
    "directory = r\"C:\\Users\\olive\\University of Surrey\\UAS2 - General\\2 Avionics\\4 Testing\\Image Rec\\03_04_22\\square\"\n",
    "image_number = 23\n",
    "files = [f for f in os.listdir(directory)]\n",
    "image = cv2.imread(directory + \"//\" + files[image_number])\n",
    "\n",
    "options = {\n",
    "    \"block_size\": 399,\n",
    "    \"c\": -39,\n",
    "    \"ksize\": 39,\n",
    "    \"sigma\": 0,\n",
    "    \"epsilon\": 0.1,\n",
    "    \"square_ar\": 0.2,\n",
    "    \"min_area\": 1000,\n",
    "    \"sides\":[4],\n",
    "    \"debug\":False\n",
    "}\n",
    "\n",
    "imgGray = cv2.cvtColor(image, cv2.COLOR_BGR2GRAY)\n",
    "display(imgGray)\n",
    "clahe = cv2.createCLAHE(clipLimit=2.0, tileGridSize=(8,8))\n",
    "cl1 = clahe.apply(imgGray)\n",
    "display(cl1)\n",
    "imgBlurred = cv2.GaussianBlur(cl1, (59,59),0)\n",
    "# laplacian = cv2.Laplacian(cv2.bitwise_not(imgBlurred),cv2.CV_64F)\n",
    "# display(laplacian)\n",
    "img_thresh = cv2.adaptiveThreshold(\n",
    "    imgBlurred,\n",
    "    255,\n",
    "    cv2.ADAPTIVE_THRESH_MEAN_C, \n",
    "    cv2.THRESH_BINARY,\n",
    "    399,\n",
    "    -69\n",
    ")\n",
    "display(img_thresh)\n",
    "\n",
    "contours, hierarchy = cv2.findContours(img_thresh, cv2.RETR_EXTERNAL, cv2.CHAIN_APPROX_SIMPLE)[-2:]\n",
    "squareIndexes = filterContours(contours, options)\n",
    "\n",
    "for index in squareIndexes:\n",
    "    cv2.drawContours(image, contours[index], -1, (0, 255, 0), 3)\n",
    "display(image)"
   ]
  },
  {
   "cell_type": "code",
   "execution_count": 30,
   "metadata": {},
   "outputs": [],
   "source": [
    "import numpy as np\n",
    "\n",
    "src = image\n",
    "width  = src.shape[1]\n",
    "height = src.shape[0]\n",
    "\n",
    "# https://stackoverflow.com/questions/26602981/correct-barrel-distortion-in-opencv-manually-without-chessboard-image\n",
    "\n",
    "distCoeff = np.zeros((4,1),np.float64)\n",
    "\n",
    "distCoeff[0,0] = -0.7e-5 # k1\n",
    "distCoeff[1,0] = 0 # k2\n",
    "distCoeff[2,0] = 0 # p1\n",
    "distCoeff[3,0] = 0.0 # p2\n",
    "\n",
    "# assume unit matrix for camera\n",
    "cam = np.eye(3,dtype=np.float32)\n",
    "\n",
    "cam[0,2] = width/2.0  # define center x \n",
    "cam[1,2] = height/2.0 # define center y\n",
    "cam[0,0] = 10        # define focal length x\n",
    "cam[1,1] = 6        # define focal length y\n",
    "\n",
    "\n",
    "image = cv2.imread(directory + \"//\" + files[3])\n",
    "\n",
    "dst = cv2.undistort(image,cam,distCoeff)\n",
    "\n",
    "numpy_vertical = np.vstack((image, dst))\n",
    "\n",
    "display(numpy_vertical)"
   ]
  }
 ],
 "metadata": {
  "interpreter": {
   "hash": "93e24e57a33bb29a03c7396c3d010b18a5f816bb4c8ddbedb5a18cf4596c7660"
  },
  "kernelspec": {
   "display_name": "Python 3.9.0 64-bit",
   "language": "python",
   "name": "python3"
  },
  "language_info": {
   "codemirror_mode": {
    "name": "ipython",
    "version": 3
   },
   "file_extension": ".py",
   "mimetype": "text/x-python",
   "name": "python",
   "nbconvert_exporter": "python",
   "pygments_lexer": "ipython3",
   "version": "3.10.2"
  },
  "orig_nbformat": 4
 },
 "nbformat": 4,
 "nbformat_minor": 2
}
