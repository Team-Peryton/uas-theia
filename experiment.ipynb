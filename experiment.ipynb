{
 "cells": [
  {
   "cell_type": "markdown",
   "metadata": {},
   "source": [
    "# IR experimental code"
   ]
  },
  {
   "cell_type": "code",
   "execution_count": 1,
   "metadata": {},
   "outputs": [],
   "source": [
    "import math\n",
    "import os\n",
    "from typing import List, Tuple\n",
    "\n",
    "import cv2\n",
    "import numpy as np\n",
    "import pandas as pd\n",
    "import matplotlib.pyplot as plt\n",
    "\n",
    "from theia.utils import display, read_positions"
   ]
  },
  {
   "cell_type": "code",
   "execution_count": 2,
   "metadata": {},
   "outputs": [],
   "source": [
    "def approxContour(contour, options):\n",
    "    \"\"\"\n",
    "    fit contour to a simpler shape\n",
    "    accuracy is based on EPSILON_MULTIPLY\n",
    "    \"\"\"\n",
    "    epsilon = options['epsilon'] * cv2.arcLength(contour, True)\n",
    "    approx = cv2.approxPolyDP(contour, epsilon, True)\n",
    "    return approx"
   ]
  },
  {
   "cell_type": "code",
   "execution_count": 3,
   "metadata": {},
   "outputs": [],
   "source": [
    "def calc_distance(p1, p2):\n",
    "    \"\"\" return the distance between two points \"\"\"\n",
    "    return math.sqrt(((p2[0] - p1[0])**2) + ((p2[1] - p1[1])**2))\n",
    "\n",
    "\n",
    "def get_contour_lengths(approx: List[List[List[int]]]) -> List[int]:\n",
    "    \"\"\" \n",
    "    extract lengths from the co-ordinates \n",
    "    \"\"\"\n",
    "    # unnest and arrange into each corner co-ords\n",
    "    # this could be done programmatically but not really worth it\n",
    "    verticies = [\n",
    "            [approx[0][0], approx[1][0]],\n",
    "            [approx[1][0], approx[2][0]],\n",
    "            [approx[2][0], approx[3][0]],\n",
    "            [approx[3][0], approx[0][0]]\n",
    "        ]\n",
    "    lengths = list(map(lambda x: calc_distance(x[0], x[1]), verticies))\n",
    "    return sorted(lengths)\n",
    "\n",
    "\n",
    "def is_square(lengths, options) -> bool:\n",
    "    \"\"\" check if the longest side is close in length to the shortest side \"\"\"\n",
    "    a = ((lengths[3] - lengths[0]) / lengths[3]) < options[\"square_ar\"]\n",
    "    b = ((lengths[3] - lengths[1]) / lengths[3]) < options[\"square_ar\"]\n",
    "    c = ((lengths[3] - lengths[1]) / lengths[3]) < options[\"square_ar\"]\n",
    "    return a & b & c"
   ]
  },
  {
   "cell_type": "code",
   "execution_count": 32,
   "metadata": {},
   "outputs": [],
   "source": [
    "def filterContours(contours, options):\n",
    "    \"\"\" \n",
    "    return only the contours that are squares\n",
    "    \"\"\"\n",
    "    squareIndexes = []\n",
    "\n",
    "    # filter contours\n",
    "    for i, contour in enumerate(contours):  # for each of the found contours\n",
    "        if cv2.contourArea(contour) > options[\"min_area\"]:\n",
    "            approx = approxContour(contour, options)\n",
    "            if len(approx) in options[\"sides\"]:\n",
    "                area = cv2.contourArea(approx)\n",
    "                hull = cv2.convexHull(approx)\n",
    "                hull_area = cv2.contourArea(hull)\n",
    "                solidity = float(area)/hull_area\n",
    "                if solidity > options[\"min_solidity\"]:\n",
    "                    squareIndexes.append(i)\n",
    "                #if is_square(get_contour_lengths(approx), options):\n",
    "    \n",
    "    return squareIndexes"
   ]
  },
  {
   "cell_type": "code",
   "execution_count": 5,
   "metadata": {},
   "outputs": [],
   "source": [
    "def target_centre(contour: list) -> Tuple[int, int]:\n",
    "    \"\"\" \n",
    "    given the square corners, return the centre of the square \n",
    "    \"\"\"\n",
    "    x = sum([item[0] for item in contour])/4\n",
    "    y = sum([item[1] for item in contour])/4\n",
    "    return int(x), int(y)"
   ]
  },
  {
   "cell_type": "code",
   "execution_count": 27,
   "metadata": {},
   "outputs": [],
   "source": [
    "clahe = cv2.createCLAHE(clipLimit=2.0, tileGridSize=(8,8))\n",
    "\n",
    "def find_targets(image: np.ndarray, options) -> List[List[Tuple[int,int]]]:\n",
    "    \"\"\" \n",
    "    return the centre position within the image\n",
    "    \"\"\"\n",
    "    imgGray = cv2.cvtColor(image, cv2.COLOR_BGR2GRAY)\n",
    "    #cl1 = clahe.apply(imgGray)\n",
    "    imgBlurred = cv2.GaussianBlur(imgGray, (options[\"ksize\"], options[\"ksize\"]), options[\"sigma\"])\n",
    "    img_thresh = cv2.adaptiveThreshold(\n",
    "        imgBlurred,\n",
    "        255,\n",
    "        cv2.ADAPTIVE_THRESH_MEAN_C, \n",
    "        cv2.THRESH_BINARY,\n",
    "        options[\"block_size\"],\n",
    "        options[\"c\"]\n",
    "    )\n",
    "\n",
    "    #img_morph = cv2.morphologyEx(img_thresh, cv2.MORPH_OPEN, options[\"kernel\"])\n",
    "    \n",
    "    if options[\"debug\"]: \n",
    "        display(img_thresh)\n",
    "\n",
    "    contours, hierarchy = cv2.findContours(img_thresh, cv2.RETR_EXTERNAL, cv2.CHAIN_APPROX_SIMPLE)[-2:]\n",
    "    squareIndexes = filterContours(contours, options)\n",
    "    \n",
    "    if options[\"debug\"]:\n",
    "        imgCopy = image\n",
    "        # for cont in contours:\n",
    "        #     cv2.drawContours(imgCopy, cont, -1, (0, 255, 0), 3)\n",
    "        # display(imgCopy)\n",
    "        img2 = image\n",
    "        for index in squareIndexes:\n",
    "            cv2.drawContours(img2, contours[index], -1, (0, 255, 0), 3)\n",
    "        display(img2)\n",
    "\n",
    "    # this for loop is mainly to check if there are multiple squares in the same image\n",
    "    # otherwise there would not be a loop\n",
    "    \n",
    "    results = []\n",
    "    for index in squareIndexes:\n",
    "        target_contour = approxContour(contours[index], options)\n",
    "\n",
    "        reshaped = target_contour.reshape(4,2)\n",
    "\n",
    "        centre = target_centre(reshaped)\n",
    "\n",
    "        results.append(\n",
    "            centre\n",
    "        )\n",
    "\n",
    "\n",
    "    if len(results) == 0:\n",
    "        pass\n",
    "\n",
    "    return results"
   ]
  },
  {
   "cell_type": "markdown",
   "metadata": {},
   "source": [
    "# sim_dataset testing"
   ]
  },
  {
   "cell_type": "code",
   "execution_count": 7,
   "metadata": {},
   "outputs": [],
   "source": [
    "def centre_check(predicted, actual, tol=20) -> bool:\n",
    "    \"\"\" True if the centre is as expected else False \"\"\"\n",
    "    x = math.isclose(predicted[0], actual[0], abs_tol=tol)\n",
    "    y = math.isclose(predicted[1], actual[1], abs_tol=tol)\n",
    "    return x & y"
   ]
  },
  {
   "cell_type": "code",
   "execution_count": 8,
   "metadata": {},
   "outputs": [],
   "source": [
    "ref = read_positions(\"./dataset/target_positions\")"
   ]
  },
  {
   "cell_type": "code",
   "execution_count": 25,
   "metadata": {},
   "outputs": [
    {
     "name": "stdout",
     "output_type": "stream",
     "text": [
      "IMG_160729_071816_0092_RGB.JPG\n",
      "[(977, 635)]\n",
      "False\n",
      "True\n"
     ]
    }
   ],
   "source": [
    "image_number = 50\n",
    "files = [f for f in os.listdir('./dataset/sim_dataset/')]\n",
    "image = cv2.imread('./dataset/sim_dataset/' + files[image_number])\n",
    "print(files[image_number])\n",
    "\n",
    "options = {\n",
    "    \"block_size\": 399,\n",
    "    \"c\": -39,\n",
    "    \"ksize\": 39,\n",
    "    \"sigma\": 0,\n",
    "    \"epsilon\": 0.1,\n",
    "    \"square_ar\": 0.2,\n",
    "    \"min_area\": 10000,\n",
    "    \"sides\":[4],\n",
    "    \"debug\":True,\n",
    "    \"kernel\": np.ones((30,30),np.uint8)\n",
    "}\n",
    "\n",
    "predicted = find_targets(image, options)\n",
    "print(predicted)\n",
    "actual = ref[files[image_number]]\n",
    "print(centre_check(predicted[0], actual))\n",
    "print(len(predicted) == 1)"
   ]
  },
  {
   "cell_type": "code",
   "execution_count": 30,
   "metadata": {},
   "outputs": [
    {
     "name": "stdout",
     "output_type": "stream",
     "text": [
      "accuracy: 89.02 %\n",
      "false positives 1.15 %\n",
      "no. images: 173\n"
     ]
    }
   ],
   "source": [
    "results = []\n",
    "false_positives = []\n",
    "\n",
    "for file in files:\n",
    "    image = cv2.imread('./dataset/sim_dataset/' + file)\n",
    "    result = find_targets(image, options, debug=False)\n",
    "    try:\n",
    "        result[0]\n",
    "        for r in result:\n",
    "            actual = ref[file]\n",
    "            if centre_check(r, actual):\n",
    "                results.append(1)\n",
    "            else:\n",
    "                results.append(0)\n",
    "                false_positives.append(1)\n",
    "\n",
    "    except:\n",
    "        #result = find_targets(image, options, debug=True)\n",
    "        results.append(0)\n",
    "\n",
    "print(f\"accuracy: {round(sum(results)/len(files) * 100, 2)} %\")\n",
    "print(f\"false positives {round(sum(false_positives)/len(results) * 100, 2)} %\")\n",
    "print(f\"no. images: {len(files)}\")"
   ]
  },
  {
   "cell_type": "markdown",
   "metadata": {},
   "source": [
    "# Understanding parameter effects"
   ]
  },
  {
   "cell_type": "code",
   "execution_count": null,
   "metadata": {},
   "outputs": [],
   "source": [
    "results = []\n",
    "image = cv2.imread('./dataset/sim_dataset/' + files[image_number])\n",
    "\n",
    "for block_size in range(29, 249, 20):\n",
    "    print(block_size)\n",
    "    for c in range(-100, 20, 20):\n",
    "        for ksize in range(1, 9, 2):\n",
    "            for sigma in [0]: #range(0, 10, 2):\n",
    "                options = {\n",
    "                    \"block_size\": block_size,\n",
    "                    \"c\": c,\n",
    "                    \"ksize\": ksize,\n",
    "                    \"sigma\": sigma\n",
    "                }\n",
    "                result = find_targets(image, options, debug=False)\n",
    "                try:\n",
    "                    result[0]\n",
    "                    if result[0][0] > 1080 and result[0][0] < 1100:\n",
    "                        ans = 1\n",
    "                    else:\n",
    "                        ans = 0\n",
    "                except:\n",
    "                    ans = 0\n",
    "                \n",
    "                results.append((block_size, c, ksize, sigma, ans))"
   ]
  },
  {
   "cell_type": "code",
   "execution_count": null,
   "metadata": {},
   "outputs": [
    {
     "data": {
      "text/html": [
       "<div>\n",
       "<style scoped>\n",
       "    .dataframe tbody tr th:only-of-type {\n",
       "        vertical-align: middle;\n",
       "    }\n",
       "\n",
       "    .dataframe tbody tr th {\n",
       "        vertical-align: top;\n",
       "    }\n",
       "\n",
       "    .dataframe thead th {\n",
       "        text-align: right;\n",
       "    }\n",
       "</style>\n",
       "<table border=\"1\" class=\"dataframe\">\n",
       "  <thead>\n",
       "    <tr style=\"text-align: right;\">\n",
       "      <th></th>\n",
       "      <th>0</th>\n",
       "      <th>1</th>\n",
       "      <th>2</th>\n",
       "      <th>3</th>\n",
       "      <th>4</th>\n",
       "    </tr>\n",
       "  </thead>\n",
       "  <tbody>\n",
       "    <tr>\n",
       "      <th>0</th>\n",
       "      <td>29</td>\n",
       "      <td>-100</td>\n",
       "      <td>1</td>\n",
       "      <td>0</td>\n",
       "      <td>0</td>\n",
       "    </tr>\n",
       "    <tr>\n",
       "      <th>1</th>\n",
       "      <td>29</td>\n",
       "      <td>-100</td>\n",
       "      <td>3</td>\n",
       "      <td>0</td>\n",
       "      <td>0</td>\n",
       "    </tr>\n",
       "    <tr>\n",
       "      <th>2</th>\n",
       "      <td>29</td>\n",
       "      <td>-100</td>\n",
       "      <td>5</td>\n",
       "      <td>0</td>\n",
       "      <td>0</td>\n",
       "    </tr>\n",
       "    <tr>\n",
       "      <th>3</th>\n",
       "      <td>29</td>\n",
       "      <td>-100</td>\n",
       "      <td>7</td>\n",
       "      <td>0</td>\n",
       "      <td>0</td>\n",
       "    </tr>\n",
       "    <tr>\n",
       "      <th>4</th>\n",
       "      <td>29</td>\n",
       "      <td>-80</td>\n",
       "      <td>1</td>\n",
       "      <td>0</td>\n",
       "      <td>0</td>\n",
       "    </tr>\n",
       "    <tr>\n",
       "      <th>...</th>\n",
       "      <td>...</td>\n",
       "      <td>...</td>\n",
       "      <td>...</td>\n",
       "      <td>...</td>\n",
       "      <td>...</td>\n",
       "    </tr>\n",
       "    <tr>\n",
       "      <th>331</th>\n",
       "      <td>289</td>\n",
       "      <td>-20</td>\n",
       "      <td>7</td>\n",
       "      <td>0</td>\n",
       "      <td>0</td>\n",
       "    </tr>\n",
       "    <tr>\n",
       "      <th>332</th>\n",
       "      <td>289</td>\n",
       "      <td>0</td>\n",
       "      <td>1</td>\n",
       "      <td>0</td>\n",
       "      <td>0</td>\n",
       "    </tr>\n",
       "    <tr>\n",
       "      <th>333</th>\n",
       "      <td>289</td>\n",
       "      <td>0</td>\n",
       "      <td>3</td>\n",
       "      <td>0</td>\n",
       "      <td>0</td>\n",
       "    </tr>\n",
       "    <tr>\n",
       "      <th>334</th>\n",
       "      <td>289</td>\n",
       "      <td>0</td>\n",
       "      <td>5</td>\n",
       "      <td>0</td>\n",
       "      <td>0</td>\n",
       "    </tr>\n",
       "    <tr>\n",
       "      <th>335</th>\n",
       "      <td>289</td>\n",
       "      <td>0</td>\n",
       "      <td>7</td>\n",
       "      <td>0</td>\n",
       "      <td>0</td>\n",
       "    </tr>\n",
       "  </tbody>\n",
       "</table>\n",
       "<p>336 rows × 5 columns</p>\n",
       "</div>"
      ],
      "text/plain": [
       "       0    1  2  3  4\n",
       "0     29 -100  1  0  0\n",
       "1     29 -100  3  0  0\n",
       "2     29 -100  5  0  0\n",
       "3     29 -100  7  0  0\n",
       "4     29  -80  1  0  0\n",
       "..   ...  ... .. .. ..\n",
       "331  289  -20  7  0  0\n",
       "332  289    0  1  0  0\n",
       "333  289    0  3  0  0\n",
       "334  289    0  5  0  0\n",
       "335  289    0  7  0  0\n",
       "\n",
       "[336 rows x 5 columns]"
      ]
     },
     "execution_count": 152,
     "metadata": {},
     "output_type": "execute_result"
    }
   ],
   "source": [
    "df = pd.DataFrame(results)"
   ]
  },
  {
   "cell_type": "code",
   "execution_count": null,
   "metadata": {},
   "outputs": [
    {
     "data": {
      "text/plain": [
       "<matplotlib.collections.PathCollection at 0x1b0cf7255e0>"
      ]
     },
     "execution_count": 179,
     "metadata": {},
     "output_type": "execute_result"
    },
    {
     "data": {
      "image/png": "[encoded data removed]",
      "text/plain": [
       "<Figure size 432x288 with 1 Axes>"
      ]
     },
     "metadata": {
      "needs_background": "light"
     },
     "output_type": "display_data"
    }
   ],
   "source": [
    "plt.scatter(df[0], df[1], s=df[4]*100, alpha=0.1)"
   ]
  },
  {
   "cell_type": "code",
   "execution_count": null,
   "metadata": {},
   "outputs": [],
   "source": [
    "df = df[df[4] == 1]"
   ]
  },
  {
   "cell_type": "code",
   "execution_count": null,
   "metadata": {},
   "outputs": [
    {
     "data": {
      "text/plain": [
       "<matplotlib.collections.PathCollection at 0x1b0cfc75700>"
      ]
     },
     "execution_count": 213,
     "metadata": {},
     "output_type": "execute_result"
    },
    {
     "data": {
      "image/png": "[encoded data removed]",
      "text/plain": [
       "<Figure size 432x288 with 1 Axes>"
      ]
     },
     "metadata": {
      "needs_background": "light"
     },
     "output_type": "display_data"
    }
   ],
   "source": [
    "df2 = df[df[1] == -20]\n",
    "plt.scatter(df2[0], df2[2], s=100, alpha=1)"
   ]
  },
  {
   "cell_type": "markdown",
   "metadata": {},
   "source": [
    "# Testing main IR functions"
   ]
  },
  {
   "cell_type": "code",
   "execution_count": 1,
   "metadata": {},
   "outputs": [
    {
     "name": "stdout",
     "output_type": "stream",
     "text": [
      "IMG_160729_071816_0092_RGB.JPG\n"
     ]
    }
   ],
   "source": [
    "from theia import main\n",
    "from theia import spec\n",
    "import cv2\n",
    "import os\n",
    "from importlib import reload\n",
    "reload(main)\n",
    "\n",
    "loc = spec.LocationInfo()\n",
    "image_number = 50\n",
    "files = [f for f in os.listdir('./dataset/sim_dataset/')]\n",
    "image = cv2.imread('./dataset/sim_dataset/' + files[image_number])\n",
    "print(files[image_number])\n",
    "base_dir = os.getcwd()"
   ]
  },
  {
   "cell_type": "code",
   "execution_count": 2,
   "metadata": {},
   "outputs": [
    {
     "name": "stderr",
     "output_type": "stream",
     "text": [
      "2022-01-26 14:54:42,172, [INFO], main , processing image\n",
      "2022-01-26 14:54:42,492, [INFO], main , ImageRecognitionResult(image_name='c:\\\\Users\\\\olive\\\\Documents\\\\GitHub\\\\uas-theia\\\\runtime\\\\26012022_14-54-42.240916.jpg', centre=(2310, 3193), position=(0.0, 0.0))\n"
     ]
    }
   ],
   "source": [
    "ir = main.ImageRecognition(base_dir)\n",
    "ir.image_recognition(image, loc)"
   ]
  },
  {
   "cell_type": "markdown",
   "metadata": {},
   "source": [
    "# Experimenting with perspective"
   ]
  },
  {
   "cell_type": "code",
   "execution_count": 18,
   "metadata": {},
   "outputs": [
    {
     "name": "stdout",
     "output_type": "stream",
     "text": [
      "900-900.jpg\n",
      "[(1318, 2534), (3707, 288)]\n",
      "0.01\n",
      "True\n"
     ]
    }
   ],
   "source": [
    "ref = read_positions(\"./dataset/target_positions_transformed\")\n",
    "\n",
    "result = 0\n",
    "files = [f for f in os.listdir('./dataset/transform_dataset/')]\n",
    "for image_number in [99]: #range(len(files)):\n",
    "    image = cv2.imread('./dataset/transform_dataset/' + files[image_number])\n",
    "    print(files[image_number])\n",
    "\n",
    "    options = {\n",
    "        \"block_size\": 249,\n",
    "        \"c\": -39,\n",
    "        \"ksize\": 49,\n",
    "        \"sigma\": 0,\n",
    "        \"epsilon\": 0.02,\n",
    "        \"square_ar\": 0.4,\n",
    "        \"min_area\": 3000,\n",
    "    }\n",
    "\n",
    "    predicted = find_targets(image, options, debug=True)\n",
    "    if len(predicted) >= 0:\n",
    "        result+=1\n",
    "    print(predicted)\n",
    "\n",
    "print(result/len(files))\n",
    "print(centre_check(predicted[0], (1316, 2532)))"
   ]
  },
  {
   "cell_type": "code",
   "execution_count": 33,
   "metadata": {},
   "outputs": [
    {
     "name": "stdout",
     "output_type": "stream",
     "text": [
      "accuracy: 80.35 %\n",
      "false positives 13.55 %\n",
      "no. images: 1557\n"
     ]
    }
   ],
   "source": [
    "options = {\n",
    "    \"block_size\": 249,\n",
    "    \"c\": -39,\n",
    "    \"ksize\": 49,\n",
    "    \"sigma\": 0,\n",
    "    \"epsilon\": 0.02,\n",
    "    \"square_ar\": 0.4,\n",
    "    \"min_area\": 3000,\n",
    "}\n",
    "ref = read_positions(\"./dataset/target_positions_transformed\", offset=0)\n",
    "files = [f for f in os.listdir('./dataset/transform_dataset/')]\n",
    "results = []\n",
    "false_positives = []\n",
    "\n",
    "for file in files:\n",
    "    image = cv2.imread('./dataset/transform_dataset/' + file)\n",
    "    result = find_targets(image, options, debug=False)\n",
    "    try:\n",
    "        result[0]\n",
    "        for r in result:\n",
    "            actual = ref[file]\n",
    "\n",
    "            if centre_check(r, actual):\n",
    "                results.append(1)\n",
    "            else:\n",
    "                results.append(0)\n",
    "                false_positives.append(1)\n",
    "\n",
    "    except Exception as e:\n",
    "        results.append(0)\n",
    "\n",
    "print(f\"accuracy: {round(sum(results)/len(files) * 100, 2)} %\")\n",
    "print(f\"false positives {round(sum(false_positives)/len(results) * 100, 2)} %\")\n",
    "print(f\"no. images: {len(files)}\")"
   ]
  },
  {
   "cell_type": "markdown",
   "metadata": {},
   "source": [
    "# other"
   ]
  },
  {
   "cell_type": "code",
   "execution_count": 2,
   "metadata": {},
   "outputs": [
    {
     "name": "stdout",
     "output_type": "stream",
     "text": [
      "41.91470796155282\n",
      "list index out of range\n",
      "list index out of range\n",
      "73.63670807155708\n",
      "list index out of range\n",
      "42.863866715971255\n",
      "64.32787721512048\n",
      "64.5234258066102\n",
      "44.30680041204455\n",
      "list index out of range\n",
      "49.93219856144053\n",
      "130.75760680581763\n",
      "19.99970327585734\n",
      "list index out of range\n",
      "199.98082974000653\n",
      "140.14750354945534\n",
      "67.03053914076911\n",
      "36.96044359213419\n",
      "33.88033024481323\n",
      "58.09120392393578\n",
      "140.05389673180463\n",
      "110.5899687468701\n",
      "194.50950075916617\n",
      "130.7075073499072\n",
      "63.10404454700884\n",
      "60.690959735178104\n",
      "43.56742769938298\n",
      "88.22667277204475\n",
      "156.36678846798208\n",
      "51.665983923724625\n",
      "109.01041400442905\n",
      "26.04843528633885\n",
      "27.227772746128444\n",
      "88.70578862773793\n",
      "72.3371074716091\n",
      "90.9789550633099\n",
      "153.52227689478204\n",
      "113.24068405947187\n",
      "list index out of range\n",
      "38.69925066570396\n",
      "110.79999501790755\n",
      "6.346238870268275\n",
      "list index out of range\n",
      "66.7530392456694\n",
      "181.21547897334653\n",
      "20.318231196659482\n",
      "8.22966639787523\n",
      "25.886035328651484\n",
      "38.42298365328805\n",
      "49.02719179784161\n"
     ]
    }
   ],
   "source": [
    "from theia import position_estimation\n",
    "from theia.spec import LocationInfo\n",
    "from theia.image_segmentation import find_targets\n",
    "from theia.utils import display\n",
    "import cv2\n",
    "import os\n",
    "import math\n",
    "import geopy.distance\n",
    "from datetime import datetime\n",
    "import numpy as np\n",
    "\n",
    "\n",
    "target_location = (52.7809190, -0.7072140)\n",
    "directory = r\"C:\\Users\\pm\\Downloads\\images 2\\squares\"\n",
    "files = [f for f in os.listdir(directory)]\n",
    "\n",
    "\n",
    "image = cv2.imread(directory + \"//\" + files[0])\n",
    "\n",
    "src = image\n",
    "width  = src.shape[1]\n",
    "height = src.shape[0]\n",
    "\n",
    "# https://stackoverflow.com/questions/26602981/correct-barrel-distortion-in-opencv-manually-without-chessboard-image\n",
    "\n",
    "distCoeff = np.zeros((4,1),np.float64)\n",
    "\n",
    "distCoeff[0,0] = -0.7e-5 # k1\n",
    "distCoeff[1,0] = 0 # k2\n",
    "distCoeff[2,0] = 0 # p1\n",
    "distCoeff[3,0] = 0.0 # p2\n",
    "\n",
    "# assume unit matrix for camera\n",
    "cam = np.eye(3,dtype=np.float32)\n",
    "\n",
    "cam[0,2] = width/2.0  # define center x \n",
    "cam[1,2] = height/2.0 # define center y\n",
    "cam[0,0] = 10        # define focal length x\n",
    "cam[1,1] = 6        # define focal length y\n",
    "\n",
    "\n",
    "\n",
    "start_height = 142\n",
    "\n",
    "options = {\n",
    "    \"block_size\": 399,\n",
    "    \"c\": -39,\n",
    "    \"ksize\": 39,\n",
    "    \"sigma\": 0,\n",
    "    \"epsilon\": 0.1,\n",
    "    \"square_ar\": 0.2,\n",
    "    \"min_area\": 1000,\n",
    "    \"sides\":[4],\n",
    "    \"debug\":False,\n",
    "    \"min_solidity\":0.6\n",
    "}\n",
    "\n",
    "error_x = []\n",
    "error_y = []\n",
    "image_pitch = []\n",
    "image_roll = []\n",
    "image_height = []\n",
    "image_heading = []\n",
    "image_time = []\n",
    "total_error=[]\n",
    "dist_error = []\n",
    "locations = []\n",
    "\n",
    "all_data = []\n",
    "\n",
    "for file in files:\n",
    "    image = cv2.imread(directory + \"//\" + file)\n",
    "    dst = cv2.undistort(image,cam,distCoeff)\n",
    "    #display(dst)\n",
    "    predicted = find_targets(dst, options)\n",
    "\n",
    "    name = file.split(\",\")\n",
    "    try:\n",
    "        l = LocationInfo(lat=float(name[2]), lon=float(name[1]), alt=float(name[0])-start_height,heading=float(name[3]), pitch=float(name[4]), roll=float(name[5]))\n",
    "\n",
    "        predicted_location = position_estimation.triangulate(predicted[0], l)\n",
    "\n",
    "        img_time = datetime.utcfromtimestamp(float(name[6].split(\".jpg\")[0]))\n",
    "        err = math.sqrt((predicted_location[0]-target_location[0])**2+(predicted_location[1]-target_location[1])**2)\n",
    "        dist_err = geopy.distance.distance(target_location, predicted_location).m\n",
    "        if dist_err > 200000:\n",
    "            print(dist_err)\n",
    "        # elif img_time.minute < 15:\n",
    "        #     pass\n",
    "        else:\n",
    "            image_pitch.append(l.pitch)\n",
    "            image_roll.append(l.roll)\n",
    "            image_height.append(l.alt)\n",
    "            image_heading.append(l.heading)\n",
    "            image_time.append(img_time)\n",
    "            error_x.append(predicted_location[0]-target_location[0])\n",
    "            error_y.append(predicted_location[1]-target_location[1])\n",
    "            dist_error.append(dist_err)\n",
    "            locations.append(predicted_location)\n",
    "            all_data.append([predicted, l])\n",
    "            \n",
    "            total_error.append(math.sqrt((predicted_location[0]-target_location[0])**2+(predicted_location[1]-target_location[1])**2))\n",
    "            print(dist_err)\n",
    "\n",
    "    except Exception as e:\n",
    "        print(e)\n"
   ]
  },
  {
   "cell_type": "code",
   "execution_count": 2,
   "metadata": {},
   "outputs": [
    {
     "data": {
      "text/plain": [
       "[0.0013416132764426196,\n",
       " 0.0009515800533548564,\n",
       " 0.0018021649413437883,\n",
       " 0.0005989241030255072,\n",
       " 0.0009518018666251184]"
      ]
     },
     "execution_count": 2,
     "metadata": {},
     "output_type": "execute_result"
    }
   ],
   "source": [
    "total_error"
   ]
  },
  {
   "cell_type": "code",
   "execution_count": 6,
   "metadata": {},
   "outputs": [],
   "source": []
  },
  {
   "cell_type": "code",
   "execution_count": null,
   "metadata": {},
   "outputs": [],
   "source": []
  },
  {
   "cell_type": "code",
   "execution_count": null,
   "metadata": {},
   "outputs": [],
   "source": []
  },
  {
   "cell_type": "code",
   "execution_count": null,
   "metadata": {},
   "outputs": [],
   "source": []
  },
  {
   "cell_type": "code",
   "execution_count": 3,
   "metadata": {},
   "outputs": [
    {
     "name": "stdout",
     "output_type": "stream",
     "text": [
      "77.54897769886452\n"
     ]
    }
   ],
   "source": [
    "import numpy as np\n",
    "print(np.average(dist_error))"
   ]
  },
  {
   "cell_type": "code",
   "execution_count": 1,
   "metadata": {},
   "outputs": [],
   "source": [
    "l =[(52.78022795106017, -0.7075211631311331), (52.78022707646667, -0.7075216754289068), (52.7802266589004, -0.707522205052959), (52.780227197044894, -0.7075217292275041), (52.780262341478064, -0.7075464685927249), (52.780310148065105, -0.7075935694838444), (52.78035036510439, -0.707640188894831), (52.780400136891366, -0.7076924963729575), (52.780442267835376, -0.7077271012085881), (52.78044233850908, -0.7077303341643213), (52.78044371421573, -0.7077265892469161), (52.780444036068054, -0.7077307791453802), (52.7804448647619, -0.7077454804459459), (52.78044335579589, -0.707726705830543), (52.780443355703284, -0.7077269461865062), (52.7804433127492, -0.7077273502931911), (52.780443265908346, -0.7077282703324562), (52.78044346765382, -0.7077266730760158), (52.780443485437175, -0.7077269874206709), (52.78044352961161, -0.7077281467095357), (52.780440089027536, -0.7077901871553374), (52.78044007943363, -0.7077901802338602), (52.78044005004643, -0.7077897510931044), (52.780440060128036, -0.7077900880245026), (52.780440035743446, -0.7077898235773845), (52.78044001099992, -0.7077897899004341), (52.78043997511639, -0.7077899139340861), (52.78043994496251, -0.7077900842094267), (52.78043907783498, -0.7077952170642098), (52.78043973708489, -0.7077980647823302), (52.780440613912006, -0.7078050058866705), (52.780440963510465, -0.7078021375350623), (52.78043736640403, -0.7077943490075502), (52.78043736102727, -0.7077938303827053), (52.78043729029438, -0.7077935787588088), (52.780437190118036, -0.7077940820812647), (52.78043706104289, -0.7077946648541977), (52.7804370817868, -0.7077925804143511), (52.78043706780877, -0.7077922840359591), (52.78043702349214, -0.7077921367804594), (52.78043699904718, -0.7077916455442851), (52.78043698172955, -0.707792429649338), (52.78043695019784, -0.7077919471671449), (52.780436856533974, -0.7077919030460217), (52.78043684150298, -0.7077927074828547), (52.780435117916674, -0.7077939260502429), (52.780435131167785, -0.7077942068614425), (52.78043517312197, -0.7077943493922467), (52.78043519626061, -0.7077948168259043), (52.7804352121211, -0.7077940694931482), (52.780435242571684, -0.7077945304170724), (52.78043533689258, -0.7077942189002224), (52.78043370829782, -0.7077948066413137), (52.780433717686236, -0.707794956444891), (52.78043374132493, -0.707795031829917), (52.78043375808995, -0.7077952821468624), (52.78043375959881, -0.707794882348498), (52.78043378038744, -0.7077951275109116), (52.78043382481476, -0.707794802775415), (52.78043382783246, -0.7077949609551063), (52.780433829006014, -0.7077947405988764), (52.780432731183396, -0.707794446162926), (52.780432767470195, -0.7077950168713004), (52.7804328585055, -0.7077953034501837), (52.78043292152994, -0.7077962525896475), (52.78043292662282, -0.7077947351912014), (52.78043317426432, -0.7077944326912691), (52.78043318826975, -0.7077957480148616), (52.780433186359915, -0.7077950340170456), (52.78043319017958, -0.707794195100229), (52.78043087347243, -0.7077918336475333), (52.78043096643245, -0.7077932445318377), (52.78043118859113, -0.7077939469592798), (52.78043134615047, -0.7077962803448601), (52.78043135875522, -0.7077925421043956), (52.780428600234515, -0.7077893038556465), (52.78042750617277, -0.7077872449403205), (52.78042751925813, -0.7077873496870619), (52.78042752645788, -0.7077873689117743), (52.780427534678715, -0.7077873701079831), (52.78042756081942, -0.7077873204857444), (52.780427563508624, -0.7077872203755662), (52.78042639614, -0.7077868204415924), (52.78042640407992, -0.707786764399066), (52.78042641248942, -0.7077868317504861), (52.78042641875422, -0.7077867878625773), (52.78042641711495, -0.707786844208485), (52.780426422450645, -0.7077868448818108), (52.78042644098222, -0.7077867485080096), (52.780425873727715, -0.7077865199927692), (52.78042597668656, -0.7077868904548388), (52.7804260391086, -0.7077874015769791), (52.780426160852464, -0.707787662414314), (52.780426174669216, -0.7077871193600408), (52.78042439649879, -0.7077902428617926), (52.780424426346414, -0.7077904939690562), (52.780424495514985, -0.7077900638616996), (52.78042449253649, -0.7077903554091515), (52.78042276350965, -0.7077934602109038), (52.78042277888439, -0.707793641348694), (52.780422787785554, -0.7077936329598085), (52.78042283083482, -0.7077933353097176), (52.78042283180586, -0.7077935366429732), (52.780422831320344, -0.7077936149392392), (52.7804215, -0.7077945), (52.7804215, -0.7077945), (52.7804215, -0.7077945), (52.7804215, -0.7077945), (52.7804215, -0.7077945), (52.78042175808912, -0.707796391136998), (52.780421660925896, -0.7077969906628189), (52.78042154798629, -0.7077968083247181), (52.780421520334514, -0.7077963697015285), (52.78042137925247, -0.7077971029840944), (52.78042138535723, -0.7077966183554717), (52.780420819684785, -0.7077972552563544), (52.78042059508637, -0.7077968900967903), (52.78042053712857, -0.7077960224090477), (52.78042049369464, -0.707796060301922), (52.78042029876958, -0.7077956436300555), (52.78042025968668, -0.7077974818469892), (52.780420274240285, -0.7077965143376099), (52.7804204790399, -0.7077973171785743), (52.780420359170186, -0.7077971171446994), (52.780420333269085, -0.707796641961777), (52.78042018058036, -0.7077969086937811), (52.78042016654837, -0.7077974398516294), (52.780420115565754, -0.7077973601136375), (52.780419497811955, -0.707797873923479), (52.78041947850841, -0.7077977338606547), (52.78041946667033, -0.7077978260179333), (52.78041946805678, -0.7077977078779858), (52.78041945717854, -0.7077977064570586), (52.780419445020506, -0.7077975452833158), (52.78041942219754, -0.7077976542887313), (52.78041942049115, -0.707797908025732), (52.780420102006595, -0.7077972529217895), (52.78042012177045, -0.7077972836091979), (52.78042012069486, -0.7077973582091321), (52.780420127551714, -0.7077973591079265), (52.78042014892894, -0.7077972545909791), (52.7804201496684, -0.7077973919781213), (52.78042015060954, -0.7077972316075226), (52.78042029726332, -0.707798343314885), (52.780420281740284, -0.7077982464158172), (52.78042027552488, -0.7077982454824447), (52.78042025417287, -0.7077983411486113), (52.78042025587945, -0.7077982150905267), (52.780420252264854, -0.7077983620906705), (52.780420683343486, -0.7077986529823455), (52.780420631800226, -0.7077980067743229), (52.780420626323796, -0.7077981765687977), (52.78042058105027, -0.7077984874719666), (52.78042059374882, -0.7077980889999975), (52.78042055685657, -0.7077980842457479), (52.78042044293568, -0.7077979062016607), (52.78042043301709, -0.7077986390219799), (52.780420422623436, -0.7077987614628148), (52.780422581930395, -0.7077989475252585), (52.7804224847758, -0.7077987904627445), (52.78042249719628, -0.7077984120552084), (52.78042246239149, -0.707798406878038), (52.78042235418992, -0.7077982359138708), (52.78042233385286, -0.7077990482956167), (52.78042409301442, -0.7077992891288564), (52.78042408902127, -0.7077991784948816), (52.78042407388465, -0.7077991264771635), (52.78042405795564, -0.7077992329994789), (52.7804240625654, -0.70779909616845), (52.78042404951156, -0.7077990945291183), (52.780424010969114, -0.7077990329283368), (52.78042400351461, -0.7077993256758983), (52.78042472915846, -0.7077986368498644), (52.78042479722457, -0.7077995375094042), (52.78042480736276, -0.7077993036697442), (52.780424872009156, -0.7077988675819705), (52.78042485363491, -0.7077994287085431), (52.78042490599372, -0.7077994363637592), (52.78042493722686, -0.7077994109071287), (52.78042493798012, -0.7078002063842348), (52.78042506514272, -0.7077996876040349), (52.78042507957346, -0.7077986583753505), (52.78042509416983, -0.7077984872105568), (52.78042536387365, -0.7077975477722581), (52.78042528912838, -0.7077980550682381), (52.780425310547635, -0.7077974008853093), (52.78042524773486, -0.7077973930523906), (52.780425254448176, -0.7077965365197307), (52.78042521311376, -0.7077974216392448), (52.780425047251704, -0.7077982956030429), (52.78042502962988, -0.7077984962657087), (52.7804332547103, -0.7077983176038406), (52.78043337603417, -0.707798099141125), (52.780433369903136, -0.7077982553504047), (52.780433408559944, -0.7077981227754546), (52.78043355969258, -0.7077988573742847), (52.78043349999282, -0.70779800037661), (52.780433524324756, -0.707797367252277), (52.780433368393275, -0.7077979049330695), (52.780433555926514, -0.707797769327094), (52.78043357634255, -0.7077972500646166), (52.780433447522334, -0.7077976908771677), (52.78043333443365, -0.7077979142771404), (52.780433978103474, -0.7077978321912224), (52.78043399176975, -0.7077964516373357), (52.780433920977785, -0.7077970196734696), (52.78043394507558, -0.7077964223270592), (52.78043379507725, -0.7077969293372608), (52.780433664759855, -0.7077971897314955), (52.78043440072373, -0.7077971040586676), (52.780434367118175, -0.7077967246151425), (52.780434373250095, -0.7077964447207026), (52.78043430785095, -0.7077966828401174), (52.78043397138534, -0.707794971252561), (52.78043399962857, -0.7077936343876134), (52.780433690547916, -0.70779477072184), (52.7804334162419, -0.707795346422137), (52.78043507293821, -0.7077957792871624), (52.78043496147264, -0.7077945196187623), (52.78043498014586, -0.7077935868221985), (52.780434764738324, -0.7077943826939722), (52.78043557646338, -0.7077942492086798), (52.78043557543632, -0.7077940939882431), (52.78043556831264, -0.7077941581723199), (52.780435569738884, -0.7077940905125909), (52.78043556102872, -0.7077942149772667), (52.78043555413878, -0.7077941481524876), (52.78043586285092, -0.7077929081865767), (52.78043582384228, -0.707793266501128), (52.78043583141967, -0.7077928888050029), (52.78043574435808, -0.7077932098419703), (52.78043566708622, -0.7077933732029185), (52.7804361, -0.7077927), (52.7804361, -0.7077927), (52.7804361, -0.7077927), (52.7804361, -0.7077927), (52.7804361, -0.7077927), (52.78043630195467, -0.7077935958944513), (52.78043630204332, -0.7077935997509349), (52.78043630250878, -0.7077936091449514), (52.78043630381565, -0.7077936043323302), (52.780436304957384, -0.7077936019091682), (52.782684779561336, -0.7129039241577443), (52.781941471536676, -0.7055873915752692), (52.78037281375673, -0.7089515392383179), (52.780364248208436, -0.7089530667605889), (52.7803757806444, -0.7089572263468543), (52.780368990970366, -0.7089556958973918), (52.780370575248725, -0.7089596040614836), (52.78036748091194, -0.708953047506852), (52.780367350077526, -0.7089556102144173), (52.780381174770135, -0.7089615909236311), (52.78036111076893, -0.708951461751806), (52.780366162824926, -0.7089541152130064), (52.78036597261835, -0.7089568652323447), (52.780367937154544, -0.7089585895442367), (52.7803806544063, -0.7089634828254814), (52.78038060159088, -0.7089565065344258), (52.78038082163049, -0.7089565441317706), (52.780380942092656, -0.7089566897431094), (52.780381475929005, -0.7089567178853347), (52.78038092112951, -0.7089569425088378), (52.78038094673082, -0.7089570471655886), (52.78038104162598, -0.7089570878812803), (52.780380570976696, -0.7089582823189743), (52.780380770824415, -0.708958319758207), (52.78038079249274, -0.7089584158285597), (52.78038087827611, -0.70895845476498), (52.78038067680664, -0.7089584739419118), (52.78038136297167, -0.7089584879605965), (52.78037984122622, -0.7089587600065522), (52.78037988872135, -0.7089589709563511), (52.78037805622095, -0.708958303310193), (52.78037856326112, -0.708958399102587), (52.78037861805828, -0.708958641839177), (52.780379331805385, -0.7089575151300106), (52.78037934568005, -0.7089575247253811), (52.78037933459769, -0.7089575275309191), (52.78037940822443, -0.7089575368421814), (52.78037933559254, -0.7089574074648244), (52.78037951911073, -0.7089573736557988), (52.78037949559523, -0.7089573690545644), (52.78037949495703, -0.7089573568760847), (52.78037951435793, -0.7089573520478823), (52.780379180695725, -0.708958372436458), (52.78038094772158, -0.7089580488726354), (52.78038071466749, -0.7089578895451605), (52.780380900873695, -0.7089578419127935), (52.78037955968775, -0.7089578104695681), (52.78038001850917, -0.7089588977879617), (52.78037996588532, -0.70895890743834), (52.780379972641526, -0.7089589087517193), (52.780379972823944, -0.7089589122327585), (52.7803799672815, -0.7089589136349039), (52.7803800071983, -0.7089589146109637), (52.7803794761039, -0.7089590697735211), (52.78037953991682, -0.7089590824875645), (52.78037941686203, -0.7089591643702127), (52.78037942557501, -0.708959294484676), (52.780379420505206, -0.7089592934837814), (52.78037942039698, -0.7089592908895654), (52.78037942455536, -0.7089592898383196), (52.78037876710081, -0.7089593211611397), (52.780378694826474, -0.7089593070327878), (52.78037869287894, -0.7089592698687924), (52.78037875247076, -0.7089592543234555), (52.78037644660408, -0.7089586829876221), (52.780376615532745, -0.7089587153025309), (52.78037648149513, -0.708958837488951), (52.78037748611227, -0.7089588604966767), (52.780376619471234, -0.708958931510279), (52.780378936691385, -0.7089602953844899), (52.780378805085704, -0.7089603099407659), (52.78037883107666, -0.7089603146434257), (52.78037883376611, -0.7089603176898552), (52.780378844608904, -0.7089603172986423), (52.78037883388094, -0.708960326980387), (52.78037891433408, -0.7089603287843168), (52.78037963791639, -0.7089612819234788), (52.780379243688685, -0.708961354124479), (52.78037929410449, -0.7089613641583108), (52.78037925443899, -0.7089614005964641), (52.78037955443836, -0.7089614078902964), (52.78037816453494, -0.7089608916726452), (52.780378181559406, -0.7089609112025551), (52.780378250140785, -0.7089609087426484), (52.78037818234045, -0.7089609710099893), (52.780378692155935, -0.7089609825812575), (52.78037699706381, -0.708959931395806), (52.78037721411014, -0.708959974518566), (52.780377042141495, -0.7089601312514956), (52.78037787340323, -0.7089600900905665), (52.780377663011436, -0.7089601285723716), (52.78037769021144, -0.7089601338994065), (52.78037766875085, -0.7089601534162406), (52.78037769129407, -0.7089601686720465), (52.7803777, -0.7089602), (52.7803777, -0.7089602), (52.7803777, -0.7089602), (52.7803777, -0.7089602), (52.7803777, -0.7089602), (52.7803777, -0.7089602), (52.7803777, -0.7089602), (52.78037770846901, -0.7089600609756201), (52.780377821043906, -0.7089600503553244), (52.78037781173192, -0.7089600100804182), (52.78037652107691, -0.7089601398758166), (52.78037652823664, -0.7089601477875114), (52.78037655650844, -0.7089601463945966), (52.78037655715595, -0.7089601639919657), (52.780376528791834, -0.7089601724016602), (52.78037655830925, -0.7089601916020953), (52.78037669032101, -0.7089601739664141), (52.780376472121674, -0.7089601947895616), (52.78037649100155, -0.7089602721997822), (52.78037704527888, -0.7089609127718934), (52.780377014679786, -0.7089609193022582), (52.780375809718024, -0.7089601635129436), (52.78037582285206, -0.7089602164081614), (52.78037614177779, -0.7089602524663405), (52.78037454611491, -0.7089587166258358), (52.78037448763615, -0.708958801761796), (52.78037452999601, -0.7089588405145456), (52.78037452596308, -0.7089589671336343), (52.78037467319081, -0.7089596599028465), (52.78037470367632, -0.7089597914751059), (52.7803748266195, -0.7089598698087609), (52.78037550300185, -0.7089598806195879), (52.78037506314766, -0.7089597299604495), (52.78037506904293, -0.7089597548380587), (52.780375092042476, -0.7089597696146425), (52.78037521953037, -0.7089597716521484), (52.78037441700038, -0.7089599321751539), (52.780374494722004, -0.7089599451811689), (52.78037450376939, -0.7089599822327718), (52.78037307422446, -0.7089599720745903), (52.78037352620771, -0.7089600326570955), (52.78037229624035, -0.7089603412296003), (52.78037227507815, -0.7089603712351374), (52.78037228907364, -0.7089604302658531), (52.78037235051397, -0.708960477315312), (52.780372646769784, -0.7089604703320589), (52.7803725489086, -0.7089598767842527), (52.7803725639928, -0.7089599400894451), (52.780372950319155, -0.7089599833667757), (52.78037627519721, -0.7089614556507416), (52.78037634992699, -0.7089613483831323), (52.78037629930461, -0.7089611411366145), (52.78037473174927, -0.7089613149522733), (52.780374734689225, -0.7089613273568844), (52.78037461227694, -0.7089608410226655), (52.780374620378396, -0.7089608752416489), (52.7803746559269, -0.7089609025193448), (52.78037398220715, -0.7089599637351766), (52.78037403716008, -0.7089601843514785), (52.78037537306922, -0.7089603335657788), (52.7803757626882, -0.7089573647145729), (52.78037575534513, -0.7089573353097441), (52.78037572478105, -0.7089573115461154), (52.78037557647466, -0.7089573152572345), (52.780374868805026, -0.7089552500050829), (52.780374879260215, -0.7089552920822015), (52.78037492268209, -0.7089553256955056), (52.78037513317151, -0.7089553202882015), (52.78037756405443, -0.7089569999729742), (52.780377543615096, -0.7089569159105988), (52.78037703353001, -0.7089568594908487), (52.78037784422864, -0.7089567486422989), (52.780377678425495, -0.7089566203270151), (52.78037687170119, -0.7089566394718179), (52.780377363914454, -0.7089568319889065), (52.78037733153169, -0.7089568069890645), (52.780377792459525, -0.7089571516911519), (52.78037791232513, -0.7089572442205815), (52.7803786029094, -0.7089578355567122), (52.780377567778714, -0.7089579356710328), (52.780377659596965, -0.7089583055231412), (52.780378043105756, -0.7089586021664305), (52.780379152090454, -0.708958017954752), (52.780379176263544, -0.7089581175112258), (52.78037956332095, -0.7089583714191312), (52.78038079867153, -0.7089581282050914), (52.78038076269509, -0.708957984249076), (52.780379887312584, -0.7089579776649779), (52.780379492951226, -0.7089568793731962), (52.780379545527474, -0.7089568686861425), (52.78037947796845, -0.7089568749264279), (52.78037953923323, -0.7089568418430485), (52.7803795265909, -0.7089568099493446), (52.780379651397816, -0.7089554246137993), (52.78037948881436, -0.7089554394086572), (52.780379635904644, -0.7089553608497532), (52.780379163514915, -0.7089553582645224), (52.78037976413368, -0.7089553009634181), (52.78037987399641, -0.70895427717028), (52.780379849303785, -0.7089541729437236), (52.780379077595526, -0.7089541687112173), (52.78037997460852, -0.708955241500811), (52.780379962503034, -0.7089551915523544), (52.78037991948831, -0.708955171034353), (52.78037991676216, -0.7089551617789078), (52.78037966078844, -0.708955158114099), (52.780380707069554, -0.708957630925331), (52.780380610793564, -0.7089576403545411), (52.78038061931233, -0.7089576744445896), (52.780380654980846, -0.7089577019785425), (52.78038123489349, -0.7089592010291965), (52.780381385115255, -0.7089592709880493), (52.78038116223662, -0.7089592925452753), (52.780381182007524, -0.7089593721954908)]"
   ]
  },
  {
   "cell_type": "code",
   "execution_count": 3,
   "metadata": {},
   "outputs": [
    {
     "data": {
      "text/plain": [
       "<matplotlib.collections.PathCollection at 0x25c9301e020>"
      ]
     },
     "execution_count": 3,
     "metadata": {},
     "output_type": "execute_result"
    },
    {
     "data": {
      "image/png": "[encoded data removed]",
      "text/plain": [
       "<Figure size 432x288 with 1 Axes>"
      ]
     },
     "metadata": {
      "needs_background": "light"
     },
     "output_type": "display_data"
    }
   ],
   "source": [
    "import matplotlib.pyplot as plt\n",
    "plt.scatter([a[0] for a in l], [a[1] for a in l])"
   ]
  },
  {
   "cell_type": "code",
   "execution_count": null,
   "metadata": {},
   "outputs": [],
   "source": [
    "import matplotlib.pyplot as plt\n",
    "import math\n",
    "import numpy as np\n",
    "\n",
    "print(sum(error_x)/len(error_x))\n",
    "print(sum(error_y)/len(error_y))\n",
    "\n",
    "total_error=[]\n",
    "for i in range(len(error_x)):\n",
    "    total_error.append(math.sqrt(error_x[i]**2+error_y[i]**2))\n",
    "\n",
    "plt.figure(0)\n",
    "plt.scatter(error_x,error_y)\n",
    "plt.grid()\n",
    "plt.xlabel(\"error in x\")\n",
    "plt.ylabel(\"error in y\")\n",
    "\n",
    "plt.figure(1)\n",
    "plt.scatter(image_pitch,dist_error)\n",
    "plt.grid()\n",
    "plt.xlabel(\"pitch\")\n",
    "plt.ylabel(\"error (m)\")\n",
    "\n",
    "plt.figure(2)\n",
    "plt.scatter(image_roll,dist_error)\n",
    "plt.grid()\n",
    "plt.xlabel(\"roll\")\n",
    "plt.ylabel(\"error (m)\")\n",
    "\n",
    "\n",
    "plt.figure(3)\n",
    "plt.scatter(image_roll, image_pitch, c=dist_error, cmap='viridis')\n",
    "plt.colorbar()\n",
    "plt.grid()\n",
    "plt.xlabel(\"roll\")\n",
    "plt.ylabel(\"pitch\")\n",
    "\n",
    "roll_pitch=[]\n",
    "for i in range(len(error_x)):\n",
    "    roll_pitch.append(math.sqrt(image_pitch[i]**2+image_roll[i]**2))\n",
    "\n",
    "plt.figure(4)\n",
    "plt.scatter(image_height,roll_pitch,c=dist_error, cmap='viridis')\n",
    "plt.colorbar()\n",
    "plt.grid()\n",
    "plt.xlabel(\"height\")\n",
    "plt.ylabel(\"roll_pitch\")\n",
    "\n",
    "plt.figure(5)\n",
    "plt.scatter(image_time,dist_error,c=image_height, cmap='viridis')\n",
    "plt.colorbar()\n",
    "plt.grid()\n",
    "plt.xlabel(\"image time\")\n",
    "plt.ylabel(\"error (m)\")\n",
    "\n",
    "plt.figure(6)\n",
    "plt.scatter(image_time,image_height,c=dist_error, cmap='viridis')\n",
    "plt.grid()\n",
    "plt.colorbar()\n",
    "plt.xlabel(\"time\")\n",
    "plt.ylabel(\"height\")\n",
    "\n",
    "plt.figure(7)\n",
    "plt.scatter(image_height, dist_error)\n",
    "plt.xlabel(\"height (m)\")\n",
    "plt.ylabel(\"error (m)\")\n",
    "plt.grid()\n"
   ]
  },
  {
   "cell_type": "code",
   "execution_count": 38,
   "metadata": {},
   "outputs": [],
   "source": [
    "plt.figure(8)\n",
    "import pandas as pd\n",
    "import seaborn as sns\n",
    "df = pd.DataFrame.from_dict(np.array([image_pitch,image_roll,dist_error]).T)\n",
    "df.columns = ['x','y','z']\n",
    "df['z'] = pd.to_numeric(df['z'])\n",
    "pivotted= df.pivot('y','x','z')\n",
    "\n",
    "fig = plt.figure(figsize=(10,10))\n",
    "ax = fig.gca(projection='3d')\n",
    "ax.set_xlabel('image_pitch')\n",
    "ax.set_ylabel('image_roll')\n",
    "ax.set_zlabel('dist_error')\n",
    "plt.grid()\n",
    "#ax.plot_wireframe(cParams, gammas, avg_errors_array)\n",
    "#ax.plot3D(cParams, gammas, avg_errors_array)\n",
    "#ax.scatter3D(cParams, gammas, avg_errors_array, zdir='z',cmap='viridis')\n",
    "\n",
    "surf = ax.plot_trisurf(df.x, df.y, df.z, cmap='viridis', linewidth=0.1)\n",
    "ax.view_init(azim=0, elev=90)\n",
    "fig.colorbar(surf, shrink=0.5, aspect=10)    \n",
    "plt.show()\n"
   ]
  },
  {
   "cell_type": "code",
   "execution_count": null,
   "metadata": {},
   "outputs": [],
   "source": [
    "class RLS:\n",
    "    def __init__(self, num_vars, lam, delta):\n",
    "        '''\n",
    "        num_vars: number of variables including constant\n",
    "        lam: forgetting factor, usually very close to 1.\n",
    "        '''\n",
    "        self.num_vars = num_vars\n",
    "        \n",
    "        # delta controls the initial state.\n",
    "        self.A = delta*np.matrix(np.identity(self.num_vars))\n",
    "        self.w = np.matrix(np.zeros(self.num_vars))\n",
    "        self.w = self.w.reshape(self.w.shape[1],1)\n",
    "        \n",
    "        # Variables needed for add_obs\n",
    "        self.lam_inv = lam**(-1)\n",
    "        self.sqrt_lam_inv = math.sqrt(self.lam_inv)\n",
    "        \n",
    "        # A priori error\n",
    "        self.a_priori_error = 0\n",
    "        \n",
    "        # Count of number of observations added\n",
    "        self.num_obs = 0\n",
    "\n",
    "    def add_obs(self, x, t):\n",
    "        '''\n",
    "        Add the observation x with label t.\n",
    "        x is a column vector as a numpy matrix\n",
    "        t is a real scalar\n",
    "        '''            \n",
    "        z = self.lam_inv*self.A*x\n",
    "        alpha = float((1 + x.T*z)**(-1))\n",
    "        self.a_priori_error = float(t - self.w.T*x)\n",
    "        self.w = self.w + (t-alpha*float(x.T*(self.w+t*z)))*z\n",
    "        self.A -= alpha*z*z.T\n",
    "        self.num_obs += 1\n",
    "        \n",
    "    def fit(self, X, y):\n",
    "        '''\n",
    "        Fit a model to X,y.\n",
    "        X and y are numpy arrays.\n",
    "        Individual observations in X should have a prepended 1 for constant coefficient.\n",
    "        '''\n",
    "        for i in range(len(X)):\n",
    "            x = np.transpose(np.matrix(X[i]))\n",
    "            self.add_obs(x,y[i])\n",
    "\n",
    "\n",
    "    def get_error(self):\n",
    "        '''\n",
    "        Finds the a priori (instantaneous) error. \n",
    "        Does not calculate the cumulative effect\n",
    "        of round-off errors.\n",
    "        '''\n",
    "        return self.a_priori_error\n",
    "    \n",
    "    def predict(self, x):\n",
    "        '''\n",
    "        Predict the value of observation x. x should be a numpy matrix (col vector)\n",
    "        '''\n",
    "        return float(self.w.T*x)"
   ]
  },
  {
   "cell_type": "code",
   "execution_count": 66,
   "metadata": {},
   "outputs": [
    {
     "ename": "ValueError",
     "evalue": "shapes (8,8) and (1,8) not aligned: 8 (dim 1) != 1 (dim 0)",
     "output_type": "error",
     "traceback": [
      "\u001b[1;31m---------------------------------------------------------------------------\u001b[0m",
      "\u001b[1;31mValueError\u001b[0m                                Traceback (most recent call last)",
      "\u001b[1;32mc:\\Users\\olive\\Documents\\GitHub\\uas-theia\\experiment.ipynb Cell 31'\u001b[0m in \u001b[0;36m<cell line: 15>\u001b[1;34m()\u001b[0m\n\u001b[0;32m     <a href='vscode-notebook-cell:/c%3A/Users/olive/Documents/GitHub/uas-theia/experiment.ipynb#ch0000048?line=13'>14</a>\u001b[0m pred_y \u001b[39m=\u001b[39m []\n\u001b[0;32m     <a href='vscode-notebook-cell:/c%3A/Users/olive/Documents/GitHub/uas-theia/experiment.ipynb#ch0000048?line=14'>15</a>\u001b[0m \u001b[39mfor\u001b[39;00m i \u001b[39min\u001b[39;00m \u001b[39mrange\u001b[39m(\u001b[39m20\u001b[39m):\n\u001b[1;32m---> <a href='vscode-notebook-cell:/c%3A/Users/olive/Documents/GitHub/uas-theia/experiment.ipynb#ch0000048?line=15'>16</a>\u001b[0m     LS\u001b[39m.\u001b[39;49madd_obs(np\u001b[39m.\u001b[39;49mmatrix(x[i]),y[i])\n\u001b[0;32m     <a href='vscode-notebook-cell:/c%3A/Users/olive/Documents/GitHub/uas-theia/experiment.ipynb#ch0000048?line=16'>17</a>\u001b[0m \u001b[39mprint\u001b[39m(LS\u001b[39m.\u001b[39mw)\n\u001b[0;32m     <a href='vscode-notebook-cell:/c%3A/Users/olive/Documents/GitHub/uas-theia/experiment.ipynb#ch0000048?line=17'>18</a>\u001b[0m \u001b[39m# plot the predicted values against the non-noisy output\u001b[39;00m\n",
      "\u001b[1;32mc:\\Users\\olive\\Documents\\GitHub\\uas-theia\\experiment.ipynb Cell 29'\u001b[0m in \u001b[0;36mRLS.add_obs\u001b[1;34m(self, x, t)\u001b[0m\n\u001b[0;32m     <a href='vscode-notebook-cell:/c%3A/Users/olive/Documents/GitHub/uas-theia/experiment.ipynb#ch0000028?line=23'>24</a>\u001b[0m \u001b[39mdef\u001b[39;00m \u001b[39madd_obs\u001b[39m(\u001b[39mself\u001b[39m, x, t):\n\u001b[0;32m     <a href='vscode-notebook-cell:/c%3A/Users/olive/Documents/GitHub/uas-theia/experiment.ipynb#ch0000028?line=24'>25</a>\u001b[0m     \u001b[39m'''\u001b[39;00m\n\u001b[0;32m     <a href='vscode-notebook-cell:/c%3A/Users/olive/Documents/GitHub/uas-theia/experiment.ipynb#ch0000028?line=25'>26</a>\u001b[0m \u001b[39m    Add the observation x with label t.\u001b[39;00m\n\u001b[0;32m     <a href='vscode-notebook-cell:/c%3A/Users/olive/Documents/GitHub/uas-theia/experiment.ipynb#ch0000028?line=26'>27</a>\u001b[0m \u001b[39m    x is a column vector as a numpy matrix\u001b[39;00m\n\u001b[0;32m     <a href='vscode-notebook-cell:/c%3A/Users/olive/Documents/GitHub/uas-theia/experiment.ipynb#ch0000028?line=27'>28</a>\u001b[0m \u001b[39m    t is a real scalar\u001b[39;00m\n\u001b[0;32m     <a href='vscode-notebook-cell:/c%3A/Users/olive/Documents/GitHub/uas-theia/experiment.ipynb#ch0000028?line=28'>29</a>\u001b[0m \u001b[39m    '''\u001b[39;00m            \n\u001b[1;32m---> <a href='vscode-notebook-cell:/c%3A/Users/olive/Documents/GitHub/uas-theia/experiment.ipynb#ch0000028?line=29'>30</a>\u001b[0m     z \u001b[39m=\u001b[39m \u001b[39mself\u001b[39;49m\u001b[39m.\u001b[39;49mlam_inv\u001b[39m*\u001b[39;49m\u001b[39mself\u001b[39;49m\u001b[39m.\u001b[39;49mA\u001b[39m*\u001b[39;49mx\n\u001b[0;32m     <a href='vscode-notebook-cell:/c%3A/Users/olive/Documents/GitHub/uas-theia/experiment.ipynb#ch0000028?line=30'>31</a>\u001b[0m     alpha \u001b[39m=\u001b[39m \u001b[39mfloat\u001b[39m((\u001b[39m1\u001b[39m \u001b[39m+\u001b[39m x\u001b[39m.\u001b[39mT\u001b[39m*\u001b[39mz)\u001b[39m*\u001b[39m\u001b[39m*\u001b[39m(\u001b[39m-\u001b[39m\u001b[39m1\u001b[39m))\n\u001b[0;32m     <a href='vscode-notebook-cell:/c%3A/Users/olive/Documents/GitHub/uas-theia/experiment.ipynb#ch0000028?line=31'>32</a>\u001b[0m     \u001b[39mself\u001b[39m\u001b[39m.\u001b[39ma_priori_error \u001b[39m=\u001b[39m \u001b[39mfloat\u001b[39m(t \u001b[39m-\u001b[39m \u001b[39mself\u001b[39m\u001b[39m.\u001b[39mw\u001b[39m.\u001b[39mT\u001b[39m*\u001b[39mx)\n",
      "File \u001b[1;32m~\\.virtualenvs\\uas-theia-zLeGUkOx\\lib\\site-packages\\numpy\\matrixlib\\defmatrix.py:218\u001b[0m, in \u001b[0;36mmatrix.__mul__\u001b[1;34m(self, other)\u001b[0m\n\u001b[0;32m    <a href='file:///c%3A/Users/olive/.virtualenvs/uas-theia-zLeGUkOx/lib/site-packages/numpy/matrixlib/defmatrix.py?line=214'>215</a>\u001b[0m \u001b[39mdef\u001b[39;00m \u001b[39m__mul__\u001b[39m(\u001b[39mself\u001b[39m, other):\n\u001b[0;32m    <a href='file:///c%3A/Users/olive/.virtualenvs/uas-theia-zLeGUkOx/lib/site-packages/numpy/matrixlib/defmatrix.py?line=215'>216</a>\u001b[0m     \u001b[39mif\u001b[39;00m \u001b[39misinstance\u001b[39m(other, (N\u001b[39m.\u001b[39mndarray, \u001b[39mlist\u001b[39m, \u001b[39mtuple\u001b[39m)) :\n\u001b[0;32m    <a href='file:///c%3A/Users/olive/.virtualenvs/uas-theia-zLeGUkOx/lib/site-packages/numpy/matrixlib/defmatrix.py?line=216'>217</a>\u001b[0m         \u001b[39m# This promotes 1-D vectors to row vectors\u001b[39;00m\n\u001b[1;32m--> <a href='file:///c%3A/Users/olive/.virtualenvs/uas-theia-zLeGUkOx/lib/site-packages/numpy/matrixlib/defmatrix.py?line=217'>218</a>\u001b[0m         \u001b[39mreturn\u001b[39;00m N\u001b[39m.\u001b[39;49mdot(\u001b[39mself\u001b[39;49m, asmatrix(other))\n\u001b[0;32m    <a href='file:///c%3A/Users/olive/.virtualenvs/uas-theia-zLeGUkOx/lib/site-packages/numpy/matrixlib/defmatrix.py?line=218'>219</a>\u001b[0m     \u001b[39mif\u001b[39;00m isscalar(other) \u001b[39mor\u001b[39;00m \u001b[39mnot\u001b[39;00m \u001b[39mhasattr\u001b[39m(other, \u001b[39m'\u001b[39m\u001b[39m__rmul__\u001b[39m\u001b[39m'\u001b[39m) :\n\u001b[0;32m    <a href='file:///c%3A/Users/olive/.virtualenvs/uas-theia-zLeGUkOx/lib/site-packages/numpy/matrixlib/defmatrix.py?line=219'>220</a>\u001b[0m         \u001b[39mreturn\u001b[39;00m N\u001b[39m.\u001b[39mdot(\u001b[39mself\u001b[39m, other)\n",
      "File \u001b[1;32m<__array_function__ internals>:180\u001b[0m, in \u001b[0;36mdot\u001b[1;34m(*args, **kwargs)\u001b[0m\n",
      "\u001b[1;31mValueError\u001b[0m: shapes (8,8) and (1,8) not aligned: 8 (dim 1) != 1 (dim 0)"
     ]
    }
   ],
   "source": [
    "import numpy as np\n",
    "import matplotlib.pylab as plt\n",
    "import padasip as pa\n",
    "\n",
    "# creation of data\n",
    "dfx = df[[\"lat\", \"lon\", \"px\", \"py\", \"alt\", \"roll\", \"pitch\", \"heading\"]]\n",
    "dfy = df[[\"est_lat2\", \"est_lon2\"]]\n",
    "x = dfx.to_numpy()\n",
    "y = dfy.to_numpy()\n",
    "\n",
    "LS = RLS(8,0.99,1)\n",
    "# Not using the RLS.fit function because I want to remember all the predicted values\n",
    "pred_x = []\n",
    "pred_y = []\n",
    "for i in range(20):\n",
    "    LS.add_obs(np.matrix(x[i]),y[i])\n",
    "print(LS.w)\n",
    "# plot the predicted values against the non-noisy output\n",
    "ax = plt.plot(pred_x, y-pred_y)\n",
    "plt.show()"
   ]
  },
  {
   "cell_type": "code",
   "execution_count": 59,
   "metadata": {},
   "outputs": [
    {
     "name": "stdout",
     "output_type": "stream",
     "text": [
      "[[-4.94322404]\n",
      " [-3.80064484]\n",
      " [ 0.20000058]]\n"
     ]
    },
    {
     "data": {
      "image/png": "[encoded data removed]",
      "text/plain": [
       "<Figure size 432x288 with 1 Axes>"
      ]
     },
     "metadata": {
      "needs_background": "light"
     },
     "output_type": "display_data"
    }
   ],
   "source": [
    "test_size = 1000\n",
    "# Test function\n",
    "f = lambda x: 0.2*x**2-3.8*x-5.1\n",
    "# Gaussian noise to be added to the quadratic signal\n",
    "noise = np.random.randn(test_size)\n",
    "# You can play around with other noise (like sinusoidal)\n",
    "#noise = [np.sin(2*np.pi*i/13) for i in range(test_size)]\n",
    "y = np.array([f(i) for i in range(test_size)])\n",
    "noisy_y = y + noise\n",
    "lam = 0.98\n",
    "LS = RLS(3,lam,1)\n",
    "# Not using the RLS.fit function because I want to remember all the predicted values\n",
    "pred_x = []\n",
    "pred_y = []\n",
    "for i in range(test_size):\n",
    "    x = np.matrix(np.zeros((1,3)))\n",
    "    x[0,0] = 1\n",
    "    x[0,1] = i\n",
    "    x[0,2] = i**2\n",
    "    pred_x.append(i)\n",
    "    pred_y.append(float(x*LS.w))\n",
    "    LS.add_obs(x.T,noisy_y[i])\n",
    "print(LS.w)\n",
    "# plot the predicted values against the non-noisy output\n",
    "ax = plt.plot(pred_x, y-pred_y)\n",
    "plt.show()"
   ]
  },
  {
   "cell_type": "code",
   "execution_count": 65,
   "metadata": {},
   "outputs": [
    {
     "data": {
      "text/plain": [
       "matrix([[1.00000e+00, 9.99000e+02, 9.98001e+05]])"
      ]
     },
     "execution_count": 65,
     "metadata": {},
     "output_type": "execute_result"
    }
   ],
   "source": [
    "x"
   ]
  },
  {
   "cell_type": "code",
   "execution_count": 9,
   "metadata": {},
   "outputs": [
    {
     "data": {
      "application/vnd.jupyter.widget-view+json": {
       "model_id": "9b00772fdfd64187accb9a089a4f90ee",
       "version_major": 2,
       "version_minor": 0
      },
      "text/plain": [
       "Map(center=[52.78042455, -0.70778441], controls=(ZoomControl(options=['position', 'zoom_in_text', 'zoom_in_tit…"
      ]
     },
     "metadata": {},
     "output_type": "display_data"
    }
   ],
   "source": [
    "from ipyleaflet import (\n",
    "    Map,\n",
    "    Marker,\n",
    "    MarkerCluster,\n",
    "    TileLayer,\n",
    "    ImageOverlay,\n",
    "    Polyline,\n",
    "    Polygon,\n",
    "    Rectangle,\n",
    "    Circle,\n",
    "    CircleMarker,\n",
    "    Popup,\n",
    "    GeoJSON,\n",
    "    DrawControl,\n",
    "    basemaps,\n",
    "    AwesomeIcon\n",
    ")\n",
    "\n",
    "from ipywidgets import HTML, Layout\n",
    "\n",
    "target_location = [52.78042455, -0.70778441]\n",
    "zoom = 100\n",
    "\n",
    "m = Map(basemap=basemaps.Esri.WorldImagery, center=target_location, zoom=zoom, layout=Layout(width='800px', height='800px'))\n",
    "m.add_layer(\n",
    "    CircleMarker(location=target_location, radius=20)\n",
    ")\n",
    "m.add_layer(\n",
    "    MarkerCluster(markers=[\n",
    "        Marker(location=loc) for loc in l\n",
    "    ],\n",
    "    disable_clustering_at_zoom=3)\n",
    ")\n",
    "\n",
    "m"
   ]
  },
  {
   "cell_type": "code",
   "execution_count": 8,
   "metadata": {},
   "outputs": [
    {
     "data": {
      "text/plain": [
       "Text(0, 0.5, 'pitch')"
      ]
     },
     "execution_count": 8,
     "metadata": {},
     "output_type": "execute_result"
    },
    {
     "data": {
      "image/png": "[encoded data removed]",
      "text/plain": [
       "<Figure size 432x288 with 2 Axes>"
      ]
     },
     "metadata": {
      "needs_background": "light"
     },
     "output_type": "display_data"
    }
   ],
   "source": [
    "plt.figure(3)\n",
    "plt.scatter(image_roll, image_pitch, c=dist_error, cmap='viridis')\n",
    "plt.colorbar()\n",
    "plt.grid()\n",
    "plt.xlabel(\"roll\")\n",
    "plt.ylabel(\"pitch\")"
   ]
  },
  {
   "cell_type": "code",
   "execution_count": 9,
   "metadata": {},
   "outputs": [
    {
     "ename": "ModuleNotFoundError",
     "evalue": "No module named 'pandas'",
     "output_type": "error",
     "traceback": [
      "\u001b[1;31m---------------------------------------------------------------------------\u001b[0m",
      "\u001b[1;31mModuleNotFoundError\u001b[0m                       Traceback (most recent call last)",
      "\u001b[1;32mc:\\Users\\pm\\OneDrive\\Documents\\Projects\\uas python\\uas-theia\\experiment.ipynb Cell 37'\u001b[0m in \u001b[0;36m<cell line: 1>\u001b[1;34m()\u001b[0m\n\u001b[1;32m----> <a href='vscode-notebook-cell:/c%3A/Users/pm/OneDrive/Documents/Projects/uas%20python/uas-theia/experiment.ipynb#ch0000035?line=0'>1</a>\u001b[0m \u001b[39mimport\u001b[39;00m \u001b[39mpandas\u001b[39;00m \u001b[39mas\u001b[39;00m \u001b[39mpd\u001b[39;00m\n\u001b[0;32m      <a href='vscode-notebook-cell:/c%3A/Users/pm/OneDrive/Documents/Projects/uas%20python/uas-theia/experiment.ipynb#ch0000035?line=1'>2</a>\u001b[0m \u001b[39mimport\u001b[39;00m \u001b[39mnumpy\u001b[39;00m \u001b[39mas\u001b[39;00m \u001b[39mnp\u001b[39;00m\n\u001b[0;32m      <a href='vscode-notebook-cell:/c%3A/Users/pm/OneDrive/Documents/Projects/uas%20python/uas-theia/experiment.ipynb#ch0000035?line=2'>3</a>\u001b[0m df \u001b[39m=\u001b[39m [{ \n\u001b[0;32m      <a href='vscode-notebook-cell:/c%3A/Users/pm/OneDrive/Documents/Projects/uas%20python/uas-theia/experiment.ipynb#ch0000035?line=3'>4</a>\u001b[0m     \u001b[39m\"\u001b[39m\u001b[39mpx\u001b[39m\u001b[39m\"\u001b[39m:row[\u001b[39m1\u001b[39m][\u001b[39m0\u001b[39m][\u001b[39m0\u001b[39m][\u001b[39m0\u001b[39m], \n\u001b[0;32m      <a href='vscode-notebook-cell:/c%3A/Users/pm/OneDrive/Documents/Projects/uas%20python/uas-theia/experiment.ipynb#ch0000035?line=4'>5</a>\u001b[0m     \u001b[39m\"\u001b[39m\u001b[39mpy\u001b[39m\u001b[39m\"\u001b[39m: row[\u001b[39m1\u001b[39m][\u001b[39m0\u001b[39m][\u001b[39m0\u001b[39m][\u001b[39m1\u001b[39m], \n\u001b[1;32m   (...)\u001b[0m\n\u001b[0;32m     <a href='vscode-notebook-cell:/c%3A/Users/pm/OneDrive/Documents/Projects/uas%20python/uas-theia/experiment.ipynb#ch0000035?line=10'>11</a>\u001b[0m     \u001b[39m\"\u001b[39m\u001b[39mheading\u001b[39m\u001b[39m\"\u001b[39m: row[\u001b[39m1\u001b[39m][\u001b[39m1\u001b[39m]\u001b[39m.\u001b[39mheading\n\u001b[0;32m     <a href='vscode-notebook-cell:/c%3A/Users/pm/OneDrive/Documents/Projects/uas%20python/uas-theia/experiment.ipynb#ch0000035?line=11'>12</a>\u001b[0m } \u001b[39mfor\u001b[39;00m row \u001b[39min\u001b[39;00m \u001b[39menumerate\u001b[39m(all_data)]\n",
      "\u001b[1;31mModuleNotFoundError\u001b[0m: No module named 'pandas'"
     ]
    }
   ],
   "source": [
    "import pandas as pd\n",
    "import numpy as np\n",
    "df = [{ \n",
    "    \"px\":row[1][0][0][0], \n",
    "    \"py\": row[1][0][0][1], \n",
    "    \"lat\": row[1][1].lat,\n",
    "    \"lon\": row[1][1].lon,\n",
    "    \"alt\": row[1][1].alt,\n",
    "    \"roll\": row[1][1].roll,\n",
    "    \"pitch\": row[1][1].pitch,\n",
    "    \"heading\": row[1][1].heading\n",
    "} for row in enumerate(all_data)]\n",
    "df.append({\n",
    "    \"px\":1920/2, \n",
    "    \"py\": 1080/2, \n",
    "    \"lat\": target_location[0],\n",
    "    \"lon\": target_location[1],\n",
    "    \"alt\": 100,\n",
    "    \"roll\": 0.4,\n",
    "    \"pitch\": 0.4,\n",
    "    \"heading\": 350\n",
    "})\n",
    "df = pd.DataFrame(df)\n"
   ]
  },
  {
   "cell_type": "code",
   "execution_count": 7,
   "metadata": {},
   "outputs": [
    {
     "ename": "ModuleNotFoundError",
     "evalue": "No module named 'pyproj'",
     "output_type": "error",
     "traceback": [
      "\u001b[1;31m---------------------------------------------------------------------------\u001b[0m",
      "\u001b[1;31mModuleNotFoundError\u001b[0m                       Traceback (most recent call last)",
      "\u001b[1;32mc:\\Users\\pm\\OneDrive\\Documents\\Projects\\uas python\\uas-theia\\experiment.ipynb Cell 38'\u001b[0m in \u001b[0;36m<cell line: 1>\u001b[1;34m()\u001b[0m\n\u001b[1;32m----> <a href='vscode-notebook-cell:/c%3A/Users/pm/OneDrive/Documents/Projects/uas%20python/uas-theia/experiment.ipynb#ch0000036?line=0'>1</a>\u001b[0m \u001b[39mimport\u001b[39;00m \u001b[39mpyproj\u001b[39;00m\n\u001b[0;32m      <a href='vscode-notebook-cell:/c%3A/Users/pm/OneDrive/Documents/Projects/uas%20python/uas-theia/experiment.ipynb#ch0000036?line=1'>2</a>\u001b[0m \u001b[39mimport\u001b[39;00m \u001b[39mmath\u001b[39;00m\n\u001b[0;32m      <a href='vscode-notebook-cell:/c%3A/Users/pm/OneDrive/Documents/Projects/uas%20python/uas-theia/experiment.ipynb#ch0000036?line=2'>3</a>\u001b[0m geodesic \u001b[39m=\u001b[39m pyproj\u001b[39m.\u001b[39mGeod(ellps\u001b[39m=\u001b[39m\u001b[39m'\u001b[39m\u001b[39mWGS84\u001b[39m\u001b[39m'\u001b[39m)\n",
      "\u001b[1;31mModuleNotFoundError\u001b[0m: No module named 'pyproj'"
     ]
    }
   ],
   "source": [
    "import pyproj\n",
    "import math\n",
    "geodesic = pyproj.Geod(ellps='WGS84')\n",
    "df[\"bearing_act\"] = df.apply(lambda row: geodesic.inv(target_location[0], target_location[1], row.lat, row.lon)[0], axis=1)\n",
    "df[\"distance_act\"] = df.apply(lambda row: geodesic.inv(target_location[0], target_location[1], row.lat, row.lon)[2], axis=1)\n",
    "df[\"anglez_act\"] = df.apply(lambda row: math.degrees(math.atan(row.distance_act/row.alt)), axis=1)\n",
    "\n",
    "RESOLUTION = np.array([1080, 1920]) # px\n",
    "ASPECT_RATIO = RESOLUTION[1]/RESOLUTION[0]\n",
    "SENSOR_W = 6.4 #mm\n",
    "SENSOR_H = SENSOR_W / ASPECT_RATIO #mm\n",
    "LENS_F = 6 #mm\n",
    "FOV_X = 2 * math.atan2(SENSOR_W/2, LENS_F)\n",
    "FOV_Y = 2 * math.atan2(SENSOR_H/2, LENS_F)\n",
    "print(FOV_X, FOV_Y)\n",
    "\n",
    "sin_rule = lambda alpha, a, b: math.asin(b * math.sin(alpha)/a)\n",
    "# calculate angle of point in FOV\n",
    "df[\"fov_angle_x\"] = df.apply(lambda row: sin_rule((math.pi/2 - FOV_X)/2, 915.1, row.px) - FOV_X/2, axis=1)\n",
    "df[\"fov_angle_y\"] = df.apply(lambda row: sin_rule((math.pi/2 - FOV_Y)/2, 578.90595, row.py) - FOV_Y/2, axis=1)\n",
    "# caculate the distance offset\n",
    "df[\"offset_x\"] = df.apply(lambda row: math.tan(row.fov_angle_x + row.roll) * row.alt, axis=1)\n",
    "df[\"offset_y\"] = df.apply(lambda row: math.tan(row.fov_angle_y + row.pitch) * row.alt, axis=1)\n",
    "# rotate points to account for heading\n",
    "df[\"Px\"] = df.apply(lambda row: row.offset_x * math.cos(math.radians(-row.heading)) - row.offset_y * math.sin(math.radians(-row.heading)), axis=1)\n",
    "df[\"Py\"] = df.apply(lambda row: row.offset_x * math.sin(math.radians(-row.heading)) + row.offset_y * math.cos(math.radians(-row.heading)), axis=1)\n",
    "# convert from meters to lat lon\n",
    "df[\"est_lat\"] = df.apply(lambda row: row.lat + row.Px/111320, axis=1)\n",
    "df[\"est_lon\"] = df.apply(lambda row: row.lon + row.Py/((40075000 * math.cos(math.radians(row.lat))) / 360), axis=1)\n",
    "\n",
    "df[\"distance_error\"] = df.apply(lambda row: geopy.distance.distance(target_location, (row.est_lat,row.est_lon)).m, axis=1)\n",
    "df[\"bearing_est\"] = df.apply(lambda row: geodesic.inv(row.est_lat, row.est_lon, row.lat, row.lon)[0], axis=1)\n",
    "df[\"distance_est\"] = df.apply(lambda row: geodesic.inv(row.est_lat, row.est_lon, row.lat, row.lon)[2], axis=1)\n",
    "df[\"anglez_est\"] = df.apply(lambda row: math.degrees(math.atan(row.distance_est/row.alt)), axis=1)\n",
    "\n",
    "df[\"est_lat2\"] = df.apply(lambda row: position_estimation.triangulate((row.px, row.py), LocationInfo(lat=row.lat, lon=row.lon, alt=row.alt, heading=row.heading, pitch=row.pitch, roll=row.roll))[0], axis=1)\n",
    "df[\"est_lon2\"] = df.apply(lambda row: position_estimation.triangulate((row.px, row.py), LocationInfo(lat=row.lat, lon=row.lon, alt=row.alt, heading=row.heading, pitch=row.pitch, roll=row.roll))[1], axis=1)\n",
    "\n",
    "df[\"distance_error2\"] = df.apply(lambda row: geopy.distance.distance(target_location, (row.est_lat2,row.est_lon2)).m, axis=1)\n",
    "df[\"bearing_est2\"] = df.apply(lambda row: geodesic.inv(row.est_lat2, row.est_lon2, row.lat, row.lon)[0], axis=1)\n",
    "df[\"distance_est2\"] = df.apply(lambda row: geodesic.inv(row.est_lat2, row.est_lon2, row.lat, row.lon)[2], axis=1)\n",
    "df[\"anglez_est2\"] = df.apply(lambda row: math.degrees(math.atan(row.distance_est2/row.alt)), axis=1)\n"
   ]
  },
  {
   "cell_type": "code",
   "execution_count": 6,
   "metadata": {},
   "outputs": [
    {
     "ename": "NameError",
     "evalue": "name 'df' is not defined",
     "output_type": "error",
     "traceback": [
      "\u001b[1;31m---------------------------------------------------------------------------\u001b[0m",
      "\u001b[1;31mNameError\u001b[0m                                 Traceback (most recent call last)",
      "\u001b[1;32mc:\\Users\\pm\\OneDrive\\Documents\\Projects\\uas python\\uas-theia\\experiment.ipynb Cell 39'\u001b[0m in \u001b[0;36m<cell line: 1>\u001b[1;34m()\u001b[0m\n\u001b[1;32m----> <a href='vscode-notebook-cell:/c%3A/Users/pm/OneDrive/Documents/Projects/uas%20python/uas-theia/experiment.ipynb#ch0000037?line=0'>1</a>\u001b[0m coords \u001b[39m=\u001b[39m [(lat, lon) \u001b[39mfor\u001b[39;00m lat,lon \u001b[39min\u001b[39;00m \u001b[39mzip\u001b[39m(df\u001b[39m.\u001b[39mest_lat, df\u001b[39m.\u001b[39mest_lon)]\n\u001b[0;32m      <a href='vscode-notebook-cell:/c%3A/Users/pm/OneDrive/Documents/Projects/uas%20python/uas-theia/experiment.ipynb#ch0000037?line=2'>3</a>\u001b[0m \u001b[39mfrom\u001b[39;00m \u001b[39mipyleaflet\u001b[39;00m \u001b[39mimport\u001b[39;00m (\n\u001b[0;32m      <a href='vscode-notebook-cell:/c%3A/Users/pm/OneDrive/Documents/Projects/uas%20python/uas-theia/experiment.ipynb#ch0000037?line=3'>4</a>\u001b[0m     Map,\n\u001b[0;32m      <a href='vscode-notebook-cell:/c%3A/Users/pm/OneDrive/Documents/Projects/uas%20python/uas-theia/experiment.ipynb#ch0000037?line=4'>5</a>\u001b[0m     Marker,\n\u001b[1;32m   (...)\u001b[0m\n\u001b[0;32m     <a href='vscode-notebook-cell:/c%3A/Users/pm/OneDrive/Documents/Projects/uas%20python/uas-theia/experiment.ipynb#ch0000037?line=17'>18</a>\u001b[0m     AwesomeIcon\n\u001b[0;32m     <a href='vscode-notebook-cell:/c%3A/Users/pm/OneDrive/Documents/Projects/uas%20python/uas-theia/experiment.ipynb#ch0000037?line=18'>19</a>\u001b[0m )\n\u001b[0;32m     <a href='vscode-notebook-cell:/c%3A/Users/pm/OneDrive/Documents/Projects/uas%20python/uas-theia/experiment.ipynb#ch0000037?line=20'>21</a>\u001b[0m \u001b[39mfrom\u001b[39;00m \u001b[39mipywidgets\u001b[39;00m \u001b[39mimport\u001b[39;00m HTML, Layout\n",
      "\u001b[1;31mNameError\u001b[0m: name 'df' is not defined"
     ]
    }
   ],
   "source": [
    "coords = [(lat, lon) for lat,lon in zip(df.est_lat, df.est_lon)]\n",
    "\n",
    "from ipyleaflet import (\n",
    "    Map,\n",
    "    Marker,\n",
    "    MarkerCluster,\n",
    "    TileLayer,\n",
    "    ImageOverlay,\n",
    "    Polyline,\n",
    "    Polygon,\n",
    "    Rectangle,\n",
    "    Circle,\n",
    "    CircleMarker,\n",
    "    Popup,\n",
    "    GeoJSON,\n",
    "    DrawControl,\n",
    "    basemaps,\n",
    "    AwesomeIcon\n",
    ")\n",
    "\n",
    "from ipywidgets import HTML, Layout\n",
    "\n",
    "center = [34.6252978589571, -77.34580993652344]\n",
    "zoom = 100\n",
    "\n",
    "m = Map(basemap=basemaps.Esri.WorldImagery, center=target_location, zoom=zoom, layout=Layout(width='800px', height='800px'))\n",
    "m.add_layer(\n",
    "    CircleMarker(location=target_location, radius=20)\n",
    ")\n",
    "m.add_layer(\n",
    "    MarkerCluster(markers=[\n",
    "        Marker(location=loc) for loc in coords\n",
    "    ],\n",
    "    disable_clustering_at_zoom=3)\n",
    ")\n",
    "\n",
    "avg = [sum(x)/len(x) for x in zip(*coords)]\n",
    "icon = AwesomeIcon(marker_color=\"red\")\n",
    "\n",
    "m.add_layer(\n",
    "    Marker(location=avg, color=\"red\", icon=icon)\n",
    ")\n",
    "\n",
    "m"
   ]
  },
  {
   "cell_type": "code",
   "execution_count": 179,
   "metadata": {},
   "outputs": [
    {
     "data": {
      "text/plain": [
       "Text(0, 0.5, 'distance_est')"
      ]
     },
     "execution_count": 179,
     "metadata": {},
     "output_type": "execute_result"
    },
    {
     "data": {
      "image/png": "[encoded data removed]",
      "text/plain": [
       "<Figure size 432x288 with 2 Axes>"
      ]
     },
     "metadata": {
      "needs_background": "light"
     },
     "output_type": "display_data"
    },
    {
     "data": {
      "image/png": "[encoded data removed]",
      "text/plain": [
       "<Figure size 432x288 with 2 Axes>"
      ]
     },
     "metadata": {
      "needs_background": "light"
     },
     "output_type": "display_data"
    },
    {
     "data": {
      "image/png": "[encoded data removed]",
      "text/plain": [
       "<Figure size 432x288 with 2 Axes>"
      ]
     },
     "metadata": {
      "needs_background": "light"
     },
     "output_type": "display_data"
    },
    {
     "data": {
      "image/png": "[encoded data removed]",
      "text/plain": [
       "<Figure size 432x288 with 2 Axes>"
      ]
     },
     "metadata": {
      "needs_background": "light"
     },
     "output_type": "display_data"
    }
   ],
   "source": [
    "import matplotlib.pyplot as plt\n",
    "plt.figure(10)\n",
    "plt.scatter(df.alt, df.heading, c=df.distance_error, cmap='viridis')\n",
    "plt.colorbar()\n",
    "plt.grid()\n",
    "plt.xlabel(\"alt\")\n",
    "plt.ylabel(\"heading\")\n",
    "\n",
    "plt.figure(11)\n",
    "plt.scatter(df.bearing_act, df.bearing_est, c=df.distance_error, cmap='viridis')\n",
    "plt.colorbar()\n",
    "plt.grid()\n",
    "plt.xlabel(\"bearing_act\")\n",
    "plt.ylabel(\"bearing_est\")\n",
    "\n",
    "plt.figure(12)\n",
    "plt.scatter(df.anglez_act, df.anglez_est, c=df.distance_error, cmap='viridis')\n",
    "plt.colorbar()\n",
    "plt.grid()\n",
    "plt.xlabel(\"anglez_act\")\n",
    "plt.ylabel(\"anglez_est\")\n",
    "\n",
    "plt.figure(13)\n",
    "plt.scatter(df.distance_act, df.distance_est, c=df.distance_error, cmap='viridis')\n",
    "plt.colorbar()\n",
    "plt.grid()\n",
    "plt.xlabel(\"distance_act\")\n",
    "plt.ylabel(\"distance_est\")"
   ]
  },
  {
   "cell_type": "code",
   "execution_count": 148,
   "metadata": {},
   "outputs": [
    {
     "data": {
      "text/plain": [
       "Text(0, 0.5, 'pitch')"
      ]
     },
     "execution_count": 148,
     "metadata": {},
     "output_type": "execute_result"
    },
    {
     "data": {
      "image/png": "[encoded data removed]",
      "text/plain": [
       "<Figure size 432x288 with 2 Axes>"
      ]
     },
     "metadata": {
      "needs_background": "light"
     },
     "output_type": "display_data"
    }
   ],
   "source": [
    "plt.figure(3)\n",
    "plt.scatter(df.roll, df.pitch, c=df.distance_error, cmap='viridis')\n",
    "plt.colorbar()\n",
    "plt.grid()\n",
    "plt.xlabel(\"roll\")\n",
    "plt.ylabel(\"pitch\")"
   ]
  },
  {
   "cell_type": "markdown",
   "metadata": {},
   "source": [
    "tried morphology, reduces noise but increases processing time by ~5%. doesn't seem to affect accuracy.\n",
    "https://docs.opencv.org/3.4/d9/d61/tutorial_py_morphological_ops.html\n",
    "\n",
    "tried CLACHE - no noticeable accuracy increase\n",
    "\n",
    "tried making C more negative - reduces noise and chance of identifying target"
   ]
  },
  {
   "cell_type": "code",
   "execution_count": 4,
   "metadata": {},
   "outputs": [
    {
     "name": "stdout",
     "output_type": "stream",
     "text": [
      "0.7666666666666667\n",
      "23\n",
      "30\n"
     ]
    }
   ],
   "source": [
    "directory = r\"C:\\Users\\olive\\University of Surrey\\UAS2 - General\\2 Avionics\\4 Testing\\Image Rec\\10_04_22\\squares\"\n",
    "files = [f for f in os.listdir(directory)]\n",
    "\n",
    "\n",
    "options = {\n",
    "    \"block_size\": 399,\n",
    "    \"c\": -39,\n",
    "    \"ksize\": 39,\n",
    "    \"sigma\": 0,\n",
    "    \"epsilon\": 0.1,\n",
    "    \"square_ar\": 0.2,\n",
    "    \"min_area\": 1000,\n",
    "    \"sides\":[4],\n",
    "    \"min_solidity\": 0.6,\n",
    "    \"debug\":True\n",
    "}\n",
    "\n",
    "results = 0\n",
    "false_positives = []\n",
    "\n",
    "for file in files:\n",
    "    image = cv2.imread(directory + \"//\" + file)\n",
    "    result = find_targets(image, options)\n",
    "    try:\n",
    "        result[0]\n",
    "        results+=1\n",
    "    except KeyboardInterrupt:\n",
    "        raise Exception()\n",
    "    except Exception:\n",
    "        #find_targets(image, options)\n",
    "        pass\n",
    "\n",
    "print(results/len(files))\n",
    "print(results)\n",
    "print(len(files))\n"
   ]
  },
  {
   "cell_type": "code",
   "execution_count": null,
   "metadata": {},
   "outputs": [],
   "source": [
    "directory = r\"C:\\Users\\olive\\University of Surrey\\UAS2 - General\\2 Avionics\\4 Testing\\Image Rec\\03_04_22\\square\"\n",
    "image_number = 23\n",
    "files = [f for f in os.listdir(directory)]\n",
    "image = cv2.imread(directory + \"//\" + files[image_number])\n",
    "\n",
    "options = {\n",
    "    \"block_size\": 399,\n",
    "    \"c\": -39,\n",
    "    \"ksize\": 39,\n",
    "    \"sigma\": 0,\n",
    "    \"epsilon\": 0.1,\n",
    "    \"square_ar\": 0.2,\n",
    "    \"min_area\": 1000,\n",
    "    \"sides\":[4],\n",
    "    \"debug\":False\n",
    "}\n",
    "\n",
    "imgGray = cv2.cvtColor(image, cv2.COLOR_BGR2GRAY)\n",
    "display(imgGray)\n",
    "clahe = cv2.createCLAHE(clipLimit=2.0, tileGridSize=(8,8))\n",
    "cl1 = clahe.apply(imgGray)\n",
    "display(cl1)\n",
    "imgBlurred = cv2.GaussianBlur(cl1, (59,59),0)\n",
    "# laplacian = cv2.Laplacian(cv2.bitwise_not(imgBlurred),cv2.CV_64F)\n",
    "# display(laplacian)\n",
    "img_thresh = cv2.adaptiveThreshold(\n",
    "    imgBlurred,\n",
    "    255,\n",
    "    cv2.ADAPTIVE_THRESH_MEAN_C, \n",
    "    cv2.THRESH_BINARY,\n",
    "    399,\n",
    "    -69\n",
    ")\n",
    "display(img_thresh)\n",
    "\n",
    "contours, hierarchy = cv2.findContours(img_thresh, cv2.RETR_EXTERNAL, cv2.CHAIN_APPROX_SIMPLE)[-2:]\n",
    "squareIndexes = filterContours(contours, options)\n",
    "\n",
    "for index in squareIndexes:\n",
    "    cv2.drawContours(image, contours[index], -1, (0, 255, 0), 3)\n",
    "display(image)"
   ]
  },
  {
   "cell_type": "code",
   "execution_count": 4,
   "metadata": {},
   "outputs": [
    {
     "name": "stdout",
     "output_type": "stream",
     "text": [
      "1920 1080\n"
     ]
    }
   ],
   "source": [
    "import numpy as np\n",
    "\n",
    "src = image\n",
    "width  = src.shape[1]\n",
    "height = src.shape[0]\n",
    "\n",
    "# https://stackoverflow.com/questions/26602981/correct-barrel-distortion-in-opencv-manually-without-chessboard-image\n",
    "\n",
    "distCoeff = np.zeros((4,1),np.float64)\n",
    "\n",
    "distCoeff[0,0] = -0.7e-5 # k1\n",
    "distCoeff[1,0] = 0 # k2\n",
    "distCoeff[2,0] = 0 # p1\n",
    "distCoeff[3,0] = 0.0 # p2\n",
    "\n",
    "# assume unit matrix for camera\n",
    "cam = np.eye(3,dtype=np.float32)\n",
    "\n",
    "cam[0,2] = width/2.0  # define center x \n",
    "cam[1,2] = height/2.0 # define center y\n",
    "cam[0,0] = 10        # define focal length x\n",
    "cam[1,1] = 6        # define focal length y\n",
    "\n",
    "\n",
    "image = cv2.imread(directory + \"//\" + files[3])\n",
    "\n",
    "dst = cv2.undistort(image,cam,distCoeff)\n",
    "\n",
    "numpy_vertical = np.vstack((image, dst))\n",
    "\n",
    "width  = dst.shape[1]\n",
    "height = dst.shape[0]\n",
    "print(width, height)\n",
    "\n",
    "display(numpy_vertical)"
   ]
  },
  {
   "cell_type": "code",
   "execution_count": 1,
   "metadata": {},
   "outputs": [
    {
     "name": "stdout",
     "output_type": "stream",
     "text": [
      "[]\n",
      "[]\n",
      "[]\n",
      "[]\n",
      "[]\n",
      "[]\n",
      "[]\n",
      "[]\n",
      "[]\n",
      "[(52, 741)]\n",
      "[]\n",
      "[]\n",
      "[]\n",
      "[]\n",
      "[(348, 354)]\n",
      "[(343, 123)]\n",
      "[]\n",
      "[]\n",
      "[]\n",
      "[]\n",
      "[]\n",
      "[]\n",
      "[]\n",
      "[]\n",
      "[]\n",
      "[]\n",
      "[]\n",
      "[]\n",
      "[]\n",
      "[]\n",
      "[]\n",
      "[]\n",
      "[]\n",
      "[]\n",
      "[]\n",
      "[]\n",
      "[]\n",
      "[]\n",
      "[]\n",
      "[]\n",
      "[]\n",
      "[]\n",
      "[]\n",
      "[]\n",
      "[]\n",
      "[]\n",
      "[]\n",
      "[]\n",
      "[]\n",
      "[]\n",
      "[]\n",
      "[]\n",
      "[]\n",
      "[]\n",
      "[]\n",
      "[]\n",
      "[]\n",
      "[]\n",
      "[]\n",
      "[]\n",
      "[]\n",
      "[]\n",
      "[]\n",
      "[]\n",
      "[]\n",
      "[]\n",
      "[]\n",
      "[]\n",
      "[]\n",
      "[(1038, 91)]\n",
      "[]\n",
      "[]\n",
      "[]\n",
      "[]\n",
      "[]\n",
      "[]\n",
      "[]\n",
      "[]\n",
      "[]\n",
      "[]\n",
      "[]\n",
      "[]\n",
      "[]\n",
      "[]\n",
      "[]\n",
      "[]\n",
      "[]\n",
      "[]\n",
      "[]\n",
      "[]\n",
      "[]\n",
      "[]\n",
      "[]\n",
      "[]\n",
      "[]\n",
      "[]\n",
      "[]\n",
      "[]\n",
      "[]\n",
      "[]\n",
      "[]\n",
      "[]\n",
      "[]\n",
      "[]\n",
      "[]\n",
      "[]\n",
      "[]\n",
      "[]\n",
      "[]\n",
      "[]\n",
      "[]\n",
      "[]\n",
      "[]\n",
      "[]\n",
      "[]\n",
      "[]\n",
      "[]\n",
      "[]\n",
      "[]\n",
      "[]\n",
      "[]\n",
      "[]\n",
      "[]\n",
      "[]\n",
      "[]\n",
      "[]\n",
      "[]\n",
      "[]\n",
      "[]\n",
      "[]\n",
      "[]\n",
      "[]\n",
      "[]\n",
      "[]\n",
      "[]\n",
      "[]\n",
      "[]\n",
      "[]\n",
      "[]\n",
      "[]\n",
      "[(39, 777)]\n",
      "[(356, 1018), (164, 641)]\n",
      "[(410, 913)]\n",
      "[(346, 994)]\n",
      "[(1089, 974)]\n",
      "[(39, 1057), (553, 991), (1154, 860)]\n",
      "[(93, 1038), (617, 919), (1210, 765)]\n",
      "[(152, 1008), (672, 853), (1019, 598)]\n",
      "[(54, 694), (677, 387), (162, 205)]\n",
      "[(1419, 439), (621, 255), (120, 93)]\n",
      "[(557, 90), (539, 20)]\n",
      "[(528, 819), (36, 374), (720, 283), (258, 237), (500, 39)]\n",
      "[(503, 649), (27, 204), (706, 116), (247, 63)]\n",
      "[(509, 533), (163, 243)]\n",
      "[(490, 432), (152, 141)]\n",
      "[(107, 785), (463, 366), (137, 75)]\n",
      "[(30, 629), (372, 317)]\n",
      "[(310, 264)]\n",
      "[]\n",
      "[]\n",
      "[]\n",
      "[]\n",
      "[]\n",
      "[]\n",
      "[]\n",
      "[]\n",
      "[]\n",
      "[]\n",
      "[]\n",
      "[]\n",
      "[]\n",
      "[]\n",
      "[]\n",
      "[]\n",
      "[]\n",
      "[]\n",
      "[]\n",
      "[]\n",
      "[]\n",
      "[]\n",
      "[]\n",
      "[]\n",
      "[]\n",
      "[]\n",
      "[]\n",
      "[]\n",
      "[]\n",
      "[]\n",
      "[]\n",
      "[]\n",
      "[]\n",
      "[]\n",
      "[]\n",
      "[]\n",
      "[]\n",
      "[]\n",
      "[]\n",
      "[]\n",
      "[]\n",
      "[]\n",
      "[]\n",
      "[]\n",
      "[]\n",
      "[]\n",
      "[]\n",
      "[]\n",
      "[]\n",
      "[]\n",
      "[]\n",
      "[]\n",
      "[]\n",
      "[]\n",
      "[]\n",
      "[]\n",
      "[]\n",
      "[]\n",
      "[]\n",
      "[]\n",
      "[]\n",
      "[]\n",
      "[]\n",
      "[]\n",
      "[]\n",
      "[]\n",
      "[]\n",
      "[]\n",
      "[]\n",
      "[]\n",
      "[]\n",
      "[]\n",
      "[]\n",
      "[]\n",
      "[]\n",
      "[]\n",
      "[]\n",
      "[]\n",
      "[]\n",
      "[]\n",
      "[]\n",
      "[]\n",
      "[]\n",
      "[]\n",
      "[]\n",
      "[]\n",
      "[]\n",
      "[]\n",
      "[]\n",
      "[]\n",
      "[]\n",
      "[]\n",
      "[]\n",
      "[]\n",
      "[]\n",
      "[]\n",
      "[]\n",
      "[]\n",
      "[]\n",
      "[]\n",
      "[]\n",
      "[]\n",
      "[]\n",
      "[]\n",
      "[]\n",
      "[]\n",
      "[]\n",
      "[]\n",
      "[]\n",
      "[]\n",
      "[]\n",
      "[]\n",
      "[]\n",
      "[]\n",
      "[]\n",
      "[]\n",
      "[]\n",
      "[]\n",
      "[]\n",
      "[]\n",
      "[]\n",
      "[]\n",
      "[]\n",
      "[]\n",
      "[]\n",
      "[]\n",
      "[]\n",
      "[(879, 161)]\n",
      "[]\n",
      "[]\n",
      "[]\n",
      "[]\n",
      "[]\n",
      "[]\n",
      "[]\n",
      "[]\n",
      "[]\n",
      "[]\n",
      "[(680, 924)]\n",
      "[(741, 801)]\n",
      "[(762, 674)]\n",
      "[(810, 551)]\n",
      "[(902, 465)]\n",
      "[(1018, 365)]\n",
      "[]\n",
      "[]\n",
      "[]\n",
      "[]\n",
      "[]\n",
      "[]\n",
      "[]\n",
      "[]\n",
      "[]\n",
      "[]\n",
      "[]\n",
      "[]\n",
      "[]\n",
      "[]\n",
      "[]\n",
      "[]\n",
      "[]\n",
      "[]\n",
      "[]\n",
      "[]\n",
      "[]\n",
      "[]\n",
      "[]\n",
      "[]\n",
      "[]\n",
      "[]\n",
      "[]\n",
      "[]\n",
      "[]\n",
      "[]\n",
      "[]\n",
      "[]\n",
      "[]\n",
      "[]\n",
      "[]\n",
      "[]\n",
      "[]\n",
      "[]\n",
      "[]\n",
      "[]\n",
      "[(1695, 353)]\n",
      "[]\n",
      "[(1706, 171)]\n",
      "[(1721, 81)]\n",
      "[]\n",
      "[]\n",
      "[]\n",
      "[]\n",
      "[]\n",
      "[]\n",
      "[]\n",
      "[]\n",
      "[]\n",
      "[]\n",
      "[]\n",
      "[]\n",
      "[]\n",
      "[]\n",
      "[]\n",
      "[]\n",
      "[]\n",
      "[]\n",
      "[]\n",
      "[]\n",
      "[]\n",
      "[]\n",
      "[(594, 935)]\n",
      "[(568, 807), (1086, 685)]\n",
      "[(525, 666), (1049, 539)]\n",
      "[(478, 541), (1004, 411)]\n",
      "[(416, 375), (944, 242)]\n",
      "[(337, 208), (861, 72)]\n",
      "[]\n",
      "[]\n",
      "[]\n",
      "[]\n",
      "[]\n",
      "[]\n",
      "[]\n"
     ]
    }
   ],
   "source": [
    "import numpy as np\n",
    "import cv2 as cv\n",
    "from theia.image_segmentation import find_targets\n",
    "\n",
    "directory = r\"C:\\Users\\pm\\Downloads\\images 2\"\n",
    "files = [f for f in os.listdir(directory)]\n",
    "\n",
    "for image_number in range(0,len(files)):\n",
    "    image = cv.imread(directory + \"/\" + files[image_number])\n",
    "\n",
    "    options = {\n",
    "            \"block_size\": 399,\n",
    "            \"c\": -39,\n",
    "            \"ksize\": 39,\n",
    "            \"sigma\": 0,\n",
    "            \"epsilon\": 0.1,\n",
    "            \"min_area\": 1000,\n",
    "            \"sides\":[4],\n",
    "            \"min_solidity\": 0.6,\n",
    "            \"debug\": True\n",
    "    }\n",
    "    print(find_targets(image,options))\n",
    "\n",
    "\n"
   ]
  }
 ],
 "metadata": {
  "interpreter": {
   "hash": "93e24e57a33bb29a03c7396c3d010b18a5f816bb4c8ddbedb5a18cf4596c7660"
  },
  "kernelspec": {
   "display_name": "Python 3.9.0 64-bit",
   "language": "python",
   "name": "python3"
  },
  "language_info": {
   "codemirror_mode": {
    "name": "ipython",
    "version": 3
   },
   "file_extension": ".py",
   "mimetype": "text/x-python",
   "name": "python",
   "nbconvert_exporter": "python",
   "pygments_lexer": "ipython3",
   "version": "3.10.2"
  },
  "orig_nbformat": 4
 },
 "nbformat": 4,
 "nbformat_minor": 2
}
