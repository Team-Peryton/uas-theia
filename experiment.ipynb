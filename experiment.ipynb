{
 "cells": [
  {
   "cell_type": "markdown",
   "metadata": {},
   "source": [
    "# IR experimental code"
   ]
  },
  {
   "cell_type": "code",
   "execution_count": 1,
   "metadata": {},
   "outputs": [],
   "source": [
    "import math\n",
    "import os\n",
    "from typing import List, Tuple\n",
    "\n",
    "import cv2\n",
    "import numpy as np\n",
    "import pandas as pd\n",
    "import matplotlib.pyplot as plt\n",
    "\n",
    "from theia.utils import display, read_positions"
   ]
  },
  {
   "cell_type": "code",
   "execution_count": 2,
   "metadata": {},
   "outputs": [],
   "source": [
    "def approxContour(contour, options):\n",
    "    \"\"\"\n",
    "    fit contour to a simpler shape\n",
    "    accuracy is based on EPSILON_MULTIPLY\n",
    "    \"\"\"\n",
    "    epsilon = options['epsilon'] * cv2.arcLength(contour, True)\n",
    "    approx = cv2.approxPolyDP(contour, epsilon, True)\n",
    "    return approx"
   ]
  },
  {
   "cell_type": "code",
   "execution_count": 3,
   "metadata": {},
   "outputs": [],
   "source": [
    "def calc_distance(p1, p2):\n",
    "    \"\"\" return the distance between two points \"\"\"\n",
    "    return math.sqrt(((p2[0] - p1[0])**2) + ((p2[1] - p1[1])**2))\n",
    "\n",
    "\n",
    "def get_contour_lengths(approx: List[List[List[int]]]) -> List[int]:\n",
    "    \"\"\" \n",
    "    extract lengths from the co-ordinates \n",
    "    \"\"\"\n",
    "    # unnest and arrange into each corner co-ords\n",
    "    # this could be done programmatically but not really worth it\n",
    "    verticies = [\n",
    "            [approx[0][0], approx[1][0]],\n",
    "            [approx[1][0], approx[2][0]],\n",
    "            [approx[2][0], approx[3][0]],\n",
    "            [approx[3][0], approx[0][0]]\n",
    "        ]\n",
    "    lengths = list(map(lambda x: calc_distance(x[0], x[1]), verticies))\n",
    "    return sorted(lengths)\n",
    "\n",
    "\n",
    "def is_square(lengths, options) -> bool:\n",
    "    \"\"\" check if the longest side is close in length to the shortest side \"\"\"\n",
    "    a = ((lengths[3] - lengths[0]) / lengths[3]) < options[\"square_ar\"]\n",
    "    b = ((lengths[3] - lengths[1]) / lengths[3]) < options[\"square_ar\"]\n",
    "    c = ((lengths[3] - lengths[1]) / lengths[3]) < options[\"square_ar\"]\n",
    "    return a & b & c"
   ]
  },
  {
   "cell_type": "code",
   "execution_count": 32,
   "metadata": {},
   "outputs": [],
   "source": [
    "def filterContours(contours, options):\n",
    "    \"\"\" \n",
    "    return only the contours that are squares\n",
    "    \"\"\"\n",
    "    squareIndexes = []\n",
    "\n",
    "    # filter contours\n",
    "    for i, contour in enumerate(contours):  # for each of the found contours\n",
    "        if cv2.contourArea(contour) > options[\"min_area\"]:\n",
    "            approx = approxContour(contour, options)\n",
    "            if len(approx) in options[\"sides\"]:\n",
    "                area = cv2.contourArea(approx)\n",
    "                hull = cv2.convexHull(approx)\n",
    "                hull_area = cv2.contourArea(hull)\n",
    "                solidity = float(area)/hull_area\n",
    "                if solidity > options[\"min_solidity\"]:\n",
    "                    squareIndexes.append(i)\n",
    "                #if is_square(get_contour_lengths(approx), options):\n",
    "    \n",
    "    return squareIndexes"
   ]
  },
  {
   "cell_type": "code",
   "execution_count": 5,
   "metadata": {},
   "outputs": [],
   "source": [
    "def target_centre(contour: list) -> Tuple[int, int]:\n",
    "    \"\"\" \n",
    "    given the square corners, return the centre of the square \n",
    "    \"\"\"\n",
    "    x = sum([item[0] for item in contour])/4\n",
    "    y = sum([item[1] for item in contour])/4\n",
    "    return int(x), int(y)"
   ]
  },
  {
   "cell_type": "code",
   "execution_count": 27,
   "metadata": {},
   "outputs": [],
   "source": [
    "clahe = cv2.createCLAHE(clipLimit=2.0, tileGridSize=(8,8))\n",
    "\n",
    "def find_targets(image: np.ndarray, options) -> List[List[Tuple[int,int]]]:\n",
    "    \"\"\" \n",
    "    return the centre position within the image\n",
    "    \"\"\"\n",
    "    imgGray = cv2.cvtColor(image, cv2.COLOR_BGR2GRAY)\n",
    "    #cl1 = clahe.apply(imgGray)\n",
    "    imgBlurred = cv2.GaussianBlur(imgGray, (options[\"ksize\"], options[\"ksize\"]), options[\"sigma\"])\n",
    "    img_thresh = cv2.adaptiveThreshold(\n",
    "        imgBlurred,\n",
    "        255,\n",
    "        cv2.ADAPTIVE_THRESH_MEAN_C, \n",
    "        cv2.THRESH_BINARY,\n",
    "        options[\"block_size\"],\n",
    "        options[\"c\"]\n",
    "    )\n",
    "\n",
    "    #img_morph = cv2.morphologyEx(img_thresh, cv2.MORPH_OPEN, options[\"kernel\"])\n",
    "    \n",
    "    if options[\"debug\"]: \n",
    "        display(img_thresh)\n",
    "\n",
    "    contours, hierarchy = cv2.findContours(img_thresh, cv2.RETR_EXTERNAL, cv2.CHAIN_APPROX_SIMPLE)[-2:]\n",
    "    squareIndexes = filterContours(contours, options)\n",
    "    \n",
    "    if options[\"debug\"]:\n",
    "        imgCopy = image\n",
    "        # for cont in contours:\n",
    "        #     cv2.drawContours(imgCopy, cont, -1, (0, 255, 0), 3)\n",
    "        # display(imgCopy)\n",
    "        img2 = image\n",
    "        for index in squareIndexes:\n",
    "            cv2.drawContours(img2, contours[index], -1, (0, 255, 0), 3)\n",
    "        display(img2)\n",
    "\n",
    "    # this for loop is mainly to check if there are multiple squares in the same image\n",
    "    # otherwise there would not be a loop\n",
    "    \n",
    "    results = []\n",
    "    for index in squareIndexes:\n",
    "        target_contour = approxContour(contours[index], options)\n",
    "\n",
    "        reshaped = target_contour.reshape(4,2)\n",
    "\n",
    "        centre = target_centre(reshaped)\n",
    "\n",
    "        results.append(\n",
    "            centre\n",
    "        )\n",
    "\n",
    "\n",
    "    if len(results) == 0:\n",
    "        pass\n",
    "\n",
    "    return results"
   ]
  },
  {
   "cell_type": "markdown",
   "metadata": {},
   "source": [
    "# sim_dataset testing"
   ]
  },
  {
   "cell_type": "code",
   "execution_count": 7,
   "metadata": {},
   "outputs": [],
   "source": [
    "def centre_check(predicted, actual, tol=20) -> bool:\n",
    "    \"\"\" True if the centre is as expected else False \"\"\"\n",
    "    x = math.isclose(predicted[0], actual[0], abs_tol=tol)\n",
    "    y = math.isclose(predicted[1], actual[1], abs_tol=tol)\n",
    "    return x & y"
   ]
  },
  {
   "cell_type": "code",
   "execution_count": 8,
   "metadata": {},
   "outputs": [],
   "source": [
    "ref = read_positions(\"./dataset/target_positions\")"
   ]
  },
  {
   "cell_type": "code",
   "execution_count": 25,
   "metadata": {},
   "outputs": [
    {
     "name": "stdout",
     "output_type": "stream",
     "text": [
      "IMG_160729_071816_0092_RGB.JPG\n",
      "[(977, 635)]\n",
      "False\n",
      "True\n"
     ]
    }
   ],
   "source": [
    "image_number = 50\n",
    "files = [f for f in os.listdir('./dataset/sim_dataset/')]\n",
    "image = cv2.imread('./dataset/sim_dataset/' + files[image_number])\n",
    "print(files[image_number])\n",
    "\n",
    "options = {\n",
    "    \"block_size\": 399,\n",
    "    \"c\": -39,\n",
    "    \"ksize\": 39,\n",
    "    \"sigma\": 0,\n",
    "    \"epsilon\": 0.1,\n",
    "    \"square_ar\": 0.2,\n",
    "    \"min_area\": 10000,\n",
    "    \"sides\":[4],\n",
    "    \"debug\":True,\n",
    "    \"kernel\": np.ones((30,30),np.uint8)\n",
    "}\n",
    "\n",
    "predicted = find_targets(image, options)\n",
    "print(predicted)\n",
    "actual = ref[files[image_number]]\n",
    "print(centre_check(predicted[0], actual))\n",
    "print(len(predicted) == 1)"
   ]
  },
  {
   "cell_type": "code",
   "execution_count": 30,
   "metadata": {},
   "outputs": [
    {
     "name": "stdout",
     "output_type": "stream",
     "text": [
      "accuracy: 89.02 %\n",
      "false positives 1.15 %\n",
      "no. images: 173\n"
     ]
    }
   ],
   "source": [
    "results = []\n",
    "false_positives = []\n",
    "\n",
    "for file in files:\n",
    "    image = cv2.imread('./dataset/sim_dataset/' + file)\n",
    "    result = find_targets(image, options, debug=False)\n",
    "    try:\n",
    "        result[0]\n",
    "        for r in result:\n",
    "            actual = ref[file]\n",
    "            if centre_check(r, actual):\n",
    "                results.append(1)\n",
    "            else:\n",
    "                results.append(0)\n",
    "                false_positives.append(1)\n",
    "\n",
    "    except:\n",
    "        #result = find_targets(image, options, debug=True)\n",
    "        results.append(0)\n",
    "\n",
    "print(f\"accuracy: {round(sum(results)/len(files) * 100, 2)} %\")\n",
    "print(f\"false positives {round(sum(false_positives)/len(results) * 100, 2)} %\")\n",
    "print(f\"no. images: {len(files)}\")"
   ]
  },
  {
   "cell_type": "markdown",
   "metadata": {},
   "source": [
    "# Understanding parameter effects"
   ]
  },
  {
   "cell_type": "code",
   "execution_count": null,
   "metadata": {},
   "outputs": [],
   "source": [
    "results = []\n",
    "image = cv2.imread('./dataset/sim_dataset/' + files[image_number])\n",
    "\n",
    "for block_size in range(29, 249, 20):\n",
    "    print(block_size)\n",
    "    for c in range(-100, 20, 20):\n",
    "        for ksize in range(1, 9, 2):\n",
    "            for sigma in [0]: #range(0, 10, 2):\n",
    "                options = {\n",
    "                    \"block_size\": block_size,\n",
    "                    \"c\": c,\n",
    "                    \"ksize\": ksize,\n",
    "                    \"sigma\": sigma\n",
    "                }\n",
    "                result = find_targets(image, options, debug=False)\n",
    "                try:\n",
    "                    result[0]\n",
    "                    if result[0][0] > 1080 and result[0][0] < 1100:\n",
    "                        ans = 1\n",
    "                    else:\n",
    "                        ans = 0\n",
    "                except:\n",
    "                    ans = 0\n",
    "                \n",
    "                results.append((block_size, c, ksize, sigma, ans))"
   ]
  },
  {
   "cell_type": "code",
   "execution_count": null,
   "metadata": {},
   "outputs": [
    {
     "data": {
      "text/html": [
       "<div>\n",
       "<style scoped>\n",
       "    .dataframe tbody tr th:only-of-type {\n",
       "        vertical-align: middle;\n",
       "    }\n",
       "\n",
       "    .dataframe tbody tr th {\n",
       "        vertical-align: top;\n",
       "    }\n",
       "\n",
       "    .dataframe thead th {\n",
       "        text-align: right;\n",
       "    }\n",
       "</style>\n",
       "<table border=\"1\" class=\"dataframe\">\n",
       "  <thead>\n",
       "    <tr style=\"text-align: right;\">\n",
       "      <th></th>\n",
       "      <th>0</th>\n",
       "      <th>1</th>\n",
       "      <th>2</th>\n",
       "      <th>3</th>\n",
       "      <th>4</th>\n",
       "    </tr>\n",
       "  </thead>\n",
       "  <tbody>\n",
       "    <tr>\n",
       "      <th>0</th>\n",
       "      <td>29</td>\n",
       "      <td>-100</td>\n",
       "      <td>1</td>\n",
       "      <td>0</td>\n",
       "      <td>0</td>\n",
       "    </tr>\n",
       "    <tr>\n",
       "      <th>1</th>\n",
       "      <td>29</td>\n",
       "      <td>-100</td>\n",
       "      <td>3</td>\n",
       "      <td>0</td>\n",
       "      <td>0</td>\n",
       "    </tr>\n",
       "    <tr>\n",
       "      <th>2</th>\n",
       "      <td>29</td>\n",
       "      <td>-100</td>\n",
       "      <td>5</td>\n",
       "      <td>0</td>\n",
       "      <td>0</td>\n",
       "    </tr>\n",
       "    <tr>\n",
       "      <th>3</th>\n",
       "      <td>29</td>\n",
       "      <td>-100</td>\n",
       "      <td>7</td>\n",
       "      <td>0</td>\n",
       "      <td>0</td>\n",
       "    </tr>\n",
       "    <tr>\n",
       "      <th>4</th>\n",
       "      <td>29</td>\n",
       "      <td>-80</td>\n",
       "      <td>1</td>\n",
       "      <td>0</td>\n",
       "      <td>0</td>\n",
       "    </tr>\n",
       "    <tr>\n",
       "      <th>...</th>\n",
       "      <td>...</td>\n",
       "      <td>...</td>\n",
       "      <td>...</td>\n",
       "      <td>...</td>\n",
       "      <td>...</td>\n",
       "    </tr>\n",
       "    <tr>\n",
       "      <th>331</th>\n",
       "      <td>289</td>\n",
       "      <td>-20</td>\n",
       "      <td>7</td>\n",
       "      <td>0</td>\n",
       "      <td>0</td>\n",
       "    </tr>\n",
       "    <tr>\n",
       "      <th>332</th>\n",
       "      <td>289</td>\n",
       "      <td>0</td>\n",
       "      <td>1</td>\n",
       "      <td>0</td>\n",
       "      <td>0</td>\n",
       "    </tr>\n",
       "    <tr>\n",
       "      <th>333</th>\n",
       "      <td>289</td>\n",
       "      <td>0</td>\n",
       "      <td>3</td>\n",
       "      <td>0</td>\n",
       "      <td>0</td>\n",
       "    </tr>\n",
       "    <tr>\n",
       "      <th>334</th>\n",
       "      <td>289</td>\n",
       "      <td>0</td>\n",
       "      <td>5</td>\n",
       "      <td>0</td>\n",
       "      <td>0</td>\n",
       "    </tr>\n",
       "    <tr>\n",
       "      <th>335</th>\n",
       "      <td>289</td>\n",
       "      <td>0</td>\n",
       "      <td>7</td>\n",
       "      <td>0</td>\n",
       "      <td>0</td>\n",
       "    </tr>\n",
       "  </tbody>\n",
       "</table>\n",
       "<p>336 rows × 5 columns</p>\n",
       "</div>"
      ],
      "text/plain": [
       "       0    1  2  3  4\n",
       "0     29 -100  1  0  0\n",
       "1     29 -100  3  0  0\n",
       "2     29 -100  5  0  0\n",
       "3     29 -100  7  0  0\n",
       "4     29  -80  1  0  0\n",
       "..   ...  ... .. .. ..\n",
       "331  289  -20  7  0  0\n",
       "332  289    0  1  0  0\n",
       "333  289    0  3  0  0\n",
       "334  289    0  5  0  0\n",
       "335  289    0  7  0  0\n",
       "\n",
       "[336 rows x 5 columns]"
      ]
     },
     "execution_count": 152,
     "metadata": {},
     "output_type": "execute_result"
    }
   ],
   "source": [
    "df = pd.DataFrame(results)"
   ]
  },
  {
   "cell_type": "code",
   "execution_count": null,
   "metadata": {},
   "outputs": [
    {
     "data": {
      "text/plain": [
       "<matplotlib.collections.PathCollection at 0x1b0cf7255e0>"
      ]
     },
     "execution_count": 179,
     "metadata": {},
     "output_type": "execute_result"
    },
    {
     "data": {
      "image/png": "[encoded data removed]",
      "text/plain": [
       "<Figure size 432x288 with 1 Axes>"
      ]
     },
     "metadata": {
      "needs_background": "light"
     },
     "output_type": "display_data"
    }
   ],
   "source": [
    "plt.scatter(df[0], df[1], s=df[4]*100, alpha=0.1)"
   ]
  },
  {
   "cell_type": "code",
   "execution_count": null,
   "metadata": {},
   "outputs": [],
   "source": [
    "df = df[df[4] == 1]"
   ]
  },
  {
   "cell_type": "code",
   "execution_count": null,
   "metadata": {},
   "outputs": [
    {
     "data": {
      "text/plain": [
       "<matplotlib.collections.PathCollection at 0x1b0cfc75700>"
      ]
     },
     "execution_count": 213,
     "metadata": {},
     "output_type": "execute_result"
    },
    {
     "data": {
      "image/png": "[encoded data removed]",
      "text/plain": [
       "<Figure size 432x288 with 1 Axes>"
      ]
     },
     "metadata": {
      "needs_background": "light"
     },
     "output_type": "display_data"
    }
   ],
   "source": [
    "df2 = df[df[1] == -20]\n",
    "plt.scatter(df2[0], df2[2], s=100, alpha=1)"
   ]
  },
  {
   "cell_type": "markdown",
   "metadata": {},
   "source": [
    "# Testing main IR functions"
   ]
  },
  {
   "cell_type": "code",
   "execution_count": 1,
   "metadata": {},
   "outputs": [
    {
     "name": "stdout",
     "output_type": "stream",
     "text": [
      "IMG_160729_071816_0092_RGB.JPG\n"
     ]
    }
   ],
   "source": [
    "from theia import main\n",
    "from theia import spec\n",
    "import cv2\n",
    "import os\n",
    "from importlib import reload\n",
    "reload(main)\n",
    "\n",
    "loc = spec.LocationInfo()\n",
    "image_number = 50\n",
    "files = [f for f in os.listdir('./dataset/sim_dataset/')]\n",
    "image = cv2.imread('./dataset/sim_dataset/' + files[image_number])\n",
    "print(files[image_number])\n",
    "base_dir = os.getcwd()"
   ]
  },
  {
   "cell_type": "code",
   "execution_count": 2,
   "metadata": {},
   "outputs": [
    {
     "name": "stderr",
     "output_type": "stream",
     "text": [
      "2022-01-26 14:54:42,172, [INFO], main , processing image\n",
      "2022-01-26 14:54:42,492, [INFO], main , ImageRecognitionResult(image_name='c:\\\\Users\\\\olive\\\\Documents\\\\GitHub\\\\uas-theia\\\\runtime\\\\26012022_14-54-42.240916.jpg', centre=(2310, 3193), position=(0.0, 0.0))\n"
     ]
    }
   ],
   "source": [
    "ir = main.ImageRecognition(base_dir)\n",
    "ir.image_recognition(image, loc)"
   ]
  },
  {
   "cell_type": "markdown",
   "metadata": {},
   "source": [
    "# Experimenting with perspective"
   ]
  },
  {
   "cell_type": "code",
   "execution_count": 18,
   "metadata": {},
   "outputs": [
    {
     "name": "stdout",
     "output_type": "stream",
     "text": [
      "900-900.jpg\n",
      "[(1318, 2534), (3707, 288)]\n",
      "0.01\n",
      "True\n"
     ]
    }
   ],
   "source": [
    "ref = read_positions(\"./dataset/target_positions_transformed\")\n",
    "\n",
    "result = 0\n",
    "files = [f for f in os.listdir('./dataset/transform_dataset/')]\n",
    "for image_number in [99]: #range(len(files)):\n",
    "    image = cv2.imread('./dataset/transform_dataset/' + files[image_number])\n",
    "    print(files[image_number])\n",
    "\n",
    "    options = {\n",
    "        \"block_size\": 249,\n",
    "        \"c\": -39,\n",
    "        \"ksize\": 49,\n",
    "        \"sigma\": 0,\n",
    "        \"epsilon\": 0.02,\n",
    "        \"square_ar\": 0.4,\n",
    "        \"min_area\": 3000,\n",
    "    }\n",
    "\n",
    "    predicted = find_targets(image, options, debug=True)\n",
    "    if len(predicted) >= 0:\n",
    "        result+=1\n",
    "    print(predicted)\n",
    "\n",
    "print(result/len(files))\n",
    "print(centre_check(predicted[0], (1316, 2532)))"
   ]
  },
  {
   "cell_type": "code",
   "execution_count": 33,
   "metadata": {},
   "outputs": [
    {
     "name": "stdout",
     "output_type": "stream",
     "text": [
      "accuracy: 80.35 %\n",
      "false positives 13.55 %\n",
      "no. images: 1557\n"
     ]
    }
   ],
   "source": [
    "options = {\n",
    "    \"block_size\": 249,\n",
    "    \"c\": -39,\n",
    "    \"ksize\": 49,\n",
    "    \"sigma\": 0,\n",
    "    \"epsilon\": 0.02,\n",
    "    \"square_ar\": 0.4,\n",
    "    \"min_area\": 3000,\n",
    "}\n",
    "ref = read_positions(\"./dataset/target_positions_transformed\", offset=0)\n",
    "files = [f for f in os.listdir('./dataset/transform_dataset/')]\n",
    "results = []\n",
    "false_positives = []\n",
    "\n",
    "for file in files:\n",
    "    image = cv2.imread('./dataset/transform_dataset/' + file)\n",
    "    result = find_targets(image, options, debug=False)\n",
    "    try:\n",
    "        result[0]\n",
    "        for r in result:\n",
    "            actual = ref[file]\n",
    "\n",
    "            if centre_check(r, actual):\n",
    "                results.append(1)\n",
    "            else:\n",
    "                results.append(0)\n",
    "                false_positives.append(1)\n",
    "\n",
    "    except Exception as e:\n",
    "        results.append(0)\n",
    "\n",
    "print(f\"accuracy: {round(sum(results)/len(files) * 100, 2)} %\")\n",
    "print(f\"false positives {round(sum(false_positives)/len(results) * 100, 2)} %\")\n",
    "print(f\"no. images: {len(files)}\")"
   ]
  },
  {
   "cell_type": "markdown",
   "metadata": {},
   "source": [
    "# other"
   ]
  },
  {
   "cell_type": "code",
   "execution_count": 111,
   "metadata": {},
   "outputs": [
    {
     "name": "stdout",
     "output_type": "stream",
     "text": [
      "41.861535103332976\n",
      "list index out of range\n",
      "list index out of range\n",
      "73.44292361774146\n",
      "list index out of range\n",
      "42.6725526387117\n",
      "64.27727713053993\n",
      "64.23363601337958\n",
      "44.15016707081786\n",
      "list index out of range\n",
      "49.818343277990856\n",
      "130.62596564160518\n",
      "19.900594865188136\n",
      "list index out of range\n",
      "199.68410578433395\n",
      "139.8946982380641\n",
      "66.86760935628777\n",
      "36.83952904252064\n",
      "33.82977380372927\n",
      "57.914051907351705\n",
      "139.6895835700026\n",
      "110.3336186874262\n",
      "194.04447644148004\n",
      "130.41413995151427\n",
      "62.855061378463\n",
      "60.468073181513304\n",
      "43.407446602465015\n",
      "87.93046750354499\n",
      "155.88864196786787\n",
      "51.688170881391684\n",
      "108.69338837295425\n",
      "26.11588856603068\n",
      "27.191893462244202\n",
      "88.51456048326087\n",
      "72.13463486824848\n",
      "90.91916852946954\n",
      "153.12922546701412\n",
      "112.9495345567413\n",
      "list index out of range\n",
      "38.670544278066664\n",
      "110.48512836260207\n",
      "6.39956412032178\n",
      "list index out of range\n",
      "66.51685851740056\n",
      "180.7262958635843\n",
      "20.35027791118816\n",
      "8.238087965281059\n",
      "25.898712357315326\n",
      "38.403342932519514\n",
      "48.971801199663076\n"
     ]
    }
   ],
   "source": [
    "from theia import position_estimation\n",
    "from theia.spec import LocationInfo\n",
    "from theia.image_segmentation import find_targets\n",
    "from theia.utils import display\n",
    "import cv2\n",
    "import os\n",
    "import math\n",
    "import geopy.distance\n",
    "from datetime import datetime\n",
    "\n",
    "\n",
    "target_location = (51.292308, -0.484431)\n",
    "directory = r\"C:\\Users\\olive\\University of Surrey\\UAS2 - General\\2 Avionics\\4 Testing\\Image Rec\\03_04_22\\square\"\n",
    "files = [f for f in os.listdir(directory)]\n",
    "\n",
    "\n",
    "image = cv2.imread(directory + \"//\" + files[0])\n",
    "\n",
    "src = image\n",
    "width  = src.shape[1]\n",
    "height = src.shape[0]\n",
    "\n",
    "# https://stackoverflow.com/questions/26602981/correct-barrel-distortion-in-opencv-manually-without-chessboard-image\n",
    "\n",
    "distCoeff = np.zeros((4,1),np.float64)\n",
    "\n",
    "distCoeff[0,0] = -0.7e-5 # k1\n",
    "distCoeff[1,0] = 0 # k2\n",
    "distCoeff[2,0] = 0 # p1\n",
    "distCoeff[3,0] = 0.0 # p2\n",
    "\n",
    "# assume unit matrix for camera\n",
    "cam = np.eye(3,dtype=np.float32)\n",
    "\n",
    "cam[0,2] = width/2.0  # define center x \n",
    "cam[1,2] = height/2.0 # define center y\n",
    "cam[0,0] = 10        # define focal length x\n",
    "cam[1,1] = 6        # define focal length y\n",
    "\n",
    "\n",
    "\n",
    "start_height = 32\n",
    "\n",
    "options = {\n",
    "    \"block_size\": 399,\n",
    "    \"c\": -39,\n",
    "    \"ksize\": 39,\n",
    "    \"sigma\": 0,\n",
    "    \"epsilon\": 0.1,\n",
    "    \"square_ar\": 0.2,\n",
    "    \"min_area\": 1000,\n",
    "    \"sides\":[4],\n",
    "    \"debug\":False,\n",
    "    \"min_solidity\":0.6\n",
    "}\n",
    "\n",
    "error_x = []\n",
    "error_y = []\n",
    "image_pitch = []\n",
    "image_roll = []\n",
    "image_height = []\n",
    "image_heading = []\n",
    "image_time = []\n",
    "total_error=[]\n",
    "dist_error = []\n",
    "locations = []\n",
    "\n",
    "all_data = []\n",
    "\n",
    "for file in files:\n",
    "    image = cv2.imread(directory + \"//\" + file)\n",
    "    dst = cv2.undistort(image,cam,distCoeff)\n",
    "    #display(dst)\n",
    "    predicted = find_targets(dst, options)\n",
    "    name = file.split(\",\")\n",
    "    try:\n",
    "        l = LocationInfo(lat=float(name[2]), lon=float(name[1]), alt=float(name[0])-start_height,heading=float(name[3]), pitch=float(name[4]), roll=float(name[5]))\n",
    "        predicted_location = position_estimation.triangulate(predicted[0], l)\n",
    "\n",
    "        img_time = datetime.utcfromtimestamp(float(name[6].split(\".jpg\")[0]))\n",
    "        err = math.sqrt((predicted_location[0]-target_location[0])**2+(predicted_location[1]-target_location[1])**2)\n",
    "        dist_err = geopy.distance.distance(target_location, predicted_location).m\n",
    "        if dist_err > 200:\n",
    "            pass\n",
    "        # elif img_time.minute < 15:\n",
    "        #     pass\n",
    "        else:\n",
    "            image_pitch.append(l.pitch)\n",
    "            image_roll.append(l.roll)\n",
    "            image_height.append(l.alt)\n",
    "            image_heading.append(l.heading)\n",
    "            image_time.append(img_time)\n",
    "            error_x.append(predicted_location[0]-target_location[0])\n",
    "            error_y.append(predicted_location[1]-target_location[1])\n",
    "            dist_error.append(dist_err)\n",
    "            locations.append(predicted_location)\n",
    "            all_data.append([predicted, l])\n",
    "            \n",
    "            total_error.append(math.sqrt((predicted_location[0]-target_location[0])**2+(predicted_location[1]-target_location[1])**2))\n",
    "            print(dist_err)\n",
    "\n",
    "    except Exception as e:\n",
    "        print(e)\n"
   ]
  },
  {
   "cell_type": "code",
   "execution_count": 4,
   "metadata": {},
   "outputs": [
    {
     "name": "stdout",
     "output_type": "stream",
     "text": [
      "76.77603659441758\n"
     ]
    }
   ],
   "source": [
    "import numpy as np\n",
    "print(np.average(dist_error))"
   ]
  },
  {
   "cell_type": "code",
   "execution_count": 5,
   "metadata": {},
   "outputs": [
    {
     "name": "stdout",
     "output_type": "stream",
     "text": [
      "-0.00010863261424010062\n",
      "0.00012637791909687196\n"
     ]
    },
    {
     "data": {
      "image/png": "[encoded data removed]",
      "text/plain": [
       "<Figure size 432x288 with 1 Axes>"
      ]
     },
     "metadata": {
      "needs_background": "light"
     },
     "output_type": "display_data"
    },
    {
     "data": {
      "image/png": "[encoded data removed]",
      "text/plain": [
       "<Figure size 432x288 with 1 Axes>"
      ]
     },
     "metadata": {
      "needs_background": "light"
     },
     "output_type": "display_data"
    },
    {
     "data": {
      "image/png": "[encoded data removed]",
      "text/plain": [
       "<Figure size 432x288 with 1 Axes>"
      ]
     },
     "metadata": {
      "needs_background": "light"
     },
     "output_type": "display_data"
    },
    {
     "data": {
      "image/png": "[encoded data removed]",
      "text/plain": [
       "<Figure size 432x288 with 2 Axes>"
      ]
     },
     "metadata": {
      "needs_background": "light"
     },
     "output_type": "display_data"
    },
    {
     "data": {
      "image/png": "[encoded data removed]",
      "text/plain": [
       "<Figure size 432x288 with 2 Axes>"
      ]
     },
     "metadata": {
      "needs_background": "light"
     },
     "output_type": "display_data"
    },
    {
     "data": {
      "image/png": "[encoded data removed]",
      "text/plain": [
       "<Figure size 432x288 with 2 Axes>"
      ]
     },
     "metadata": {
      "needs_background": "light"
     },
     "output_type": "display_data"
    },
    {
     "data": {
      "image/png": "[encoded data removed]",
      "text/plain": [
       "<Figure size 432x288 with 2 Axes>"
      ]
     },
     "metadata": {
      "needs_background": "light"
     },
     "output_type": "display_data"
    },
    {
     "data": {
      "image/png": "[encoded data removed]",
      "text/plain": [
       "<Figure size 432x288 with 1 Axes>"
      ]
     },
     "metadata": {
      "needs_background": "light"
     },
     "output_type": "display_data"
    }
   ],
   "source": [
    "import matplotlib.pyplot as plt\n",
    "import math\n",
    "import numpy as np\n",
    "\n",
    "print(sum(error_x)/len(error_x))\n",
    "print(sum(error_y)/len(error_y))\n",
    "\n",
    "total_error=[]\n",
    "for i in range(len(error_x)):\n",
    "    total_error.append(math.sqrt(error_x[i]**2+error_y[i]**2))\n",
    "\n",
    "plt.figure(0)\n",
    "plt.scatter(error_x,error_y)\n",
    "plt.grid()\n",
    "plt.xlabel(\"error in x\")\n",
    "plt.ylabel(\"error in y\")\n",
    "\n",
    "plt.figure(1)\n",
    "plt.scatter(image_pitch,dist_error)\n",
    "plt.grid()\n",
    "plt.xlabel(\"pitch\")\n",
    "plt.ylabel(\"error (m)\")\n",
    "\n",
    "plt.figure(2)\n",
    "plt.scatter(image_roll,dist_error)\n",
    "plt.grid()\n",
    "plt.xlabel(\"roll\")\n",
    "plt.ylabel(\"error (m)\")\n",
    "\n",
    "\n",
    "plt.figure(3)\n",
    "plt.scatter(image_roll, image_pitch, c=dist_error, cmap='viridis')\n",
    "plt.colorbar()\n",
    "plt.grid()\n",
    "plt.xlabel(\"roll\")\n",
    "plt.ylabel(\"pitch\")\n",
    "\n",
    "roll_pitch=[]\n",
    "for i in range(len(error_x)):\n",
    "    roll_pitch.append(math.sqrt(image_pitch[i]**2+image_roll[i]**2))\n",
    "\n",
    "plt.figure(4)\n",
    "plt.scatter(image_height,roll_pitch,c=dist_error, cmap='viridis')\n",
    "plt.colorbar()\n",
    "plt.grid()\n",
    "plt.xlabel(\"height\")\n",
    "plt.ylabel(\"roll_pitch\")\n",
    "\n",
    "plt.figure(5)\n",
    "plt.scatter(image_time,dist_error,c=image_height, cmap='viridis')\n",
    "plt.colorbar()\n",
    "plt.grid()\n",
    "plt.xlabel(\"image time\")\n",
    "plt.ylabel(\"error (m)\")\n",
    "\n",
    "plt.figure(6)\n",
    "plt.scatter(image_time,image_height,c=dist_error, cmap='viridis')\n",
    "plt.grid()\n",
    "plt.colorbar()\n",
    "plt.xlabel(\"time\")\n",
    "plt.ylabel(\"height\")\n",
    "\n",
    "plt.figure(7)\n",
    "plt.scatter(image_height, dist_error)\n",
    "plt.xlabel(\"height (m)\")\n",
    "plt.ylabel(\"error (m)\")\n",
    "plt.grid()\n"
   ]
  },
  {
   "cell_type": "code",
   "execution_count": 6,
   "metadata": {},
   "outputs": [
    {
     "name": "stderr",
     "output_type": "stream",
     "text": [
      "C:\\Users\\olive\\AppData\\Local\\Temp\\ipykernel_16560\\1156539918.py:10: MatplotlibDeprecationWarning: Calling gca() with keyword arguments was deprecated in Matplotlib 3.4. Starting two minor releases later, gca() will take no keyword arguments. The gca() function should only be used to get the current axes, or if no axes exist, create new axes with default keyword arguments. To create a new axes with non-default arguments, use plt.axes() or plt.subplot().\n",
      "  ax = fig.gca(projection='3d')\n"
     ]
    },
    {
     "data": {
      "text/plain": [
       "<Figure size 432x288 with 0 Axes>"
      ]
     },
     "metadata": {},
     "output_type": "display_data"
    },
    {
     "data": {
      "image/png": "[encoded data removed]",
      "text/plain": [
       "<Figure size 720x720 with 2 Axes>"
      ]
     },
     "metadata": {
      "needs_background": "light"
     },
     "output_type": "display_data"
    }
   ],
   "source": [
    "\n",
    "plt.figure(8)\n",
    "import pandas as pd\n",
    "import seaborn as sns\n",
    "df = pd.DataFrame.from_dict(np.array([image_pitch,image_roll,dist_error]).T)\n",
    "df.columns = ['x','y','z']\n",
    "df['z'] = pd.to_numeric(df['z'])\n",
    "pivotted= df.pivot('y','x','z')\n",
    "\n",
    "fig = plt.figure(figsize=(10,10))\n",
    "ax = fig.gca(projection='3d')\n",
    "ax.set_xlabel('image_pitch')\n",
    "ax.set_ylabel('image_roll')\n",
    "ax.set_zlabel('dist_error')\n",
    "plt.grid()\n",
    "#ax.plot_wireframe(cParams, gammas, avg_errors_array)\n",
    "#ax.plot3D(cParams, gammas, avg_errors_array)\n",
    "#ax.scatter3D(cParams, gammas, avg_errors_array, zdir='z',cmap='viridis')\n",
    "\n",
    "surf = ax.plot_trisurf(df.x, df.y, df.z, cmap='viridis', linewidth=0.1)\n",
    "ax.view_init(azim=0, elev=90)\n",
    "fig.colorbar(surf, shrink=0.5, aspect=10)    \n",
    "plt.show()\n",
    "  "
   ]
  },
  {
   "cell_type": "code",
   "execution_count": 4,
   "metadata": {},
   "outputs": [
    {
     "data": {
      "application/vnd.jupyter.widget-view+json": {
       "model_id": "cdc5c2c431f840dbaec92a37cd7f6128",
       "version_major": 2,
       "version_minor": 0
      },
      "text/plain": [
       "Map(center=[51.292308, -0.484431], controls=(ZoomControl(options=['position', 'zoom_in_text', 'zoom_in_title',…"
      ]
     },
     "metadata": {},
     "output_type": "display_data"
    }
   ],
   "source": [
    "from ipyleaflet import (\n",
    "    Map,\n",
    "    Marker,\n",
    "    MarkerCluster,\n",
    "    TileLayer,\n",
    "    ImageOverlay,\n",
    "    Polyline,\n",
    "    Polygon,\n",
    "    Rectangle,\n",
    "    Circle,\n",
    "    CircleMarker,\n",
    "    Popup,\n",
    "    GeoJSON,\n",
    "    DrawControl,\n",
    "    basemaps,\n",
    "    AwesomeIcon\n",
    ")\n",
    "\n",
    "from ipywidgets import HTML, Layout\n",
    "\n",
    "center = [34.6252978589571, -77.34580993652344]\n",
    "zoom = 100\n",
    "\n",
    "m = Map(basemap=basemaps.Esri.WorldImagery, center=target_location, zoom=zoom, layout=Layout(width='800px', height='800px'))\n",
    "m.add_layer(\n",
    "    CircleMarker(location=target_location, radius=20)\n",
    ")\n",
    "m.add_layer(\n",
    "    MarkerCluster(markers=[\n",
    "        Marker(location=loc) for loc in locations\n",
    "    ],\n",
    "    disable_clustering_at_zoom=3)\n",
    ")\n",
    "\n",
    "avg = [sum(x)/len(x) for x in zip(*locations)]\n",
    "icon = AwesomeIcon(marker_color=\"red\")\n",
    "\n",
    "m.add_layer(\n",
    "    Marker(location=avg, color=\"red\", icon=icon)\n",
    ")\n",
    "\n",
    "m"
   ]
  },
  {
   "cell_type": "code",
   "execution_count": null,
   "metadata": {},
   "outputs": [],
   "source": [
    "plt.figure(3)\n",
    "plt.scatter(image_roll, image_pitch, c=dist_error, cmap='viridis')\n",
    "plt.colorbar()\n",
    "plt.grid()\n",
    "plt.xlabel(\"roll\")\n",
    "plt.ylabel(\"pitch\")"
   ]
  },
  {
   "cell_type": "code",
   "execution_count": 138,
   "metadata": {},
   "outputs": [],
   "source": [
    "import pandas as pd\n",
    "import numpy as np\n",
    "df = [{ \n",
    "    \"px\":row[1][0][0][0], \n",
    "    \"py\": row[1][0][0][1], \n",
    "    \"lat\": row[1][1].lat,\n",
    "    \"lon\": row[1][1].lon,\n",
    "    \"alt\": row[1][1].alt,\n",
    "    \"roll\": row[1][1].roll,\n",
    "    \"pitch\": row[1][1].pitch,\n",
    "    \"heading\": row[1][1].heading\n",
    "} for row in enumerate(all_data)]\n",
    "df.append({\n",
    "    \"px\":1920/2, \n",
    "    \"py\": 1080/2, \n",
    "    \"lat\": target_location[0],\n",
    "    \"lon\": target_location[1],\n",
    "    \"alt\": 100,\n",
    "    \"roll\": 0.4,\n",
    "    \"pitch\": 0.4,\n",
    "    \"heading\": 350\n",
    "})\n",
    "df = pd.DataFrame(df)\n"
   ]
  },
  {
   "cell_type": "code",
   "execution_count": 139,
   "metadata": {},
   "outputs": [
    {
     "name": "stdout",
     "output_type": "stream",
     "text": [
      "0.9799146525074567 0.5829135889557343\n"
     ]
    }
   ],
   "source": [
    "import pyproj\n",
    "import math\n",
    "geodesic = pyproj.Geod(ellps='WGS84')\n",
    "df[\"bearing_act\"] = df.apply(lambda row: geodesic.inv(target_location[0], target_location[1], row.lat, row.lon)[0], axis=1)\n",
    "df[\"distance_act\"] = df.apply(lambda row: geodesic.inv(target_location[0], target_location[1], row.lat, row.lon)[2], axis=1)\n",
    "df[\"anglez_act\"] = df.apply(lambda row: math.degrees(math.atan(row.distance_act/row.alt)), axis=1)\n",
    "\n",
    "RESOLUTION = np.array([1080, 1920]) # px\n",
    "ASPECT_RATIO = RESOLUTION[1]/RESOLUTION[0]\n",
    "SENSOR_W = 6.4 #mm\n",
    "SENSOR_H = SENSOR_W / ASPECT_RATIO #mm\n",
    "LENS_F = 6 #mm\n",
    "FOV_X = 2 * math.atan2(SENSOR_W/2, LENS_F)\n",
    "FOV_Y = 2 * math.atan2(SENSOR_H/2, LENS_F)\n",
    "print(FOV_X, FOV_Y)\n",
    "\n",
    "sin_rule = lambda alpha, a, b: math.asin(b * math.sin(alpha)/a)\n",
    "# calculate angle of point in FOV\n",
    "df[\"fov_angle_x\"] = df.apply(lambda row: sin_rule((math.pi/2 - FOV_X)/2, 578.90595, row.px) - FOV_X/2, axis=1)\n",
    "df[\"fov_angle_y\"] = df.apply(lambda row: sin_rule((math.pi/2 - FOV_Y)/2, 915.1, row.py) - FOV_Y/2, axis=1)\n",
    "# caculate the distance offset\n",
    "df[\"offset_x\"] = df.apply(lambda row: math.tan(row.fov_angle_x + row.roll) * row.alt, axis=1)\n",
    "df[\"offset_y\"] = df.apply(lambda row: math.tan(row.fov_angle_y + row.pitch) * row.alt, axis=1)\n",
    "# rotate points to account for heading\n",
    "df[\"Px\"] = df.apply(lambda row: row.offset_x * math.cos(-row.heading) - row.offset_y * math.sin(-row.heading), axis=1)\n",
    "df[\"Py\"] = df.apply(lambda row: row.offset_x * math.sin(-row.heading) + row.offset_y * math.cos(-row.heading), axis=1)\n",
    "# convert from meters to lat lon\n",
    "df[\"est_lat\"] = df.apply(lambda row: row.lat + row.Px/111320, axis=1)\n",
    "df[\"est_lon\"] = df.apply(lambda row: row.lon + row.Py/((40075000 * math.cos(math.radians(row.lat))) / 360), axis=1)\n",
    "\n",
    "df[\"distance_error\"] = df.apply(lambda row: geopy.distance.distance(target_location, (row.est_lat,row.est_lon)).m, axis=1)\n",
    "df[\"bearing_est\"] = df.apply(lambda row: geodesic.inv(row.est_lat, row.est_lon, row.lat, row.lon)[0], axis=1)\n",
    "df[\"distance_est\"] = df.apply(lambda row: geodesic.inv(row.est_lat, row.est_lon, row.lat, row.lon)[2], axis=1)\n",
    "df[\"anglez_est\"] = df.apply(lambda row: math.degrees(math.atan(row.distance_est/row.alt)), axis=1)\n"
   ]
  },
  {
   "cell_type": "code",
   "execution_count": 140,
   "metadata": {},
   "outputs": [
    {
     "data": {
      "application/vnd.jupyter.widget-view+json": {
       "model_id": "fe85708c6f354856ab235b56f114d418",
       "version_major": 2,
       "version_minor": 0
      },
      "text/plain": [
       "Map(center=[51.292308, -0.484431], controls=(ZoomControl(options=['position', 'zoom_in_text', 'zoom_in_title',…"
      ]
     },
     "metadata": {},
     "output_type": "display_data"
    }
   ],
   "source": [
    "coords = [(lat, lon) for lat,lon in zip(df.est_lat, df.est_lon)]\n",
    "\n",
    "from ipyleaflet import (\n",
    "    Map,\n",
    "    Marker,\n",
    "    MarkerCluster,\n",
    "    TileLayer,\n",
    "    ImageOverlay,\n",
    "    Polyline,\n",
    "    Polygon,\n",
    "    Rectangle,\n",
    "    Circle,\n",
    "    CircleMarker,\n",
    "    Popup,\n",
    "    GeoJSON,\n",
    "    DrawControl,\n",
    "    basemaps,\n",
    "    AwesomeIcon\n",
    ")\n",
    "\n",
    "from ipywidgets import HTML, Layout\n",
    "\n",
    "center = [34.6252978589571, -77.34580993652344]\n",
    "zoom = 100\n",
    "\n",
    "m = Map(basemap=basemaps.Esri.WorldImagery, center=target_location, zoom=zoom, layout=Layout(width='800px', height='800px'))\n",
    "m.add_layer(\n",
    "    CircleMarker(location=target_location, radius=20)\n",
    ")\n",
    "m.add_layer(\n",
    "    MarkerCluster(markers=[\n",
    "        Marker(location=loc) for loc in coords\n",
    "    ],\n",
    "    disable_clustering_at_zoom=3)\n",
    ")\n",
    "\n",
    "avg = [sum(x)/len(x) for x in zip(*coords)]\n",
    "icon = AwesomeIcon(marker_color=\"red\")\n",
    "\n",
    "m.add_layer(\n",
    "    Marker(location=avg, color=\"red\", icon=icon)\n",
    ")\n",
    "\n",
    "m"
   ]
  },
  {
   "cell_type": "code",
   "execution_count": 132,
   "metadata": {},
   "outputs": [
    {
     "data": {
      "text/plain": [
       "Text(0, 0.5, 'bearing_est')"
      ]
     },
     "execution_count": 132,
     "metadata": {},
     "output_type": "execute_result"
    },
    {
     "data": {
      "image/png": "[encoded data removed]",
      "text/plain": [
       "<Figure size 432x288 with 2 Axes>"
      ]
     },
     "metadata": {
      "needs_background": "light"
     },
     "output_type": "display_data"
    },
    {
     "data": {
      "image/png": "[encoded data removed]",
      "text/plain": [
       "<Figure size 432x288 with 2 Axes>"
      ]
     },
     "metadata": {
      "needs_background": "light"
     },
     "output_type": "display_data"
    }
   ],
   "source": [
    "import matplotlib.pyplot as plt\n",
    "plt.figure(10)\n",
    "plt.scatter(df.alt, df.heading, c=df.distance_error, cmap='viridis')\n",
    "plt.colorbar()\n",
    "plt.grid()\n",
    "plt.xlabel(\"alt\")\n",
    "plt.ylabel(\"heading\")\n",
    "\n",
    "plt.figure(11)\n",
    "plt.scatter(df.anglez_act, df.anglez_est, c=df.distance_error, cmap='viridis')\n",
    "plt.colorbar()\n",
    "plt.grid()\n",
    "plt.xlabel(\"bearing_act\")\n",
    "plt.ylabel(\"bearing_est\")"
   ]
  },
  {
   "cell_type": "code",
   "execution_count": 133,
   "metadata": {},
   "outputs": [
    {
     "data": {
      "text/plain": [
       "Text(0, 0.5, 'pitch')"
      ]
     },
     "execution_count": 133,
     "metadata": {},
     "output_type": "execute_result"
    },
    {
     "data": {
      "image/png": "[encoded data removed]",
      "text/plain": [
       "<Figure size 432x288 with 2 Axes>"
      ]
     },
     "metadata": {
      "needs_background": "light"
     },
     "output_type": "display_data"
    }
   ],
   "source": [
    "plt.figure(3)\n",
    "plt.scatter(df.roll, df.pitch, c=df.distance_error, cmap='viridis')\n",
    "plt.colorbar()\n",
    "plt.grid()\n",
    "plt.xlabel(\"roll\")\n",
    "plt.ylabel(\"pitch\")"
   ]
  },
  {
   "cell_type": "markdown",
   "metadata": {},
   "source": [
    "tried morphology, reduces noise but increases processing time by ~5%. doesn't seem to affect accuracy.\n",
    "https://docs.opencv.org/3.4/d9/d61/tutorial_py_morphological_ops.html\n",
    "\n",
    "tried CLACHE - no noticeable accuracy increase\n",
    "\n",
    "tried making C more negative - reduces noise and chance of identifying target"
   ]
  },
  {
   "cell_type": "code",
   "execution_count": 4,
   "metadata": {},
   "outputs": [
    {
     "name": "stdout",
     "output_type": "stream",
     "text": [
      "0.7666666666666667\n",
      "23\n",
      "30\n"
     ]
    }
   ],
   "source": [
    "directory = r\"C:\\Users\\olive\\University of Surrey\\UAS2 - General\\2 Avionics\\4 Testing\\Image Rec\\10_04_22\\squares\"\n",
    "files = [f for f in os.listdir(directory)]\n",
    "\n",
    "\n",
    "options = {\n",
    "    \"block_size\": 399,\n",
    "    \"c\": -39,\n",
    "    \"ksize\": 39,\n",
    "    \"sigma\": 0,\n",
    "    \"epsilon\": 0.1,\n",
    "    \"square_ar\": 0.2,\n",
    "    \"min_area\": 1000,\n",
    "    \"sides\":[4],\n",
    "    \"min_solidity\": 0.6,\n",
    "    \"debug\":True\n",
    "}\n",
    "\n",
    "results = 0\n",
    "false_positives = []\n",
    "\n",
    "for file in files:\n",
    "    image = cv2.imread(directory + \"//\" + file)\n",
    "    result = find_targets(image, options)\n",
    "    try:\n",
    "        result[0]\n",
    "        results+=1\n",
    "    except KeyboardInterrupt:\n",
    "        raise Exception()\n",
    "    except Exception:\n",
    "        #find_targets(image, options)\n",
    "        pass\n",
    "\n",
    "print(results/len(files))\n",
    "print(results)\n",
    "print(len(files))\n"
   ]
  },
  {
   "cell_type": "code",
   "execution_count": null,
   "metadata": {},
   "outputs": [],
   "source": [
    "directory = r\"C:\\Users\\olive\\University of Surrey\\UAS2 - General\\2 Avionics\\4 Testing\\Image Rec\\03_04_22\\square\"\n",
    "image_number = 23\n",
    "files = [f for f in os.listdir(directory)]\n",
    "image = cv2.imread(directory + \"//\" + files[image_number])\n",
    "\n",
    "options = {\n",
    "    \"block_size\": 399,\n",
    "    \"c\": -39,\n",
    "    \"ksize\": 39,\n",
    "    \"sigma\": 0,\n",
    "    \"epsilon\": 0.1,\n",
    "    \"square_ar\": 0.2,\n",
    "    \"min_area\": 1000,\n",
    "    \"sides\":[4],\n",
    "    \"debug\":False\n",
    "}\n",
    "\n",
    "imgGray = cv2.cvtColor(image, cv2.COLOR_BGR2GRAY)\n",
    "display(imgGray)\n",
    "clahe = cv2.createCLAHE(clipLimit=2.0, tileGridSize=(8,8))\n",
    "cl1 = clahe.apply(imgGray)\n",
    "display(cl1)\n",
    "imgBlurred = cv2.GaussianBlur(cl1, (59,59),0)\n",
    "# laplacian = cv2.Laplacian(cv2.bitwise_not(imgBlurred),cv2.CV_64F)\n",
    "# display(laplacian)\n",
    "img_thresh = cv2.adaptiveThreshold(\n",
    "    imgBlurred,\n",
    "    255,\n",
    "    cv2.ADAPTIVE_THRESH_MEAN_C, \n",
    "    cv2.THRESH_BINARY,\n",
    "    399,\n",
    "    -69\n",
    ")\n",
    "display(img_thresh)\n",
    "\n",
    "contours, hierarchy = cv2.findContours(img_thresh, cv2.RETR_EXTERNAL, cv2.CHAIN_APPROX_SIMPLE)[-2:]\n",
    "squareIndexes = filterContours(contours, options)\n",
    "\n",
    "for index in squareIndexes:\n",
    "    cv2.drawContours(image, contours[index], -1, (0, 255, 0), 3)\n",
    "display(image)"
   ]
  },
  {
   "cell_type": "code",
   "execution_count": 4,
   "metadata": {},
   "outputs": [
    {
     "name": "stdout",
     "output_type": "stream",
     "text": [
      "1920 1080\n"
     ]
    }
   ],
   "source": [
    "import numpy as np\n",
    "\n",
    "directory = r\"C:\\Users\\olive\\University of Surrey\\UAS2 - General\\2 Avionics\\4 Testing\\Image Rec\\03_04_22\\square\"\n",
    "image_number = 23\n",
    "files = [f for f in os.listdir(directory)]\n",
    "image = cv2.imread(directory + \"//\" + files[image_number])\n",
    "\n",
    "src = image\n",
    "width  = src.shape[1]\n",
    "height = src.shape[0]\n",
    "\n",
    "# https://stackoverflow.com/questions/26602981/correct-barrel-distortion-in-opencv-manually-without-chessboard-image\n",
    "\n",
    "distCoeff = np.zeros((4,1),np.float64)\n",
    "\n",
    "distCoeff[0,0] = -0.7e-5 # k1\n",
    "distCoeff[1,0] = 0 # k2\n",
    "distCoeff[2,0] = 0 # p1\n",
    "distCoeff[3,0] = 0.0 # p2\n",
    "\n",
    "# assume unit matrix for camera\n",
    "cam = np.eye(3,dtype=np.float32)\n",
    "\n",
    "cam[0,2] = width/2.0  # define center x \n",
    "cam[1,2] = height/2.0 # define center y\n",
    "cam[0,0] = 10        # define focal length x\n",
    "cam[1,1] = 6        # define focal length y\n",
    "\n",
    "\n",
    "image = cv2.imread(directory + \"//\" + files[3])\n",
    "\n",
    "dst = cv2.undistort(image,cam,distCoeff)\n",
    "\n",
    "numpy_vertical = np.vstack((image, dst))\n",
    "\n",
    "width  = dst.shape[1]\n",
    "height = dst.shape[0]\n",
    "print(width, height)\n",
    "\n",
    "display(numpy_vertical)"
   ]
  }
 ],
 "metadata": {
  "interpreter": {
   "hash": "93e24e57a33bb29a03c7396c3d010b18a5f816bb4c8ddbedb5a18cf4596c7660"
  },
  "kernelspec": {
   "display_name": "Python 3.9.0 64-bit",
   "language": "python",
   "name": "python3"
  },
  "language_info": {
   "codemirror_mode": {
    "name": "ipython",
    "version": 3
   },
   "file_extension": ".py",
   "mimetype": "text/x-python",
   "name": "python",
   "nbconvert_exporter": "python",
   "pygments_lexer": "ipython3",
   "version": "3.10.2"
  },
  "orig_nbformat": 4
 },
 "nbformat": 4,
 "nbformat_minor": 2
}
