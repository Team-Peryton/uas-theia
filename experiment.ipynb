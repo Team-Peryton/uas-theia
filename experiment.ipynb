{
 "cells": [
  {
   "cell_type": "markdown",
   "metadata": {},
   "source": [
    "# IR experimental code"
   ]
  },
  {
   "cell_type": "code",
   "execution_count": 1,
   "metadata": {},
   "outputs": [],
   "source": [
    "import math\n",
    "import os\n",
    "from typing import List, Tuple\n",
    "\n",
    "import cv2\n",
    "import numpy as np\n",
    "import pandas as pd\n",
    "import matplotlib.pyplot as plt\n",
    "\n",
    "from theia.utils import display, read_positions"
   ]
  },
  {
   "cell_type": "code",
   "execution_count": 2,
   "metadata": {},
   "outputs": [],
   "source": [
    "def approxContour(contour, options):\n",
    "    \"\"\"\n",
    "    fit contour to a simpler shape\n",
    "    accuracy is based on EPSILON_MULTIPLY\n",
    "    \"\"\"\n",
    "    epsilon = options['epsilon'] * cv2.arcLength(contour, True)\n",
    "    approx = cv2.approxPolyDP(contour, epsilon, True)\n",
    "    return approx"
   ]
  },
  {
   "cell_type": "code",
   "execution_count": 3,
   "metadata": {},
   "outputs": [],
   "source": [
    "def calc_distance(p1, p2):\n",
    "    \"\"\" return the distance between two points \"\"\"\n",
    "    return math.sqrt(((p2[0] - p1[0])**2) + ((p2[1] - p1[1])**2))\n",
    "\n",
    "\n",
    "def get_contour_lengths(approx: List[List[List[int]]]) -> List[int]:\n",
    "    \"\"\" \n",
    "    extract lengths from the co-ordinates \n",
    "    \"\"\"\n",
    "    # unnest and arrange into each corner co-ords\n",
    "    # this could be done programmatically but not really worth it\n",
    "    verticies = [\n",
    "            [approx[0][0], approx[1][0]],\n",
    "            [approx[1][0], approx[2][0]],\n",
    "            [approx[2][0], approx[3][0]],\n",
    "            [approx[3][0], approx[0][0]]\n",
    "        ]\n",
    "    lengths = list(map(lambda x: calc_distance(x[0], x[1]), verticies))\n",
    "    return sorted(lengths)\n",
    "\n",
    "\n",
    "def is_square(lengths, options) -> bool:\n",
    "    \"\"\" check if the longest side is close in length to the shortest side \"\"\"\n",
    "    a = ((lengths[3] - lengths[0]) / lengths[3]) < options[\"square_ar\"]\n",
    "    b = ((lengths[3] - lengths[1]) / lengths[3]) < options[\"square_ar\"]\n",
    "    c = ((lengths[3] - lengths[1]) / lengths[3]) < options[\"square_ar\"]\n",
    "    return a & b & c"
   ]
  },
  {
   "cell_type": "code",
   "execution_count": 32,
   "metadata": {},
   "outputs": [],
   "source": [
    "def filterContours(contours, options):\n",
    "    \"\"\" \n",
    "    return only the contours that are squares\n",
    "    \"\"\"\n",
    "    squareIndexes = []\n",
    "\n",
    "    # filter contours\n",
    "    for i, contour in enumerate(contours):  # for each of the found contours\n",
    "        if cv2.contourArea(contour) > options[\"min_area\"]:\n",
    "            approx = approxContour(contour, options)\n",
    "            if len(approx) in options[\"sides\"]:\n",
    "                area = cv2.contourArea(approx)\n",
    "                hull = cv2.convexHull(approx)\n",
    "                hull_area = cv2.contourArea(hull)\n",
    "                solidity = float(area)/hull_area\n",
    "                if solidity > options[\"min_solidity\"]:\n",
    "                    squareIndexes.append(i)\n",
    "                #if is_square(get_contour_lengths(approx), options):\n",
    "    \n",
    "    return squareIndexes"
   ]
  },
  {
   "cell_type": "code",
   "execution_count": 5,
   "metadata": {},
   "outputs": [],
   "source": [
    "def target_centre(contour: list) -> Tuple[int, int]:\n",
    "    \"\"\" \n",
    "    given the square corners, return the centre of the square \n",
    "    \"\"\"\n",
    "    x = sum([item[0] for item in contour])/4\n",
    "    y = sum([item[1] for item in contour])/4\n",
    "    return int(x), int(y)"
   ]
  },
  {
   "cell_type": "code",
   "execution_count": 27,
   "metadata": {},
   "outputs": [],
   "source": [
    "clahe = cv2.createCLAHE(clipLimit=2.0, tileGridSize=(8,8))\n",
    "\n",
    "def find_targets(image: np.ndarray, options) -> List[List[Tuple[int,int]]]:\n",
    "    \"\"\" \n",
    "    return the centre position within the image\n",
    "    \"\"\"\n",
    "    imgGray = cv2.cvtColor(image, cv2.COLOR_BGR2GRAY)\n",
    "    #cl1 = clahe.apply(imgGray)\n",
    "    imgBlurred = cv2.GaussianBlur(imgGray, (options[\"ksize\"], options[\"ksize\"]), options[\"sigma\"])\n",
    "    img_thresh = cv2.adaptiveThreshold(\n",
    "        imgBlurred,\n",
    "        255,\n",
    "        cv2.ADAPTIVE_THRESH_MEAN_C, \n",
    "        cv2.THRESH_BINARY,\n",
    "        options[\"block_size\"],\n",
    "        options[\"c\"]\n",
    "    )\n",
    "\n",
    "    #img_morph = cv2.morphologyEx(img_thresh, cv2.MORPH_OPEN, options[\"kernel\"])\n",
    "    \n",
    "    if options[\"debug\"]: \n",
    "        display(img_thresh)\n",
    "\n",
    "    contours, hierarchy = cv2.findContours(img_thresh, cv2.RETR_EXTERNAL, cv2.CHAIN_APPROX_SIMPLE)[-2:]\n",
    "    squareIndexes = filterContours(contours, options)\n",
    "    \n",
    "    if options[\"debug\"]:\n",
    "        imgCopy = image\n",
    "        # for cont in contours:\n",
    "        #     cv2.drawContours(imgCopy, cont, -1, (0, 255, 0), 3)\n",
    "        # display(imgCopy)\n",
    "        img2 = image\n",
    "        for index in squareIndexes:\n",
    "            cv2.drawContours(img2, contours[index], -1, (0, 255, 0), 3)\n",
    "        display(img2)\n",
    "\n",
    "    # this for loop is mainly to check if there are multiple squares in the same image\n",
    "    # otherwise there would not be a loop\n",
    "    \n",
    "    results = []\n",
    "    for index in squareIndexes:\n",
    "        target_contour = approxContour(contours[index], options)\n",
    "\n",
    "        reshaped = target_contour.reshape(4,2)\n",
    "\n",
    "        centre = target_centre(reshaped)\n",
    "\n",
    "        results.append(\n",
    "            centre\n",
    "        )\n",
    "\n",
    "\n",
    "    if len(results) == 0:\n",
    "        pass\n",
    "\n",
    "    return results"
   ]
  },
  {
   "cell_type": "markdown",
   "metadata": {},
   "source": [
    "# sim_dataset testing"
   ]
  },
  {
   "cell_type": "code",
   "execution_count": 7,
   "metadata": {},
   "outputs": [],
   "source": [
    "def centre_check(predicted, actual, tol=20) -> bool:\n",
    "    \"\"\" True if the centre is as expected else False \"\"\"\n",
    "    x = math.isclose(predicted[0], actual[0], abs_tol=tol)\n",
    "    y = math.isclose(predicted[1], actual[1], abs_tol=tol)\n",
    "    return x & y"
   ]
  },
  {
   "cell_type": "code",
   "execution_count": 8,
   "metadata": {},
   "outputs": [],
   "source": [
    "ref = read_positions(\"./dataset/target_positions\")"
   ]
  },
  {
   "cell_type": "code",
   "execution_count": 25,
   "metadata": {},
   "outputs": [
    {
     "name": "stdout",
     "output_type": "stream",
     "text": [
      "IMG_160729_071816_0092_RGB.JPG\n",
      "[(977, 635)]\n",
      "False\n",
      "True\n"
     ]
    }
   ],
   "source": [
    "image_number = 50\n",
    "files = [f for f in os.listdir('./dataset/sim_dataset/')]\n",
    "image = cv2.imread('./dataset/sim_dataset/' + files[image_number])\n",
    "print(files[image_number])\n",
    "\n",
    "options = {\n",
    "    \"block_size\": 399,\n",
    "    \"c\": -39,\n",
    "    \"ksize\": 39,\n",
    "    \"sigma\": 0,\n",
    "    \"epsilon\": 0.1,\n",
    "    \"square_ar\": 0.2,\n",
    "    \"min_area\": 10000,\n",
    "    \"sides\":[4],\n",
    "    \"debug\":True,\n",
    "    \"kernel\": np.ones((30,30),np.uint8)\n",
    "}\n",
    "\n",
    "predicted = find_targets(image, options)\n",
    "print(predicted)\n",
    "actual = ref[files[image_number]]\n",
    "print(centre_check(predicted[0], actual))\n",
    "print(len(predicted) == 1)"
   ]
  },
  {
   "cell_type": "code",
   "execution_count": 30,
   "metadata": {},
   "outputs": [
    {
     "name": "stdout",
     "output_type": "stream",
     "text": [
      "accuracy: 89.02 %\n",
      "false positives 1.15 %\n",
      "no. images: 173\n"
     ]
    }
   ],
   "source": [
    "results = []\n",
    "false_positives = []\n",
    "\n",
    "for file in files:\n",
    "    image = cv2.imread('./dataset/sim_dataset/' + file)\n",
    "    result = find_targets(image, options, debug=False)\n",
    "    try:\n",
    "        result[0]\n",
    "        for r in result:\n",
    "            actual = ref[file]\n",
    "            if centre_check(r, actual):\n",
    "                results.append(1)\n",
    "            else:\n",
    "                results.append(0)\n",
    "                false_positives.append(1)\n",
    "\n",
    "    except:\n",
    "        #result = find_targets(image, options, debug=True)\n",
    "        results.append(0)\n",
    "\n",
    "print(f\"accuracy: {round(sum(results)/len(files) * 100, 2)} %\")\n",
    "print(f\"false positives {round(sum(false_positives)/len(results) * 100, 2)} %\")\n",
    "print(f\"no. images: {len(files)}\")"
   ]
  },
  {
   "cell_type": "markdown",
   "metadata": {},
   "source": [
    "# Understanding parameter effects"
   ]
  },
  {
   "cell_type": "code",
   "execution_count": null,
   "metadata": {},
   "outputs": [],
   "source": [
    "results = []\n",
    "image = cv2.imread('./dataset/sim_dataset/' + files[image_number])\n",
    "\n",
    "for block_size in range(29, 249, 20):\n",
    "    print(block_size)\n",
    "    for c in range(-100, 20, 20):\n",
    "        for ksize in range(1, 9, 2):\n",
    "            for sigma in [0]: #range(0, 10, 2):\n",
    "                options = {\n",
    "                    \"block_size\": block_size,\n",
    "                    \"c\": c,\n",
    "                    \"ksize\": ksize,\n",
    "                    \"sigma\": sigma\n",
    "                }\n",
    "                result = find_targets(image, options, debug=False)\n",
    "                try:\n",
    "                    result[0]\n",
    "                    if result[0][0] > 1080 and result[0][0] < 1100:\n",
    "                        ans = 1\n",
    "                    else:\n",
    "                        ans = 0\n",
    "                except:\n",
    "                    ans = 0\n",
    "                \n",
    "                results.append((block_size, c, ksize, sigma, ans))"
   ]
  },
  {
   "cell_type": "code",
   "execution_count": null,
   "metadata": {},
   "outputs": [
    {
     "data": {
      "text/html": [
       "<div>\n",
       "<style scoped>\n",
       "    .dataframe tbody tr th:only-of-type {\n",
       "        vertical-align: middle;\n",
       "    }\n",
       "\n",
       "    .dataframe tbody tr th {\n",
       "        vertical-align: top;\n",
       "    }\n",
       "\n",
       "    .dataframe thead th {\n",
       "        text-align: right;\n",
       "    }\n",
       "</style>\n",
       "<table border=\"1\" class=\"dataframe\">\n",
       "  <thead>\n",
       "    <tr style=\"text-align: right;\">\n",
       "      <th></th>\n",
       "      <th>0</th>\n",
       "      <th>1</th>\n",
       "      <th>2</th>\n",
       "      <th>3</th>\n",
       "      <th>4</th>\n",
       "    </tr>\n",
       "  </thead>\n",
       "  <tbody>\n",
       "    <tr>\n",
       "      <th>0</th>\n",
       "      <td>29</td>\n",
       "      <td>-100</td>\n",
       "      <td>1</td>\n",
       "      <td>0</td>\n",
       "      <td>0</td>\n",
       "    </tr>\n",
       "    <tr>\n",
       "      <th>1</th>\n",
       "      <td>29</td>\n",
       "      <td>-100</td>\n",
       "      <td>3</td>\n",
       "      <td>0</td>\n",
       "      <td>0</td>\n",
       "    </tr>\n",
       "    <tr>\n",
       "      <th>2</th>\n",
       "      <td>29</td>\n",
       "      <td>-100</td>\n",
       "      <td>5</td>\n",
       "      <td>0</td>\n",
       "      <td>0</td>\n",
       "    </tr>\n",
       "    <tr>\n",
       "      <th>3</th>\n",
       "      <td>29</td>\n",
       "      <td>-100</td>\n",
       "      <td>7</td>\n",
       "      <td>0</td>\n",
       "      <td>0</td>\n",
       "    </tr>\n",
       "    <tr>\n",
       "      <th>4</th>\n",
       "      <td>29</td>\n",
       "      <td>-80</td>\n",
       "      <td>1</td>\n",
       "      <td>0</td>\n",
       "      <td>0</td>\n",
       "    </tr>\n",
       "    <tr>\n",
       "      <th>...</th>\n",
       "      <td>...</td>\n",
       "      <td>...</td>\n",
       "      <td>...</td>\n",
       "      <td>...</td>\n",
       "      <td>...</td>\n",
       "    </tr>\n",
       "    <tr>\n",
       "      <th>331</th>\n",
       "      <td>289</td>\n",
       "      <td>-20</td>\n",
       "      <td>7</td>\n",
       "      <td>0</td>\n",
       "      <td>0</td>\n",
       "    </tr>\n",
       "    <tr>\n",
       "      <th>332</th>\n",
       "      <td>289</td>\n",
       "      <td>0</td>\n",
       "      <td>1</td>\n",
       "      <td>0</td>\n",
       "      <td>0</td>\n",
       "    </tr>\n",
       "    <tr>\n",
       "      <th>333</th>\n",
       "      <td>289</td>\n",
       "      <td>0</td>\n",
       "      <td>3</td>\n",
       "      <td>0</td>\n",
       "      <td>0</td>\n",
       "    </tr>\n",
       "    <tr>\n",
       "      <th>334</th>\n",
       "      <td>289</td>\n",
       "      <td>0</td>\n",
       "      <td>5</td>\n",
       "      <td>0</td>\n",
       "      <td>0</td>\n",
       "    </tr>\n",
       "    <tr>\n",
       "      <th>335</th>\n",
       "      <td>289</td>\n",
       "      <td>0</td>\n",
       "      <td>7</td>\n",
       "      <td>0</td>\n",
       "      <td>0</td>\n",
       "    </tr>\n",
       "  </tbody>\n",
       "</table>\n",
       "<p>336 rows × 5 columns</p>\n",
       "</div>"
      ],
      "text/plain": [
       "       0    1  2  3  4\n",
       "0     29 -100  1  0  0\n",
       "1     29 -100  3  0  0\n",
       "2     29 -100  5  0  0\n",
       "3     29 -100  7  0  0\n",
       "4     29  -80  1  0  0\n",
       "..   ...  ... .. .. ..\n",
       "331  289  -20  7  0  0\n",
       "332  289    0  1  0  0\n",
       "333  289    0  3  0  0\n",
       "334  289    0  5  0  0\n",
       "335  289    0  7  0  0\n",
       "\n",
       "[336 rows x 5 columns]"
      ]
     },
     "execution_count": 152,
     "metadata": {},
     "output_type": "execute_result"
    }
   ],
   "source": [
    "df = pd.DataFrame(results)"
   ]
  },
  {
   "cell_type": "code",
   "execution_count": null,
   "metadata": {},
   "outputs": [
    {
     "data": {
      "text/plain": [
       "<matplotlib.collections.PathCollection at 0x1b0cf7255e0>"
      ]
     },
     "execution_count": 179,
     "metadata": {},
     "output_type": "execute_result"
    },
    {
     "data": {
      "image/png": "[encoded data removed]",
      "text/plain": [
       "<Figure size 432x288 with 1 Axes>"
      ]
     },
     "metadata": {
      "needs_background": "light"
     },
     "output_type": "display_data"
    }
   ],
   "source": [
    "plt.scatter(df[0], df[1], s=df[4]*100, alpha=0.1)"
   ]
  },
  {
   "cell_type": "code",
   "execution_count": null,
   "metadata": {},
   "outputs": [],
   "source": [
    "df = df[df[4] == 1]"
   ]
  },
  {
   "cell_type": "code",
   "execution_count": null,
   "metadata": {},
   "outputs": [
    {
     "data": {
      "text/plain": [
       "<matplotlib.collections.PathCollection at 0x1b0cfc75700>"
      ]
     },
     "execution_count": 213,
     "metadata": {},
     "output_type": "execute_result"
    },
    {
     "data": {
      "image/png": "[encoded data removed]",
      "text/plain": [
       "<Figure size 432x288 with 1 Axes>"
      ]
     },
     "metadata": {
      "needs_background": "light"
     },
     "output_type": "display_data"
    }
   ],
   "source": [
    "df2 = df[df[1] == -20]\n",
    "plt.scatter(df2[0], df2[2], s=100, alpha=1)"
   ]
  },
  {
   "cell_type": "markdown",
   "metadata": {},
   "source": [
    "# Testing main IR functions"
   ]
  },
  {
   "cell_type": "code",
   "execution_count": 1,
   "metadata": {},
   "outputs": [
    {
     "name": "stdout",
     "output_type": "stream",
     "text": [
      "IMG_160729_071816_0092_RGB.JPG\n"
     ]
    }
   ],
   "source": [
    "from theia import main\n",
    "from theia import spec\n",
    "import cv2\n",
    "import os\n",
    "from importlib import reload\n",
    "reload(main)\n",
    "\n",
    "loc = spec.LocationInfo()\n",
    "image_number = 50\n",
    "files = [f for f in os.listdir('./dataset/sim_dataset/')]\n",
    "image = cv2.imread('./dataset/sim_dataset/' + files[image_number])\n",
    "print(files[image_number])\n",
    "base_dir = os.getcwd()"
   ]
  },
  {
   "cell_type": "code",
   "execution_count": 2,
   "metadata": {},
   "outputs": [
    {
     "name": "stderr",
     "output_type": "stream",
     "text": [
      "2022-01-26 14:54:42,172, [INFO], main , processing image\n",
      "2022-01-26 14:54:42,492, [INFO], main , ImageRecognitionResult(image_name='c:\\\\Users\\\\olive\\\\Documents\\\\GitHub\\\\uas-theia\\\\runtime\\\\26012022_14-54-42.240916.jpg', centre=(2310, 3193), position=(0.0, 0.0))\n"
     ]
    }
   ],
   "source": [
    "ir = main.ImageRecognition(base_dir)\n",
    "ir.image_recognition(image, loc)"
   ]
  },
  {
   "cell_type": "markdown",
   "metadata": {},
   "source": [
    "# Experimenting with perspective"
   ]
  },
  {
   "cell_type": "code",
   "execution_count": 18,
   "metadata": {},
   "outputs": [
    {
     "name": "stdout",
     "output_type": "stream",
     "text": [
      "900-900.jpg\n",
      "[(1318, 2534), (3707, 288)]\n",
      "0.01\n",
      "True\n"
     ]
    }
   ],
   "source": [
    "ref = read_positions(\"./dataset/target_positions_transformed\")\n",
    "\n",
    "result = 0\n",
    "files = [f for f in os.listdir('./dataset/transform_dataset/')]\n",
    "for image_number in [99]: #range(len(files)):\n",
    "    image = cv2.imread('./dataset/transform_dataset/' + files[image_number])\n",
    "    print(files[image_number])\n",
    "\n",
    "    options = {\n",
    "        \"block_size\": 249,\n",
    "        \"c\": -39,\n",
    "        \"ksize\": 49,\n",
    "        \"sigma\": 0,\n",
    "        \"epsilon\": 0.02,\n",
    "        \"square_ar\": 0.4,\n",
    "        \"min_area\": 3000,\n",
    "    }\n",
    "\n",
    "    predicted = find_targets(image, options, debug=True)\n",
    "    if len(predicted) >= 0:\n",
    "        result+=1\n",
    "    print(predicted)\n",
    "\n",
    "print(result/len(files))\n",
    "print(centre_check(predicted[0], (1316, 2532)))"
   ]
  },
  {
   "cell_type": "code",
   "execution_count": 33,
   "metadata": {},
   "outputs": [
    {
     "name": "stdout",
     "output_type": "stream",
     "text": [
      "accuracy: 80.35 %\n",
      "false positives 13.55 %\n",
      "no. images: 1557\n"
     ]
    }
   ],
   "source": [
    "options = {\n",
    "    \"block_size\": 249,\n",
    "    \"c\": -39,\n",
    "    \"ksize\": 49,\n",
    "    \"sigma\": 0,\n",
    "    \"epsilon\": 0.02,\n",
    "    \"square_ar\": 0.4,\n",
    "    \"min_area\": 3000,\n",
    "}\n",
    "ref = read_positions(\"./dataset/target_positions_transformed\", offset=0)\n",
    "files = [f for f in os.listdir('./dataset/transform_dataset/')]\n",
    "results = []\n",
    "false_positives = []\n",
    "\n",
    "for file in files:\n",
    "    image = cv2.imread('./dataset/transform_dataset/' + file)\n",
    "    result = find_targets(image, options, debug=False)\n",
    "    try:\n",
    "        result[0]\n",
    "        for r in result:\n",
    "            actual = ref[file]\n",
    "\n",
    "            if centre_check(r, actual):\n",
    "                results.append(1)\n",
    "            else:\n",
    "                results.append(0)\n",
    "                false_positives.append(1)\n",
    "\n",
    "    except Exception as e:\n",
    "        results.append(0)\n",
    "\n",
    "print(f\"accuracy: {round(sum(results)/len(files) * 100, 2)} %\")\n",
    "print(f\"false positives {round(sum(false_positives)/len(results) * 100, 2)} %\")\n",
    "print(f\"no. images: {len(files)}\")"
   ]
  },
  {
   "cell_type": "markdown",
   "metadata": {},
   "source": [
    "# other"
   ]
  },
  {
   "cell_type": "code",
   "execution_count": null,
   "metadata": {},
   "outputs": [
    {
     "ename": "FileNotFoundError",
     "evalue": "[WinError 3] The system cannot find the path specified: 'C:\\\\Users\\\\olive\\\\University of Surrey\\\\UAS2 - General\\\\2 Avionics\\\\4 Testing\\\\Image Rec\\\\03_04_22\\\\square'",
     "output_type": "error",
     "traceback": [
      "\u001b[1;31m---------------------------------------------------------------------------\u001b[0m",
      "\u001b[1;31mFileNotFoundError\u001b[0m                         Traceback (most recent call last)",
      "\u001b[1;32mc:\\Users\\pm\\OneDrive\\Documents\\Projects\\uas python\\uas-theia\\experiment.ipynb Cell 26'\u001b[0m in \u001b[0;36m<cell line: 15>\u001b[1;34m()\u001b[0m\n\u001b[0;32m     <a href='vscode-notebook-cell:/c%3A/Users/pm/OneDrive/Documents/Projects/uas%20python/uas-theia/experiment.ipynb#ch0000025?line=12'>13</a>\u001b[0m target_location \u001b[39m=\u001b[39m (\u001b[39m51.292308\u001b[39m, \u001b[39m-\u001b[39m\u001b[39m0.484431\u001b[39m)\n\u001b[0;32m     <a href='vscode-notebook-cell:/c%3A/Users/pm/OneDrive/Documents/Projects/uas%20python/uas-theia/experiment.ipynb#ch0000025?line=13'>14</a>\u001b[0m directory \u001b[39m=\u001b[39m \u001b[39mr\u001b[39m\u001b[39m\"\u001b[39m\u001b[39mC:\u001b[39m\u001b[39m\\\u001b[39m\u001b[39mUsers\u001b[39m\u001b[39m\\\u001b[39m\u001b[39molive\u001b[39m\u001b[39m\\\u001b[39m\u001b[39mUniversity of Surrey\u001b[39m\u001b[39m\\\u001b[39m\u001b[39mUAS2 - General\u001b[39m\u001b[39m\\\u001b[39m\u001b[39m2 Avionics\u001b[39m\u001b[39m\\\u001b[39m\u001b[39m4 Testing\u001b[39m\u001b[39m\\\u001b[39m\u001b[39mImage Rec\u001b[39m\u001b[39m\\\u001b[39m\u001b[39m03_04_22\u001b[39m\u001b[39m\\\u001b[39m\u001b[39msquare\u001b[39m\u001b[39m\"\u001b[39m\n\u001b[1;32m---> <a href='vscode-notebook-cell:/c%3A/Users/pm/OneDrive/Documents/Projects/uas%20python/uas-theia/experiment.ipynb#ch0000025?line=14'>15</a>\u001b[0m files \u001b[39m=\u001b[39m [f \u001b[39mfor\u001b[39;00m f \u001b[39min\u001b[39;00m os\u001b[39m.\u001b[39;49mlistdir(directory)]\n\u001b[0;32m     <a href='vscode-notebook-cell:/c%3A/Users/pm/OneDrive/Documents/Projects/uas%20python/uas-theia/experiment.ipynb#ch0000025?line=17'>18</a>\u001b[0m image \u001b[39m=\u001b[39m cv2\u001b[39m.\u001b[39mimread(directory \u001b[39m+\u001b[39m \u001b[39m\"\u001b[39m\u001b[39m//\u001b[39m\u001b[39m\"\u001b[39m \u001b[39m+\u001b[39m files[\u001b[39m0\u001b[39m])\n\u001b[0;32m     <a href='vscode-notebook-cell:/c%3A/Users/pm/OneDrive/Documents/Projects/uas%20python/uas-theia/experiment.ipynb#ch0000025?line=19'>20</a>\u001b[0m src \u001b[39m=\u001b[39m image\n",
      "\u001b[1;31mFileNotFoundError\u001b[0m: [WinError 3] The system cannot find the path specified: 'C:\\\\Users\\\\olive\\\\University of Surrey\\\\UAS2 - General\\\\2 Avionics\\\\4 Testing\\\\Image Rec\\\\03_04_22\\\\square'"
     ]
    }
   ],
   "source": [
    "from theia import position_estimation\n",
    "from theia.spec import LocationInfo\n",
    "from theia.image_segmentation import find_targets\n",
    "from theia.utils import display\n",
    "import cv2\n",
    "import os\n",
    "import math\n",
    "import geopy.distance\n",
    "from datetime import datetime\n",
    "import numpy as np\n",
    "\n",
    "\n",
    "target_location = (51.292308, -0.484431)\n",
    "directory = r\"C:\\Users\\olive\\University of Surrey\\UAS2 - General\\2 Avionics\\4 Testing\\Image Rec\\03_04_22\\square\"\n",
    "files = [f for f in os.listdir(directory)]\n",
    "\n",
    "\n",
    "image = cv2.imread(directory + \"//\" + files[0])\n",
    "\n",
    "src = image\n",
    "width  = src.shape[1]\n",
    "height = src.shape[0]\n",
    "\n",
    "# https://stackoverflow.com/questions/26602981/correct-barrel-distortion-in-opencv-manually-without-chessboard-image\n",
    "\n",
    "distCoeff = np.zeros((4,1),np.float64)\n",
    "\n",
    "distCoeff[0,0] = -0.7e-5 # k1\n",
    "distCoeff[1,0] = 0 # k2\n",
    "distCoeff[2,0] = 0 # p1\n",
    "distCoeff[3,0] = 0.0 # p2\n",
    "\n",
    "# assume unit matrix for camera\n",
    "cam = np.eye(3,dtype=np.float32)\n",
    "\n",
    "cam[0,2] = width/2.0  # define center x \n",
    "cam[1,2] = height/2.0 # define center y\n",
    "cam[0,0] = 10        # define focal length x\n",
    "cam[1,1] = 6        # define focal length y\n",
    "\n",
    "\n",
    "\n",
    "start_height = 32\n",
    "\n",
    "options = {\n",
    "    \"block_size\": 399,\n",
    "    \"c\": -39,\n",
    "    \"ksize\": 39,\n",
    "    \"sigma\": 0,\n",
    "    \"epsilon\": 0.1,\n",
    "    \"square_ar\": 0.2,\n",
    "    \"min_area\": 1000,\n",
    "    \"sides\":[4],\n",
    "    \"debug\":False,\n",
    "    \"min_solidity\":0.6\n",
    "}\n",
    "\n",
    "error_x = []\n",
    "error_y = []\n",
    "image_pitch = []\n",
    "image_roll = []\n",
    "image_height = []\n",
    "image_heading = []\n",
    "image_time = []\n",
    "total_error=[]\n",
    "dist_error = []\n",
    "locations = []\n",
    "\n",
    "all_data = []\n",
    "\n",
    "for file in files:\n",
    "    image = cv2.imread(directory + \"//\" + file)\n",
    "    dst = cv2.undistort(image,cam,distCoeff)\n",
    "    #display(dst)\n",
    "    predicted = find_targets(dst, options)\n",
    "    name = file.split(\",\")\n",
    "    try:\n",
    "        l = LocationInfo(lat=float(name[2]), lon=float(name[1]), alt=float(name[0])-start_height,heading=float(name[3]), pitch=float(name[4]), roll=float(name[5]))\n",
    "        predicted_location = position_estimation.triangulate(predicted[0], l)\n",
    "\n",
    "        img_time = datetime.utcfromtimestamp(float(name[6].split(\".jpg\")[0]))\n",
    "        err = math.sqrt((predicted_location[0]-target_location[0])**2+(predicted_location[1]-target_location[1])**2)\n",
    "        dist_err = geopy.distance.distance(target_location, predicted_location).m\n",
    "        if dist_err > 200:\n",
    "            pass\n",
    "        # elif img_time.minute < 15:\n",
    "        #     pass\n",
    "        else:\n",
    "            image_pitch.append(l.pitch)\n",
    "            image_roll.append(l.roll)\n",
    "            image_height.append(l.alt)\n",
    "            image_heading.append(l.heading)\n",
    "            image_time.append(img_time)\n",
    "            error_x.append(predicted_location[0]-target_location[0])\n",
    "            error_y.append(predicted_location[1]-target_location[1])\n",
    "            dist_error.append(dist_err)\n",
    "            locations.append(predicted_location)\n",
    "            all_data.append([predicted, l])\n",
    "            \n",
    "            total_error.append(math.sqrt((predicted_location[0]-target_location[0])**2+(predicted_location[1]-target_location[1])**2))\n",
    "            print(dist_err)\n",
    "\n",
    "    except Exception as e:\n",
    "        print(e)\n"
   ]
  },
  {
   "cell_type": "code",
   "execution_count": null,
   "metadata": {},
   "outputs": [
    {
     "name": "stdout",
     "output_type": "stream",
     "text": [
      "81.10686130140209\n"
     ]
    }
   ],
   "source": [
    "import numpy as np\n",
    "print(np.average(dist_error))"
   ]
  },
  {
   "cell_type": "code",
   "execution_count": 10,
   "metadata": {},
   "outputs": [
    {
     "name": "stdout",
     "output_type": "stream",
     "text": [
      "-0.00016331651680115219\n",
      "0.00016925690201569606\n"
     ]
    },
    {
     "data": {
      "image/png": "[encoded data removed]",
      "text/plain": [
       "<Figure size 432x288 with 1 Axes>"
      ]
     },
     "metadata": {
      "needs_background": "light"
     },
     "output_type": "display_data"
    },
    {
     "data": {
      "image/png": "[encoded data removed]",
      "text/plain": [
       "<Figure size 432x288 with 1 Axes>"
      ]
     },
     "metadata": {
      "needs_background": "light"
     },
     "output_type": "display_data"
    },
    {
     "data": {
      "image/png": "[encoded data removed]",
      "text/plain": [
       "<Figure size 432x288 with 1 Axes>"
      ]
     },
     "metadata": {
      "needs_background": "light"
     },
     "output_type": "display_data"
    },
    {
     "data": {
      "image/png": "[encoded data removed]",
      "text/plain": [
       "<Figure size 432x288 with 2 Axes>"
      ]
     },
     "metadata": {
      "needs_background": "light"
     },
     "output_type": "display_data"
    },
    {
     "data": {
      "image/png": "[encoded data removed]",
      "text/plain": [
       "<Figure size 432x288 with 2 Axes>"
      ]
     },
     "metadata": {
      "needs_background": "light"
     },
     "output_type": "display_data"
    },
    {
     "data": {
      "image/png": "[encoded data removed]",
      "text/plain": [
       "<Figure size 432x288 with 2 Axes>"
      ]
     },
     "metadata": {
      "needs_background": "light"
     },
     "output_type": "display_data"
    },
    {
     "data": {
      "image/png": "[encoded data removed]",
      "text/plain": [
       "<Figure size 432x288 with 2 Axes>"
      ]
     },
     "metadata": {
      "needs_background": "light"
     },
     "output_type": "display_data"
    },
    {
     "data": {
      "image/png": "[encoded data removed]",
      "text/plain": [
       "<Figure size 432x288 with 1 Axes>"
      ]
     },
     "metadata": {
      "needs_background": "light"
     },
     "output_type": "display_data"
    }
   ],
   "source": [
    "import matplotlib.pyplot as plt\n",
    "import math\n",
    "import numpy as np\n",
    "\n",
    "print(sum(error_x)/len(error_x))\n",
    "print(sum(error_y)/len(error_y))\n",
    "\n",
    "total_error=[]\n",
    "for i in range(len(error_x)):\n",
    "    total_error.append(math.sqrt(error_x[i]**2+error_y[i]**2))\n",
    "\n",
    "plt.figure(0)\n",
    "plt.scatter(error_x,error_y)\n",
    "plt.grid()\n",
    "plt.xlabel(\"error in x\")\n",
    "plt.ylabel(\"error in y\")\n",
    "\n",
    "plt.figure(1)\n",
    "plt.scatter(image_pitch,dist_error)\n",
    "plt.grid()\n",
    "plt.xlabel(\"pitch\")\n",
    "plt.ylabel(\"error (m)\")\n",
    "\n",
    "plt.figure(2)\n",
    "plt.scatter(image_roll,dist_error)\n",
    "plt.grid()\n",
    "plt.xlabel(\"roll\")\n",
    "plt.ylabel(\"error (m)\")\n",
    "\n",
    "\n",
    "plt.figure(3)\n",
    "plt.scatter(image_roll, image_pitch, c=dist_error, cmap='viridis')\n",
    "plt.colorbar()\n",
    "plt.grid()\n",
    "plt.xlabel(\"roll\")\n",
    "plt.ylabel(\"pitch\")\n",
    "\n",
    "roll_pitch=[]\n",
    "for i in range(len(error_x)):\n",
    "    roll_pitch.append(math.sqrt(image_pitch[i]**2+image_roll[i]**2))\n",
    "\n",
    "plt.figure(4)\n",
    "plt.scatter(image_height,roll_pitch,c=dist_error, cmap='viridis')\n",
    "plt.colorbar()\n",
    "plt.grid()\n",
    "plt.xlabel(\"height\")\n",
    "plt.ylabel(\"roll_pitch\")\n",
    "\n",
    "plt.figure(5)\n",
    "plt.scatter(image_time,dist_error,c=image_height, cmap='viridis')\n",
    "plt.colorbar()\n",
    "plt.grid()\n",
    "plt.xlabel(\"image time\")\n",
    "plt.ylabel(\"error (m)\")\n",
    "\n",
    "plt.figure(6)\n",
    "plt.scatter(image_time,image_height,c=dist_error, cmap='viridis')\n",
    "plt.grid()\n",
    "plt.colorbar()\n",
    "plt.xlabel(\"time\")\n",
    "plt.ylabel(\"height\")\n",
    "\n",
    "plt.figure(7)\n",
    "plt.scatter(image_height, dist_error)\n",
    "plt.xlabel(\"height (m)\")\n",
    "plt.ylabel(\"error (m)\")\n",
    "plt.grid()\n"
   ]
  },
  {
   "cell_type": "code",
   "execution_count": 38,
   "metadata": {},
   "outputs": [],
   "source": [
    "plt.figure(8)\n",
    "import pandas as pd\n",
    "import seaborn as sns\n",
    "df = pd.DataFrame.from_dict(np.array([image_pitch,image_roll,dist_error]).T)\n",
    "df.columns = ['x','y','z']\n",
    "df['z'] = pd.to_numeric(df['z'])\n",
    "pivotted= df.pivot('y','x','z')\n",
    "\n",
    "fig = plt.figure(figsize=(10,10))\n",
    "ax = fig.gca(projection='3d')\n",
    "ax.set_xlabel('image_pitch')\n",
    "ax.set_ylabel('image_roll')\n",
    "ax.set_zlabel('dist_error')\n",
    "plt.grid()\n",
    "#ax.plot_wireframe(cParams, gammas, avg_errors_array)\n",
    "#ax.plot3D(cParams, gammas, avg_errors_array)\n",
    "#ax.scatter3D(cParams, gammas, avg_errors_array, zdir='z',cmap='viridis')\n",
    "\n",
    "surf = ax.plot_trisurf(df.x, df.y, df.z, cmap='viridis', linewidth=0.1)\n",
    "ax.view_init(azim=0, elev=90)\n",
    "fig.colorbar(surf, shrink=0.5, aspect=10)    \n",
    "plt.show()\n"
   ]
  },
  {
   "cell_type": "code",
   "execution_count": null,
   "metadata": {},
   "outputs": [],
   "source": [
    "class RLS:\n",
    "    def __init__(self, num_vars, lam, delta):\n",
    "        '''\n",
    "        num_vars: number of variables including constant\n",
    "        lam: forgetting factor, usually very close to 1.\n",
    "        '''\n",
    "        self.num_vars = num_vars\n",
    "        \n",
    "        # delta controls the initial state.\n",
    "        self.A = delta*np.matrix(np.identity(self.num_vars))\n",
    "        self.w = np.matrix(np.zeros(self.num_vars))\n",
    "        self.w = self.w.reshape(self.w.shape[1],1)\n",
    "        \n",
    "        # Variables needed for add_obs\n",
    "        self.lam_inv = lam**(-1)\n",
    "        self.sqrt_lam_inv = math.sqrt(self.lam_inv)\n",
    "        \n",
    "        # A priori error\n",
    "        self.a_priori_error = 0\n",
    "        \n",
    "        # Count of number of observations added\n",
    "        self.num_obs = 0\n",
    "\n",
    "    def add_obs(self, x, t):\n",
    "        '''\n",
    "        Add the observation x with label t.\n",
    "        x is a column vector as a numpy matrix\n",
    "        t is a real scalar\n",
    "        '''            \n",
    "        z = self.lam_inv*self.A*x\n",
    "        alpha = float((1 + x.T*z)**(-1))\n",
    "        self.a_priori_error = float(t - self.w.T*x)\n",
    "        self.w = self.w + (t-alpha*float(x.T*(self.w+t*z)))*z\n",
    "        self.A -= alpha*z*z.T\n",
    "        self.num_obs += 1\n",
    "        \n",
    "    def fit(self, X, y):\n",
    "        '''\n",
    "        Fit a model to X,y.\n",
    "        X and y are numpy arrays.\n",
    "        Individual observations in X should have a prepended 1 for constant coefficient.\n",
    "        '''\n",
    "        for i in range(len(X)):\n",
    "            x = np.transpose(np.matrix(X[i]))\n",
    "            self.add_obs(x,y[i])\n",
    "\n",
    "\n",
    "    def get_error(self):\n",
    "        '''\n",
    "        Finds the a priori (instantaneous) error. \n",
    "        Does not calculate the cumulative effect\n",
    "        of round-off errors.\n",
    "        '''\n",
    "        return self.a_priori_error\n",
    "    \n",
    "    def predict(self, x):\n",
    "        '''\n",
    "        Predict the value of observation x. x should be a numpy matrix (col vector)\n",
    "        '''\n",
    "        return float(self.w.T*x)"
   ]
  },
  {
   "cell_type": "code",
   "execution_count": 66,
   "metadata": {},
   "outputs": [
    {
     "ename": "ValueError",
     "evalue": "shapes (8,8) and (1,8) not aligned: 8 (dim 1) != 1 (dim 0)",
     "output_type": "error",
     "traceback": [
      "\u001b[1;31m---------------------------------------------------------------------------\u001b[0m",
      "\u001b[1;31mValueError\u001b[0m                                Traceback (most recent call last)",
      "\u001b[1;32mc:\\Users\\olive\\Documents\\GitHub\\uas-theia\\experiment.ipynb Cell 31'\u001b[0m in \u001b[0;36m<cell line: 15>\u001b[1;34m()\u001b[0m\n\u001b[0;32m     <a href='vscode-notebook-cell:/c%3A/Users/olive/Documents/GitHub/uas-theia/experiment.ipynb#ch0000048?line=13'>14</a>\u001b[0m pred_y \u001b[39m=\u001b[39m []\n\u001b[0;32m     <a href='vscode-notebook-cell:/c%3A/Users/olive/Documents/GitHub/uas-theia/experiment.ipynb#ch0000048?line=14'>15</a>\u001b[0m \u001b[39mfor\u001b[39;00m i \u001b[39min\u001b[39;00m \u001b[39mrange\u001b[39m(\u001b[39m20\u001b[39m):\n\u001b[1;32m---> <a href='vscode-notebook-cell:/c%3A/Users/olive/Documents/GitHub/uas-theia/experiment.ipynb#ch0000048?line=15'>16</a>\u001b[0m     LS\u001b[39m.\u001b[39;49madd_obs(np\u001b[39m.\u001b[39;49mmatrix(x[i]),y[i])\n\u001b[0;32m     <a href='vscode-notebook-cell:/c%3A/Users/olive/Documents/GitHub/uas-theia/experiment.ipynb#ch0000048?line=16'>17</a>\u001b[0m \u001b[39mprint\u001b[39m(LS\u001b[39m.\u001b[39mw)\n\u001b[0;32m     <a href='vscode-notebook-cell:/c%3A/Users/olive/Documents/GitHub/uas-theia/experiment.ipynb#ch0000048?line=17'>18</a>\u001b[0m \u001b[39m# plot the predicted values against the non-noisy output\u001b[39;00m\n",
      "\u001b[1;32mc:\\Users\\olive\\Documents\\GitHub\\uas-theia\\experiment.ipynb Cell 29'\u001b[0m in \u001b[0;36mRLS.add_obs\u001b[1;34m(self, x, t)\u001b[0m\n\u001b[0;32m     <a href='vscode-notebook-cell:/c%3A/Users/olive/Documents/GitHub/uas-theia/experiment.ipynb#ch0000028?line=23'>24</a>\u001b[0m \u001b[39mdef\u001b[39;00m \u001b[39madd_obs\u001b[39m(\u001b[39mself\u001b[39m, x, t):\n\u001b[0;32m     <a href='vscode-notebook-cell:/c%3A/Users/olive/Documents/GitHub/uas-theia/experiment.ipynb#ch0000028?line=24'>25</a>\u001b[0m     \u001b[39m'''\u001b[39;00m\n\u001b[0;32m     <a href='vscode-notebook-cell:/c%3A/Users/olive/Documents/GitHub/uas-theia/experiment.ipynb#ch0000028?line=25'>26</a>\u001b[0m \u001b[39m    Add the observation x with label t.\u001b[39;00m\n\u001b[0;32m     <a href='vscode-notebook-cell:/c%3A/Users/olive/Documents/GitHub/uas-theia/experiment.ipynb#ch0000028?line=26'>27</a>\u001b[0m \u001b[39m    x is a column vector as a numpy matrix\u001b[39;00m\n\u001b[0;32m     <a href='vscode-notebook-cell:/c%3A/Users/olive/Documents/GitHub/uas-theia/experiment.ipynb#ch0000028?line=27'>28</a>\u001b[0m \u001b[39m    t is a real scalar\u001b[39;00m\n\u001b[0;32m     <a href='vscode-notebook-cell:/c%3A/Users/olive/Documents/GitHub/uas-theia/experiment.ipynb#ch0000028?line=28'>29</a>\u001b[0m \u001b[39m    '''\u001b[39;00m            \n\u001b[1;32m---> <a href='vscode-notebook-cell:/c%3A/Users/olive/Documents/GitHub/uas-theia/experiment.ipynb#ch0000028?line=29'>30</a>\u001b[0m     z \u001b[39m=\u001b[39m \u001b[39mself\u001b[39;49m\u001b[39m.\u001b[39;49mlam_inv\u001b[39m*\u001b[39;49m\u001b[39mself\u001b[39;49m\u001b[39m.\u001b[39;49mA\u001b[39m*\u001b[39;49mx\n\u001b[0;32m     <a href='vscode-notebook-cell:/c%3A/Users/olive/Documents/GitHub/uas-theia/experiment.ipynb#ch0000028?line=30'>31</a>\u001b[0m     alpha \u001b[39m=\u001b[39m \u001b[39mfloat\u001b[39m((\u001b[39m1\u001b[39m \u001b[39m+\u001b[39m x\u001b[39m.\u001b[39mT\u001b[39m*\u001b[39mz)\u001b[39m*\u001b[39m\u001b[39m*\u001b[39m(\u001b[39m-\u001b[39m\u001b[39m1\u001b[39m))\n\u001b[0;32m     <a href='vscode-notebook-cell:/c%3A/Users/olive/Documents/GitHub/uas-theia/experiment.ipynb#ch0000028?line=31'>32</a>\u001b[0m     \u001b[39mself\u001b[39m\u001b[39m.\u001b[39ma_priori_error \u001b[39m=\u001b[39m \u001b[39mfloat\u001b[39m(t \u001b[39m-\u001b[39m \u001b[39mself\u001b[39m\u001b[39m.\u001b[39mw\u001b[39m.\u001b[39mT\u001b[39m*\u001b[39mx)\n",
      "File \u001b[1;32m~\\.virtualenvs\\uas-theia-zLeGUkOx\\lib\\site-packages\\numpy\\matrixlib\\defmatrix.py:218\u001b[0m, in \u001b[0;36mmatrix.__mul__\u001b[1;34m(self, other)\u001b[0m\n\u001b[0;32m    <a href='file:///c%3A/Users/olive/.virtualenvs/uas-theia-zLeGUkOx/lib/site-packages/numpy/matrixlib/defmatrix.py?line=214'>215</a>\u001b[0m \u001b[39mdef\u001b[39;00m \u001b[39m__mul__\u001b[39m(\u001b[39mself\u001b[39m, other):\n\u001b[0;32m    <a href='file:///c%3A/Users/olive/.virtualenvs/uas-theia-zLeGUkOx/lib/site-packages/numpy/matrixlib/defmatrix.py?line=215'>216</a>\u001b[0m     \u001b[39mif\u001b[39;00m \u001b[39misinstance\u001b[39m(other, (N\u001b[39m.\u001b[39mndarray, \u001b[39mlist\u001b[39m, \u001b[39mtuple\u001b[39m)) :\n\u001b[0;32m    <a href='file:///c%3A/Users/olive/.virtualenvs/uas-theia-zLeGUkOx/lib/site-packages/numpy/matrixlib/defmatrix.py?line=216'>217</a>\u001b[0m         \u001b[39m# This promotes 1-D vectors to row vectors\u001b[39;00m\n\u001b[1;32m--> <a href='file:///c%3A/Users/olive/.virtualenvs/uas-theia-zLeGUkOx/lib/site-packages/numpy/matrixlib/defmatrix.py?line=217'>218</a>\u001b[0m         \u001b[39mreturn\u001b[39;00m N\u001b[39m.\u001b[39;49mdot(\u001b[39mself\u001b[39;49m, asmatrix(other))\n\u001b[0;32m    <a href='file:///c%3A/Users/olive/.virtualenvs/uas-theia-zLeGUkOx/lib/site-packages/numpy/matrixlib/defmatrix.py?line=218'>219</a>\u001b[0m     \u001b[39mif\u001b[39;00m isscalar(other) \u001b[39mor\u001b[39;00m \u001b[39mnot\u001b[39;00m \u001b[39mhasattr\u001b[39m(other, \u001b[39m'\u001b[39m\u001b[39m__rmul__\u001b[39m\u001b[39m'\u001b[39m) :\n\u001b[0;32m    <a href='file:///c%3A/Users/olive/.virtualenvs/uas-theia-zLeGUkOx/lib/site-packages/numpy/matrixlib/defmatrix.py?line=219'>220</a>\u001b[0m         \u001b[39mreturn\u001b[39;00m N\u001b[39m.\u001b[39mdot(\u001b[39mself\u001b[39m, other)\n",
      "File \u001b[1;32m<__array_function__ internals>:180\u001b[0m, in \u001b[0;36mdot\u001b[1;34m(*args, **kwargs)\u001b[0m\n",
      "\u001b[1;31mValueError\u001b[0m: shapes (8,8) and (1,8) not aligned: 8 (dim 1) != 1 (dim 0)"
     ]
    }
   ],
   "source": [
    "import numpy as np\n",
    "import matplotlib.pylab as plt\n",
    "import padasip as pa\n",
    "\n",
    "# creation of data\n",
    "dfx = df[[\"lat\", \"lon\", \"px\", \"py\", \"alt\", \"roll\", \"pitch\", \"heading\"]]\n",
    "dfy = df[[\"est_lat2\", \"est_lon2\"]]\n",
    "x = dfx.to_numpy()\n",
    "y = dfy.to_numpy()\n",
    "\n",
    "LS = RLS(8,0.99,1)\n",
    "# Not using the RLS.fit function because I want to remember all the predicted values\n",
    "pred_x = []\n",
    "pred_y = []\n",
    "for i in range(20):\n",
    "    LS.add_obs(np.matrix(x[i]),y[i])\n",
    "print(LS.w)\n",
    "# plot the predicted values against the non-noisy output\n",
    "ax = plt.plot(pred_x, y-pred_y)\n",
    "plt.show()"
   ]
  },
  {
   "cell_type": "code",
   "execution_count": 59,
   "metadata": {},
   "outputs": [
    {
     "name": "stdout",
     "output_type": "stream",
     "text": [
      "[[-4.94322404]\n",
      " [-3.80064484]\n",
      " [ 0.20000058]]\n"
     ]
    },
    {
     "data": {
      "image/png": "[encoded data removed]",
      "text/plain": [
       "<Figure size 432x288 with 1 Axes>"
      ]
     },
     "metadata": {
      "needs_background": "light"
     },
     "output_type": "display_data"
    }
   ],
   "source": [
    "test_size = 1000\n",
    "# Test function\n",
    "f = lambda x: 0.2*x**2-3.8*x-5.1\n",
    "# Gaussian noise to be added to the quadratic signal\n",
    "noise = np.random.randn(test_size)\n",
    "# You can play around with other noise (like sinusoidal)\n",
    "#noise = [np.sin(2*np.pi*i/13) for i in range(test_size)]\n",
    "y = np.array([f(i) for i in range(test_size)])\n",
    "noisy_y = y + noise\n",
    "lam = 0.98\n",
    "LS = RLS(3,lam,1)\n",
    "# Not using the RLS.fit function because I want to remember all the predicted values\n",
    "pred_x = []\n",
    "pred_y = []\n",
    "for i in range(test_size):\n",
    "    x = np.matrix(np.zeros((1,3)))\n",
    "    x[0,0] = 1\n",
    "    x[0,1] = i\n",
    "    x[0,2] = i**2\n",
    "    pred_x.append(i)\n",
    "    pred_y.append(float(x*LS.w))\n",
    "    LS.add_obs(x.T,noisy_y[i])\n",
    "print(LS.w)\n",
    "# plot the predicted values against the non-noisy output\n",
    "ax = plt.plot(pred_x, y-pred_y)\n",
    "plt.show()"
   ]
  },
  {
   "cell_type": "code",
   "execution_count": 65,
   "metadata": {},
   "outputs": [
    {
     "data": {
      "text/plain": [
       "matrix([[1.00000e+00, 9.99000e+02, 9.98001e+05]])"
      ]
     },
     "execution_count": 65,
     "metadata": {},
     "output_type": "execute_result"
    }
   ],
   "source": [
    "x"
   ]
  },
  {
   "cell_type": "code",
   "execution_count": 60,
   "metadata": {},
   "outputs": [
    {
     "data": {
      "application/vnd.jupyter.widget-view+json": {
       "model_id": "534b410028b94ca69dadddf0ad3e3d92",
       "version_major": 2,
       "version_minor": 0
      },
      "text/plain": [
       "Map(center=[51.292308, -0.484431], controls=(ZoomControl(options=['position', 'zoom_in_text', 'zoom_in_title',…"
      ]
     },
     "metadata": {},
     "output_type": "display_data"
    }
   ],
   "source": [
    "from ipyleaflet import (\n",
    "    Map,\n",
    "    Marker,\n",
    "    MarkerCluster,\n",
    "    TileLayer,\n",
    "    ImageOverlay,\n",
    "    Polyline,\n",
    "    Polygon,\n",
    "    Rectangle,\n",
    "    Circle,\n",
    "    CircleMarker,\n",
    "    Popup,\n",
    "    GeoJSON,\n",
    "    DrawControl,\n",
    "    basemaps,\n",
    "    AwesomeIcon\n",
    ")\n",
    "\n",
    "from ipywidgets import HTML, Layout\n",
    "\n",
    "center = [34.6252978589571, -77.34580993652344]\n",
    "zoom = 100\n",
    "\n",
    "m = Map(basemap=basemaps.Esri.WorldImagery, center=target_location, zoom=zoom, layout=Layout(width='800px', height='800px'))\n",
    "m.add_layer(\n",
    "    CircleMarker(location=target_location, radius=20)\n",
    ")\n",
    "m.add_layer(\n",
    "    MarkerCluster(markers=[\n",
    "        Marker(location=loc) for loc in locations\n",
    "    ],\n",
    "    disable_clustering_at_zoom=3)\n",
    ")\n",
    "\n",
    "avg = [sum(x)/len(x) for x in zip(*locations)]\n",
    "icon = AwesomeIcon(marker_color=\"red\")\n",
    "\n",
    "m.add_layer(\n",
    "    Marker(location=avg, color=\"red\", icon=icon)\n",
    ")\n",
    "\n",
    "m"
   ]
  },
  {
   "cell_type": "code",
   "execution_count": 6,
   "metadata": {},
   "outputs": [
    {
     "data": {
      "text/plain": [
       "Text(0, 0.5, 'pitch')"
      ]
     },
     "execution_count": 6,
     "metadata": {},
     "output_type": "execute_result"
    },
    {
     "data": {
      "image/png": "[encoded data removed]",
      "text/plain": [
       "<Figure size 432x288 with 2 Axes>"
      ]
     },
     "metadata": {
      "needs_background": "light"
     },
     "output_type": "display_data"
    }
   ],
   "source": [
    "plt.figure(3)\n",
    "plt.scatter(image_roll, image_pitch, c=dist_error, cmap='viridis')\n",
    "plt.colorbar()\n",
    "plt.grid()\n",
    "plt.xlabel(\"roll\")\n",
    "plt.ylabel(\"pitch\")"
   ]
  },
  {
   "cell_type": "code",
   "execution_count": 23,
   "metadata": {},
   "outputs": [],
   "source": [
    "import pandas as pd\n",
    "import numpy as np\n",
    "df = [{ \n",
    "    \"px\":row[1][0][0][0], \n",
    "    \"py\": row[1][0][0][1], \n",
    "    \"lat\": row[1][1].lat,\n",
    "    \"lon\": row[1][1].lon,\n",
    "    \"alt\": row[1][1].alt,\n",
    "    \"roll\": row[1][1].roll,\n",
    "    \"pitch\": row[1][1].pitch,\n",
    "    \"heading\": row[1][1].heading\n",
    "} for row in enumerate(all_data)]\n",
    "df.append({\n",
    "    \"px\":1920/2, \n",
    "    \"py\": 1080/2, \n",
    "    \"lat\": target_location[0],\n",
    "    \"lon\": target_location[1],\n",
    "    \"alt\": 100,\n",
    "    \"roll\": 0.4,\n",
    "    \"pitch\": 0.4,\n",
    "    \"heading\": 350\n",
    "})\n",
    "df = pd.DataFrame(df)\n"
   ]
  },
  {
   "cell_type": "code",
   "execution_count": 24,
   "metadata": {},
   "outputs": [
    {
     "name": "stdout",
     "output_type": "stream",
     "text": [
      "0.9799146525074567 0.5829135889557343\n"
     ]
    }
   ],
   "source": [
    "import pyproj\n",
    "import math\n",
    "geodesic = pyproj.Geod(ellps='WGS84')\n",
    "df[\"bearing_act\"] = df.apply(lambda row: geodesic.inv(target_location[0], target_location[1], row.lat, row.lon)[0], axis=1)\n",
    "df[\"distance_act\"] = df.apply(lambda row: geodesic.inv(target_location[0], target_location[1], row.lat, row.lon)[2], axis=1)\n",
    "df[\"anglez_act\"] = df.apply(lambda row: math.degrees(math.atan(row.distance_act/row.alt)), axis=1)\n",
    "\n",
    "RESOLUTION = np.array([1080, 1920]) # px\n",
    "ASPECT_RATIO = RESOLUTION[1]/RESOLUTION[0]\n",
    "SENSOR_W = 6.4 #mm\n",
    "SENSOR_H = SENSOR_W / ASPECT_RATIO #mm\n",
    "LENS_F = 6 #mm\n",
    "FOV_X = 2 * math.atan2(SENSOR_W/2, LENS_F)\n",
    "FOV_Y = 2 * math.atan2(SENSOR_H/2, LENS_F)\n",
    "print(FOV_X, FOV_Y)\n",
    "\n",
    "sin_rule = lambda alpha, a, b: math.asin(b * math.sin(alpha)/a)\n",
    "# calculate angle of point in FOV\n",
    "df[\"fov_angle_x\"] = df.apply(lambda row: sin_rule((math.pi/2 - FOV_X)/2, 915.1, row.px) - FOV_X/2, axis=1)\n",
    "df[\"fov_angle_y\"] = df.apply(lambda row: sin_rule((math.pi/2 - FOV_Y)/2, 578.90595, row.py) - FOV_Y/2, axis=1)\n",
    "# caculate the distance offset\n",
    "df[\"offset_x\"] = df.apply(lambda row: math.tan(row.fov_angle_x + row.roll) * row.alt, axis=1)\n",
    "df[\"offset_y\"] = df.apply(lambda row: math.tan(row.fov_angle_y + row.pitch) * row.alt, axis=1)\n",
    "# rotate points to account for heading\n",
    "df[\"Px\"] = df.apply(lambda row: row.offset_x * math.cos(math.radians(-row.heading)) - row.offset_y * math.sin(math.radians(-row.heading)), axis=1)\n",
    "df[\"Py\"] = df.apply(lambda row: row.offset_x * math.sin(math.radians(-row.heading)) + row.offset_y * math.cos(math.radians(-row.heading)), axis=1)\n",
    "# convert from meters to lat lon\n",
    "df[\"est_lat\"] = df.apply(lambda row: row.lat + row.Px/111320, axis=1)\n",
    "df[\"est_lon\"] = df.apply(lambda row: row.lon + row.Py/((40075000 * math.cos(math.radians(row.lat))) / 360), axis=1)\n",
    "\n",
    "df[\"distance_error\"] = df.apply(lambda row: geopy.distance.distance(target_location, (row.est_lat,row.est_lon)).m, axis=1)\n",
    "df[\"bearing_est\"] = df.apply(lambda row: geodesic.inv(row.est_lat, row.est_lon, row.lat, row.lon)[0], axis=1)\n",
    "df[\"distance_est\"] = df.apply(lambda row: geodesic.inv(row.est_lat, row.est_lon, row.lat, row.lon)[2], axis=1)\n",
    "df[\"anglez_est\"] = df.apply(lambda row: math.degrees(math.atan(row.distance_est/row.alt)), axis=1)\n",
    "\n",
    "df[\"est_lat2\"] = df.apply(lambda row: position_estimation.triangulate((row.px, row.py), LocationInfo(lat=row.lat, lon=row.lon, alt=row.alt, heading=row.heading, pitch=row.pitch, roll=row.roll))[0], axis=1)\n",
    "df[\"est_lon2\"] = df.apply(lambda row: position_estimation.triangulate((row.px, row.py), LocationInfo(lat=row.lat, lon=row.lon, alt=row.alt, heading=row.heading, pitch=row.pitch, roll=row.roll))[1], axis=1)\n",
    "\n",
    "df[\"distance_error2\"] = df.apply(lambda row: geopy.distance.distance(target_location, (row.est_lat2,row.est_lon2)).m, axis=1)\n",
    "df[\"bearing_est2\"] = df.apply(lambda row: geodesic.inv(row.est_lat2, row.est_lon2, row.lat, row.lon)[0], axis=1)\n",
    "df[\"distance_est2\"] = df.apply(lambda row: geodesic.inv(row.est_lat2, row.est_lon2, row.lat, row.lon)[2], axis=1)\n",
    "df[\"anglez_est2\"] = df.apply(lambda row: math.degrees(math.atan(row.distance_est2/row.alt)), axis=1)\n"
   ]
  },
  {
   "cell_type": "code",
   "execution_count": 9,
   "metadata": {},
   "outputs": [
    {
     "data": {
      "application/vnd.jupyter.widget-view+json": {
       "model_id": "978fc4f4471c4b9cb76693ffc8db95b7",
       "version_major": 2,
       "version_minor": 0
      },
      "text/plain": [
       "Map(center=[51.292308, -0.484431], controls=(ZoomControl(options=['position', 'zoom_in_text', 'zoom_in_title',…"
      ]
     },
     "metadata": {},
     "output_type": "display_data"
    }
   ],
   "source": [
    "coords = [(lat, lon) for lat,lon in zip(df.est_lat, df.est_lon)]\n",
    "\n",
    "from ipyleaflet import (\n",
    "    Map,\n",
    "    Marker,\n",
    "    MarkerCluster,\n",
    "    TileLayer,\n",
    "    ImageOverlay,\n",
    "    Polyline,\n",
    "    Polygon,\n",
    "    Rectangle,\n",
    "    Circle,\n",
    "    CircleMarker,\n",
    "    Popup,\n",
    "    GeoJSON,\n",
    "    DrawControl,\n",
    "    basemaps,\n",
    "    AwesomeIcon\n",
    ")\n",
    "\n",
    "from ipywidgets import HTML, Layout\n",
    "\n",
    "center = [34.6252978589571, -77.34580993652344]\n",
    "zoom = 100\n",
    "\n",
    "m = Map(basemap=basemaps.Esri.WorldImagery, center=target_location, zoom=zoom, layout=Layout(width='800px', height='800px'))\n",
    "m.add_layer(\n",
    "    CircleMarker(location=target_location, radius=20)\n",
    ")\n",
    "m.add_layer(\n",
    "    MarkerCluster(markers=[\n",
    "        Marker(location=loc) for loc in coords\n",
    "    ],\n",
    "    disable_clustering_at_zoom=3)\n",
    ")\n",
    "\n",
    "avg = [sum(x)/len(x) for x in zip(*coords)]\n",
    "icon = AwesomeIcon(marker_color=\"red\")\n",
    "\n",
    "m.add_layer(\n",
    "    Marker(location=avg, color=\"red\", icon=icon)\n",
    ")\n",
    "\n",
    "m"
   ]
  },
  {
   "cell_type": "code",
   "execution_count": 179,
   "metadata": {},
   "outputs": [
    {
     "data": {
      "text/plain": [
       "Text(0, 0.5, 'distance_est')"
      ]
     },
     "execution_count": 179,
     "metadata": {},
     "output_type": "execute_result"
    },
    {
     "data": {
      "image/png": "[encoded data removed]",
      "text/plain": [
       "<Figure size 432x288 with 2 Axes>"
      ]
     },
     "metadata": {
      "needs_background": "light"
     },
     "output_type": "display_data"
    },
    {
     "data": {
      "image/png": "[encoded data removed]",
      "text/plain": [
       "<Figure size 432x288 with 2 Axes>"
      ]
     },
     "metadata": {
      "needs_background": "light"
     },
     "output_type": "display_data"
    },
    {
     "data": {
      "image/png": "[encoded data removed]",
      "text/plain": [
       "<Figure size 432x288 with 2 Axes>"
      ]
     },
     "metadata": {
      "needs_background": "light"
     },
     "output_type": "display_data"
    },
    {
     "data": {
      "image/png": "[encoded data removed]",
      "text/plain": [
       "<Figure size 432x288 with 2 Axes>"
      ]
     },
     "metadata": {
      "needs_background": "light"
     },
     "output_type": "display_data"
    }
   ],
   "source": [
    "import matplotlib.pyplot as plt\n",
    "plt.figure(10)\n",
    "plt.scatter(df.alt, df.heading, c=df.distance_error, cmap='viridis')\n",
    "plt.colorbar()\n",
    "plt.grid()\n",
    "plt.xlabel(\"alt\")\n",
    "plt.ylabel(\"heading\")\n",
    "\n",
    "plt.figure(11)\n",
    "plt.scatter(df.bearing_act, df.bearing_est, c=df.distance_error, cmap='viridis')\n",
    "plt.colorbar()\n",
    "plt.grid()\n",
    "plt.xlabel(\"bearing_act\")\n",
    "plt.ylabel(\"bearing_est\")\n",
    "\n",
    "plt.figure(12)\n",
    "plt.scatter(df.anglez_act, df.anglez_est, c=df.distance_error, cmap='viridis')\n",
    "plt.colorbar()\n",
    "plt.grid()\n",
    "plt.xlabel(\"anglez_act\")\n",
    "plt.ylabel(\"anglez_est\")\n",
    "\n",
    "plt.figure(13)\n",
    "plt.scatter(df.distance_act, df.distance_est, c=df.distance_error, cmap='viridis')\n",
    "plt.colorbar()\n",
    "plt.grid()\n",
    "plt.xlabel(\"distance_act\")\n",
    "plt.ylabel(\"distance_est\")"
   ]
  },
  {
   "cell_type": "code",
   "execution_count": 148,
   "metadata": {},
   "outputs": [
    {
     "data": {
      "text/plain": [
       "Text(0, 0.5, 'pitch')"
      ]
     },
     "execution_count": 148,
     "metadata": {},
     "output_type": "execute_result"
    },
    {
     "data": {
      "image/png": "[encoded data removed]",
      "text/plain": [
       "<Figure size 432x288 with 2 Axes>"
      ]
     },
     "metadata": {
      "needs_background": "light"
     },
     "output_type": "display_data"
    }
   ],
   "source": [
    "plt.figure(3)\n",
    "plt.scatter(df.roll, df.pitch, c=df.distance_error, cmap='viridis')\n",
    "plt.colorbar()\n",
    "plt.grid()\n",
    "plt.xlabel(\"roll\")\n",
    "plt.ylabel(\"pitch\")"
   ]
  },
  {
   "cell_type": "markdown",
   "metadata": {},
   "source": [
    "tried morphology, reduces noise but increases processing time by ~5%. doesn't seem to affect accuracy.\n",
    "https://docs.opencv.org/3.4/d9/d61/tutorial_py_morphological_ops.html\n",
    "\n",
    "tried CLACHE - no noticeable accuracy increase\n",
    "\n",
    "tried making C more negative - reduces noise and chance of identifying target"
   ]
  },
  {
   "cell_type": "code",
   "execution_count": 4,
   "metadata": {},
   "outputs": [
    {
     "name": "stdout",
     "output_type": "stream",
     "text": [
      "0.7666666666666667\n",
      "23\n",
      "30\n"
     ]
    }
   ],
   "source": [
    "directory = r\"C:\\Users\\olive\\University of Surrey\\UAS2 - General\\2 Avionics\\4 Testing\\Image Rec\\10_04_22\\squares\"\n",
    "files = [f for f in os.listdir(directory)]\n",
    "\n",
    "\n",
    "options = {\n",
    "    \"block_size\": 399,\n",
    "    \"c\": -39,\n",
    "    \"ksize\": 39,\n",
    "    \"sigma\": 0,\n",
    "    \"epsilon\": 0.1,\n",
    "    \"square_ar\": 0.2,\n",
    "    \"min_area\": 1000,\n",
    "    \"sides\":[4],\n",
    "    \"min_solidity\": 0.6,\n",
    "    \"debug\":True\n",
    "}\n",
    "\n",
    "results = 0\n",
    "false_positives = []\n",
    "\n",
    "for file in files:\n",
    "    image = cv2.imread(directory + \"//\" + file)\n",
    "    result = find_targets(image, options)\n",
    "    try:\n",
    "        result[0]\n",
    "        results+=1\n",
    "    except KeyboardInterrupt:\n",
    "        raise Exception()\n",
    "    except Exception:\n",
    "        #find_targets(image, options)\n",
    "        pass\n",
    "\n",
    "print(results/len(files))\n",
    "print(results)\n",
    "print(len(files))\n"
   ]
  },
  {
   "cell_type": "code",
   "execution_count": null,
   "metadata": {},
   "outputs": [],
   "source": [
    "directory = r\"C:\\Users\\olive\\University of Surrey\\UAS2 - General\\2 Avionics\\4 Testing\\Image Rec\\03_04_22\\square\"\n",
    "image_number = 23\n",
    "files = [f for f in os.listdir(directory)]\n",
    "image = cv2.imread(directory + \"//\" + files[image_number])\n",
    "\n",
    "options = {\n",
    "    \"block_size\": 399,\n",
    "    \"c\": -39,\n",
    "    \"ksize\": 39,\n",
    "    \"sigma\": 0,\n",
    "    \"epsilon\": 0.1,\n",
    "    \"square_ar\": 0.2,\n",
    "    \"min_area\": 1000,\n",
    "    \"sides\":[4],\n",
    "    \"debug\":False\n",
    "}\n",
    "\n",
    "imgGray = cv2.cvtColor(image, cv2.COLOR_BGR2GRAY)\n",
    "display(imgGray)\n",
    "clahe = cv2.createCLAHE(clipLimit=2.0, tileGridSize=(8,8))\n",
    "cl1 = clahe.apply(imgGray)\n",
    "display(cl1)\n",
    "imgBlurred = cv2.GaussianBlur(cl1, (59,59),0)\n",
    "# laplacian = cv2.Laplacian(cv2.bitwise_not(imgBlurred),cv2.CV_64F)\n",
    "# display(laplacian)\n",
    "img_thresh = cv2.adaptiveThreshold(\n",
    "    imgBlurred,\n",
    "    255,\n",
    "    cv2.ADAPTIVE_THRESH_MEAN_C, \n",
    "    cv2.THRESH_BINARY,\n",
    "    399,\n",
    "    -69\n",
    ")\n",
    "display(img_thresh)\n",
    "\n",
    "contours, hierarchy = cv2.findContours(img_thresh, cv2.RETR_EXTERNAL, cv2.CHAIN_APPROX_SIMPLE)[-2:]\n",
    "squareIndexes = filterContours(contours, options)\n",
    "\n",
    "for index in squareIndexes:\n",
    "    cv2.drawContours(image, contours[index], -1, (0, 255, 0), 3)\n",
    "display(image)"
   ]
  },
  {
   "cell_type": "code",
   "execution_count": 4,
   "metadata": {},
   "outputs": [
    {
     "name": "stdout",
     "output_type": "stream",
     "text": [
      "1920 1080\n"
     ]
    }
   ],
   "source": [
    "import numpy as np\n",
    "\n",
    "src = image\n",
    "width  = src.shape[1]\n",
    "height = src.shape[0]\n",
    "\n",
    "# https://stackoverflow.com/questions/26602981/correct-barrel-distortion-in-opencv-manually-without-chessboard-image\n",
    "\n",
    "distCoeff = np.zeros((4,1),np.float64)\n",
    "\n",
    "distCoeff[0,0] = -0.7e-5 # k1\n",
    "distCoeff[1,0] = 0 # k2\n",
    "distCoeff[2,0] = 0 # p1\n",
    "distCoeff[3,0] = 0.0 # p2\n",
    "\n",
    "# assume unit matrix for camera\n",
    "cam = np.eye(3,dtype=np.float32)\n",
    "\n",
    "cam[0,2] = width/2.0  # define center x \n",
    "cam[1,2] = height/2.0 # define center y\n",
    "cam[0,0] = 10        # define focal length x\n",
    "cam[1,1] = 6        # define focal length y\n",
    "\n",
    "\n",
    "image = cv2.imread(directory + \"//\" + files[3])\n",
    "\n",
    "dst = cv2.undistort(image,cam,distCoeff)\n",
    "\n",
    "numpy_vertical = np.vstack((image, dst))\n",
    "\n",
    "width  = dst.shape[1]\n",
    "height = dst.shape[0]\n",
    "print(width, height)\n",
    "\n",
    "display(numpy_vertical)"
   ]
  },
  {
   "cell_type": "code",
   "execution_count": 1,
   "metadata": {},
   "outputs": [
    {
     "name": "stdout",
     "output_type": "stream",
     "text": [
      "debug\n"
     ]
    }
   ],
   "source": [
    "import numpy as np\n",
    "import cv2 as cv\n",
    "from theia.image_segmentation import find_targets\n",
    "\n",
    "directory = r\"C:\\Users\\pm\\Downloads\\images\"\n",
    "files = [f for f in os.listdir(directory)]\n",
    "\n",
    "for image_number in range(0,len(files)):\n",
    "    image = cv.imread(directory + \"/\" + files[image_number])\n",
    "\n",
    "    options = {\n",
    "            \"block_size\": 399,\n",
    "            \"c\": -39,\n",
    "            \"ksize\": 39,\n",
    "            \"sigma\": 0,\n",
    "            \"epsilon\": 0.1,\n",
    "            \"min_area\": 1000,\n",
    "            \"sides\":[4],\n",
    "            \"min_solidity\": 0.6,\n",
    "            \"debug\": True\n",
    "    }\n",
    "    find_targets(image,options)\n",
    "\n"
   ]
  }
 ],
 "metadata": {
  "kernelspec": {
   "display_name": "Python 3.10.2 ('uas-theia-zLeGUkOx')",
   "language": "python",
   "name": "python3"
  },
  "language_info": {
   "codemirror_mode": {
    "name": "ipython",
    "version": 3
   },
   "file_extension": ".py",
   "mimetype": "text/x-python",
   "name": "python",
   "nbconvert_exporter": "python",
   "pygments_lexer": "ipython3",
   "version": "3.10.2"
  },
  "orig_nbformat": 4,
  "vscode": {
   "interpreter": {
    "hash": "8ca03b205fe5da1473e6f3740c967e2915a8ce6808e7596b94f4f9930a695c3b"
   }
  }
 },
 "nbformat": 4,
 "nbformat_minor": 2
}
