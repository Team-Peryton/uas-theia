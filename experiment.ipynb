{
 "cells": [
  {
   "cell_type": "markdown",
   "metadata": {},
   "source": [
    "# IR experimental code"
   ]
  },
  {
   "cell_type": "code",
   "execution_count": 1,
   "metadata": {},
   "outputs": [],
   "source": [
    "import math\n",
    "import os\n",
    "from typing import List, Tuple\n",
    "\n",
    "import cv2\n",
    "import numpy as np\n",
    "import pandas as pd\n",
    "import matplotlib.pyplot as plt\n",
    "\n",
    "from theia.utils import display, read_positions"
   ]
  },
  {
   "cell_type": "code",
   "execution_count": 2,
   "metadata": {},
   "outputs": [],
   "source": [
    "def approxContour(contour, options):\n",
    "    \"\"\"\n",
    "    fit contour to a simpler shape\n",
    "    accuracy is based on EPSILON_MULTIPLY\n",
    "    \"\"\"\n",
    "    epsilon = options['epsilon'] * cv2.arcLength(contour, True)\n",
    "    approx = cv2.approxPolyDP(contour, epsilon, True)\n",
    "    return approx"
   ]
  },
  {
   "cell_type": "code",
   "execution_count": 3,
   "metadata": {},
   "outputs": [],
   "source": [
    "def calc_distance(p1, p2):\n",
    "    \"\"\" return the distance between two points \"\"\"\n",
    "    return math.sqrt(((p2[0] - p1[0])**2) + ((p2[1] - p1[1])**2))\n",
    "\n",
    "\n",
    "def get_contour_lengths(approx: List[List[List[int]]]) -> List[int]:\n",
    "    \"\"\" \n",
    "    extract lengths from the co-ordinates \n",
    "    \"\"\"\n",
    "    # unnest and arrange into each corner co-ords\n",
    "    # this could be done programmatically but not really worth it\n",
    "    verticies = [\n",
    "            [approx[0][0], approx[1][0]],\n",
    "            [approx[1][0], approx[2][0]],\n",
    "            [approx[2][0], approx[3][0]],\n",
    "            [approx[3][0], approx[0][0]]\n",
    "        ]\n",
    "    lengths = list(map(lambda x: calc_distance(x[0], x[1]), verticies))\n",
    "    return sorted(lengths)\n",
    "\n",
    "\n",
    "def is_square(lengths, options) -> bool:\n",
    "    \"\"\" check if the longest side is close in length to the shortest side \"\"\"\n",
    "    a = ((lengths[3] - lengths[0]) / lengths[3]) < options[\"square_ar\"]\n",
    "    b = ((lengths[3] - lengths[1]) / lengths[3]) < options[\"square_ar\"]\n",
    "    c = ((lengths[3] - lengths[1]) / lengths[3]) < options[\"square_ar\"]\n",
    "    return a & b & c"
   ]
  },
  {
   "cell_type": "code",
   "execution_count": 32,
   "metadata": {},
   "outputs": [],
   "source": [
    "def filterContours(contours, options):\n",
    "    \"\"\" \n",
    "    return only the contours that are squares\n",
    "    \"\"\"\n",
    "    squareIndexes = []\n",
    "\n",
    "    # filter contours\n",
    "    for i, contour in enumerate(contours):  # for each of the found contours\n",
    "        if cv2.contourArea(contour) > options[\"min_area\"]:\n",
    "            approx = approxContour(contour, options)\n",
    "            if len(approx) in options[\"sides\"]:\n",
    "                area = cv2.contourArea(approx)\n",
    "                hull = cv2.convexHull(approx)\n",
    "                hull_area = cv2.contourArea(hull)\n",
    "                solidity = float(area)/hull_area\n",
    "                if solidity > options[\"min_solidity\"]:\n",
    "                    squareIndexes.append(i)\n",
    "                #if is_square(get_contour_lengths(approx), options):\n",
    "    \n",
    "    return squareIndexes"
   ]
  },
  {
   "cell_type": "code",
   "execution_count": 5,
   "metadata": {},
   "outputs": [],
   "source": [
    "def target_centre(contour: list) -> Tuple[int, int]:\n",
    "    \"\"\" \n",
    "    given the square corners, return the centre of the square \n",
    "    \"\"\"\n",
    "    x = sum([item[0] for item in contour])/4\n",
    "    y = sum([item[1] for item in contour])/4\n",
    "    return int(x), int(y)"
   ]
  },
  {
   "cell_type": "code",
   "execution_count": 27,
   "metadata": {},
   "outputs": [],
   "source": [
    "clahe = cv2.createCLAHE(clipLimit=2.0, tileGridSize=(8,8))\n",
    "\n",
    "def find_targets(image: np.ndarray, options) -> List[List[Tuple[int,int]]]:\n",
    "    \"\"\" \n",
    "    return the centre position within the image\n",
    "    \"\"\"\n",
    "    imgGray = cv2.cvtColor(image, cv2.COLOR_BGR2GRAY)\n",
    "    #cl1 = clahe.apply(imgGray)\n",
    "    imgBlurred = cv2.GaussianBlur(imgGray, (options[\"ksize\"], options[\"ksize\"]), options[\"sigma\"])\n",
    "    img_thresh = cv2.adaptiveThreshold(\n",
    "        imgBlurred,\n",
    "        255,\n",
    "        cv2.ADAPTIVE_THRESH_MEAN_C, \n",
    "        cv2.THRESH_BINARY,\n",
    "        options[\"block_size\"],\n",
    "        options[\"c\"]\n",
    "    )\n",
    "\n",
    "    #img_morph = cv2.morphologyEx(img_thresh, cv2.MORPH_OPEN, options[\"kernel\"])\n",
    "    \n",
    "    if options[\"debug\"]: \n",
    "        display(img_thresh)\n",
    "\n",
    "    contours, hierarchy = cv2.findContours(img_thresh, cv2.RETR_EXTERNAL, cv2.CHAIN_APPROX_SIMPLE)[-2:]\n",
    "    squareIndexes = filterContours(contours, options)\n",
    "    \n",
    "    if options[\"debug\"]:\n",
    "        imgCopy = image\n",
    "        # for cont in contours:\n",
    "        #     cv2.drawContours(imgCopy, cont, -1, (0, 255, 0), 3)\n",
    "        # display(imgCopy)\n",
    "        img2 = image\n",
    "        for index in squareIndexes:\n",
    "            cv2.drawContours(img2, contours[index], -1, (0, 255, 0), 3)\n",
    "        display(img2)\n",
    "\n",
    "    # this for loop is mainly to check if there are multiple squares in the same image\n",
    "    # otherwise there would not be a loop\n",
    "    \n",
    "    results = []\n",
    "    for index in squareIndexes:\n",
    "        target_contour = approxContour(contours[index], options)\n",
    "\n",
    "        reshaped = target_contour.reshape(4,2)\n",
    "\n",
    "        centre = target_centre(reshaped)\n",
    "\n",
    "        results.append(\n",
    "            centre\n",
    "        )\n",
    "\n",
    "\n",
    "    if len(results) == 0:\n",
    "        pass\n",
    "\n",
    "    return results"
   ]
  },
  {
   "cell_type": "markdown",
   "metadata": {},
   "source": [
    "# sim_dataset testing"
   ]
  },
  {
   "cell_type": "code",
   "execution_count": 7,
   "metadata": {},
   "outputs": [],
   "source": [
    "def centre_check(predicted, actual, tol=20) -> bool:\n",
    "    \"\"\" True if the centre is as expected else False \"\"\"\n",
    "    x = math.isclose(predicted[0], actual[0], abs_tol=tol)\n",
    "    y = math.isclose(predicted[1], actual[1], abs_tol=tol)\n",
    "    return x & y"
   ]
  },
  {
   "cell_type": "code",
   "execution_count": 8,
   "metadata": {},
   "outputs": [],
   "source": [
    "ref = read_positions(\"./dataset/target_positions\")"
   ]
  },
  {
   "cell_type": "code",
   "execution_count": 25,
   "metadata": {},
   "outputs": [
    {
     "name": "stdout",
     "output_type": "stream",
     "text": [
      "IMG_160729_071816_0092_RGB.JPG\n",
      "[(977, 635)]\n",
      "False\n",
      "True\n"
     ]
    }
   ],
   "source": [
    "image_number = 50\n",
    "files = [f for f in os.listdir('./dataset/sim_dataset/')]\n",
    "image = cv2.imread('./dataset/sim_dataset/' + files[image_number])\n",
    "print(files[image_number])\n",
    "\n",
    "options = {\n",
    "    \"block_size\": 399,\n",
    "    \"c\": -39,\n",
    "    \"ksize\": 39,\n",
    "    \"sigma\": 0,\n",
    "    \"epsilon\": 0.1,\n",
    "    \"square_ar\": 0.2,\n",
    "    \"min_area\": 10000,\n",
    "    \"sides\":[4],\n",
    "    \"debug\":True,\n",
    "    \"kernel\": np.ones((30,30),np.uint8)\n",
    "}\n",
    "\n",
    "predicted = find_targets(image, options)\n",
    "print(predicted)\n",
    "actual = ref[files[image_number]]\n",
    "print(centre_check(predicted[0], actual))\n",
    "print(len(predicted) == 1)"
   ]
  },
  {
   "cell_type": "code",
   "execution_count": 30,
   "metadata": {},
   "outputs": [
    {
     "name": "stdout",
     "output_type": "stream",
     "text": [
      "accuracy: 89.02 %\n",
      "false positives 1.15 %\n",
      "no. images: 173\n"
     ]
    }
   ],
   "source": [
    "results = []\n",
    "false_positives = []\n",
    "\n",
    "for file in files:\n",
    "    image = cv2.imread('./dataset/sim_dataset/' + file)\n",
    "    result = find_targets(image, options, debug=False)\n",
    "    try:\n",
    "        result[0]\n",
    "        for r in result:\n",
    "            actual = ref[file]\n",
    "            if centre_check(r, actual):\n",
    "                results.append(1)\n",
    "            else:\n",
    "                results.append(0)\n",
    "                false_positives.append(1)\n",
    "\n",
    "    except:\n",
    "        #result = find_targets(image, options, debug=True)\n",
    "        results.append(0)\n",
    "\n",
    "print(f\"accuracy: {round(sum(results)/len(files) * 100, 2)} %\")\n",
    "print(f\"false positives {round(sum(false_positives)/len(results) * 100, 2)} %\")\n",
    "print(f\"no. images: {len(files)}\")"
   ]
  },
  {
   "cell_type": "markdown",
   "metadata": {},
   "source": [
    "# Understanding parameter effects"
   ]
  },
  {
   "cell_type": "code",
   "execution_count": null,
   "metadata": {},
   "outputs": [],
   "source": [
    "results = []\n",
    "image = cv2.imread('./dataset/sim_dataset/' + files[image_number])\n",
    "\n",
    "for block_size in range(29, 249, 20):\n",
    "    print(block_size)\n",
    "    for c in range(-100, 20, 20):\n",
    "        for ksize in range(1, 9, 2):\n",
    "            for sigma in [0]: #range(0, 10, 2):\n",
    "                options = {\n",
    "                    \"block_size\": block_size,\n",
    "                    \"c\": c,\n",
    "                    \"ksize\": ksize,\n",
    "                    \"sigma\": sigma\n",
    "                }\n",
    "                result = find_targets(image, options, debug=False)\n",
    "                try:\n",
    "                    result[0]\n",
    "                    if result[0][0] > 1080 and result[0][0] < 1100:\n",
    "                        ans = 1\n",
    "                    else:\n",
    "                        ans = 0\n",
    "                except:\n",
    "                    ans = 0\n",
    "                \n",
    "                results.append((block_size, c, ksize, sigma, ans))"
   ]
  },
  {
   "cell_type": "code",
   "execution_count": null,
   "metadata": {},
   "outputs": [
    {
     "data": {
      "text/html": [
       "<div>\n",
       "<style scoped>\n",
       "    .dataframe tbody tr th:only-of-type {\n",
       "        vertical-align: middle;\n",
       "    }\n",
       "\n",
       "    .dataframe tbody tr th {\n",
       "        vertical-align: top;\n",
       "    }\n",
       "\n",
       "    .dataframe thead th {\n",
       "        text-align: right;\n",
       "    }\n",
       "</style>\n",
       "<table border=\"1\" class=\"dataframe\">\n",
       "  <thead>\n",
       "    <tr style=\"text-align: right;\">\n",
       "      <th></th>\n",
       "      <th>0</th>\n",
       "      <th>1</th>\n",
       "      <th>2</th>\n",
       "      <th>3</th>\n",
       "      <th>4</th>\n",
       "    </tr>\n",
       "  </thead>\n",
       "  <tbody>\n",
       "    <tr>\n",
       "      <th>0</th>\n",
       "      <td>29</td>\n",
       "      <td>-100</td>\n",
       "      <td>1</td>\n",
       "      <td>0</td>\n",
       "      <td>0</td>\n",
       "    </tr>\n",
       "    <tr>\n",
       "      <th>1</th>\n",
       "      <td>29</td>\n",
       "      <td>-100</td>\n",
       "      <td>3</td>\n",
       "      <td>0</td>\n",
       "      <td>0</td>\n",
       "    </tr>\n",
       "    <tr>\n",
       "      <th>2</th>\n",
       "      <td>29</td>\n",
       "      <td>-100</td>\n",
       "      <td>5</td>\n",
       "      <td>0</td>\n",
       "      <td>0</td>\n",
       "    </tr>\n",
       "    <tr>\n",
       "      <th>3</th>\n",
       "      <td>29</td>\n",
       "      <td>-100</td>\n",
       "      <td>7</td>\n",
       "      <td>0</td>\n",
       "      <td>0</td>\n",
       "    </tr>\n",
       "    <tr>\n",
       "      <th>4</th>\n",
       "      <td>29</td>\n",
       "      <td>-80</td>\n",
       "      <td>1</td>\n",
       "      <td>0</td>\n",
       "      <td>0</td>\n",
       "    </tr>\n",
       "    <tr>\n",
       "      <th>...</th>\n",
       "      <td>...</td>\n",
       "      <td>...</td>\n",
       "      <td>...</td>\n",
       "      <td>...</td>\n",
       "      <td>...</td>\n",
       "    </tr>\n",
       "    <tr>\n",
       "      <th>331</th>\n",
       "      <td>289</td>\n",
       "      <td>-20</td>\n",
       "      <td>7</td>\n",
       "      <td>0</td>\n",
       "      <td>0</td>\n",
       "    </tr>\n",
       "    <tr>\n",
       "      <th>332</th>\n",
       "      <td>289</td>\n",
       "      <td>0</td>\n",
       "      <td>1</td>\n",
       "      <td>0</td>\n",
       "      <td>0</td>\n",
       "    </tr>\n",
       "    <tr>\n",
       "      <th>333</th>\n",
       "      <td>289</td>\n",
       "      <td>0</td>\n",
       "      <td>3</td>\n",
       "      <td>0</td>\n",
       "      <td>0</td>\n",
       "    </tr>\n",
       "    <tr>\n",
       "      <th>334</th>\n",
       "      <td>289</td>\n",
       "      <td>0</td>\n",
       "      <td>5</td>\n",
       "      <td>0</td>\n",
       "      <td>0</td>\n",
       "    </tr>\n",
       "    <tr>\n",
       "      <th>335</th>\n",
       "      <td>289</td>\n",
       "      <td>0</td>\n",
       "      <td>7</td>\n",
       "      <td>0</td>\n",
       "      <td>0</td>\n",
       "    </tr>\n",
       "  </tbody>\n",
       "</table>\n",
       "<p>336 rows × 5 columns</p>\n",
       "</div>"
      ],
      "text/plain": [
       "       0    1  2  3  4\n",
       "0     29 -100  1  0  0\n",
       "1     29 -100  3  0  0\n",
       "2     29 -100  5  0  0\n",
       "3     29 -100  7  0  0\n",
       "4     29  -80  1  0  0\n",
       "..   ...  ... .. .. ..\n",
       "331  289  -20  7  0  0\n",
       "332  289    0  1  0  0\n",
       "333  289    0  3  0  0\n",
       "334  289    0  5  0  0\n",
       "335  289    0  7  0  0\n",
       "\n",
       "[336 rows x 5 columns]"
      ]
     },
     "execution_count": 152,
     "metadata": {},
     "output_type": "execute_result"
    }
   ],
   "source": [
    "df = pd.DataFrame(results)"
   ]
  },
  {
   "cell_type": "code",
   "execution_count": null,
   "metadata": {},
   "outputs": [
    {
     "data": {
      "text/plain": [
       "<matplotlib.collections.PathCollection at 0x1b0cf7255e0>"
      ]
     },
     "execution_count": 179,
     "metadata": {},
     "output_type": "execute_result"
    },
    {
     "data": {
      "image/png": "[encoded data removed]",
      "text/plain": [
       "<Figure size 432x288 with 1 Axes>"
      ]
     },
     "metadata": {
      "needs_background": "light"
     },
     "output_type": "display_data"
    }
   ],
   "source": [
    "plt.scatter(df[0], df[1], s=df[4]*100, alpha=0.1)"
   ]
  },
  {
   "cell_type": "code",
   "execution_count": null,
   "metadata": {},
   "outputs": [],
   "source": [
    "df = df[df[4] == 1]"
   ]
  },
  {
   "cell_type": "code",
   "execution_count": null,
   "metadata": {},
   "outputs": [
    {
     "data": {
      "text/plain": [
       "<matplotlib.collections.PathCollection at 0x1b0cfc75700>"
      ]
     },
     "execution_count": 213,
     "metadata": {},
     "output_type": "execute_result"
    },
    {
     "data": {
      "image/png": "[encoded data removed]",
      "text/plain": [
       "<Figure size 432x288 with 1 Axes>"
      ]
     },
     "metadata": {
      "needs_background": "light"
     },
     "output_type": "display_data"
    }
   ],
   "source": [
    "df2 = df[df[1] == -20]\n",
    "plt.scatter(df2[0], df2[2], s=100, alpha=1)"
   ]
  },
  {
   "cell_type": "markdown",
   "metadata": {},
   "source": [
    "# Testing main IR functions"
   ]
  },
  {
   "cell_type": "code",
   "execution_count": 1,
   "metadata": {},
   "outputs": [
    {
     "name": "stdout",
     "output_type": "stream",
     "text": [
      "IMG_160729_071816_0092_RGB.JPG\n"
     ]
    }
   ],
   "source": [
    "from theia import main\n",
    "from theia import spec\n",
    "import cv2\n",
    "import os\n",
    "from importlib import reload\n",
    "reload(main)\n",
    "\n",
    "loc = spec.LocationInfo()\n",
    "image_number = 50\n",
    "files = [f for f in os.listdir('./dataset/sim_dataset/')]\n",
    "image = cv2.imread('./dataset/sim_dataset/' + files[image_number])\n",
    "print(files[image_number])\n",
    "base_dir = os.getcwd()"
   ]
  },
  {
   "cell_type": "code",
   "execution_count": 2,
   "metadata": {},
   "outputs": [
    {
     "name": "stderr",
     "output_type": "stream",
     "text": [
      "2022-01-26 14:54:42,172, [INFO], main , processing image\n",
      "2022-01-26 14:54:42,492, [INFO], main , ImageRecognitionResult(image_name='c:\\\\Users\\\\olive\\\\Documents\\\\GitHub\\\\uas-theia\\\\runtime\\\\26012022_14-54-42.240916.jpg', centre=(2310, 3193), position=(0.0, 0.0))\n"
     ]
    }
   ],
   "source": [
    "ir = main.ImageRecognition(base_dir)\n",
    "ir.image_recognition(image, loc)"
   ]
  },
  {
   "cell_type": "markdown",
   "metadata": {},
   "source": [
    "# Experimenting with perspective"
   ]
  },
  {
   "cell_type": "code",
   "execution_count": 18,
   "metadata": {},
   "outputs": [
    {
     "name": "stdout",
     "output_type": "stream",
     "text": [
      "900-900.jpg\n",
      "[(1318, 2534), (3707, 288)]\n",
      "0.01\n",
      "True\n"
     ]
    }
   ],
   "source": [
    "ref = read_positions(\"./dataset/target_positions_transformed\")\n",
    "\n",
    "result = 0\n",
    "files = [f for f in os.listdir('./dataset/transform_dataset/')]\n",
    "for image_number in [99]: #range(len(files)):\n",
    "    image = cv2.imread('./dataset/transform_dataset/' + files[image_number])\n",
    "    print(files[image_number])\n",
    "\n",
    "    options = {\n",
    "        \"block_size\": 249,\n",
    "        \"c\": -39,\n",
    "        \"ksize\": 49,\n",
    "        \"sigma\": 0,\n",
    "        \"epsilon\": 0.02,\n",
    "        \"square_ar\": 0.4,\n",
    "        \"min_area\": 3000,\n",
    "    }\n",
    "\n",
    "    predicted = find_targets(image, options, debug=True)\n",
    "    if len(predicted) >= 0:\n",
    "        result+=1\n",
    "    print(predicted)\n",
    "\n",
    "print(result/len(files))\n",
    "print(centre_check(predicted[0], (1316, 2532)))"
   ]
  },
  {
   "cell_type": "code",
   "execution_count": 33,
   "metadata": {},
   "outputs": [
    {
     "name": "stdout",
     "output_type": "stream",
     "text": [
      "accuracy: 80.35 %\n",
      "false positives 13.55 %\n",
      "no. images: 1557\n"
     ]
    }
   ],
   "source": [
    "options = {\n",
    "    \"block_size\": 249,\n",
    "    \"c\": -39,\n",
    "    \"ksize\": 49,\n",
    "    \"sigma\": 0,\n",
    "    \"epsilon\": 0.02,\n",
    "    \"square_ar\": 0.4,\n",
    "    \"min_area\": 3000,\n",
    "}\n",
    "ref = read_positions(\"./dataset/target_positions_transformed\", offset=0)\n",
    "files = [f for f in os.listdir('./dataset/transform_dataset/')]\n",
    "results = []\n",
    "false_positives = []\n",
    "\n",
    "for file in files:\n",
    "    image = cv2.imread('./dataset/transform_dataset/' + file)\n",
    "    result = find_targets(image, options, debug=False)\n",
    "    try:\n",
    "        result[0]\n",
    "        for r in result:\n",
    "            actual = ref[file]\n",
    "\n",
    "            if centre_check(r, actual):\n",
    "                results.append(1)\n",
    "            else:\n",
    "                results.append(0)\n",
    "                false_positives.append(1)\n",
    "\n",
    "    except Exception as e:\n",
    "        results.append(0)\n",
    "\n",
    "print(f\"accuracy: {round(sum(results)/len(files) * 100, 2)} %\")\n",
    "print(f\"false positives {round(sum(false_positives)/len(results) * 100, 2)} %\")\n",
    "print(f\"no. images: {len(files)}\")"
   ]
  },
  {
   "cell_type": "markdown",
   "metadata": {},
   "source": [
    "# other"
   ]
  },
  {
   "cell_type": "code",
   "execution_count": 10,
   "metadata": {},
   "outputs": [
    {
     "name": "stdout",
     "output_type": "stream",
     "text": [
      "[(475, 1037)]\n",
      "[0.0005215597226789515]\n",
      "[]\n",
      "list index out of range\n",
      "[(326, 1060)]\n",
      "[0.0005215597226789515, 0.000707420318401098]\n",
      "[(1839, 569)]\n",
      "[0.0005215597226789515, 0.000707420318401098, 0.004484712732642409]\n",
      "[(145, 1027)]\n",
      "[0.0005215597226789515, 0.000707420318401098, 0.004484712732642409, 0.0009923640058472126]\n",
      "[(1475, 786)]\n",
      "[0.0005215597226789515, 0.000707420318401098, 0.004484712732642409, 0.0009923640058472126, 0.0011011556689582759]\n",
      "[(125, 758)]\n",
      "[0.0005215597226789515, 0.000707420318401098, 0.004484712732642409, 0.0009923640058472126, 0.0011011556689582759, 0.0010564144607505515]\n",
      "[(374, 758)]\n",
      "[0.0005215597226789515, 0.000707420318401098, 0.004484712732642409, 0.0009923640058472126, 0.0011011556689582759, 0.0010564144607505515, 0.000708624103982159]\n",
      "[(1113, 202)]\n",
      "[0.0005215597226789515, 0.000707420318401098, 0.004484712732642409, 0.0009923640058472126, 0.0011011556689582759, 0.0010564144607505515, 0.000708624103982159, 0.0019270476243591164]\n",
      "[(1128, 912)]\n",
      "[0.0005215597226789515, 0.000707420318401098, 0.004484712732642409, 0.0009923640058472126, 0.0011011556689582759, 0.0010564144607505515, 0.000708624103982159, 0.0019270476243591164, 0.0006117859999184206]\n",
      "[(1091, 1039)]\n",
      "[0.0005215597226789515, 0.000707420318401098, 0.004484712732642409, 0.0009923640058472126, 0.0011011556689582759, 0.0010564144607505515, 0.000708624103982159, 0.0019270476243591164, 0.0006117859999184206, 0.0027903479568766845]\n",
      "[(1491, 747)]\n",
      "[0.0005215597226789515, 0.000707420318401098, 0.004484712732642409, 0.0009923640058472126, 0.0011011556689582759, 0.0010564144607505515, 0.000708624103982159, 0.0019270476243591164, 0.0006117859999184206, 0.0027903479568766845, 0.0023241861944116025]\n",
      "[(873, 786)]\n",
      "[0.0005215597226789515, 0.000707420318401098, 0.004484712732642409, 0.0009923640058472126, 0.0011011556689582759, 0.0010564144607505515, 0.000708624103982159, 0.0019270476243591164, 0.0006117859999184206, 0.0027903479568766845, 0.0023241861944116025, 0.0015028694127368787]\n",
      "[(1315, 1001)]\n",
      "[0.0005215597226789515, 0.000707420318401098, 0.004484712732642409, 0.0009923640058472126, 0.0011011556689582759, 0.0010564144607505515, 0.000708624103982159, 0.0019270476243591164, 0.0006117859999184206, 0.0027903479568766845, 0.0023241861944116025, 0.0015028694127368787, 0.0011707124064010647]\n",
      "[(1846, 557)]\n",
      "[0.0005215597226789515, 0.000707420318401098, 0.004484712732642409, 0.0009923640058472126, 0.0011011556689582759, 0.0010564144607505515, 0.000708624103982159, 0.0019270476243591164, 0.0006117859999184206, 0.0027903479568766845, 0.0023241861944116025, 0.0015028694127368787, 0.0011707124064010647, 0.0023008550299088697]\n",
      "[(1440, 177)]\n",
      "[0.0005215597226789515, 0.000707420318401098, 0.004484712732642409, 0.0009923640058472126, 0.0011011556689582759, 0.0010564144607505515, 0.000708624103982159, 0.0019270476243591164, 0.0006117859999184206, 0.0027903479568766845, 0.0023241861944116025, 0.0015028694127368787, 0.0011707124064010647, 0.0023008550299088697, 0.0024857003032390575]\n",
      "[(824, 461)]\n",
      "[0.0005215597226789515, 0.000707420318401098, 0.004484712732642409, 0.0009923640058472126, 0.0011011556689582759, 0.0010564144607505515, 0.000708624103982159, 0.0019270476243591164, 0.0006117859999184206, 0.0027903479568766845, 0.0023241861944116025, 0.0015028694127368787, 0.0011707124064010647, 0.0023008550299088697, 0.0024857003032390575, 0.005537443805670708]\n",
      "[(1789, 447)]\n",
      "[0.0005215597226789515, 0.000707420318401098, 0.004484712732642409, 0.0009923640058472126, 0.0011011556689582759, 0.0010564144607505515, 0.000708624103982159, 0.0019270476243591164, 0.0006117859999184206, 0.0027903479568766845, 0.0023241861944116025, 0.0015028694127368787, 0.0011707124064010647, 0.0023008550299088697, 0.0024857003032390575, 0.005537443805670708, 0.0015778805473321395]\n",
      "[(1218, 143)]\n",
      "[0.0005215597226789515, 0.000707420318401098, 0.004484712732642409, 0.0009923640058472126, 0.0011011556689582759, 0.0010564144607505515, 0.000708624103982159, 0.0019270476243591164, 0.0006117859999184206, 0.0027903479568766845, 0.0023241861944116025, 0.0015028694127368787, 0.0011707124064010647, 0.0023008550299088697, 0.0024857003032390575, 0.005537443805670708, 0.0015778805473321395, 0.001517581423352366]\n",
      "[(579, 862)]\n",
      "[0.0005215597226789515, 0.000707420318401098, 0.004484712732642409, 0.0009923640058472126, 0.0011011556689582759, 0.0010564144607505515, 0.000708624103982159, 0.0019270476243591164, 0.0006117859999184206, 0.0027903479568766845, 0.0023241861944116025, 0.0015028694127368787, 0.0011707124064010647, 0.0023008550299088697, 0.0024857003032390575, 0.005537443805670708, 0.0015778805473321395, 0.001517581423352366, 0.0007214860533548208]\n",
      "[(1509, 483)]\n",
      "[0.0005215597226789515, 0.000707420318401098, 0.004484712732642409, 0.0009923640058472126, 0.0011011556689582759, 0.0010564144607505515, 0.000708624103982159, 0.0019270476243591164, 0.0006117859999184206, 0.0027903479568766845, 0.0023241861944116025, 0.0015028694127368787, 0.0011707124064010647, 0.0023008550299088697, 0.0024857003032390575, 0.005537443805670708, 0.0015778805473321395, 0.001517581423352366, 0.0007214860533548208, 0.0015534784782795874]\n",
      "[(1389, 1031)]\n",
      "[0.0005215597226789515, 0.000707420318401098, 0.004484712732642409, 0.0009923640058472126, 0.0011011556689582759, 0.0010564144607505515, 0.000708624103982159, 0.0019270476243591164, 0.0006117859999184206, 0.0027903479568766845, 0.0023241861944116025, 0.0015028694127368787, 0.0011707124064010647, 0.0023008550299088697, 0.0024857003032390575, 0.005537443805670708, 0.0015778805473321395, 0.001517581423352366, 0.0007214860533548208, 0.0015534784782795874, 0.002736540311328899]\n",
      "[(1497, 393)]\n",
      "[0.0005215597226789515, 0.000707420318401098, 0.004484712732642409, 0.0009923640058472126, 0.0011011556689582759, 0.0010564144607505515, 0.000708624103982159, 0.0019270476243591164, 0.0006117859999184206, 0.0027903479568766845, 0.0023241861944116025, 0.0015028694127368787, 0.0011707124064010647, 0.0023008550299088697, 0.0024857003032390575, 0.005537443805670708, 0.0015778805473321395, 0.001517581423352366, 0.0007214860533548208, 0.0015534784782795874, 0.002736540311328899, 0.0030634830153044887]\n",
      "[(1229, 552)]\n",
      "[0.0005215597226789515, 0.000707420318401098, 0.004484712732642409, 0.0009923640058472126, 0.0011011556689582759, 0.0010564144607505515, 0.000708624103982159, 0.0019270476243591164, 0.0006117859999184206, 0.0027903479568766845, 0.0023241861944116025, 0.0015028694127368787, 0.0011707124064010647, 0.0023008550299088697, 0.0024857003032390575, 0.005537443805670708, 0.0015778805473321395, 0.001517581423352366, 0.0007214860533548208, 0.0015534784782795874, 0.002736540311328899, 0.0030634830153044887, 0.008007749125000633]\n",
      "[(512, 553)]\n",
      "[0.0005215597226789515, 0.000707420318401098, 0.004484712732642409, 0.0009923640058472126, 0.0011011556689582759, 0.0010564144607505515, 0.000708624103982159, 0.0019270476243591164, 0.0006117859999184206, 0.0027903479568766845, 0.0023241861944116025, 0.0015028694127368787, 0.0011707124064010647, 0.0023008550299088697, 0.0024857003032390575, 0.005537443805670708, 0.0015778805473321395, 0.001517581423352366, 0.0007214860533548208, 0.0015534784782795874, 0.002736540311328899, 0.0030634830153044887, 0.008007749125000633, 0.016469849625103835]\n",
      "[(547, 223)]\n",
      "[0.0005215597226789515, 0.000707420318401098, 0.004484712732642409, 0.0009923640058472126, 0.0011011556689582759, 0.0010564144607505515, 0.000708624103982159, 0.0019270476243591164, 0.0006117859999184206, 0.0027903479568766845, 0.0023241861944116025, 0.0015028694127368787, 0.0011707124064010647, 0.0023008550299088697, 0.0024857003032390575, 0.005537443805670708, 0.0015778805473321395, 0.001517581423352366, 0.0007214860533548208, 0.0015534784782795874, 0.002736540311328899, 0.0030634830153044887, 0.008007749125000633, 0.016469849625103835, 0.009031863835611912]\n",
      "[(872, 687)]\n",
      "[0.0005215597226789515, 0.000707420318401098, 0.004484712732642409, 0.0009923640058472126, 0.0011011556689582759, 0.0010564144607505515, 0.000708624103982159, 0.0019270476243591164, 0.0006117859999184206, 0.0027903479568766845, 0.0023241861944116025, 0.0015028694127368787, 0.0011707124064010647, 0.0023008550299088697, 0.0024857003032390575, 0.005537443805670708, 0.0015778805473321395, 0.001517581423352366, 0.0007214860533548208, 0.0015534784782795874, 0.002736540311328899, 0.0030634830153044887, 0.008007749125000633, 0.016469849625103835, 0.009031863835611912, 0.00018927670820858558]\n",
      "[(162, 761)]\n",
      "[0.0005215597226789515, 0.000707420318401098, 0.004484712732642409, 0.0009923640058472126, 0.0011011556689582759, 0.0010564144607505515, 0.000708624103982159, 0.0019270476243591164, 0.0006117859999184206, 0.0027903479568766845, 0.0023241861944116025, 0.0015028694127368787, 0.0011707124064010647, 0.0023008550299088697, 0.0024857003032390575, 0.005537443805670708, 0.0015778805473321395, 0.001517581423352366, 0.0007214860533548208, 0.0015534784782795874, 0.002736540311328899, 0.0030634830153044887, 0.008007749125000633, 0.016469849625103835, 0.009031863835611912, 0.00018927670820858558, 0.0007588693018938771]\n",
      "[(1468, 532)]\n",
      "[0.0005215597226789515, 0.000707420318401098, 0.004484712732642409, 0.0009923640058472126, 0.0011011556689582759, 0.0010564144607505515, 0.000708624103982159, 0.0019270476243591164, 0.0006117859999184206, 0.0027903479568766845, 0.0023241861944116025, 0.0015028694127368787, 0.0011707124064010647, 0.0023008550299088697, 0.0024857003032390575, 0.005537443805670708, 0.0015778805473321395, 0.001517581423352366, 0.0007214860533548208, 0.0015534784782795874, 0.002736540311328899, 0.0030634830153044887, 0.008007749125000633, 0.016469849625103835, 0.009031863835611912, 0.00018927670820858558, 0.0007588693018938771, 0.004951014247552065]\n",
      "[(1298, 705)]\n",
      "[0.0005215597226789515, 0.000707420318401098, 0.004484712732642409, 0.0009923640058472126, 0.0011011556689582759, 0.0010564144607505515, 0.000708624103982159, 0.0019270476243591164, 0.0006117859999184206, 0.0027903479568766845, 0.0023241861944116025, 0.0015028694127368787, 0.0011707124064010647, 0.0023008550299088697, 0.0024857003032390575, 0.005537443805670708, 0.0015778805473321395, 0.001517581423352366, 0.0007214860533548208, 0.0015534784782795874, 0.002736540311328899, 0.0030634830153044887, 0.008007749125000633, 0.016469849625103835, 0.009031863835611912, 0.00018927670820858558, 0.0007588693018938771, 0.004951014247552065, 0.0049393739128287635]\n",
      "[(1048, 906)]\n",
      "[0.0005215597226789515, 0.000707420318401098, 0.004484712732642409, 0.0009923640058472126, 0.0011011556689582759, 0.0010564144607505515, 0.000708624103982159, 0.0019270476243591164, 0.0006117859999184206, 0.0027903479568766845, 0.0023241861944116025, 0.0015028694127368787, 0.0011707124064010647, 0.0023008550299088697, 0.0024857003032390575, 0.005537443805670708, 0.0015778805473321395, 0.001517581423352366, 0.0007214860533548208, 0.0015534784782795874, 0.002736540311328899, 0.0030634830153044887, 0.008007749125000633, 0.016469849625103835, 0.009031863835611912, 0.00018927670820858558, 0.0007588693018938771, 0.004951014247552065, 0.0049393739128287635, 0.0036396166488175496]\n",
      "[(1655, 367)]\n",
      "[0.0005215597226789515, 0.000707420318401098, 0.004484712732642409, 0.0009923640058472126, 0.0011011556689582759, 0.0010564144607505515, 0.000708624103982159, 0.0019270476243591164, 0.0006117859999184206, 0.0027903479568766845, 0.0023241861944116025, 0.0015028694127368787, 0.0011707124064010647, 0.0023008550299088697, 0.0024857003032390575, 0.005537443805670708, 0.0015778805473321395, 0.001517581423352366, 0.0007214860533548208, 0.0015534784782795874, 0.002736540311328899, 0.0030634830153044887, 0.008007749125000633, 0.016469849625103835, 0.009031863835611912, 0.00018927670820858558, 0.0007588693018938771, 0.004951014247552065, 0.0049393739128287635, 0.0036396166488175496, 0.007682212856375234]\n",
      "[(1594, 148)]\n",
      "[0.0005215597226789515, 0.000707420318401098, 0.004484712732642409, 0.0009923640058472126, 0.0011011556689582759, 0.0010564144607505515, 0.000708624103982159, 0.0019270476243591164, 0.0006117859999184206, 0.0027903479568766845, 0.0023241861944116025, 0.0015028694127368787, 0.0011707124064010647, 0.0023008550299088697, 0.0024857003032390575, 0.005537443805670708, 0.0015778805473321395, 0.001517581423352366, 0.0007214860533548208, 0.0015534784782795874, 0.002736540311328899, 0.0030634830153044887, 0.008007749125000633, 0.016469849625103835, 0.009031863835611912, 0.00018927670820858558, 0.0007588693018938771, 0.004951014247552065, 0.0049393739128287635, 0.0036396166488175496, 0.007682212856375234, 0.012205333800587097]\n",
      "[(858, 963)]\n",
      "[0.0005215597226789515, 0.000707420318401098, 0.004484712732642409, 0.0009923640058472126, 0.0011011556689582759, 0.0010564144607505515, 0.000708624103982159, 0.0019270476243591164, 0.0006117859999184206, 0.0027903479568766845, 0.0023241861944116025, 0.0015028694127368787, 0.0011707124064010647, 0.0023008550299088697, 0.0024857003032390575, 0.005537443805670708, 0.0015778805473321395, 0.001517581423352366, 0.0007214860533548208, 0.0015534784782795874, 0.002736540311328899, 0.0030634830153044887, 0.008007749125000633, 0.016469849625103835, 0.009031863835611912, 0.00018927670820858558, 0.0007588693018938771, 0.004951014247552065, 0.0049393739128287635, 0.0036396166488175496, 0.007682212856375234, 0.012205333800587097, 0.0004269686003958817]\n",
      "[(1430, 753)]\n",
      "[0.0005215597226789515, 0.000707420318401098, 0.004484712732642409, 0.0009923640058472126, 0.0011011556689582759, 0.0010564144607505515, 0.000708624103982159, 0.0019270476243591164, 0.0006117859999184206, 0.0027903479568766845, 0.0023241861944116025, 0.0015028694127368787, 0.0011707124064010647, 0.0023008550299088697, 0.0024857003032390575, 0.005537443805670708, 0.0015778805473321395, 0.001517581423352366, 0.0007214860533548208, 0.0015534784782795874, 0.002736540311328899, 0.0030634830153044887, 0.008007749125000633, 0.016469849625103835, 0.009031863835611912, 0.00018927670820858558, 0.0007588693018938771, 0.004951014247552065, 0.0049393739128287635, 0.0036396166488175496, 0.007682212856375234, 0.012205333800587097, 0.0004269686003958817, 0.0027521335277940367]\n",
      "[(1023, 748)]\n",
      "[0.0005215597226789515, 0.000707420318401098, 0.004484712732642409, 0.0009923640058472126, 0.0011011556689582759, 0.0010564144607505515, 0.000708624103982159, 0.0019270476243591164, 0.0006117859999184206, 0.0027903479568766845, 0.0023241861944116025, 0.0015028694127368787, 0.0011707124064010647, 0.0023008550299088697, 0.0024857003032390575, 0.005537443805670708, 0.0015778805473321395, 0.001517581423352366, 0.0007214860533548208, 0.0015534784782795874, 0.002736540311328899, 0.0030634830153044887, 0.008007749125000633, 0.016469849625103835, 0.009031863835611912, 0.00018927670820858558, 0.0007588693018938771, 0.004951014247552065, 0.0049393739128287635, 0.0036396166488175496, 0.007682212856375234, 0.012205333800587097, 0.0004269686003958817, 0.0027521335277940367, 0.000246606832687024]\n",
      "[(898, 459)]\n",
      "[0.0005215597226789515, 0.000707420318401098, 0.004484712732642409, 0.0009923640058472126, 0.0011011556689582759, 0.0010564144607505515, 0.000708624103982159, 0.0019270476243591164, 0.0006117859999184206, 0.0027903479568766845, 0.0023241861944116025, 0.0015028694127368787, 0.0011707124064010647, 0.0023008550299088697, 0.0024857003032390575, 0.005537443805670708, 0.0015778805473321395, 0.001517581423352366, 0.0007214860533548208, 0.0015534784782795874, 0.002736540311328899, 0.0030634830153044887, 0.008007749125000633, 0.016469849625103835, 0.009031863835611912, 0.00018927670820858558, 0.0007588693018938771, 0.004951014247552065, 0.0049393739128287635, 0.0036396166488175496, 0.007682212856375234, 0.012205333800587097, 0.0004269686003958817, 0.0027521335277940367, 0.000246606832687024, 0.0012194454008348273]\n",
      "[(561, 141)]\n",
      "[0.0005215597226789515, 0.000707420318401098, 0.004484712732642409, 0.0009923640058472126, 0.0011011556689582759, 0.0010564144607505515, 0.000708624103982159, 0.0019270476243591164, 0.0006117859999184206, 0.0027903479568766845, 0.0023241861944116025, 0.0015028694127368787, 0.0011707124064010647, 0.0023008550299088697, 0.0024857003032390575, 0.005537443805670708, 0.0015778805473321395, 0.001517581423352366, 0.0007214860533548208, 0.0015534784782795874, 0.002736540311328899, 0.0030634830153044887, 0.008007749125000633, 0.016469849625103835, 0.009031863835611912, 0.00018927670820858558, 0.0007588693018938771, 0.004951014247552065, 0.0049393739128287635, 0.0036396166488175496, 0.007682212856375234, 0.012205333800587097, 0.0004269686003958817, 0.0027521335277940367, 0.000246606832687024, 0.0012194454008348273, 0.003043774214732899]\n",
      "[(1381, 351)]\n",
      "[0.0005215597226789515, 0.000707420318401098, 0.004484712732642409, 0.0009923640058472126, 0.0011011556689582759, 0.0010564144607505515, 0.000708624103982159, 0.0019270476243591164, 0.0006117859999184206, 0.0027903479568766845, 0.0023241861944116025, 0.0015028694127368787, 0.0011707124064010647, 0.0023008550299088697, 0.0024857003032390575, 0.005537443805670708, 0.0015778805473321395, 0.001517581423352366, 0.0007214860533548208, 0.0015534784782795874, 0.002736540311328899, 0.0030634830153044887, 0.008007749125000633, 0.016469849625103835, 0.009031863835611912, 0.00018927670820858558, 0.0007588693018938771, 0.004951014247552065, 0.0049393739128287635, 0.0036396166488175496, 0.007682212856375234, 0.012205333800587097, 0.0004269686003958817, 0.0027521335277940367, 0.000246606832687024, 0.0012194454008348273, 0.003043774214732899, 0.0019211818110927874]\n",
      "[(1755, 493)]\n",
      "[0.0005215597226789515, 0.000707420318401098, 0.004484712732642409, 0.0009923640058472126, 0.0011011556689582759, 0.0010564144607505515, 0.000708624103982159, 0.0019270476243591164, 0.0006117859999184206, 0.0027903479568766845, 0.0023241861944116025, 0.0015028694127368787, 0.0011707124064010647, 0.0023008550299088697, 0.0024857003032390575, 0.005537443805670708, 0.0015778805473321395, 0.001517581423352366, 0.0007214860533548208, 0.0015534784782795874, 0.002736540311328899, 0.0030634830153044887, 0.008007749125000633, 0.016469849625103835, 0.009031863835611912, 0.00018927670820858558, 0.0007588693018938771, 0.004951014247552065, 0.0049393739128287635, 0.0036396166488175496, 0.007682212856375234, 0.012205333800587097, 0.0004269686003958817, 0.0027521335277940367, 0.000246606832687024, 0.0012194454008348273, 0.003043774214732899, 0.0019211818110927874, 0.0019531586755597145]\n",
      "[(1196, 102)]\n",
      "[0.0005215597226789515, 0.000707420318401098, 0.004484712732642409, 0.0009923640058472126, 0.0011011556689582759, 0.0010564144607505515, 0.000708624103982159, 0.0019270476243591164, 0.0006117859999184206, 0.0027903479568766845, 0.0023241861944116025, 0.0015028694127368787, 0.0011707124064010647, 0.0023008550299088697, 0.0024857003032390575, 0.005537443805670708, 0.0015778805473321395, 0.001517581423352366, 0.0007214860533548208, 0.0015534784782795874, 0.002736540311328899, 0.0030634830153044887, 0.008007749125000633, 0.016469849625103835, 0.009031863835611912, 0.00018927670820858558, 0.0007588693018938771, 0.004951014247552065, 0.0049393739128287635, 0.0036396166488175496, 0.007682212856375234, 0.012205333800587097, 0.0004269686003958817, 0.0027521335277940367, 0.000246606832687024, 0.0012194454008348273, 0.003043774214732899, 0.0019211818110927874, 0.0019531586755597145, 0.0023072395952764067]\n",
      "[(770, 353)]\n",
      "[0.0005215597226789515, 0.000707420318401098, 0.004484712732642409, 0.0009923640058472126, 0.0011011556689582759, 0.0010564144607505515, 0.000708624103982159, 0.0019270476243591164, 0.0006117859999184206, 0.0027903479568766845, 0.0023241861944116025, 0.0015028694127368787, 0.0011707124064010647, 0.0023008550299088697, 0.0024857003032390575, 0.005537443805670708, 0.0015778805473321395, 0.001517581423352366, 0.0007214860533548208, 0.0015534784782795874, 0.002736540311328899, 0.0030634830153044887, 0.008007749125000633, 0.016469849625103835, 0.009031863835611912, 0.00018927670820858558, 0.0007588693018938771, 0.004951014247552065, 0.0049393739128287635, 0.0036396166488175496, 0.007682212856375234, 0.012205333800587097, 0.0004269686003958817, 0.0027521335277940367, 0.000246606832687024, 0.0012194454008348273, 0.003043774214732899, 0.0019211818110927874, 0.0019531586755597145, 0.0023072395952764067, 0.0006685309840491267]\n",
      "[(597, 657)]\n",
      "[0.0005215597226789515, 0.000707420318401098, 0.004484712732642409, 0.0009923640058472126, 0.0011011556689582759, 0.0010564144607505515, 0.000708624103982159, 0.0019270476243591164, 0.0006117859999184206, 0.0027903479568766845, 0.0023241861944116025, 0.0015028694127368787, 0.0011707124064010647, 0.0023008550299088697, 0.0024857003032390575, 0.005537443805670708, 0.0015778805473321395, 0.001517581423352366, 0.0007214860533548208, 0.0015534784782795874, 0.002736540311328899, 0.0030634830153044887, 0.008007749125000633, 0.016469849625103835, 0.009031863835611912, 0.00018927670820858558, 0.0007588693018938771, 0.004951014247552065, 0.0049393739128287635, 0.0036396166488175496, 0.007682212856375234, 0.012205333800587097, 0.0004269686003958817, 0.0027521335277940367, 0.000246606832687024, 0.0012194454008348273, 0.003043774214732899, 0.0019211818110927874, 0.0019531586755597145, 0.0023072395952764067, 0.0006685309840491267, 9.352793368500328e-05]\n",
      "[(472, 1022)]\n",
      "[0.0005215597226789515, 0.000707420318401098, 0.004484712732642409, 0.0009923640058472126, 0.0011011556689582759, 0.0010564144607505515, 0.000708624103982159, 0.0019270476243591164, 0.0006117859999184206, 0.0027903479568766845, 0.0023241861944116025, 0.0015028694127368787, 0.0011707124064010647, 0.0023008550299088697, 0.0024857003032390575, 0.005537443805670708, 0.0015778805473321395, 0.001517581423352366, 0.0007214860533548208, 0.0015534784782795874, 0.002736540311328899, 0.0030634830153044887, 0.008007749125000633, 0.016469849625103835, 0.009031863835611912, 0.00018927670820858558, 0.0007588693018938771, 0.004951014247552065, 0.0049393739128287635, 0.0036396166488175496, 0.007682212856375234, 0.012205333800587097, 0.0004269686003958817, 0.0027521335277940367, 0.000246606832687024, 0.0012194454008348273, 0.003043774214732899, 0.0019211818110927874, 0.0019531586755597145, 0.0023072395952764067, 0.0006685309840491267, 9.352793368500328e-05, 0.0008483168734269099]\n",
      "[(268, 835)]\n",
      "[0.0005215597226789515, 0.000707420318401098, 0.004484712732642409, 0.0009923640058472126, 0.0011011556689582759, 0.0010564144607505515, 0.000708624103982159, 0.0019270476243591164, 0.0006117859999184206, 0.0027903479568766845, 0.0023241861944116025, 0.0015028694127368787, 0.0011707124064010647, 0.0023008550299088697, 0.0024857003032390575, 0.005537443805670708, 0.0015778805473321395, 0.001517581423352366, 0.0007214860533548208, 0.0015534784782795874, 0.002736540311328899, 0.0030634830153044887, 0.008007749125000633, 0.016469849625103835, 0.009031863835611912, 0.00018927670820858558, 0.0007588693018938771, 0.004951014247552065, 0.0049393739128287635, 0.0036396166488175496, 0.007682212856375234, 0.012205333800587097, 0.0004269686003958817, 0.0027521335277940367, 0.000246606832687024, 0.0012194454008348273, 0.003043774214732899, 0.0019211818110927874, 0.0019531586755597145, 0.0023072395952764067, 0.0006685309840491267, 9.352793368500328e-05, 0.0008483168734269099, 0.0007268507174077902]\n",
      "[(755, 778)]\n",
      "[0.0005215597226789515, 0.000707420318401098, 0.004484712732642409, 0.0009923640058472126, 0.0011011556689582759, 0.0010564144607505515, 0.000708624103982159, 0.0019270476243591164, 0.0006117859999184206, 0.0027903479568766845, 0.0023241861944116025, 0.0015028694127368787, 0.0011707124064010647, 0.0023008550299088697, 0.0024857003032390575, 0.005537443805670708, 0.0015778805473321395, 0.001517581423352366, 0.0007214860533548208, 0.0015534784782795874, 0.002736540311328899, 0.0030634830153044887, 0.008007749125000633, 0.016469849625103835, 0.009031863835611912, 0.00018927670820858558, 0.0007588693018938771, 0.004951014247552065, 0.0049393739128287635, 0.0036396166488175496, 0.007682212856375234, 0.012205333800587097, 0.0004269686003958817, 0.0027521335277940367, 0.000246606832687024, 0.0012194454008348273, 0.003043774214732899, 0.0019211818110927874, 0.0019531586755597145, 0.0023072395952764067, 0.0006685309840491267, 9.352793368500328e-05, 0.0008483168734269099, 0.0007268507174077902, 0.00020458928289386123]\n",
      "[(986, 770)]\n",
      "[0.0005215597226789515, 0.000707420318401098, 0.004484712732642409, 0.0009923640058472126, 0.0011011556689582759, 0.0010564144607505515, 0.000708624103982159, 0.0019270476243591164, 0.0006117859999184206, 0.0027903479568766845, 0.0023241861944116025, 0.0015028694127368787, 0.0011707124064010647, 0.0023008550299088697, 0.0024857003032390575, 0.005537443805670708, 0.0015778805473321395, 0.001517581423352366, 0.0007214860533548208, 0.0015534784782795874, 0.002736540311328899, 0.0030634830153044887, 0.008007749125000633, 0.016469849625103835, 0.009031863835611912, 0.00018927670820858558, 0.0007588693018938771, 0.004951014247552065, 0.0049393739128287635, 0.0036396166488175496, 0.007682212856375234, 0.012205333800587097, 0.0004269686003958817, 0.0027521335277940367, 0.000246606832687024, 0.0012194454008348273, 0.003043774214732899, 0.0019211818110927874, 0.0019531586755597145, 0.0023072395952764067, 0.0006685309840491267, 9.352793368500328e-05, 0.0008483168734269099, 0.0007268507174077902, 0.00020458928289386123, 0.00057780758129207]\n",
      "[(1299, 36)]\n",
      "[0.0005215597226789515, 0.000707420318401098, 0.004484712732642409, 0.0009923640058472126, 0.0011011556689582759, 0.0010564144607505515, 0.000708624103982159, 0.0019270476243591164, 0.0006117859999184206, 0.0027903479568766845, 0.0023241861944116025, 0.0015028694127368787, 0.0011707124064010647, 0.0023008550299088697, 0.0024857003032390575, 0.005537443805670708, 0.0015778805473321395, 0.001517581423352366, 0.0007214860533548208, 0.0015534784782795874, 0.002736540311328899, 0.0030634830153044887, 0.008007749125000633, 0.016469849625103835, 0.009031863835611912, 0.00018927670820858558, 0.0007588693018938771, 0.004951014247552065, 0.0049393739128287635, 0.0036396166488175496, 0.007682212856375234, 0.012205333800587097, 0.0004269686003958817, 0.0027521335277940367, 0.000246606832687024, 0.0012194454008348273, 0.003043774214732899, 0.0019211818110927874, 0.0019531586755597145, 0.0023072395952764067, 0.0006685309840491267, 9.352793368500328e-05, 0.0008483168734269099, 0.0007268507174077902, 0.00020458928289386123, 0.00057780758129207, 0.0011958779216939043]\n",
      "[(1248, 589)]\n",
      "[0.0005215597226789515, 0.000707420318401098, 0.004484712732642409, 0.0009923640058472126, 0.0011011556689582759, 0.0010564144607505515, 0.000708624103982159, 0.0019270476243591164, 0.0006117859999184206, 0.0027903479568766845, 0.0023241861944116025, 0.0015028694127368787, 0.0011707124064010647, 0.0023008550299088697, 0.0024857003032390575, 0.005537443805670708, 0.0015778805473321395, 0.001517581423352366, 0.0007214860533548208, 0.0015534784782795874, 0.002736540311328899, 0.0030634830153044887, 0.008007749125000633, 0.016469849625103835, 0.009031863835611912, 0.00018927670820858558, 0.0007588693018938771, 0.004951014247552065, 0.0049393739128287635, 0.0036396166488175496, 0.007682212856375234, 0.012205333800587097, 0.0004269686003958817, 0.0027521335277940367, 0.000246606832687024, 0.0012194454008348273, 0.003043774214732899, 0.0019211818110927874, 0.0019531586755597145, 0.0023072395952764067, 0.0006685309840491267, 9.352793368500328e-05, 0.0008483168734269099, 0.0007268507174077902, 0.00020458928289386123, 0.00057780758129207, 0.0011958779216939043, 0.00236154033941763]\n",
      "[(948, 378)]\n",
      "[0.0005215597226789515, 0.000707420318401098, 0.004484712732642409, 0.0009923640058472126, 0.0011011556689582759, 0.0010564144607505515, 0.000708624103982159, 0.0019270476243591164, 0.0006117859999184206, 0.0027903479568766845, 0.0023241861944116025, 0.0015028694127368787, 0.0011707124064010647, 0.0023008550299088697, 0.0024857003032390575, 0.005537443805670708, 0.0015778805473321395, 0.001517581423352366, 0.0007214860533548208, 0.0015534784782795874, 0.002736540311328899, 0.0030634830153044887, 0.008007749125000633, 0.016469849625103835, 0.009031863835611912, 0.00018927670820858558, 0.0007588693018938771, 0.004951014247552065, 0.0049393739128287635, 0.0036396166488175496, 0.007682212856375234, 0.012205333800587097, 0.0004269686003958817, 0.0027521335277940367, 0.000246606832687024, 0.0012194454008348273, 0.003043774214732899, 0.0019211818110927874, 0.0019531586755597145, 0.0023072395952764067, 0.0006685309840491267, 9.352793368500328e-05, 0.0008483168734269099, 0.0007268507174077902, 0.00020458928289386123, 0.00057780758129207, 0.0011958779216939043, 0.00236154033941763, 0.0002126970529415177]\n",
      "[(1225, 344)]\n",
      "[0.0005215597226789515, 0.000707420318401098, 0.004484712732642409, 0.0009923640058472126, 0.0011011556689582759, 0.0010564144607505515, 0.000708624103982159, 0.0019270476243591164, 0.0006117859999184206, 0.0027903479568766845, 0.0023241861944116025, 0.0015028694127368787, 0.0011707124064010647, 0.0023008550299088697, 0.0024857003032390575, 0.005537443805670708, 0.0015778805473321395, 0.001517581423352366, 0.0007214860533548208, 0.0015534784782795874, 0.002736540311328899, 0.0030634830153044887, 0.008007749125000633, 0.016469849625103835, 0.009031863835611912, 0.00018927670820858558, 0.0007588693018938771, 0.004951014247552065, 0.0049393739128287635, 0.0036396166488175496, 0.007682212856375234, 0.012205333800587097, 0.0004269686003958817, 0.0027521335277940367, 0.000246606832687024, 0.0012194454008348273, 0.003043774214732899, 0.0019211818110927874, 0.0019531586755597145, 0.0023072395952764067, 0.0006685309840491267, 9.352793368500328e-05, 0.0008483168734269099, 0.0007268507174077902, 0.00020458928289386123, 0.00057780758129207, 0.0011958779216939043, 0.00236154033941763, 0.0002126970529415177, 0.0017531712860330711]\n",
      "[(266, 108)]\n",
      "[0.0005215597226789515, 0.000707420318401098, 0.004484712732642409, 0.0009923640058472126, 0.0011011556689582759, 0.0010564144607505515, 0.000708624103982159, 0.0019270476243591164, 0.0006117859999184206, 0.0027903479568766845, 0.0023241861944116025, 0.0015028694127368787, 0.0011707124064010647, 0.0023008550299088697, 0.0024857003032390575, 0.005537443805670708, 0.0015778805473321395, 0.001517581423352366, 0.0007214860533548208, 0.0015534784782795874, 0.002736540311328899, 0.0030634830153044887, 0.008007749125000633, 0.016469849625103835, 0.009031863835611912, 0.00018927670820858558, 0.0007588693018938771, 0.004951014247552065, 0.0049393739128287635, 0.0036396166488175496, 0.007682212856375234, 0.012205333800587097, 0.0004269686003958817, 0.0027521335277940367, 0.000246606832687024, 0.0012194454008348273, 0.003043774214732899, 0.0019211818110927874, 0.0019531586755597145, 0.0023072395952764067, 0.0006685309840491267, 9.352793368500328e-05, 0.0008483168734269099, 0.0007268507174077902, 0.00020458928289386123, 0.00057780758129207, 0.0011958779216939043, 0.00236154033941763, 0.0002126970529415177, 0.0017531712860330711, 0.0012593193374237093]\n",
      "[(551, 458)]\n",
      "[0.0005215597226789515, 0.000707420318401098, 0.004484712732642409, 0.0009923640058472126, 0.0011011556689582759, 0.0010564144607505515, 0.000708624103982159, 0.0019270476243591164, 0.0006117859999184206, 0.0027903479568766845, 0.0023241861944116025, 0.0015028694127368787, 0.0011707124064010647, 0.0023008550299088697, 0.0024857003032390575, 0.005537443805670708, 0.0015778805473321395, 0.001517581423352366, 0.0007214860533548208, 0.0015534784782795874, 0.002736540311328899, 0.0030634830153044887, 0.008007749125000633, 0.016469849625103835, 0.009031863835611912, 0.00018927670820858558, 0.0007588693018938771, 0.004951014247552065, 0.0049393739128287635, 0.0036396166488175496, 0.007682212856375234, 0.012205333800587097, 0.0004269686003958817, 0.0027521335277940367, 0.000246606832687024, 0.0012194454008348273, 0.003043774214732899, 0.0019211818110927874, 0.0019531586755597145, 0.0023072395952764067, 0.0006685309840491267, 9.352793368500328e-05, 0.0008483168734269099, 0.0007268507174077902, 0.00020458928289386123, 0.00057780758129207, 0.0011958779216939043, 0.00236154033941763, 0.0002126970529415177, 0.0017531712860330711, 0.0012593193374237093, 0.0008869292225917068]\n",
      "[(552, 729)]\n",
      "[0.0005215597226789515, 0.000707420318401098, 0.004484712732642409, 0.0009923640058472126, 0.0011011556689582759, 0.0010564144607505515, 0.000708624103982159, 0.0019270476243591164, 0.0006117859999184206, 0.0027903479568766845, 0.0023241861944116025, 0.0015028694127368787, 0.0011707124064010647, 0.0023008550299088697, 0.0024857003032390575, 0.005537443805670708, 0.0015778805473321395, 0.001517581423352366, 0.0007214860533548208, 0.0015534784782795874, 0.002736540311328899, 0.0030634830153044887, 0.008007749125000633, 0.016469849625103835, 0.009031863835611912, 0.00018927670820858558, 0.0007588693018938771, 0.004951014247552065, 0.0049393739128287635, 0.0036396166488175496, 0.007682212856375234, 0.012205333800587097, 0.0004269686003958817, 0.0027521335277940367, 0.000246606832687024, 0.0012194454008348273, 0.003043774214732899, 0.0019211818110927874, 0.0019531586755597145, 0.0023072395952764067, 0.0006685309840491267, 9.352793368500328e-05, 0.0008483168734269099, 0.0007268507174077902, 0.00020458928289386123, 0.00057780758129207, 0.0011958779216939043, 0.00236154033941763, 0.0002126970529415177, 0.0017531712860330711, 0.0012593193374237093, 0.0008869292225917068, 8.140397333855526e-05]\n",
      "[(526, 892)]\n",
      "[0.0005215597226789515, 0.000707420318401098, 0.004484712732642409, 0.0009923640058472126, 0.0011011556689582759, 0.0010564144607505515, 0.000708624103982159, 0.0019270476243591164, 0.0006117859999184206, 0.0027903479568766845, 0.0023241861944116025, 0.0015028694127368787, 0.0011707124064010647, 0.0023008550299088697, 0.0024857003032390575, 0.005537443805670708, 0.0015778805473321395, 0.001517581423352366, 0.0007214860533548208, 0.0015534784782795874, 0.002736540311328899, 0.0030634830153044887, 0.008007749125000633, 0.016469849625103835, 0.009031863835611912, 0.00018927670820858558, 0.0007588693018938771, 0.004951014247552065, 0.0049393739128287635, 0.0036396166488175496, 0.007682212856375234, 0.012205333800587097, 0.0004269686003958817, 0.0027521335277940367, 0.000246606832687024, 0.0012194454008348273, 0.003043774214732899, 0.0019211818110927874, 0.0019531586755597145, 0.0023072395952764067, 0.0006685309840491267, 9.352793368500328e-05, 0.0008483168734269099, 0.0007268507174077902, 0.00020458928289386123, 0.00057780758129207, 0.0011958779216939043, 0.00236154033941763, 0.0002126970529415177, 0.0017531712860330711, 0.0012593193374237093, 0.0008869292225917068, 8.140397333855526e-05, 0.0003813582969844056]\n",
      "[(466, 935)]\n",
      "[0.0005215597226789515, 0.000707420318401098, 0.004484712732642409, 0.0009923640058472126, 0.0011011556689582759, 0.0010564144607505515, 0.000708624103982159, 0.0019270476243591164, 0.0006117859999184206, 0.0027903479568766845, 0.0023241861944116025, 0.0015028694127368787, 0.0011707124064010647, 0.0023008550299088697, 0.0024857003032390575, 0.005537443805670708, 0.0015778805473321395, 0.001517581423352366, 0.0007214860533548208, 0.0015534784782795874, 0.002736540311328899, 0.0030634830153044887, 0.008007749125000633, 0.016469849625103835, 0.009031863835611912, 0.00018927670820858558, 0.0007588693018938771, 0.004951014247552065, 0.0049393739128287635, 0.0036396166488175496, 0.007682212856375234, 0.012205333800587097, 0.0004269686003958817, 0.0027521335277940367, 0.000246606832687024, 0.0012194454008348273, 0.003043774214732899, 0.0019211818110927874, 0.0019531586755597145, 0.0023072395952764067, 0.0006685309840491267, 9.352793368500328e-05, 0.0008483168734269099, 0.0007268507174077902, 0.00020458928289386123, 0.00057780758129207, 0.0011958779216939043, 0.00236154033941763, 0.0002126970529415177, 0.0017531712860330711, 0.0012593193374237093, 0.0008869292225917068, 8.140397333855526e-05, 0.0003813582969844056, 0.0005171144666251522]\n",
      "[0.0005079340061513449, 0.0007022954775663948, 0.004093395102486852, 0.0003979982946873406, 0.0009994646024580334, 3.12563438029656e-05, 0.00039173685362214883, 0.0008020553125476226, -0.00016561027901929037, 0.0020537048408897363, -0.001513664984244656, 0.001439651129302888, -0.0006993844112201941, -0.0005094140471939568, 0.0023898057599183176, 0.0019460739012586714, -0.0007679326248322127, -0.001355703255313756, -0.0006697414421665826, -0.0011928006946888559, 0.002726896429670944, 0.00250087997259385, 0.006998541777043954, -0.01629773216716046, 0.009028500664911121, -5.4920003336178524e-06, 0.0003494132304382447, -0.004291325107182331, -0.0047859827188503345, 0.0036351540471741828, -0.006067416088214372, 0.010689441619547324, 0.0004180606922048469, -0.0013491097309454858, -0.00013767268760744855, -0.0012061686797721904, -0.0028424553257409, -0.0009131108804680821, 0.0012616331334811548, 0.0023072258299592363, 0.0006673843277766878, 7.900196878551924e-05, -0.0007649941954568362, -0.0004348139751328972, -0.00017274984203652366, -0.0005406069752993403, 0.0011941801895716253, 0.00235068133323324, 0.00011249330505336275, 0.0017319833516964422, -0.000590632164907845, -0.0005726637810496982, 2.012478106649951e-05, 0.00022380618825934562, 0.0004444725705425867] [0.00011843812610806692, -8.499746511808626e-05, -0.0018321476002935988, -0.0009090564765332765, 0.00046218428760869124, -0.0010559519656949123, 0.0005905000916670011, 0.0017522042752379785, 0.0005889442632196484, -0.0018890045386266152, 0.001763706262892184, -0.0004313016318506224, 0.0009388444939624208, 0.0022437538183094907, 0.0006837648918919248, 0.005184214527949316, 0.0013783999801826319, 0.0006819985777374304, -0.00026830677559491756, 0.0009952496597475657, 0.00022954027397370513, 0.0017693296888194876, 0.0038915882418260606, -0.00237484165388685, 0.00024645504404202656, 0.00018919701425396118, -0.0006736416048253036, 0.0024692247576780235, 0.0012213861246957447, 0.0001801788102498425, 0.004711990702785218, -0.005891180785381089, -8.67608399983677e-05, 0.0023987792496760196, 0.00020460000248012644, -0.0001794552912394165, -0.00108858127461392, 0.0016903159678724466, -0.0014910099424271794, -7.969917198535903e-06, 3.91386723299636e-05, -5.006159513437636e-05, -0.00036664069422004397, -0.0005824506609364843, 0.0001096096106706912, 0.00020397475151667788, -6.36999091805368e-05, -0.00022620796689226674, 0.00018051396801405106, -0.000271741104025891, -0.0011122224774682277, -0.0006772736815800484, 7.887712001797276e-05, 0.00030877976095539106, 0.0002642943541362186]\n"
     ]
    }
   ],
   "source": [
    "from theia import position_estimation\n",
    "from theia.spec import LocationInfo\n",
    "from theia.image_segmentation import find_targets\n",
    "from theia.utils import display\n",
    "import cv2\n",
    "import os\n",
    "import math\n",
    "\n",
    "\n",
    "target_location = (51.292308, -0.484431)\n",
    "directory = r\"C:\\Users\\pm\\University of Surrey\\UAS2 - General\\2 Avionics\\4 Testing\\Image Rec\\03_04_22\\square\"\n",
    "\n",
    "image_number = 23\n",
    "files = [f for f in os.listdir(directory)]\n",
    "image = cv2.imread(directory + \"//\" + files[image_number])\n",
    "\n",
    "name = files[image_number]\n",
    "name = name.split(\",\")\n",
    "\n",
    "options = {\n",
    "    \"block_size\": 399,\n",
    "    \"c\": -39,\n",
    "    \"ksize\": 39,\n",
    "    \"sigma\": 0,\n",
    "    \"epsilon\": 0.1,\n",
    "    \"square_ar\": 0.2,\n",
    "    \"min_area\": 1000,\n",
    "    \"sides\":[4],\n",
    "    \"debug\":True,\n",
    "    \"min_solidity\":0.6\n",
    "}\n",
    "\n",
    "error_x = []\n",
    "error_y = []\n",
    "image_pitch = []\n",
    "image_roll = []\n",
    "image_height = []\n",
    "image_heading = []\n",
    "image_time = []\n",
    "total_error=[]\n",
    "\n",
    "for file in files:\n",
    "    image = cv2.imread(directory + \"//\" + file)\n",
    "    predicted = find_targets(image, options)\n",
    "    print(predicted)\n",
    "    name = file.split(\",\")\n",
    "    try:\n",
    "        l = LocationInfo(lat=float(name[2]), lon=float(name[1]), alt=float(name[0]),heading=float(name[3]), pitch=float(name[4]), roll=float(name[5]))\n",
    "        predicted_location = position_estimation.triangulate(predicted[0], l)\n",
    "        image_pitch.append(l.pitch)\n",
    "        image_roll.append(l.roll)\n",
    "        image_height.append(l.alt)\n",
    "        image_heading.append(l.heading)\n",
    "        image_time.append(name[6])\n",
    "        error_x.append(predicted_location[0]-target_location[0])\n",
    "        error_y.append(predicted_location[1]-target_location[1])\n",
    "        \n",
    "        total_error.append(math.sqrt((predicted_location[0]-target_location[0])**2+(predicted_location[1]-target_location[1])**2))\n",
    "        err = math.sqrt((predicted_location[0]-target_location[0])**2+(predicted_location[1]-target_location[1])**2)\n",
    "        print(total_error)\n",
    "        if err > 0.005:\n",
    "            print()\n",
    "    except Exception as e:\n",
    "        print(e)\n",
    "\n",
    "print(error_x,error_y)\n",
    "\n"
   ]
  },
  {
   "cell_type": "code",
   "execution_count": 16,
   "metadata": {},
   "outputs": [
    {
     "name": "stdout",
     "output_type": "stream",
     "text": [
      "0.00026632852688844756\n",
      "0.0002937358458143166\n"
     ]
    },
    {
     "data": {
      "text/plain": [
       "Text(0, 0.5, 'height')"
      ]
     },
     "execution_count": 16,
     "metadata": {},
     "output_type": "execute_result"
    },
    {
     "data": {
      "image/png": "[encoded data removed]",
      "text/plain": [
       "<Figure size 432x288 with 1 Axes>"
      ]
     },
     "metadata": {
      "needs_background": "light"
     },
     "output_type": "display_data"
    },
    {
     "data": {
      "image/png": "[encoded data removed]",
      "text/plain": [
       "<Figure size 432x288 with 1 Axes>"
      ]
     },
     "metadata": {
      "needs_background": "light"
     },
     "output_type": "display_data"
    },
    {
     "data": {
      "image/png": "[encoded data removed]",
      "text/plain": [
       "<Figure size 432x288 with 1 Axes>"
      ]
     },
     "metadata": {
      "needs_background": "light"
     },
     "output_type": "display_data"
    },
    {
     "data": {
      "image/png": "[encoded data removed]",
      "text/plain": [
       "<Figure size 432x288 with 2 Axes>"
      ]
     },
     "metadata": {
      "needs_background": "light"
     },
     "output_type": "display_data"
    },
    {
     "data": {
      "image/png": "[encoded data removed]",
      "text/plain": [
       "<Figure size 432x288 with 2 Axes>"
      ]
     },
     "metadata": {
      "needs_background": "light"
     },
     "output_type": "display_data"
    },
    {
     "data": {
      "image/png": "[encoded data removed]",
      "text/plain": [
       "<Figure size 432x288 with 2 Axes>"
      ]
     },
     "metadata": {
      "needs_background": "light"
     },
     "output_type": "display_data"
    },
    {
     "data": {
      "image/png": "[encoded data removed]",
      "text/plain": [
       "<Figure size 432x288 with 2 Axes>"
      ]
     },
     "metadata": {
      "needs_background": "light"
     },
     "output_type": "display_data"
    }
   ],
   "source": [
    "import matplotlib.pyplot as plt\n",
    "import math\n",
    "import numpy as np\n",
    "\n",
    "print(sum(error_x)/len(error_x))\n",
    "print(sum(error_y)/len(error_y))\n",
    "\n",
    "total_error=[]\n",
    "for i in range(len(error_x)):\n",
    "    total_error.append(math.sqrt(error_x[i]**2+error_y[i]**2))\n",
    "\n",
    "plt.figure(0)\n",
    "plt.scatter(error_x,error_y)\n",
    "plt.xlabel(\"error in x\")\n",
    "plt.ylabel(\"error in y\")\n",
    "plt.figure(1)\n",
    "plt.scatter(image_pitch,total_error)\n",
    "plt.xlabel(\"pitch\")\n",
    "plt.ylabel(\"total error\")\n",
    "plt.figure(2)\n",
    "plt.scatter(image_roll,total_error)\n",
    "plt.xlabel(\"roll\")\n",
    "plt.ylabel(\"total error\")\n",
    "\n",
    "\n",
    "plt.figure(3)\n",
    "plt.scatter(image_roll, image_pitch, c=total_error, cmap='viridis')\n",
    "plt.colorbar()\n",
    "plt.xlabel(\"roll\")\n",
    "plt.ylabel(\"pitch\")\n",
    "\n",
    "roll_pitch=[]\n",
    "for i in range(len(error_x)):\n",
    "    roll_pitch.append(math.sqrt(image_pitch[i]**2+image_roll[i]**2))\n",
    "\n",
    "plt.figure(4)\n",
    "plt.scatter(image_heading,roll_pitch,c=total_error, cmap='viridis')\n",
    "plt.colorbar()\n",
    "plt.xlabel(\"height\")\n",
    "plt.ylabel(\"total error\")\n",
    "\n",
    "plt.figure(5)\n",
    "plt.scatter(image_time,total_error,c=image_height, cmap='viridis')\n",
    "plt.colorbar()\n",
    "plt.xlabel(\"roll\")\n",
    "plt.ylabel(\"total error\")\n",
    "\n",
    "plt.figure(6)\n",
    "plt.scatter(image_time,image_height,c=total_error, cmap='viridis')\n",
    "plt.colorbar()\n",
    "\n",
    "plt.xlabel(\"time\")\n",
    "plt.ylabel(\"height\")"
   ]
  },
  {
   "cell_type": "markdown",
   "metadata": {},
   "source": [
    "tried morphology, reduces noise but increases processing time by ~5%. doesn't seem to affect accuracy.\n",
    "https://docs.opencv.org/3.4/d9/d61/tutorial_py_morphological_ops.html\n",
    "\n",
    "tried CLACHE - no noticeable accuracy increase\n",
    "\n",
    "tried making C more negative - reduces noise and chance of identifying target"
   ]
  },
  {
   "cell_type": "code",
   "execution_count": null,
   "metadata": {},
   "outputs": [
    {
     "name": "stdout",
     "output_type": "stream",
     "text": [
      "0.9821428571428571\n",
      "55\n",
      "56\n"
     ]
    }
   ],
   "source": [
    "directory = r\"C:\\Users\\olive\\University of Surrey\\UAS2 - General\\2 Avionics\\4 Testing\\Image Rec\\03_04_22\\square\"\n",
    "files = [f for f in os.listdir(directory)]\n",
    "\n",
    "\n",
    "options = {\n",
    "    \"block_size\": 399,\n",
    "    \"c\": -39,\n",
    "    \"ksize\": 39,\n",
    "    \"sigma\": 0,\n",
    "    \"epsilon\": 0.1,\n",
    "    \"square_ar\": 0.2,\n",
    "    \"min_area\": 1000,\n",
    "    \"sides\":[4],\n",
    "    \"min_solidity\": 0.6,\n",
    "    \"debug\":True\n",
    "}\n",
    "\n",
    "results = 0\n",
    "false_positives = []\n",
    "\n",
    "for file in files:\n",
    "    image = cv2.imread(directory + \"//\" + file)\n",
    "    result = find_targets(image, options)\n",
    "    try:\n",
    "        result[0]\n",
    "        results+=1\n",
    "    except KeyboardInterrupt:\n",
    "        raise Exception()\n",
    "    except Exception:\n",
    "        #find_targets(image, options)\n",
    "        pass\n",
    "\n",
    "print(results/len(files))\n",
    "print(results)\n",
    "print(len(files))\n"
   ]
  },
  {
   "cell_type": "code",
   "execution_count": null,
   "metadata": {},
   "outputs": [],
   "source": [
    "directory = r\"C:\\Users\\olive\\University of Surrey\\UAS2 - General\\2 Avionics\\4 Testing\\Image Rec\\03_04_22\\square\"\n",
    "image_number = 23\n",
    "files = [f for f in os.listdir(directory)]\n",
    "image = cv2.imread(directory + \"//\" + files[image_number])\n",
    "\n",
    "options = {\n",
    "    \"block_size\": 399,\n",
    "    \"c\": -39,\n",
    "    \"ksize\": 39,\n",
    "    \"sigma\": 0,\n",
    "    \"epsilon\": 0.1,\n",
    "    \"square_ar\": 0.2,\n",
    "    \"min_area\": 1000,\n",
    "    \"sides\":[4],\n",
    "    \"debug\":False\n",
    "}\n",
    "\n",
    "imgGray = cv2.cvtColor(image, cv2.COLOR_BGR2GRAY)\n",
    "display(imgGray)\n",
    "clahe = cv2.createCLAHE(clipLimit=2.0, tileGridSize=(8,8))\n",
    "cl1 = clahe.apply(imgGray)\n",
    "display(cl1)\n",
    "imgBlurred = cv2.GaussianBlur(cl1, (59,59),0)\n",
    "# laplacian = cv2.Laplacian(cv2.bitwise_not(imgBlurred),cv2.CV_64F)\n",
    "# display(laplacian)\n",
    "img_thresh = cv2.adaptiveThreshold(\n",
    "    imgBlurred,\n",
    "    255,\n",
    "    cv2.ADAPTIVE_THRESH_MEAN_C, \n",
    "    cv2.THRESH_BINARY,\n",
    "    399,\n",
    "    -69\n",
    ")\n",
    "display(img_thresh)\n",
    "\n",
    "contours, hierarchy = cv2.findContours(img_thresh, cv2.RETR_EXTERNAL, cv2.CHAIN_APPROX_SIMPLE)[-2:]\n",
    "squareIndexes = filterContours(contours, options)\n",
    "\n",
    "for index in squareIndexes:\n",
    "    cv2.drawContours(image, contours[index], -1, (0, 255, 0), 3)\n",
    "display(image)"
   ]
  },
  {
   "cell_type": "code",
   "execution_count": null,
   "metadata": {},
   "outputs": [],
   "source": []
  }
 ],
 "metadata": {
  "interpreter": {
   "hash": "93e24e57a33bb29a03c7396c3d010b18a5f816bb4c8ddbedb5a18cf4596c7660"
  },
  "kernelspec": {
   "display_name": "Python 3.9.0 64-bit",
   "language": "python",
   "name": "python3"
  },
  "language_info": {
   "codemirror_mode": {
    "name": "ipython",
    "version": 3
   },
   "file_extension": ".py",
   "mimetype": "text/x-python",
   "name": "python",
   "nbconvert_exporter": "python",
   "pygments_lexer": "ipython3",
   "version": "3.10.2"
  },
  "orig_nbformat": 4
 },
 "nbformat": 4,
 "nbformat_minor": 2
}
