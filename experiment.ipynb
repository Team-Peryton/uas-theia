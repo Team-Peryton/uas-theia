{
 "cells": [
  {
   "cell_type": "markdown",
   "metadata": {},
   "source": [
    "# IR experimental code"
   ]
  },
  {
   "cell_type": "code",
   "execution_count": null,
   "metadata": {},
   "outputs": [],
   "source": [
    "import math\n",
    "import os\n",
    "from typing import List, Tuple\n",
    "\n",
    "import cv2\n",
    "import numpy as np\n",
    "import pandas as pd\n",
    "import matplotlib.pyplot as plt\n",
    "\n",
    "from theia.utils import display, read_positions"
   ]
  },
  {
   "cell_type": "code",
   "execution_count": 21,
   "metadata": {},
   "outputs": [],
   "source": [
    "def approxContour(contour, options):\n",
    "    \"\"\"\n",
    "    fit contour to a simpler shape\n",
    "    accuracy is based on EPSILON_MULTIPLY\n",
    "    \"\"\"\n",
    "    epsilon = options['epsilon'] * cv2.arcLength(contour, True)\n",
    "    approx = cv2.approxPolyDP(contour, epsilon, True)\n",
    "    return approx"
   ]
  },
  {
   "cell_type": "code",
   "execution_count": 22,
   "metadata": {},
   "outputs": [],
   "source": [
    "def calc_distance(p1, p2):\n",
    "    \"\"\" return the distance between two points \"\"\"\n",
    "    return math.sqrt(((p2[0] - p1[0])**2) + ((p2[1] - p1[1])**2))\n",
    "\n",
    "\n",
    "def get_contour_lengths(approx: List[List[List[int]]]) -> List[int]:\n",
    "    \"\"\" \n",
    "    extract lengths from the co-ordinates \n",
    "    \"\"\"\n",
    "    # unnest and arrange into each corner co-ords\n",
    "    # this could be done programmatically but not really worth it\n",
    "    verticies = [\n",
    "            [approx[0][0], approx[1][0]],\n",
    "            [approx[1][0], approx[2][0]],\n",
    "            [approx[2][0], approx[3][0]],\n",
    "            [approx[3][0], approx[0][0]]\n",
    "        ]\n",
    "    lengths = list(map(lambda x: calc_distance(x[0], x[1]), verticies))\n",
    "    return sorted(lengths)\n",
    "\n",
    "\n",
    "def is_square(lengths, options) -> bool:\n",
    "    \"\"\" check if the longest side is close in length to the shortest side \"\"\"\n",
    "    return ((lengths[3] - lengths[0]) / lengths[3]) < options[\"square_ar\"]"
   ]
  },
  {
   "cell_type": "code",
   "execution_count": 23,
   "metadata": {},
   "outputs": [],
   "source": [
    "def filterContours(contours, options):\n",
    "    \"\"\" \n",
    "    return only the contours that are squares\n",
    "    \"\"\"\n",
    "    squareIndexes = []\n",
    "\n",
    "    # filter contours\n",
    "    for i, contour in enumerate(contours):  # for each of the found contours\n",
    "        if cv2.contourArea(contour) > options[\"min_area\"]:\n",
    "            approx = approxContour(contour, options)\n",
    "            if len(approx) == 4:\n",
    "                if is_square(get_contour_lengths(approx), options):\n",
    "                    squareIndexes.append(i)\n",
    "    \n",
    "    return squareIndexes"
   ]
  },
  {
   "cell_type": "code",
   "execution_count": 24,
   "metadata": {},
   "outputs": [],
   "source": [
    "def target_centre(contour: list) -> Tuple[int, int]:\n",
    "    \"\"\" \n",
    "    given the square corners, return the centre of the square \n",
    "    \"\"\"\n",
    "    x = sum([item[0] for item in contour])/4\n",
    "    y = sum([item[1] for item in contour])/4\n",
    "    return int(x), int(y)"
   ]
  },
  {
   "cell_type": "code",
   "execution_count": 25,
   "metadata": {},
   "outputs": [],
   "source": [
    "def find_targets(image: np.ndarray, options, debug=False) -> List[List[Tuple[int,int]]]:\n",
    "    \"\"\" \n",
    "    return the centre position within the image\n",
    "    \"\"\"\n",
    "    imgGray = cv2.cvtColor(image, cv2.COLOR_BGR2GRAY)\n",
    "    imgBlurred = cv2.GaussianBlur(imgGray, (options[\"ksize\"], options[\"ksize\"]), options[\"sigma\"])\n",
    "    img_thresh = cv2.adaptiveThreshold(\n",
    "        imgBlurred,\n",
    "        255,\n",
    "        cv2.ADAPTIVE_THRESH_MEAN_C, \n",
    "        cv2.THRESH_BINARY,\n",
    "        options[\"block_size\"],\n",
    "        options[\"c\"]\n",
    "    )\n",
    "    \n",
    "    if debug: \n",
    "        display(img_thresh)\n",
    "\n",
    "    contours, hierarchy = cv2.findContours(img_thresh, cv2.RETR_EXTERNAL, cv2.CHAIN_APPROX_SIMPLE)[-2:]\n",
    "    squareIndexes = filterContours(contours, options)\n",
    "    \n",
    "    if debug:\n",
    "        for index in squareIndexes:\n",
    "            cv2.drawContours(image, contours[index], -1, (0, 255, 0), 3)\n",
    "        display(image)\n",
    "\n",
    "    # this for loop is mainly to check if there are multiple squares in the same image\n",
    "    # otherwise there would not be a loop\n",
    "    \n",
    "    results = []\n",
    "    for index in squareIndexes:\n",
    "        target_contour = approxContour(contours[index], options)\n",
    "\n",
    "        reshaped = target_contour.reshape(4,2)\n",
    "\n",
    "        centre = target_centre(reshaped)\n",
    "\n",
    "        results.append(\n",
    "            centre\n",
    "        )\n",
    "\n",
    "\n",
    "    if len(results) == 0:\n",
    "        pass\n",
    "\n",
    "    return results"
   ]
  },
  {
   "cell_type": "markdown",
   "metadata": {},
   "source": [
    "# sim_dataset testing"
   ]
  },
  {
   "cell_type": "code",
   "execution_count": null,
   "metadata": {},
   "outputs": [],
   "source": [
    "def centre_check(predicted, actual) -> bool:\n",
    "    \"\"\" True if the centre is as expected else False \"\"\"\n",
    "    x = math.isclose(predicted[0], actual[0], abs_tol=20)\n",
    "    y = math.isclose(predicted[1], actual[1], abs_tol=20)\n",
    "    return x & y"
   ]
  },
  {
   "cell_type": "code",
   "execution_count": 27,
   "metadata": {},
   "outputs": [],
   "source": [
    "ref = read_positions(\"./dataset/target_positions\")"
   ]
  },
  {
   "cell_type": "code",
   "execution_count": 28,
   "metadata": {},
   "outputs": [
    {
     "name": "stdout",
     "output_type": "stream",
     "text": [
      "IMG_160729_071816_0092_RGB.JPG\n",
      "True\n",
      "True\n"
     ]
    }
   ],
   "source": [
    "image_number = 50\n",
    "files = [f for f in os.listdir('./dataset/sim_dataset/')]\n",
    "image = cv2.imread('./dataset/sim_dataset/' + files[image_number])\n",
    "print(files[image_number])\n",
    "\n",
    "options = {\n",
    "    \"block_size\": 249,\n",
    "    \"c\": -39,\n",
    "    \"ksize\": 49,\n",
    "    \"sigma\": 0,\n",
    "    \"epsilon\": 0.02,\n",
    "    \"square_ar\": 0.4,\n",
    "    \"min_area\": 3000,\n",
    "}\n",
    "\n",
    "predicted = find_targets(image, options, debug=True)\n",
    "actual = ref[files[image_number]]\n",
    "print(centre_check(predicted[0], actual))\n",
    "print(len(predicted) == 1)"
   ]
  },
  {
   "cell_type": "code",
   "execution_count": 30,
   "metadata": {},
   "outputs": [
    {
     "name": "stdout",
     "output_type": "stream",
     "text": [
      "accuracy: 89.02 %\n",
      "false positives 1.15 %\n",
      "no. images: 173\n"
     ]
    }
   ],
   "source": [
    "results = []\n",
    "false_positives = []\n",
    "\n",
    "for file in files:\n",
    "    image = cv2.imread('./dataset/sim_dataset/' + file)\n",
    "    result = find_targets(image, options, debug=False)\n",
    "    try:\n",
    "        result[0]\n",
    "        for r in result:\n",
    "            actual = ref[file]\n",
    "            if centre_check(r, actual):\n",
    "                results.append(1)\n",
    "            else:\n",
    "                results.append(0)\n",
    "                false_positives.append(1)\n",
    "\n",
    "    except:\n",
    "        #result = find_targets(image, options, debug=True)\n",
    "        results.append(0)\n",
    "\n",
    "print(f\"accuracy: {round(sum(results)/len(files) * 100, 2)} %\")\n",
    "print(f\"false positives {round(sum(false_positives)/len(results) * 100, 2)} %\")\n",
    "print(f\"no. images: {len(files)}\")"
   ]
  },
  {
   "cell_type": "markdown",
   "metadata": {},
   "source": [
    "# Understanding parameter effects"
   ]
  },
  {
   "cell_type": "code",
   "execution_count": null,
   "metadata": {},
   "outputs": [],
   "source": [
    "results = []\n",
    "image = cv2.imread('./dataset/sim_dataset/' + files[image_number])\n",
    "\n",
    "for block_size in range(29, 249, 20):\n",
    "    print(block_size)\n",
    "    for c in range(-100, 20, 20):\n",
    "        for ksize in range(1, 9, 2):\n",
    "            for sigma in [0]: #range(0, 10, 2):\n",
    "                options = {\n",
    "                    \"block_size\": block_size,\n",
    "                    \"c\": c,\n",
    "                    \"ksize\": ksize,\n",
    "                    \"sigma\": sigma\n",
    "                }\n",
    "                result = find_targets(image, options, debug=False)\n",
    "                try:\n",
    "                    result[0]\n",
    "                    if result[0][0] > 1080 and result[0][0] < 1100:\n",
    "                        ans = 1\n",
    "                    else:\n",
    "                        ans = 0\n",
    "                except:\n",
    "                    ans = 0\n",
    "                \n",
    "                results.append((block_size, c, ksize, sigma, ans))"
   ]
  },
  {
   "cell_type": "code",
   "execution_count": null,
   "metadata": {},
   "outputs": [
    {
     "data": {
      "text/html": [
       "<div>\n",
       "<style scoped>\n",
       "    .dataframe tbody tr th:only-of-type {\n",
       "        vertical-align: middle;\n",
       "    }\n",
       "\n",
       "    .dataframe tbody tr th {\n",
       "        vertical-align: top;\n",
       "    }\n",
       "\n",
       "    .dataframe thead th {\n",
       "        text-align: right;\n",
       "    }\n",
       "</style>\n",
       "<table border=\"1\" class=\"dataframe\">\n",
       "  <thead>\n",
       "    <tr style=\"text-align: right;\">\n",
       "      <th></th>\n",
       "      <th>0</th>\n",
       "      <th>1</th>\n",
       "      <th>2</th>\n",
       "      <th>3</th>\n",
       "      <th>4</th>\n",
       "    </tr>\n",
       "  </thead>\n",
       "  <tbody>\n",
       "    <tr>\n",
       "      <th>0</th>\n",
       "      <td>29</td>\n",
       "      <td>-100</td>\n",
       "      <td>1</td>\n",
       "      <td>0</td>\n",
       "      <td>0</td>\n",
       "    </tr>\n",
       "    <tr>\n",
       "      <th>1</th>\n",
       "      <td>29</td>\n",
       "      <td>-100</td>\n",
       "      <td>3</td>\n",
       "      <td>0</td>\n",
       "      <td>0</td>\n",
       "    </tr>\n",
       "    <tr>\n",
       "      <th>2</th>\n",
       "      <td>29</td>\n",
       "      <td>-100</td>\n",
       "      <td>5</td>\n",
       "      <td>0</td>\n",
       "      <td>0</td>\n",
       "    </tr>\n",
       "    <tr>\n",
       "      <th>3</th>\n",
       "      <td>29</td>\n",
       "      <td>-100</td>\n",
       "      <td>7</td>\n",
       "      <td>0</td>\n",
       "      <td>0</td>\n",
       "    </tr>\n",
       "    <tr>\n",
       "      <th>4</th>\n",
       "      <td>29</td>\n",
       "      <td>-80</td>\n",
       "      <td>1</td>\n",
       "      <td>0</td>\n",
       "      <td>0</td>\n",
       "    </tr>\n",
       "    <tr>\n",
       "      <th>...</th>\n",
       "      <td>...</td>\n",
       "      <td>...</td>\n",
       "      <td>...</td>\n",
       "      <td>...</td>\n",
       "      <td>...</td>\n",
       "    </tr>\n",
       "    <tr>\n",
       "      <th>331</th>\n",
       "      <td>289</td>\n",
       "      <td>-20</td>\n",
       "      <td>7</td>\n",
       "      <td>0</td>\n",
       "      <td>0</td>\n",
       "    </tr>\n",
       "    <tr>\n",
       "      <th>332</th>\n",
       "      <td>289</td>\n",
       "      <td>0</td>\n",
       "      <td>1</td>\n",
       "      <td>0</td>\n",
       "      <td>0</td>\n",
       "    </tr>\n",
       "    <tr>\n",
       "      <th>333</th>\n",
       "      <td>289</td>\n",
       "      <td>0</td>\n",
       "      <td>3</td>\n",
       "      <td>0</td>\n",
       "      <td>0</td>\n",
       "    </tr>\n",
       "    <tr>\n",
       "      <th>334</th>\n",
       "      <td>289</td>\n",
       "      <td>0</td>\n",
       "      <td>5</td>\n",
       "      <td>0</td>\n",
       "      <td>0</td>\n",
       "    </tr>\n",
       "    <tr>\n",
       "      <th>335</th>\n",
       "      <td>289</td>\n",
       "      <td>0</td>\n",
       "      <td>7</td>\n",
       "      <td>0</td>\n",
       "      <td>0</td>\n",
       "    </tr>\n",
       "  </tbody>\n",
       "</table>\n",
       "<p>336 rows × 5 columns</p>\n",
       "</div>"
      ],
      "text/plain": [
       "       0    1  2  3  4\n",
       "0     29 -100  1  0  0\n",
       "1     29 -100  3  0  0\n",
       "2     29 -100  5  0  0\n",
       "3     29 -100  7  0  0\n",
       "4     29  -80  1  0  0\n",
       "..   ...  ... .. .. ..\n",
       "331  289  -20  7  0  0\n",
       "332  289    0  1  0  0\n",
       "333  289    0  3  0  0\n",
       "334  289    0  5  0  0\n",
       "335  289    0  7  0  0\n",
       "\n",
       "[336 rows x 5 columns]"
      ]
     },
     "execution_count": 152,
     "metadata": {},
     "output_type": "execute_result"
    }
   ],
   "source": [
    "df = pd.DataFrame(results)"
   ]
  },
  {
   "cell_type": "code",
   "execution_count": null,
   "metadata": {},
   "outputs": [
    {
     "data": {
      "text/plain": [
       "<matplotlib.collections.PathCollection at 0x1b0cf7255e0>"
      ]
     },
     "execution_count": 179,
     "metadata": {},
     "output_type": "execute_result"
    },
    {
     "data": {
      "image/png": "[encoded data removed]",
      "text/plain": [
       "<Figure size 432x288 with 1 Axes>"
      ]
     },
     "metadata": {
      "needs_background": "light"
     },
     "output_type": "display_data"
    }
   ],
   "source": [
    "plt.scatter(df[0], df[1], s=df[4]*100, alpha=0.1)"
   ]
  },
  {
   "cell_type": "code",
   "execution_count": null,
   "metadata": {},
   "outputs": [],
   "source": [
    "df = df[df[4] == 1]"
   ]
  },
  {
   "cell_type": "code",
   "execution_count": null,
   "metadata": {},
   "outputs": [
    {
     "data": {
      "text/plain": [
       "<matplotlib.collections.PathCollection at 0x1b0cfc75700>"
      ]
     },
     "execution_count": 213,
     "metadata": {},
     "output_type": "execute_result"
    },
    {
     "data": {
      "image/png": "[encoded data removed]",
      "text/plain": [
       "<Figure size 432x288 with 1 Axes>"
      ]
     },
     "metadata": {
      "needs_background": "light"
     },
     "output_type": "display_data"
    }
   ],
   "source": [
    "df2 = df[df[1] == -20]\n",
    "plt.scatter(df2[0], df2[2], s=100, alpha=1)"
   ]
  },
  {
   "cell_type": "markdown",
   "metadata": {},
   "source": [
    "# Testing main IR functions"
   ]
  },
  {
   "cell_type": "code",
   "execution_count": 1,
   "metadata": {},
   "outputs": [
    {
     "name": "stdout",
     "output_type": "stream",
     "text": [
      "IMG_160729_071816_0092_RGB.JPG\n"
     ]
    }
   ],
   "source": [
    "from theia import main\n",
    "from theia import spec\n",
    "import cv2\n",
    "import os\n",
    "from importlib import reload\n",
    "reload(main)\n",
    "\n",
    "loc = spec.LocationInfo()\n",
    "image_number = 50\n",
    "files = [f for f in os.listdir('./dataset/sim_dataset/')]\n",
    "image = cv2.imread('./dataset/sim_dataset/' + files[image_number])\n",
    "print(files[image_number])\n",
    "base_dir = os.getcwd()"
   ]
  },
  {
   "cell_type": "code",
   "execution_count": 2,
   "metadata": {},
   "outputs": [
    {
     "name": "stderr",
     "output_type": "stream",
     "text": [
      "2022-01-26 14:54:42,172, [INFO], main , processing image\n",
      "2022-01-26 14:54:42,492, [INFO], main , ImageRecognitionResult(image_name='c:\\\\Users\\\\olive\\\\Documents\\\\GitHub\\\\uas-theia\\\\runtime\\\\26012022_14-54-42.240916.jpg', centre=(2310, 3193), position=(0.0, 0.0))\n"
     ]
    }
   ],
   "source": [
    "ir = main.ImageRecognition(base_dir)\n",
    "ir.image_recognition(image, loc)"
   ]
  },
  {
   "cell_type": "markdown",
   "metadata": {},
   "source": [
    "# Experimenting with perspective"
   ]
  },
  {
   "cell_type": "code",
   "execution_count": 18,
   "metadata": {},
   "outputs": [
    {
     "name": "stdout",
     "output_type": "stream",
     "text": [
      "900-900.jpg\n",
      "[(1318, 2534), (3707, 288)]\n",
      "0.01\n",
      "True\n"
     ]
    }
   ],
   "source": [
    "ref = read_positions(\"./dataset/target_positions_transformed\")\n",
    "\n",
    "result = 0\n",
    "files = [f for f in os.listdir('./dataset/transform_dataset/')]\n",
    "for image_number in [99]: #range(len(files)):\n",
    "    image = cv2.imread('./dataset/transform_dataset/' + files[image_number])\n",
    "    print(files[image_number])\n",
    "\n",
    "    options = {\n",
    "        \"block_size\": 249,\n",
    "        \"c\": -39,\n",
    "        \"ksize\": 49,\n",
    "        \"sigma\": 0,\n",
    "        \"epsilon\": 0.02,\n",
    "        \"square_ar\": 0.4,\n",
    "        \"min_area\": 3000,\n",
    "    }\n",
    "\n",
    "    predicted = find_targets(image, options, debug=True)\n",
    "    if len(predicted) >= 0:\n",
    "        result+=1\n",
    "    print(predicted)\n",
    "\n",
    "print(result/len(files))\n",
    "print(centre_check(predicted[0], (1316, 2532)))"
   ]
  },
  {
   "cell_type": "code",
   "execution_count": 33,
   "metadata": {},
   "outputs": [
    {
     "name": "stdout",
     "output_type": "stream",
     "text": [
      "accuracy: 80.35 %\n",
      "false positives 13.55 %\n",
      "no. images: 1557\n"
     ]
    }
   ],
   "source": [
    "options = {\n",
    "    \"block_size\": 249,\n",
    "    \"c\": -39,\n",
    "    \"ksize\": 49,\n",
    "    \"sigma\": 0,\n",
    "    \"epsilon\": 0.02,\n",
    "    \"square_ar\": 0.4,\n",
    "    \"min_area\": 3000,\n",
    "}\n",
    "ref = read_positions(\"./dataset/target_positions_transformed\", offset=0)\n",
    "files = [f for f in os.listdir('./dataset/transform_dataset/')]\n",
    "results = []\n",
    "false_positives = []\n",
    "\n",
    "for file in files:\n",
    "    image = cv2.imread('./dataset/transform_dataset/' + file)\n",
    "    result = find_targets(image, options, debug=False)\n",
    "    try:\n",
    "        result[0]\n",
    "        for r in result:\n",
    "            actual = ref[file]\n",
    "\n",
    "            if centre_check(r, actual):\n",
    "                results.append(1)\n",
    "            else:\n",
    "                results.append(0)\n",
    "                false_positives.append(1)\n",
    "\n",
    "    except Exception as e:\n",
    "        results.append(0)\n",
    "\n",
    "print(f\"accuracy: {round(sum(results)/len(files) * 100, 2)} %\")\n",
    "print(f\"false positives {round(sum(false_positives)/len(results) * 100, 2)} %\")\n",
    "print(f\"no. images: {len(files)}\")"
   ]
  }
 ],
 "metadata": {
  "interpreter": {
   "hash": "93e24e57a33bb29a03c7396c3d010b18a5f816bb4c8ddbedb5a18cf4596c7660"
  },
  "kernelspec": {
   "display_name": "Python 3.9.0 64-bit",
   "language": "python",
   "name": "python3"
  },
  "language_info": {
   "codemirror_mode": {
    "name": "ipython",
    "version": 3
   },
   "file_extension": ".py",
   "mimetype": "text/x-python",
   "name": "python",
   "nbconvert_exporter": "python",
   "pygments_lexer": "ipython3",
   "version": "3.10.0"
  },
  "orig_nbformat": 4
 },
 "nbformat": 4,
 "nbformat_minor": 2
}
