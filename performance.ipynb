{
 "cells": [
  {
   "cell_type": "code",
   "execution_count": 1,
   "metadata": {},
   "outputs": [],
   "source": [
    "import cv2\n",
    "import os\n",
    "from theia import image_segmentation\n",
    "from theia.utils import display\n",
    "\n",
    "files = [f for f in os.listdir('./dataset/sim_dataset/')]\n",
    "image = cv2.imread('./dataset/sim_dataset/' + files[10])"
   ]
  },
  {
   "cell_type": "code",
   "execution_count": 3,
   "metadata": {},
   "outputs": [
    {
     "data": {
      "text/plain": [
       "'IMG_160729_071510_0029_RGB.JPG'"
      ]
     },
     "execution_count": 3,
     "metadata": {},
     "output_type": "execute_result"
    }
   ],
   "source": [
    "files[10]"
   ]
  },
  {
   "cell_type": "code",
   "execution_count": 5,
   "metadata": {},
   "outputs": [
    {
     "data": {
      "text/plain": [
       "[(4161, 1851)]"
      ]
     },
     "execution_count": 5,
     "metadata": {},
     "output_type": "execute_result"
    }
   ],
   "source": [
    "image_segmentation.find_targets(image, debug=True)"
   ]
  },
  {
   "cell_type": "code",
   "execution_count": 2,
   "metadata": {},
   "outputs": [
    {
     "name": "stdout",
     "output_type": "stream",
     "text": [
      "73.5 ms ± 639 µs per loop (mean ± std. dev. of 7 runs, 10 loops each)\n"
     ]
    }
   ],
   "source": [
    "%timeit target_recognition.findCharacters(image)"
   ]
  },
  {
   "cell_type": "code",
   "execution_count": 22,
   "metadata": {},
   "outputs": [
    {
     "name": "stdout",
     "output_type": "stream",
     "text": [
      "26.6 ms ± 284 µs per loop (mean ± std. dev. of 7 runs, 10 loops each)\n"
     ]
    }
   ],
   "source": [
    "%timeit work()"
   ]
  },
  {
   "cell_type": "code",
   "execution_count": 23,
   "metadata": {},
   "outputs": [
    {
     "name": "stdout",
     "output_type": "stream",
     "text": [
      "25.4 ms ± 387 µs per loop (mean ± std. dev. of 7 runs, 10 loops each)\n"
     ]
    }
   ],
   "source": [
    "%timeit preprocess()"
   ]
  },
  {
   "cell_type": "code",
   "execution_count": 11,
   "metadata": {},
   "outputs": [],
   "source": [
    "imgBlurred = cv2.bilateralFilter(imgGray,20,75,75)\n",
    "display(imgBlurred)"
   ]
  },
  {
   "cell_type": "code",
   "execution_count": 12,
   "metadata": {},
   "outputs": [
    {
     "name": "stdout",
     "output_type": "stream",
     "text": [
      "666 ms ± 52.5 ms per loop (mean ± std. dev. of 7 runs, 1 loop each)\n"
     ]
    }
   ],
   "source": [
    "%timeit cv2.bilateralFilter(imgGray,20,75,75)"
   ]
  },
  {
   "cell_type": "code",
   "execution_count": 3,
   "metadata": {},
   "outputs": [
    {
     "name": "stdout",
     "output_type": "stream",
     "text": [
      "Help on built-in function threshold:\n",
      "\n",
      "threshold(...)\n",
      "    threshold(src, thresh, maxval, type[, dst]) -> retval, dst\n",
      "    .   @brief Applies a fixed-level threshold to each array element.\n",
      "    .   \n",
      "    .   The function applies fixed-level thresholding to a multiple-channel array. The function is typically\n",
      "    .   used to get a bi-level (binary) image out of a grayscale image ( #compare could be also used for\n",
      "    .   this purpose) or for removing a noise, that is, filtering out pixels with too small or too large\n",
      "    .   values. There are several types of thresholding supported by the function. They are determined by\n",
      "    .   type parameter.\n",
      "    .   \n",
      "    .   Also, the special values #THRESH_OTSU or #THRESH_TRIANGLE may be combined with one of the\n",
      "    .   above values. In these cases, the function determines the optimal threshold value using the Otsu's\n",
      "    .   or Triangle algorithm and uses it instead of the specified thresh.\n",
      "    .   \n",
      "    .   @note Currently, the Otsu's and Triangle methods are implemented only for 8-bit single-channel images.\n",
      "    .   \n",
      "    .   @param src input array (multiple-channel, 8-bit or 32-bit floating point).\n",
      "    .   @param dst output array of the same size  and type and the same number of channels as src.\n",
      "    .   @param thresh threshold value.\n",
      "    .   @param maxval maximum value to use with the #THRESH_BINARY and #THRESH_BINARY_INV thresholding\n",
      "    .   types.\n",
      "    .   @param type thresholding type (see #ThresholdTypes).\n",
      "    .   @return the computed threshold value if Otsu's or Triangle methods used.\n",
      "    .   \n",
      "    .   @sa  adaptiveThreshold, findContours, compare, min, max\n",
      "\n"
     ]
    }
   ],
   "source": [
    "help(cv2.threshold)"
   ]
  },
  {
   "cell_type": "code",
   "execution_count": null,
   "metadata": {},
   "outputs": [],
   "source": []
  }
 ],
 "metadata": {
  "kernelspec": {
   "display_name": "Python 3",
   "language": "python",
   "name": "python3"
  },
  "language_info": {
   "codemirror_mode": {
    "name": "ipython",
    "version": 3
   },
   "file_extension": ".py",
   "mimetype": "text/x-python",
   "name": "python",
   "nbconvert_exporter": "python",
   "pygments_lexer": "ipython3",
   "version": "3.10.0"
  }
 },
 "nbformat": 4,
 "nbformat_minor": 4
}
