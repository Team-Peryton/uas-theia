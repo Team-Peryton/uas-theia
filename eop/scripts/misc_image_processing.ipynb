{
 "cells": [
  {
   "cell_type": "code",
   "execution_count": 23,
   "metadata": {},
   "outputs": [],
   "source": [
    "import cv2\n",
    "from utils import display, resizeWithAspectRatio, imageOverlay\n",
    "import numpy as np\n",
    "import time"
   ]
  },
  {
   "cell_type": "code",
   "execution_count": 34,
   "metadata": {},
   "outputs": [
    {
     "name": "stdout",
     "output_type": "stream",
     "text": [
      "0.06199932098388672\n"
     ]
    }
   ],
   "source": [
    "img = cv2.imread('scaled/field.png')\n",
    "img = cv2.imread(\"scaled/IMG_1133.jpg\")\n",
    "#img = cv2.imread(\"scaled/scaleImage2.jpg\")\n",
    "#img = cv2.imread('scaled/field2.png')\n",
    "img = cv2.imread('scaled/scaleImage7.jpg')\n",
    "\n",
    "start = time.time()\n",
    "\n",
    "# resize img for speed\n",
    "height, width = img.shape[:2]\n",
    "img = cv2.resize(img, (round(width / 5), round(height / 5)), interpolation=cv2.INTER_AREA)\n",
    "imgBlurred = cv2.GaussianBlur(img, (5, 5), 0)\n",
    "\n",
    "imgGray2 = cv2.cvtColor(imgBlurred.copy(), cv2.COLOR_BGR2GRAY)\n",
    "_, thresh2 = cv2.threshold(imgGray2, 0, 255, cv2.THRESH_BINARY | cv2.THRESH_OTSU)\n",
    "\n",
    "Z = imgBlurred.reshape((-1,3))\n",
    "\n",
    "# convert to np.float32\n",
    "Z = np.float32(Z)\n",
    "\n",
    "# define criteria, number of clusters(K) and apply kmeans()\n",
    "criteria = (cv2.TERM_CRITERIA_EPS + cv2.TERM_CRITERIA_MAX_ITER, 10, 1.0)\n",
    "K = 4\n",
    "ret,label,center=cv2.kmeans(Z,K,None,criteria,1,cv2.KMEANS_RANDOM_CENTERS)\n",
    "\n",
    "# Now convert back into uint8, and make original image\n",
    "center = np.uint8(center)\n",
    "res = center[label.flatten()]\n",
    "res2 = res.reshape((img.shape))\n",
    "\n",
    "# convert to black and white\n",
    "imgGray = cv2.cvtColor(res2, cv2.COLOR_BGR2GRAY)\n",
    "thresh, imgf = cv2.threshold(imgGray, 0, 255, cv2.THRESH_BINARY | cv2.THRESH_OTSU)\n",
    "\n",
    "thresh, imgf = cv2.threshold(imgGray, 180, 255, cv2.THRESH_BINARY)\n",
    "\n",
    "print(time.time() - start)\n",
    "\n",
    "display(cv2.threshold(imgGray2, 180, 255, cv2.THRESH_BINARY)[1])\n",
    "display(thresh2)\n",
    "display(imgBlurred)\n",
    "display(res2)\n",
    "display(imgf)\n",
    "\n",
    "cv2.waitKey(0)\n",
    "cv2.destroyAllWindows()"
   ]
  },
  {
   "cell_type": "code",
   "execution_count": 25,
   "metadata": {},
   "outputs": [
    {
     "ename": "NameError",
     "evalue": "name 'wimg' is not defined",
     "output_type": "error",
     "traceback": [
      "\u001b[1;31m---------------------------------------------------------------------------\u001b[0m",
      "\u001b[1;31mNameError\u001b[0m                                 Traceback (most recent call last)",
      "\u001b[1;32m<ipython-input-25-248420d02bb4>\u001b[0m in \u001b[0;36m<module>\u001b[1;34m\u001b[0m\n\u001b[0;32m      1\u001b[0m \u001b[1;31m# plot a histogram of an image\u001b[0m\u001b[1;33m\u001b[0m\u001b[1;33m\u001b[0m\u001b[1;33m\u001b[0m\u001b[0m\n\u001b[1;32m----> 2\u001b[1;33m \u001b[1;32mfor\u001b[0m \u001b[0mi\u001b[0m \u001b[1;32min\u001b[0m \u001b[0mcv2\u001b[0m\u001b[1;33m.\u001b[0m\u001b[0mcalcHist\u001b[0m\u001b[1;33m(\u001b[0m\u001b[1;33m[\u001b[0m\u001b[0mwimg\u001b[0m\u001b[1;33m]\u001b[0m\u001b[1;33m,\u001b[0m\u001b[1;33m[\u001b[0m\u001b[1;36m0\u001b[0m\u001b[1;33m]\u001b[0m\u001b[1;33m,\u001b[0m\u001b[1;32mNone\u001b[0m\u001b[1;33m,\u001b[0m\u001b[1;33m[\u001b[0m\u001b[1;36m256\u001b[0m\u001b[1;33m]\u001b[0m\u001b[1;33m,\u001b[0m\u001b[1;33m[\u001b[0m\u001b[1;36m0\u001b[0m\u001b[1;33m,\u001b[0m\u001b[1;36m256\u001b[0m\u001b[1;33m]\u001b[0m\u001b[1;33m)\u001b[0m\u001b[1;33m:\u001b[0m\u001b[1;33m\u001b[0m\u001b[1;33m\u001b[0m\u001b[0m\n\u001b[0m\u001b[0;32m      3\u001b[0m     \u001b[0mprint\u001b[0m\u001b[1;33m(\u001b[0m\u001b[1;34mf\"{i[0]},\"\u001b[0m\u001b[1;33m)\u001b[0m\u001b[1;33m\u001b[0m\u001b[1;33m\u001b[0m\u001b[0m\n",
      "\u001b[1;31mNameError\u001b[0m: name 'wimg' is not defined"
     ]
    }
   ],
   "source": [
    "# plot a histogram of an image\n",
    "for i in cv2.calcHist([wimg],[0],None,[256],[0,256]):\n",
    "    print(f\"{i[0]},\")"
   ]
  },
  {
   "cell_type": "code",
   "execution_count": 65,
   "metadata": {},
   "outputs": [
    {
     "data": {
      "text/plain": [
       "numpy.ndarray"
      ]
     },
     "execution_count": 65,
     "metadata": {},
     "output_type": "execute_result"
    }
   ],
   "source": [
    "type(imgf)"
   ]
  },
  {
   "cell_type": "code",
   "execution_count": 77,
   "metadata": {},
   "outputs": [],
   "source": [
    "contours, hierarchy = cv2.findContours(imgf, cv2.RETR_TREE, cv2.CHAIN_APPROX_NONE)[-2:]\n",
    "cv2.drawContours(imgf, contours, -1, (0,255,0), 10)\n",
    "display(imgf)"
   ]
  },
  {
   "cell_type": "code",
   "execution_count": 80,
   "metadata": {},
   "outputs": [],
   "source": [
    "def white_balance(img):\n",
    "    result = cv2.cvtColor(img, cv2.COLOR_BGR2LAB)\n",
    "    avg_a = np.average(result[:, :, 1])\n",
    "    avg_b = np.average(result[:, :, 2])\n",
    "    result[:, :, 1] = result[:, :, 1] - ((avg_a - 128) * (result[:, :, 0] / 255.0) * 1.1)\n",
    "    result[:, :, 2] = result[:, :, 2] - ((avg_b - 128) * (result[:, :, 0] / 255.0) * 1.1)\n",
    "    result = cv2.cvtColor(result, cv2.COLOR_LAB2BGR)\n",
    "    return result"
   ]
  },
  {
   "cell_type": "code",
   "execution_count": 83,
   "metadata": {},
   "outputs": [],
   "source": [
    "wimg= white_balance(img)"
   ]
  },
  {
   "cell_type": "code",
   "execution_count": 17,
   "metadata": {},
   "outputs": [],
   "source": [
    "def imageOverlay(background, overlay ,width=0, x=0, y=0):\n",
    "    \"\"\" overlay an image over another \"\"\"\n",
    "\n",
    "    dim = (width, width)\n",
    "    # resize image\n",
    "    overlay = cv2.resize(overlay, dim, interpolation = cv2.INTER_AREA)\n",
    "    \n",
    "    rows,cols,channels = overlay.shape\n",
    "    overlay=cv2.addWeighted(background[x:x+rows, y:y+cols],0,overlay,1,0)\n",
    "    background[250:250+rows, 0:0+cols ] = overlay\n",
    "\n",
    "    return background"
   ]
  },
  {
   "cell_type": "code",
   "execution_count": 24,
   "metadata": {},
   "outputs": [],
   "source": [
    "overlay = cv2.imread('test_images/target.jpg')\n",
    "background = cv2.imread('test_images/field2.png')\n",
    "display(overlay_transparent(background, overlay, x=100, y=100, width=50))"
   ]
  },
  {
   "cell_type": "code",
   "execution_count": 7,
   "metadata": {},
   "outputs": [
    {
     "data": {
      "text/plain": [
       "(388, 394, 3)"
      ]
     },
     "execution_count": 7,
     "metadata": {},
     "output_type": "execute_result"
    }
   ],
   "source": [
    "target.shape"
   ]
  },
  {
   "cell_type": "code",
   "execution_count": 8,
   "metadata": {},
   "outputs": [
    {
     "data": {
      "text/plain": [
       "(912, 1283, 3)"
      ]
     },
     "execution_count": 8,
     "metadata": {},
     "output_type": "execute_result"
    }
   ],
   "source": [
    "field.shape"
   ]
  },
  {
   "cell_type": "code",
   "execution_count": 22,
   "metadata": {},
   "outputs": [],
   "source": [
    "import cv2\n",
    "import numpy as np\n",
    "\n",
    "def overlay_transparent(background, overlay, x, y, width):\n",
    "    \n",
    "    dim = (width, width)\n",
    "    # resize image\n",
    "    overlay = cv2.resize(overlay, dim, interpolation = cv2.INTER_AREA)\n",
    "\n",
    "    background_width = background.shape[1]\n",
    "    background_height = background.shape[0]\n",
    "\n",
    "    if x >= background_width or y >= background_height:\n",
    "        return background\n",
    "\n",
    "    h, w = overlay.shape[0], overlay.shape[1]\n",
    "\n",
    "    if x + w > background_width:\n",
    "        w = background_width - x\n",
    "        overlay = overlay[:, :w]\n",
    "\n",
    "    if y + h > background_height:\n",
    "        h = background_height - y\n",
    "        overlay = overlay[:h]\n",
    "\n",
    "    if overlay.shape[2] < 4:\n",
    "        overlay = np.concatenate(\n",
    "            [\n",
    "                overlay,\n",
    "                np.ones((overlay.shape[0], overlay.shape[1], 1), dtype = overlay.dtype) * 255\n",
    "            ],\n",
    "            axis = 2,\n",
    "        )\n",
    "\n",
    "    overlay_image = overlay[..., :3]\n",
    "    mask = overlay[..., 3:] / 255.0\n",
    "\n",
    "    background[y:y+h, x:x+w] = (1.0 - mask) * background[y:y+h, x:x+w] + mask * overlay_image\n",
    "\n",
    "    return background"
   ]
  },
  {
   "cell_type": "code",
   "execution_count": 25,
   "metadata": {},
   "outputs": [],
   "source": [
    "a = np.array([1])"
   ]
  },
  {
   "cell_type": "code",
   "execution_count": 26,
   "metadata": {},
   "outputs": [
    {
     "data": {
      "text/plain": [
       "[1]"
      ]
     },
     "execution_count": 26,
     "metadata": {},
     "output_type": "execute_result"
    }
   ],
   "source": [
    "a.tolist()\n"
   ]
  },
  {
   "cell_type": "code",
   "execution_count": 19,
   "metadata": {},
   "outputs": [],
   "source": [
    "# add barrel distortion\n",
    "\n",
    "import numpy as np\n",
    "import cv2\n",
    "\n",
    "src    = cv2.imread(\"test_images/field.png\")\n",
    "\n",
    "width  = src.shape[1]\n",
    "height = src.shape[0]\n",
    "\n",
    "distCoeff = np.zeros((4,1),np.float64)\n",
    "\n",
    "# TODO: add your coefficients here!\n",
    "k1 = -2.7e-5; # negative to remove barrel distortion\n",
    "k2 = 0.0;\n",
    "p1 = 0.0;\n",
    "p2 = 0.0;\n",
    "\n",
    "distCoeff[0,0] = k1;\n",
    "distCoeff[1,0] = k2;\n",
    "distCoeff[2,0] = p1;\n",
    "distCoeff[3,0] = p2;\n",
    "\n",
    "# assume unit matrix for camera\n",
    "cam = np.eye(3,dtype=np.float32)\n",
    "\n",
    "cam[0,2] = width/2.0  # define center x\n",
    "cam[1,2] = height/2.0 # define center y\n",
    "cam[0,0] = 10.        # define focal length x\n",
    "cam[1,1] = 10.        # define focal length y\n",
    "\n",
    "# here the undistortion will be computed\n",
    "dst = cv2.undistort(src,cam,distCoeff)\n",
    "\n",
    "cv2.imshow('dst',dst)\n",
    "cv2.waitKey(0)\n",
    "cv2.destroyAllWindows()\n",
    "\n"
   ]
  },
  {
   "cell_type": "code",
   "execution_count": 7,
   "metadata": {},
   "outputs": [
    {
     "name": "stdout",
     "output_type": "stream",
     "text": [
      "0.00099945068359375 to process letter T\n"
     ]
    },
    {
     "data": {
      "text/plain": [
       "[['T', [14.121631622314453, 4.800229072570801, 246.02029418945312]]]"
      ]
     },
     "execution_count": 7,
     "metadata": {},
     "output_type": "execute_result"
    }
   ],
   "source": [
    "import target_recognition\n",
    "k_nearest = target_recognition.load_model()\n",
    "target_recognition.k_nearest = k_nearest\n",
    "target_recognition.find_characters(dst)"
   ]
  },
  {
   "cell_type": "code",
   "execution_count": 9,
   "metadata": {},
   "outputs": [],
   "source": [
    "def distort(img, coef):\n",
    "    \n",
    "    width  = src.shape[1]\n",
    "    height = src.shape[0]\n",
    "\n",
    "    distCoeff = np.zeros((4,1),np.float64)\n",
    "\n",
    "    # TODO: add your coefficients here!\n",
    "    k1 = coef; # negative to remove barrel distortion\n",
    "    k2 = 0.0;\n",
    "    p1 = 0.0;\n",
    "    p2 = 0.0;\n",
    "\n",
    "    distCoeff[0,0] = k1;\n",
    "    distCoeff[1,0] = k2;\n",
    "    distCoeff[2,0] = p1;\n",
    "    distCoeff[3,0] = p2;\n",
    "\n",
    "    # assume unit matrix for camera\n",
    "    cam = np.eye(3,dtype=np.float32)\n",
    "\n",
    "    cam[0,2] = width/2.0  # define center x\n",
    "    cam[1,2] = height/2.0 # define center y\n",
    "    cam[0,0] = 10.        # define focal length x\n",
    "    cam[1,1] = 10.        # define focal length y\n",
    "\n",
    "    # here the undistortion will be computed\n",
    "    dst = cv2.undistort(src,cam,distCoeff)\n",
    "    \n",
    "    return dst"
   ]
  },
  {
   "cell_type": "code",
   "execution_count": 13,
   "metadata": {},
   "outputs": [
    {
     "name": "stdout",
     "output_type": "stream",
     "text": [
      "0.0009996891021728516 to process letter T\n",
      "0.001998424530029297 to process letter T\n",
      "0.0019989013671875 to process letter T\n",
      "0.0019991397857666016 to process letter T\n",
      "0.0009996891021728516 to process letter T\n",
      "0.00099945068359375 to process letter T\n",
      "0.0009992122650146484 to process letter T\n",
      "0.0009996891021728516 to process letter T\n",
      "0.0009996891021728516 to process letter T\n",
      "0.0019991397857666016 to process letter T\n",
      "0.0009996891021728516 to process letter T\n",
      "0.00099945068359375 to process letter T\n",
      "0.0019989013671875 to process letter T\n",
      "0.0019989013671875 to process letter T\n",
      "0.0009996891021728516 to process letter T\n",
      "0.00099945068359375 to process letter T\n",
      "0.001998424530029297 to process letter T\n"
     ]
    }
   ],
   "source": [
    "src = cv2.imread(\"test_images/field.png\")\n",
    "coef = -1e-5\n",
    "results = []\n",
    "for i in range(100):\n",
    "    coef -= 0.1e-5\n",
    "    img = distort(src, coef)\n",
    "    r = target_recognition.find_characters(img)\n",
    "    results.append([coef, r])"
   ]
  },
  {
   "cell_type": "code",
   "execution_count": 14,
   "metadata": {},
   "outputs": [
    {
     "data": {
      "text/plain": [
       "[[-1.1000000000000001e-05,\n",
       "  [['T', [13.777358055114746, 4.3942179679870605, 246.81289672851562]]]],\n",
       " [-1.2000000000000002e-05,\n",
       "  [['T', [13.594133377075195, 4.2114667892456055, 246.723876953125]]]],\n",
       " [-1.3000000000000003e-05,\n",
       "  [['T', [13.583355903625488, 4.211262226104736, 246.3133087158203]]]],\n",
       " [-1.4000000000000003e-05,\n",
       "  [['T', [13.676854133605957, 4.286823749542236, 246.97320556640625]]]],\n",
       " [-1.5000000000000004e-05,\n",
       "  [['T', [13.579848289489746, 4.197278022766113, 246.70384216308594]]]],\n",
       " [-1.6000000000000003e-05,\n",
       "  [['T', [13.949897766113281, 4.603034973144531, 246.2431640625]]]],\n",
       " [-1.7000000000000003e-05,\n",
       "  [['T', [13.098544120788574, 3.6736068725585938, 247.27197265625]]]],\n",
       " [-1.8000000000000004e-05,\n",
       "  [['T', [13.387857437133789, 3.981649398803711, 247.07861328125]]]],\n",
       " [-1.9000000000000004e-05,\n",
       "  [['T', [13.830865859985352, 4.4659743309021, 246.4813232421875]]]],\n",
       " [-2.0000000000000005e-05,\n",
       "  [['T', [14.121631622314453, 4.800229072570801, 246.02029418945312]]]],\n",
       " [-2.1000000000000006e-05,\n",
       "  [['T', [12.832493782043457, 3.4048328399658203, 246.88226318359375]]]],\n",
       " [-2.2000000000000006e-05,\n",
       "  [['T', [13.674104690551758, 4.29775857925415, 246.75938415527344]]]],\n",
       " [-2.3000000000000007e-05,\n",
       "  [['T', [13.750441551208496, 4.3843793869018555, 246.5084991455078]]]],\n",
       " [-2.4000000000000007e-05,\n",
       "  [['T', [12.991366386413574, 3.5903408527374268, 246.59152221679688]]]],\n",
       " [-2.5000000000000008e-05,\n",
       "  [['T', [14.021862983703613, 4.6741814613342285, 246.44151306152344]]]],\n",
       " [-2.600000000000001e-05,\n",
       "  [['T', [13.812300682067871, 4.4543070793151855, 246.57342529296875]]]],\n",
       " [-2.700000000000001e-05,\n",
       "  [['T', [14.210099220275879, 4.889817237854004, 246.09747314453125]]]],\n",
       " [-2.800000000000001e-05, []],\n",
       " [-2.900000000000001e-05, []],\n",
       " [-3.000000000000001e-05, []],\n",
       " [-3.100000000000001e-05, []],\n",
       " [-3.2000000000000005e-05, []],\n",
       " [-3.3e-05, []],\n",
       " [-3.4e-05, []],\n",
       " [-3.5e-05, []],\n",
       " [-3.5999999999999994e-05, []],\n",
       " [-3.699999999999999e-05, []],\n",
       " [-3.799999999999999e-05, []],\n",
       " [-3.8999999999999986e-05, []],\n",
       " [-3.999999999999998e-05, []],\n",
       " [-4.099999999999998e-05, []],\n",
       " [-4.199999999999998e-05, []],\n",
       " [-4.2999999999999975e-05, []],\n",
       " [-4.399999999999997e-05, []],\n",
       " [-4.499999999999997e-05, []],\n",
       " [-4.5999999999999966e-05, []],\n",
       " [-4.699999999999996e-05, []],\n",
       " [-4.799999999999996e-05, []],\n",
       " [-4.899999999999996e-05, []],\n",
       " [-4.9999999999999955e-05, []],\n",
       " [-5.099999999999995e-05, []],\n",
       " [-5.199999999999995e-05, []],\n",
       " [-5.2999999999999947e-05, []],\n",
       " [-5.3999999999999944e-05, []],\n",
       " [-5.499999999999994e-05, []],\n",
       " [-5.599999999999994e-05, []],\n",
       " [-5.6999999999999935e-05, []],\n",
       " [-5.799999999999993e-05, []],\n",
       " [-5.899999999999993e-05, []],\n",
       " [-5.999999999999993e-05, []],\n",
       " [-6.0999999999999924e-05, []],\n",
       " [-6.199999999999992e-05, []],\n",
       " [-6.299999999999992e-05, []],\n",
       " [-6.399999999999992e-05, []],\n",
       " [-6.499999999999991e-05, []],\n",
       " [-6.599999999999991e-05, []],\n",
       " [-6.699999999999991e-05, []],\n",
       " [-6.79999999999999e-05, []],\n",
       " [-6.89999999999999e-05, []],\n",
       " [-6.99999999999999e-05, []],\n",
       " [-7.09999999999999e-05, []],\n",
       " [-7.19999999999999e-05, []],\n",
       " [-7.299999999999989e-05, []],\n",
       " [-7.399999999999989e-05, []],\n",
       " [-7.499999999999989e-05, []],\n",
       " [-7.599999999999988e-05, []],\n",
       " [-7.699999999999988e-05, []],\n",
       " [-7.799999999999988e-05, []],\n",
       " [-7.899999999999987e-05, []],\n",
       " [-7.999999999999987e-05, []],\n",
       " [-8.099999999999987e-05, []],\n",
       " [-8.199999999999987e-05, []],\n",
       " [-8.299999999999986e-05, []],\n",
       " [-8.399999999999986e-05, []],\n",
       " [-8.499999999999986e-05, []],\n",
       " [-8.599999999999985e-05, []],\n",
       " [-8.699999999999985e-05, []],\n",
       " [-8.799999999999985e-05, []],\n",
       " [-8.899999999999985e-05, []],\n",
       " [-8.999999999999984e-05, []],\n",
       " [-9.099999999999984e-05, []],\n",
       " [-9.199999999999984e-05, []],\n",
       " [-9.299999999999983e-05, []],\n",
       " [-9.399999999999983e-05, []],\n",
       " [-9.499999999999983e-05, []],\n",
       " [-9.599999999999983e-05, []],\n",
       " [-9.699999999999982e-05, []],\n",
       " [-9.799999999999982e-05, []],\n",
       " [-9.899999999999982e-05, []],\n",
       " [-9.999999999999982e-05, []],\n",
       " [-0.00010099999999999981, []],\n",
       " [-0.00010199999999999981, []],\n",
       " [-0.0001029999999999998, []],\n",
       " [-0.0001039999999999998, []],\n",
       " [-0.0001049999999999998, []],\n",
       " [-0.0001059999999999998, []],\n",
       " [-0.0001069999999999998, []],\n",
       " [-0.00010799999999999979, []],\n",
       " [-0.00010899999999999979, []],\n",
       " [-0.00010999999999999979, []]]"
      ]
     },
     "execution_count": 14,
     "metadata": {},
     "output_type": "execute_result"
    }
   ],
   "source": [
    "results "
   ]
  },
  {
   "cell_type": "code",
   "execution_count": 34,
   "metadata": {},
   "outputs": [],
   "source": [
    "def noisy(noise_typ,image):\n",
    "    \"\"\"\n",
    "    Parameters\n",
    "    ----------\n",
    "    image : ndarray\n",
    "        Input image data. Will be converted to float.\n",
    "    mode : str\n",
    "        One of the following strings, selecting the type of noise to add:\n",
    "\n",
    "        'gauss'     Gaussian-distributed additive noise.\n",
    "        'poisson'   Poisson-distributed noise generated from the data.\n",
    "        's&p'       Replaces random pixels with 0 or 1.\n",
    "        'speckle'   Multiplicative noise using out = image + n*image,where\n",
    "                    n is uniform noise with specified mean & variance.\n",
    "    \"\"\"\n",
    "    if noise_typ == \"gauss\":\n",
    "        row,col,ch= image.shape\n",
    "        mean = 0\n",
    "        var = 0.1\n",
    "        sigma = var**0.5\n",
    "        gauss = np.random.normal(mean,sigma,(row,col,ch))\n",
    "        gauss = gauss.reshape(row,col,ch)\n",
    "        noisy = image + gauss\n",
    "        return noisy\n",
    "    elif noise_typ == \"s&p\":\n",
    "        row,col,ch = image.shape\n",
    "        s_vs_p = 0.5\n",
    "        amount = 0.004\n",
    "        out = np.copy(image)\n",
    "        # Salt mode\n",
    "        num_salt = np.ceil(amount * image.size * s_vs_p)\n",
    "        coords = [np.random.randint(0, i - 1, int(num_salt))\n",
    "                for i in image.shape]\n",
    "        out[coords] = 1\n",
    "\n",
    "        # Pepper mode\n",
    "        num_pepper = np.ceil(amount* image.size * (1. - s_vs_p))\n",
    "        coords = [np.random.randint(0, i - 1, int(num_pepper))\n",
    "                for i in image.shape]\n",
    "        out[coords] = 0\n",
    "        return out\n",
    "    elif noise_typ == \"poisson\":\n",
    "        vals = len(np.unique(image))\n",
    "        vals = 2 ** np.ceil(np.log2(vals))\n",
    "        noisy = np.random.poisson(image * vals) / float(vals)\n",
    "        return noisy\n",
    "    elif noise_typ ==\"speckle\":\n",
    "        row,col,ch = image.shape\n",
    "        gauss = np.random.randn(row,col,ch)\n",
    "        gauss = gauss.reshape(row,col,ch)        \n",
    "        noisy = image + image * gauss\n",
    "        return noisy\n",
    "\n",
    "def sp_noise(image, prob):\n",
    "    '''\n",
    "    Add salt and pepper noise to image\n",
    "    prob: Probability of the noise\n",
    "    '''\n",
    "    output = image.copy()\n",
    "    if len(image.shape) == 2:\n",
    "        black = 0\n",
    "        white = 255            \n",
    "    else:\n",
    "        colorspace = image.shape[2]\n",
    "        if colorspace == 3:  # RGB\n",
    "            black = np.array([0, 0, 0], dtype='uint8')\n",
    "            white = np.array([255, 255, 255], dtype='uint8')\n",
    "        else:  # RGBA\n",
    "            black = np.array([0, 0, 0, 255], dtype='uint8')\n",
    "            white = np.array([255, 255, 255, 255], dtype='uint8')\n",
    "    probs = np.random.random(image.shape[:2])\n",
    "    image[probs < (prob / 2)] = black\n",
    "    image[probs > 1 - (prob / 2)] = white\n",
    "    return image"
   ]
  },
  {
   "cell_type": "code",
   "execution_count": 40,
   "metadata": {},
   "outputs": [
    {
     "name": "stdout",
     "output_type": "stream",
     "text": [
      "0.0010023117065429688 to process letter T\n",
      "0.0010008811950683594 to process letter T\n",
      "0.0019998550415039062 to process letter T\n",
      "0.0019989013671875 to process letter T\n",
      "0.0009996891021728516 to process letter T\n",
      "0.0020079612731933594 to process letter T\n",
      "0.0019996166229248047 to process letter T\n",
      "0.0010001659393310547 to process letter T\n",
      "0.002000093460083008 to process letter T\n",
      "0.000993490219116211 to process letter T\n",
      "0.0010001659393310547 to process letter T\n"
     ]
    }
   ],
   "source": [
    "import random\n",
    "src = cv2.imread(\"test_images/field.png\")\n",
    "img = sp_noise(src, 0.05)\n",
    "display(img)\n",
    "coef = 0\n",
    "results = []\n",
    "for i in range(100):\n",
    "    coef += 0.001\n",
    "    img = sp_noise(src, coef)\n",
    "    r = target_recognition.find_characters(img)\n",
    "    results.append([coef, r])"
   ]
  },
  {
   "cell_type": "code",
   "execution_count": 42,
   "metadata": {},
   "outputs": [],
   "source": [
    "import random\n",
    "src = cv2.imread(\"test_images/field.png\")\n",
    "img = sp_noise(src, 0.011)\n",
    "display(img)\n"
   ]
  },
  {
   "cell_type": "code",
   "execution_count": 48,
   "metadata": {},
   "outputs": [
    {
     "name": "stdout",
     "output_type": "stream",
     "text": [
      "0.0009999275207519531 to process letter T\n",
      "0.0020003318786621094 to process letter T\n",
      "0.0010075569152832031 to process letter T\n",
      "0.0010013580322265625 to process letter T\n",
      "0.0010008811950683594 to process letter T\n",
      "0.0020003318786621094 to process letter T\n",
      "0.0020008087158203125 to process letter T\n",
      "0.001999378204345703 to process letter T\n",
      "0.0009996891021728516 to process letter T\n",
      "0.0009996891021728516 to process letter T\n"
     ]
    }
   ],
   "source": [
    "src = cv2.imread(\"test_images/field.png\")\n",
    "\n",
    "coef = 1\n",
    "results = []\n",
    "for i in range(100):\n",
    "    coef += 2\n",
    "    img = cv2.GaussianBlur(src,(coef,coef),0)\n",
    "    r = target_recognition.find_characters(img)\n",
    "    results.append([coef, r])"
   ]
  },
  {
   "cell_type": "code",
   "execution_count": 50,
   "metadata": {},
   "outputs": [],
   "source": [
    "img = cv2.GaussianBlur(src,(21,21),0)\n",
    "display(img)"
   ]
  },
  {
   "cell_type": "code",
   "execution_count": null,
   "metadata": {},
   "outputs": [],
   "source": []
  }
 ],
 "metadata": {
  "kernelspec": {
   "display_name": "Python 3",
   "language": "python",
   "name": "python3"
  },
  "language_info": {
   "codemirror_mode": {
    "name": "ipython",
    "version": 3
   },
   "file_extension": ".py",
   "mimetype": "text/x-python",
   "name": "python",
   "nbconvert_exporter": "python",
   "pygments_lexer": "ipython3",
   "version": "3.9.0"
  }
 },
 "nbformat": 4,
 "nbformat_minor": 4
}
